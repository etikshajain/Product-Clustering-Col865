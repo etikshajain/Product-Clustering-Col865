{
 "cells": [
  {
   "cell_type": "code",
   "execution_count": 1,
   "metadata": {
    "colab": {
     "base_uri": "https://localhost:8080/"
    },
    "id": "uh7LaSzfwcj2",
    "outputId": "51a66311-7273-4811-8c53-a36a4dde4a3c"
   },
   "outputs": [
    {
     "name": "stdout",
     "output_type": "stream",
     "text": [
      "2.0.1\n"
     ]
    }
   ],
   "source": [
    "import torch\n",
    "from torch import Tensor\n",
    "print(torch.__version__)"
   ]
  },
  {
   "cell_type": "code",
   "execution_count": 2,
   "metadata": {
    "colab": {
     "base_uri": "https://localhost:8080/"
    },
    "id": "AsWUrVh7vZtM",
    "outputId": "48f64826-08b4-4884-8bb9-2f09e160912b"
   },
   "outputs": [
    {
     "name": "stdout",
     "output_type": "stream",
     "text": [
      "Looking in links: https://data.pyg.org/whl/torch-2.0.1.html\n",
      "Requirement already satisfied: torch-scatter in /Users/etiksha/miniconda3/lib/python3.11/site-packages (2.1.2)\n",
      "Looking in links: https://data.pyg.org/whl/torch-2.0.1.html\n",
      "Requirement already satisfied: torch-sparse in /Users/etiksha/miniconda3/lib/python3.11/site-packages (0.6.18)\n",
      "Requirement already satisfied: scipy in /Users/etiksha/miniconda3/lib/python3.11/site-packages (from torch-sparse) (1.11.3)\n",
      "Requirement already satisfied: numpy<1.28.0,>=1.21.6 in /Users/etiksha/miniconda3/lib/python3.11/site-packages (from scipy->torch-sparse) (1.24.3)\n",
      "Looking in links: https://data.pyg.org/whl/nightly/torch-2.0.1.html\n",
      "\u001b[31mERROR: Could not find a version that satisfies the requirement pyg-lib (from versions: none)\u001b[0m\u001b[31m\n",
      "\u001b[0m\u001b[31mERROR: No matching distribution found for pyg-lib\u001b[0m\u001b[31m\n",
      "\u001b[0mCollecting git+https://github.com/pyg-team/pytorch_geometric.git\n",
      "  Cloning https://github.com/pyg-team/pytorch_geometric.git to /private/var/folders/nz/0trbh9kx61d_rsf7yfgbt3gc0000gn/T/pip-req-build-34depb9x\n",
      "  Running command git clone --filter=blob:none --quiet https://github.com/pyg-team/pytorch_geometric.git /private/var/folders/nz/0trbh9kx61d_rsf7yfgbt3gc0000gn/T/pip-req-build-34depb9x\n",
      "  Resolved https://github.com/pyg-team/pytorch_geometric.git to commit 999af2312efcdd7bd35e40c9b21c4a6a45464ac5\n",
      "^C\n",
      "  Installing build dependencies ... \u001b[?25l\u001b[?25hcanceled\n",
      "\u001b[31mERROR: Operation cancelled by user\u001b[0m\u001b[31m\n",
      "\u001b[0m"
     ]
    }
   ],
   "source": [
    "# Install required packages.\n",
    "import os\n",
    "os.environ['TORCH'] = torch.__version__\n",
    "\n",
    "!pip3 install torch-scatter -f https://data.pyg.org/whl/torch-${TORCH}.html\n",
    "!pip3 install torch-sparse -f https://data.pyg.org/whl/torch-${TORCH}.html\n",
    "!pip3 install pyg-lib -f https://data.pyg.org/whl/nightly/torch-${TORCH}.html\n",
    "!pip3 install git+https://github.com/pyg-team/pytorch_geometric.git"
   ]
  },
  {
   "cell_type": "markdown",
   "metadata": {
    "id": "N_pshZh8Y3dw"
   },
   "source": [
    "## Heterogeneous Graph Creation\n",
    "\n",
    "First, we download the dataset to an arbitrary folder (in this case, the current directory):"
   ]
  },
  {
   "cell_type": "markdown",
   "metadata": {
    "id": "B89RD_evY7uu"
   },
   "source": [
    "### Data"
   ]
  },
  {
   "cell_type": "code",
   "execution_count": 6,
   "metadata": {
    "colab": {
     "base_uri": "https://localhost:8080/"
    },
    "id": "D6ixkcCOwCDi",
    "outputId": "7a5904e6-7fe8-41f6-ced6-3eb41701d016"
   },
   "outputs": [
    {
     "name": "stdout",
     "output_type": "stream",
     "text": [
      "products.csv:\n",
      "===========\n",
      "      product_id        price cms_vertical\n",
      "0  9780000018885   690.000000         book\n",
      "1  9780002245708  2665.000000         book\n",
      "2  9780007154692   333.000000         book\n",
      "3  9780007175185   192.222222         book\n",
      "4  9780007216161   395.000000         book\n",
      "\n",
      "count.csv:\n",
      "============\n",
      "         product_id  count                    account_id_enc\n",
      "0  ACCG2DHTPQRPV4ZP      3  36ee6d3cd4e30b41e7b6aba58641e09a\n",
      "1  ACCG57P5RGWJZARH     13  36ee6d3cd4e30b41e7b6aba58641e09a\n",
      "2  MOBFUSBNAZGY7HQU     16  36ee6d3cd4e30b41e7b6aba58641e09a\n",
      "3  ACCFHYJ8ZU9WDHDW      1  36ee6d3cd4e30b41e7b6aba58641e09a\n",
      "4  ACNGFVMJ5ZKZVFDS      2  36ee6d3cd4e30b41e7b6aba58641e09a\n"
     ]
    }
   ],
   "source": [
    "import pandas as pd\n",
    "\n",
    "df1=pd.read_csv('../data/product_detail_fin.csv')\n",
    "df2=pd.read_csv('../data/ppv_encrypted-001.csv', nrows=500)\n",
    "\n",
    "print('products.csv:')\n",
    "print('===========')\n",
    "print(df1.head())\n",
    "print()\n",
    "print('count.csv:')\n",
    "print('============')\n",
    "print(df2.head())"
   ]
  },
  {
   "cell_type": "code",
   "execution_count": 7,
   "metadata": {},
   "outputs": [],
   "source": [
    "df3=df1.merge(df2,how='inner',on='product_id')"
   ]
  },
  {
   "cell_type": "markdown",
   "metadata": {},
   "source": [
    "### Normalise and freq encoding"
   ]
  },
  {
   "cell_type": "code",
   "execution_count": 8,
   "metadata": {},
   "outputs": [],
   "source": [
    "min_val = df3['count'].min()\n",
    "max_val = df3['count'].max()\n",
    "df3['count'] = (df3['count'] - min_val) / (max_val - min_val)\n",
    "min_val = df3['price'].min()\n",
    "max_val = df3['price'].max()\n",
    "df3['price'] = (df3['price'] - min_val) / (max_val - min_val)"
   ]
  },
  {
   "cell_type": "code",
   "execution_count": 9,
   "metadata": {},
   "outputs": [],
   "source": [
    "frequency_map = df3['cms_vertical'].value_counts().to_dict()\n",
    "# Map the frequency values to the original column\n",
    "df3['cms_vertical'] = df3['cms_vertical'].map(frequency_map)"
   ]
  },
  {
   "cell_type": "code",
   "execution_count": 10,
   "metadata": {},
   "outputs": [],
   "source": [
    "# User features\n",
    "mean_rating = df2.groupby(\"account_id_enc\")[\"count\"].mean().rename(\"mean\")\n",
    "num_rating = df2.groupby(\"account_id_enc\")[\"product_id\"].count().rename(\"total\")"
   ]
  },
  {
   "cell_type": "code",
   "execution_count": 11,
   "metadata": {},
   "outputs": [
    {
     "data": {
      "text/html": [
       "<div>\n",
       "<style scoped>\n",
       "    .dataframe tbody tr th:only-of-type {\n",
       "        vertical-align: middle;\n",
       "    }\n",
       "\n",
       "    .dataframe tbody tr th {\n",
       "        vertical-align: top;\n",
       "    }\n",
       "\n",
       "    .dataframe thead th {\n",
       "        text-align: right;\n",
       "    }\n",
       "</style>\n",
       "<table border=\"1\" class=\"dataframe\">\n",
       "  <thead>\n",
       "    <tr style=\"text-align: right;\">\n",
       "      <th></th>\n",
       "      <th>product_id</th>\n",
       "      <th>price</th>\n",
       "      <th>cms_vertical</th>\n",
       "      <th>count</th>\n",
       "      <th>account_id_enc</th>\n",
       "    </tr>\n",
       "  </thead>\n",
       "  <tbody>\n",
       "    <tr>\n",
       "      <th>0</th>\n",
       "      <td>BDSG337RX24VXKVJ</td>\n",
       "      <td>0.003481</td>\n",
       "      <td>10</td>\n",
       "      <td>0.000000</td>\n",
       "      <td>d8433504430f2be3fdef7883a42a684a</td>\n",
       "    </tr>\n",
       "    <tr>\n",
       "      <th>1</th>\n",
       "      <td>BOTF7QC7BJCGBZP3</td>\n",
       "      <td>0.011208</td>\n",
       "      <td>14</td>\n",
       "      <td>0.044776</td>\n",
       "      <td>88af7b587b8c3cb79f515d69c02912cd</td>\n",
       "    </tr>\n",
       "    <tr>\n",
       "      <th>2</th>\n",
       "      <td>CPUFXESGSFDQFG5M</td>\n",
       "      <td>0.915324</td>\n",
       "      <td>1</td>\n",
       "      <td>0.597015</td>\n",
       "      <td>a47866f7e66449fc44d172fa4e3f37bb</td>\n",
       "    </tr>\n",
       "    <tr>\n",
       "      <th>3</th>\n",
       "      <td>MOBFYZ94UWPWQRNF</td>\n",
       "      <td>0.161034</td>\n",
       "      <td>56</td>\n",
       "      <td>0.000000</td>\n",
       "      <td>deb7c597bdec1f8a7eeef83b0edb0e13</td>\n",
       "    </tr>\n",
       "    <tr>\n",
       "      <th>4</th>\n",
       "      <td>STFESATFGH4FFZNE</td>\n",
       "      <td>0.002536</td>\n",
       "      <td>1</td>\n",
       "      <td>0.000000</td>\n",
       "      <td>6cb9f7e7882aed13a04f5f50ffd4eee1</td>\n",
       "    </tr>\n",
       "    <tr>\n",
       "      <th>...</th>\n",
       "      <td>...</td>\n",
       "      <td>...</td>\n",
       "      <td>...</td>\n",
       "      <td>...</td>\n",
       "      <td>...</td>\n",
       "    </tr>\n",
       "    <tr>\n",
       "      <th>495</th>\n",
       "      <td>MDMGFZWKG4BQMHBY</td>\n",
       "      <td>0.003525</td>\n",
       "      <td>1</td>\n",
       "      <td>0.000000</td>\n",
       "      <td>08488bbdee624eb956183e62595b7f17</td>\n",
       "    </tr>\n",
       "    <tr>\n",
       "      <th>496</th>\n",
       "      <td>TSPFHM54BJAXRP4Q</td>\n",
       "      <td>0.003686</td>\n",
       "      <td>1</td>\n",
       "      <td>0.000000</td>\n",
       "      <td>de667a27201e8ff00d248f085a18304e</td>\n",
       "    </tr>\n",
       "    <tr>\n",
       "      <th>497</th>\n",
       "      <td>FANE56KYGT8ZJEWR</td>\n",
       "      <td>0.039547</td>\n",
       "      <td>2</td>\n",
       "      <td>0.014925</td>\n",
       "      <td>a47866f7e66449fc44d172fa4e3f37bb</td>\n",
       "    </tr>\n",
       "    <tr>\n",
       "      <th>498</th>\n",
       "      <td>BOTFWWSKWGGCMHJC</td>\n",
       "      <td>0.010119</td>\n",
       "      <td>14</td>\n",
       "      <td>0.014925</td>\n",
       "      <td>88af7b587b8c3cb79f515d69c02912cd</td>\n",
       "    </tr>\n",
       "    <tr>\n",
       "      <th>499</th>\n",
       "      <td>NDFFUVHZ9VDBCS7F</td>\n",
       "      <td>0.010672</td>\n",
       "      <td>1</td>\n",
       "      <td>0.014925</td>\n",
       "      <td>deb7c597bdec1f8a7eeef83b0edb0e13</td>\n",
       "    </tr>\n",
       "  </tbody>\n",
       "</table>\n",
       "<p>500 rows × 5 columns</p>\n",
       "</div>"
      ],
      "text/plain": [
       "           product_id     price  cms_vertical     count  \\\n",
       "0    BDSG337RX24VXKVJ  0.003481            10  0.000000   \n",
       "1    BOTF7QC7BJCGBZP3  0.011208            14  0.044776   \n",
       "2    CPUFXESGSFDQFG5M  0.915324             1  0.597015   \n",
       "3    MOBFYZ94UWPWQRNF  0.161034            56  0.000000   \n",
       "4    STFESATFGH4FFZNE  0.002536             1  0.000000   \n",
       "..                ...       ...           ...       ...   \n",
       "495  MDMGFZWKG4BQMHBY  0.003525             1  0.000000   \n",
       "496  TSPFHM54BJAXRP4Q  0.003686             1  0.000000   \n",
       "497  FANE56KYGT8ZJEWR  0.039547             2  0.014925   \n",
       "498  BOTFWWSKWGGCMHJC  0.010119            14  0.014925   \n",
       "499  NDFFUVHZ9VDBCS7F  0.010672             1  0.014925   \n",
       "\n",
       "                       account_id_enc  \n",
       "0    d8433504430f2be3fdef7883a42a684a  \n",
       "1    88af7b587b8c3cb79f515d69c02912cd  \n",
       "2    a47866f7e66449fc44d172fa4e3f37bb  \n",
       "3    deb7c597bdec1f8a7eeef83b0edb0e13  \n",
       "4    6cb9f7e7882aed13a04f5f50ffd4eee1  \n",
       "..                                ...  \n",
       "495  08488bbdee624eb956183e62595b7f17  \n",
       "496  de667a27201e8ff00d248f085a18304e  \n",
       "497  a47866f7e66449fc44d172fa4e3f37bb  \n",
       "498  88af7b587b8c3cb79f515d69c02912cd  \n",
       "499  deb7c597bdec1f8a7eeef83b0edb0e13  \n",
       "\n",
       "[500 rows x 5 columns]"
      ]
     },
     "execution_count": 11,
     "metadata": {},
     "output_type": "execute_result"
    }
   ],
   "source": [
    "df3"
   ]
  },
  {
   "cell_type": "markdown",
   "metadata": {},
   "source": [
    "### Dicts and ids"
   ]
  },
  {
   "cell_type": "code",
   "execution_count": 56,
   "metadata": {},
   "outputs": [],
   "source": [
    "import numpy as np\n",
    "product_ids = np.unique(df3['product_id'])\n",
    "user_ids = np.unique(df3['account_id_enc'])\n",
    "product_dict = {}\n",
    "user_dict = {}\n",
    "for i in range(len(product_ids)):\n",
    "    product_dict[product_ids[i]] = i \n",
    "for i in range(len(user_ids)):\n",
    "    user_dict[user_ids[i]] = i"
   ]
  },
  {
   "cell_type": "code",
   "execution_count": 57,
   "metadata": {},
   "outputs": [
    {
     "data": {
      "text/plain": [
       "{'009758cf3b5495e81fd454e8761f7d2d': 0,\n",
       " '0102da73dc62272bd19e52cf4284cc6e': 1,\n",
       " '0147bb989d530571b892046d03e06a92': 2,\n",
       " '0152f30515fe0b9be59a432c0d722341': 3,\n",
       " '02664c7538d6f3e81fbfc6bc2c7af048': 4,\n",
       " '037e3fd289399a163682f0bd72317f57': 5,\n",
       " '0481a950aaf6dfba9958026a519905bc': 6,\n",
       " '056ff8bfc8f70d16a8ec6ca08ea48ba5': 7,\n",
       " '05916395e1a33476399d6d24dd4359e6': 8,\n",
       " '05ec200ab7181793f8cb0ed4179b3c07': 9,\n",
       " '07246bf97be3f963fc17bf545aa17e27': 10,\n",
       " '08488bbdee624eb956183e62595b7f17': 11,\n",
       " '0977095b44bcc4364386911232f52f29': 12,\n",
       " '0a233281636e62b5a3e5c7c7d58c2dea': 13,\n",
       " '0a3f792a910561bf62eec7f9f48ed964': 14,\n",
       " '0afbfa6adec2e1c1f906b83dfca187ff': 15,\n",
       " '0afe60002f11adb8f4f9835a4fa8580f': 16,\n",
       " '0c42d1adc972b666427023148feef6d9': 17,\n",
       " '0c4ce2fe09da261d1aa3f5b677dc9ac3': 18,\n",
       " '0c7949df93d391292bb278f7ead38644': 19,\n",
       " '0d3c4145c4a567890f1749b4e890c6c7': 20,\n",
       " '0db78417713ee5ca510a1295ecb9cd69': 21,\n",
       " '0ef3ec702f222f7429ec7eb16d048a86': 22,\n",
       " '127d69a2933821c6923da03613c09bd4': 23,\n",
       " '1321df462e2c812f34585983c2dcbd28': 24,\n",
       " '15f8b4ece817e67893456d69cce5803c': 25,\n",
       " '169526bbd2d135cff1e1299a453bb291': 26,\n",
       " '173b285554d51e28d458e5e0f796bff8': 27,\n",
       " '194dc8b5863d523e6728826468e0b400': 28,\n",
       " '19bcaf61da0aafa9a801e1c7475b5bf2': 29,\n",
       " '19e2c6168a769ecb6988a9493e543290': 30,\n",
       " '1ab7c107a16ca8fb7141e1dc8728a3a0': 31,\n",
       " '1bbc6f46aff6c78cb6f9aa13e8092225': 32,\n",
       " '1be2744c1e1bf253a5553f3d51d17104': 33,\n",
       " '1c5b838123ed400aa312e07fd21a80e3': 34,\n",
       " '1cb48fbb86aa1e93b788178dddd00977': 35,\n",
       " '1d42e96c40280348f55b463295b05fbb': 36,\n",
       " '1f7bbbe7c930de6e34b5bd46db0d4fb9': 37,\n",
       " '1fa858f8489784654c824cc8b4ff22f9': 38,\n",
       " '22568a129861a3c3d3572a3b25fac1ce': 39,\n",
       " '22f12a89cf2b957345d3ff49ae98d9ea': 40,\n",
       " '2500fb8f2497af0fba470f4db2557679': 41,\n",
       " '253dcf269a5fcd863a83d4a7400941c4': 42,\n",
       " '257040adf64ed2eca06b12f72f86034c': 43,\n",
       " '2641eb69d8b0f9458e3102063809510b': 44,\n",
       " '26719a71b20f814c898388abd933dbb7': 45,\n",
       " '2691e21f1d134c24a1283186a3ab8dd2': 46,\n",
       " '273890aaddf9a43aeed450a384115075': 47,\n",
       " '277b2c508a3e19308e272a63ac313302': 48,\n",
       " '29dfc71030859cda5b6bfff3e51bfed8': 49,\n",
       " '2a89bfc443d288f9c67604a4d1157263': 50,\n",
       " '2a95cac49c0b5fc4972bb388ded8ddf7': 51,\n",
       " '2ab50cfe73317cf38d1777b86f9c092e': 52,\n",
       " '2bba89d41abe2e98437601a7242e6fdd': 53,\n",
       " '2c0c923fa7adac6bfde253423a29e32e': 54,\n",
       " '2cd87d62c263b448bc6070debb6d89d2': 55,\n",
       " '2d22fe11c18463802aaddf7bcf0e310c': 56,\n",
       " '2d60c157f71e7c55926e719fb514ee38': 57,\n",
       " '2e8f665c92becfe9990956f3b831d7fb': 58,\n",
       " '2ec5539affe2618b1a47070b14551277': 59,\n",
       " '2edbd382d77dd329a08eb3ac5bbe21e3': 60,\n",
       " '2f57aecaeddc6978215ad1d038cd7c10': 61,\n",
       " '2ff9b4333c35f02318c8df862427b90d': 62,\n",
       " '31560d8166c35b8f8ab1fbd1dae844d7': 63,\n",
       " '325704547ca97fc75edae66b8c29d903': 64,\n",
       " '327ac49fb384a6d0575d6a463441057f': 65,\n",
       " '333c0574baa8ba55debb2878c6c896a6': 66,\n",
       " '3368558770fd6f2aca1c8b23da23467f': 67,\n",
       " '3476c345991c4696f4a7942202cfd484': 68,\n",
       " '34944c6c919af9a09276eb714485d5b1': 69,\n",
       " '34fe8d2aac121256df705862f02ad12f': 70,\n",
       " '355545ed35322fff1f4dd6341c957319': 71,\n",
       " '35d096bb533c7f0fdbd413e70b50aad3': 72,\n",
       " '360685bbf636ca1f801a8d6b9cf0fb5b': 73,\n",
       " '367f3f2f2a35b1b453c66cdc4c6200ce': 74,\n",
       " '36a7d3058287bc01e1beeec292be863e': 75,\n",
       " '36ee6d3cd4e30b41e7b6aba58641e09a': 76,\n",
       " '395bcb6a306c2991df92c2ae0b5be5e4': 77,\n",
       " '3988251aab9fbd5b5451d6c564b25904': 78,\n",
       " '39a6be6a20855bef40d021050c71f01f': 79,\n",
       " '3a25d4a7db86e5b174b41962845410f6': 80,\n",
       " '3a2d4598ff55c1d6088b9ae824749fd7': 81,\n",
       " '3b47eeba4c5453f7391c603bd8bff613': 82,\n",
       " '3c26cb84119aea7c2d9390a9aeb2b888': 83,\n",
       " '3c62f5a338c54e6951e729edd94dd3ff': 84,\n",
       " '3e297a4c3050c9bc2a2464394d54df50': 85,\n",
       " '3e79e7dd4f139ebc1e5b07e1fdf2a0ae': 86,\n",
       " '3e932485fc5b8e58c9d6b234482e578f': 87,\n",
       " '3f611351630cd082babb5cfda8185945': 88,\n",
       " '40f03ac7e86f6e300cd17ec0c3ceb3ac': 89,\n",
       " '41032fca4f3eb0ccd5b363712db02eb6': 90,\n",
       " '411f9c44a8d5cfe5d94af6bc34c1287f': 91,\n",
       " '4202735516bf7eee6ea57d23cd6d3338': 92,\n",
       " '426655c19c46175306293c16065f26ef': 93,\n",
       " '4267bd9e0d27a5d4ea4d91638a98ebe5': 94,\n",
       " '42c20a17603b738dd7662a85352cdf80': 95,\n",
       " '43f186c39a230b214b1c5d9cfb6be68b': 96,\n",
       " '4543f0d80e40a91b774fb3aed13a98bc': 97,\n",
       " '458ee366a72ead9be47abfdfc6d177b4': 98,\n",
       " '45a74e2d78090bf69a2e5b37ddcccd3a': 99,\n",
       " '467c7394b01704fada42e0fc52c2e2fd': 100,\n",
       " '46ad3252f83a88c6b9ac58ceb7e176f0': 101,\n",
       " '46e8a09449cd567a9fcbeaf5f67f4a2d': 102,\n",
       " '491be77a78feebe730e3cf08489151e6': 103,\n",
       " '49c334ba8ed5638eb42d8ade026f8a63': 104,\n",
       " '4a2df744c720015065f8069bd356544e': 105,\n",
       " '4ad6027a1a7b48260e3acd2360657e2f': 106,\n",
       " '4b41039d8d887f34bb31a2961498b314': 107,\n",
       " '4bb0d19eaf7e7425cec883c2894e91a6': 108,\n",
       " '4c7bca5329058c82f3a3a5785caf9134': 109,\n",
       " '4cd59e40da2ef8b83004d9510073e00a': 110,\n",
       " '4d173b6ccead06ad69dcda511a6e19b5': 111,\n",
       " '4e6e1f3e4470dbe142a3802afe9d5138': 112,\n",
       " '4e9eb4c2762c5557a81d37720b06c058': 113,\n",
       " '50a9e7fb23192bf142181e68ea9b26d0': 114,\n",
       " '51fb9cb6aa6b40d2797349aaf336bbde': 115,\n",
       " '5394b5e8f6c7e75228646cd75fdc3b8b': 116,\n",
       " '543092b02c7a23c857dd0f18ef026499': 117,\n",
       " '548cb0e0502842e009a52018738a428f': 118,\n",
       " '550b6d311c7a1268a4802466ae93c84e': 119,\n",
       " '567cfae0511899e8aaba333f77af4f51': 120,\n",
       " '5700607e1fca3c6854307aca50c9b857': 121,\n",
       " '57a2064f1c40919a0b141497da270892': 122,\n",
       " '5a4217db864560832c31775af191eb27': 123,\n",
       " '5a5ad5d8ef2c38d043e81eebee74fa0f': 124,\n",
       " '5b1440c2bafd187233681b1c04a9bbf2': 125,\n",
       " '5b300aa765f52c9acef9bb5c05323bd5': 126,\n",
       " '5c47161fc7f684f636d95115ab99ecf0': 127,\n",
       " '5c602fe39da1d7d5d1b5f0ef10b3cad7': 128,\n",
       " '5cb7eee010e5b8b5f7d1f70619067818': 129,\n",
       " '5ccb9ed593c1763155d33a3f44c3b583': 130,\n",
       " '5d6e6ff5305429ec07340e77e440060c': 131,\n",
       " '5d86e35bb64f5df5c31b0803076a1621': 132,\n",
       " '5def024d463d46cc4af3847e8a80ee7f': 133,\n",
       " '5e687b9f066fc88e568fb1da7ecd942e': 134,\n",
       " '5ff7eee9f4f8a3581d4bc30713ea7252': 135,\n",
       " '60074832404bd3e271e0dbc62090a2dc': 136,\n",
       " '650eacf232c5e44d353498058e126dfc': 137,\n",
       " '680484554d3c07f15831841b4413152b': 138,\n",
       " '689e924512d4c5c1d2020fc4c38b88b4': 139,\n",
       " '695eb04cb6b7d5720cc212055516603e': 140,\n",
       " '6ab6c2381ce1de5b3685a00d9bff14a3': 141,\n",
       " '6b13726abbe4a4f18b833d9fed995dd2': 142,\n",
       " '6c8791bd900cf28567910e1200ff3005': 143,\n",
       " '6ca27eaa98c7e22c665fbd98c569eb1e': 144,\n",
       " '6cb9f7e7882aed13a04f5f50ffd4eee1': 145,\n",
       " '6e2feb631508fa4a36c77892effcc574': 146,\n",
       " '7002643eb9b1ab33491f47f2cca1d88c': 147,\n",
       " '706e37f74fbd149531eab921204b8a60': 148,\n",
       " '7105b5569333812cf6caf722314e1de8': 149,\n",
       " '7259d99487c954f4429a3e89cd5d4434': 150,\n",
       " '72ef8bc5a9050220f778d4c850d45903': 151,\n",
       " '74621eeb327a17308c203bf29e784b73': 152,\n",
       " '74bde6c27568dd03ce59cef3c0801935': 153,\n",
       " '74de1bcaa4ee5cf5167885631e69f621': 154,\n",
       " '759b206a8edfa713e3d44e7c8a189ee0': 155,\n",
       " '761faf22d8fa13efde702f94808f147b': 156,\n",
       " '766cb54b7663719c8782d60e94271d89': 157,\n",
       " '771c8959b377babb26abe550abbb6ad7': 158,\n",
       " '78508278afa0f28e2d32ad89158632e9': 159,\n",
       " '7871c0d806f942ffdc92b2246dc5df61': 160,\n",
       " '79bd911e4895edb1bcd05002e1690289': 161,\n",
       " '79e1349b10a751e6d6b0cd5f340dedf2': 162,\n",
       " '7b7e0047a1344b80249663302fa74030': 163,\n",
       " '7d21d099f6671e5a1b29cd67fc96e427': 164,\n",
       " '7ecc41757dd1c46a2e3a24aeaa55b59a': 165,\n",
       " '7f875673c0f8045e187d543a7f1c97d6': 166,\n",
       " '800177b97863aa9901f1dcb0dc611340': 167,\n",
       " '819f9db1b66b513d8a38ba4592512e32': 168,\n",
       " '81edc2d471310b671a9a136461aa2069': 169,\n",
       " '82f469b0151beb3b1157d833a81c8e1d': 170,\n",
       " '8305dce10997447543ff6b078c4723b9': 171,\n",
       " '834610410db53a16a9dc9d57ee1df591': 172,\n",
       " '837e6cea20303033a0f9f79da8f152c9': 173,\n",
       " '8439782b05a9e794d395ca93f84f7e49': 174,\n",
       " '853dcb04787493b587caf1fc1e71cdb5': 175,\n",
       " '854888c6976b7ad006b6dd8339f7ff76': 176,\n",
       " '861044ae8776aa1ef93285711d64ec08': 177,\n",
       " '8676e924d99f30ab3b838974c00264ee': 178,\n",
       " '87940b46a042ad460f41e8f9b89b99ba': 179,\n",
       " '8821ab4909cb966a02d4736a259fa36d': 180,\n",
       " '8838c250c21ca1074c42f37ebefb73f3': 181,\n",
       " '88af49bedc66f4a557a422b463082220': 182,\n",
       " '88af7b587b8c3cb79f515d69c02912cd': 183,\n",
       " '89ae2fb55e6643be5fa54de3ef593be7': 184,\n",
       " '89ec86193d7142b626454ad1ed65d674': 185,\n",
       " '8af7d5e27e43620271d6806d0b7f6971': 186,\n",
       " '8c46e5ffd027afc11113be8f1862b5cd': 187,\n",
       " '8c677fa82322f44487ed4f0ba6992af9': 188,\n",
       " '8cb319b1170f39f8acebe3cca4864be0': 189,\n",
       " '8dab8fbd4f01e50ca35b0e400e049e6d': 190,\n",
       " '903065d8f2b5d0d7353b28b799f71b05': 191,\n",
       " '919b694ef01db08b7ae68001bb742694': 192,\n",
       " '91c3d08a5be2f294bbdd77a0f3d7417d': 193,\n",
       " '91fb75fa4343cdca17f22095528c2907': 194,\n",
       " '922a915016ae63d13053c207b1663bff': 195,\n",
       " '92cf234f613690c583c44a2458816cf9': 196,\n",
       " '968f8c22687a73564ddb1d7be5fe2613': 197,\n",
       " '9696e18159fd9a91acdb3a48499ce9ac': 198,\n",
       " '96a96d8acb3c0f7691119ffeb320aba2': 199,\n",
       " '976baa097f99cc680ba105cafbd51b1b': 200,\n",
       " '97b4d119f1a7c908735071d567022914': 201,\n",
       " '9813164f0df38eaab62d881e81361b12': 202,\n",
       " '99406f3087e9bdcdd7818e9156c8540d': 203,\n",
       " '994f4476ef319373d19a7a5ccb02e245': 204,\n",
       " '9a51cd03cb41c3ba3784de063fe4b9b8': 205,\n",
       " '9b37643c4f9285bd176a347d0d264d3e': 206,\n",
       " '9bda78f7675676038de343557e3a27e7': 207,\n",
       " '9beed47fd896f9bce16706b00c321d99': 208,\n",
       " '9d7612780751e3a81862f56b0d20b758': 209,\n",
       " '9dbfc159cedce4e29d8461da9dfac23a': 210,\n",
       " '9e8365f56e071c61a38c18efb4253c22': 211,\n",
       " '9f3df883789817d103d8bbbda776b113': 212,\n",
       " '9f5f7625951560cbd060e36ef0a57a68': 213,\n",
       " '9f7705c15357bf53ba5fa7d8130d28f3': 214,\n",
       " '9ffa7d04fae0801890df972e96fa41b0': 215,\n",
       " 'a045a2e328efd9296c58171779ab3532': 216,\n",
       " 'a0eba27d53384949cec924e0c2626ad6': 217,\n",
       " 'a137198b5b772de11c0db5079770a869': 218,\n",
       " 'a1fdbe9799787b1964c146f9290fc897': 219,\n",
       " 'a21914f2394d061a00809826ac41bb1f': 220,\n",
       " 'a2f5f025ffd5a33561a7accec81d758f': 221,\n",
       " 'a30e71bbc58a4c7a500d826f036ea428': 222,\n",
       " 'a386158a658b703c1ed9ae4f8b46eb8e': 223,\n",
       " 'a47866f7e66449fc44d172fa4e3f37bb': 224,\n",
       " 'a4be36e7609475b4fd0ea0c913d1bba1': 225,\n",
       " 'a6c3315a84c6fd489231983dca85eb7c': 226,\n",
       " 'a8901a3337634709a44f51b4f340388c': 227,\n",
       " 'a94c53aba05f03522ec77a04fa0f836e': 228,\n",
       " 'a95decd38f8f094e3639ec0dd6e60707': 229,\n",
       " 'aa7bd6a3bd426cae924a22d769d38386': 230,\n",
       " 'ab095cf04cdc80b8546e344387fd7043': 231,\n",
       " 'abce139c9c00f189c2139a65a003768b': 232,\n",
       " 'abce839635d16a91a497cbdb99c67e81': 233,\n",
       " 'ac13143f0a5bbce4b8958e804f681ee7': 234,\n",
       " 'ace2446955b4a5c10b70618c158729b4': 235,\n",
       " 'ad596dd1f447b82e8ed43f25c5c558ff': 236,\n",
       " 'ada96ba3e439544d8aab6c4ea252e1bd': 237,\n",
       " 'aea2e17910d03740b60b70b2a2b3ab2f': 238,\n",
       " 'aeb7b9a310f02b35f01aeb1fe5fb0366': 239,\n",
       " 'aec0799325299fda4fabfaad5ce89137': 240,\n",
       " 'b05010f91e016c25fa3cefdf9e2a4f54': 241,\n",
       " 'b158dbef6714e98330f16d1bcd4dc894': 242,\n",
       " 'b1a978d04d0ee3bf7a78777709066b96': 243,\n",
       " 'b3386880c3aa6f47db5f60f01e29eb45': 244,\n",
       " 'b38ae991f7809a1d7135effe7501036a': 245,\n",
       " 'b51495ccae2820ba9145d6df7afcd6d7': 246,\n",
       " 'b516d4dde4c00ee042d6f1bb69f1521d': 247,\n",
       " 'b6655eaa83fd405964af5ed629f71667': 248,\n",
       " 'b69e5fc78fee3046dc56927c2f31d0a7': 249,\n",
       " 'b722e0934a711e615d5ed96b4748e7ce': 250,\n",
       " 'b91bbd30fd758713d4e6dda5c2caf17e': 251,\n",
       " 'b951d64d91ee12c83d56a850d31dd043': 252,\n",
       " 'b9ed99ec2853ee7a24bccc39bdefa239': 253,\n",
       " 'ba7d4c212eb646ad862e77867857c4ba': 254,\n",
       " 'bae973e4fdd59f1aca697b9e766c8547': 255,\n",
       " 'bb01de642326b814b9f07d688a859463': 256,\n",
       " 'bc35bb7c28fbd46a11a82d4ab71d6b37': 257,\n",
       " 'bddf4377a484c7bb5689925a3e36a3bf': 258,\n",
       " 'bde7d6ece1c50eea12c6cc00db45823b': 259,\n",
       " 'bdead28dcb5896d6297ccecd7cd4e822': 260,\n",
       " 'be69a893e89203a89fcedba1571c3783': 261,\n",
       " 'bf64c9230a428c9c75dfa28dd4853684': 262,\n",
       " 'c02c07192ef6e4ba9a252434768acc80': 263,\n",
       " 'c075017e1f9b12fc3a39b634e9db10eb': 264,\n",
       " 'c37b36d6652bd22e8b8eb11bd706e605': 265,\n",
       " 'c3b4457ff2226e0cddbe49fc2ae0e49a': 266,\n",
       " 'c3c6ea977e192b9152d361ff3eb21df8': 267,\n",
       " 'c4191fb1e33d34cac45fffa357dc85a6': 268,\n",
       " 'c4267e02e38cbf5cb02e02506c98f520': 269,\n",
       " 'c45daa2ac503ac0184264a0c95c5086f': 270,\n",
       " 'c68a16d91410ed7e1f4d4a704a791bac': 271,\n",
       " 'c690c134cb2e25df7d01aab0581f1378': 272,\n",
       " 'c69e39381625f599e1c8c5e7318db59f': 273,\n",
       " 'c8c68d5ae54af7ca1e861d17e1d6fca9': 274,\n",
       " 'c931ed176a697e62fd11cbb80188581f': 275,\n",
       " 'c9a863a4bf39958b71efc4905972d5b9': 276,\n",
       " 'ca438fdc25372178ad4d7825b769f4e2': 277,\n",
       " 'cd62c9e516949288cb99ccfe11ecb926': 278,\n",
       " 'ce5609dc0ca65867dc801e1c8fdbd899': 279,\n",
       " 'cf5c657f5a3ab00fb612120610da8ffe': 280,\n",
       " 'd00099f71aedeba9d4f5415c12d47e7a': 281,\n",
       " 'd152c673cae33dce8674f2b220a62bab': 282,\n",
       " 'd155cf6f25db1632c6849aad5139c315': 283,\n",
       " 'd245e05c72e701d1711a4148b544505a': 284,\n",
       " 'd24beebfea7d0dbb719138791b31cabf': 285,\n",
       " 'd2de47ffb29d6cf2bfdc1bd2c178b14b': 286,\n",
       " 'd3933975d759eb8fd0d799d02ce46a85': 287,\n",
       " 'd3a281e7626e1153f8cd247eb814a387': 288,\n",
       " 'd41bcdf71da59c400d349870a5209e8b': 289,\n",
       " 'd64f8e4827fdbfb2823511cdf2ad107b': 290,\n",
       " 'd71395754daf01152c527554f69cbba6': 291,\n",
       " 'd8433504430f2be3fdef7883a42a684a': 292,\n",
       " 'd86d5ddfd678daa9ea4160d90808761b': 293,\n",
       " 'dbf76e2377f2e1fdc1b64086760e1c77': 294,\n",
       " 'dc0f6f32e8fc3a328eb9c538429a4c8b': 295,\n",
       " 'dc3f2addd39b6fb65f12e9fbc71b3ec6': 296,\n",
       " 'dd9c9e7126aedf9238139da0fa0fac5a': 297,\n",
       " 'de667a27201e8ff00d248f085a18304e': 298,\n",
       " 'deb7c597bdec1f8a7eeef83b0edb0e13': 299,\n",
       " 'def84fea06b78ba91a804d6c91f22c4b': 300,\n",
       " 'dff417fe4dc59cfdd4f070f15c2e4cd5': 301,\n",
       " 'e08e1dd2e662c1bd55ffb01fbeb48d72': 302,\n",
       " 'e0dc22e4463c120d711a190036858c30': 303,\n",
       " 'e0e2891cf2f14b0baa4cd690dde4ac22': 304,\n",
       " 'e2470966593a6370d669335ab1b4056b': 305,\n",
       " 'e2b996174b1c5c4a60d24f6b3a0a8a7e': 306,\n",
       " 'e30830f045a7b37aac463baf1c153d34': 307,\n",
       " 'e33ddd4eda59e37d5510197572979d38': 308,\n",
       " 'e345454bf94ffbee2f47f0670b9110c1': 309,\n",
       " 'e3714bdee1a66b49365496ac7b89c968': 310,\n",
       " 'e37b1eff61819d2d43f48f1d98cf7c27': 311,\n",
       " 'e386a16dce0477b46999b08c94513fca': 312,\n",
       " 'e3c4dc0bc9c99c8790f7e1896e028fc1': 313,\n",
       " 'e3d08dd8bbc81a3ad26630e272c1c7c6': 314,\n",
       " 'e6609613e008f88a7c667dd6a44c8020': 315,\n",
       " 'e6b2e875d0584106340f56637d652c64': 316,\n",
       " 'e8071b6bb6426738bf1f466db0431109': 317,\n",
       " 'e85bfa5ce4fad045c96e3ca009dfe7af': 318,\n",
       " 'e9d45759eee1d4dfa4cf0eb025544e99': 319,\n",
       " 'ea52aa1d038e142f8828c52af37241fb': 320,\n",
       " 'eaadf7cc0c1583dd73d8c362c94b08c2': 321,\n",
       " 'eaba2daa0e4141a6c03d6a8a9371c1d6': 322,\n",
       " 'eade37e486a83d73949511539c2ef4d3': 323,\n",
       " 'ecf9c8345066535f93f41b64f34fa160': 324,\n",
       " 'ed3c15980ea62fa4c877af24c12a9caf': 325,\n",
       " 'eda378f70e9a2c23a8cf5f973deb7366': 326,\n",
       " 'edcb12c5498dbe2315f793c63db32e12': 327,\n",
       " 'ee0a7dae84d52def6ac99a6af218e634': 328,\n",
       " 'ee31546cbc5280c18923ac3d9c3be9d5': 329,\n",
       " 'ee78b43b835ff07d80bb2cbf664c82d0': 330,\n",
       " 'ef14647f8a7a84a292745bd73db9a5a9': 331,\n",
       " 'efe944eae80d8b8614975ab39119c579': 332,\n",
       " 'f16165f3b6db18c892b6e4378cbba7a8': 333,\n",
       " 'f18c2cc41435b81e62fe293e9e610063': 334,\n",
       " 'f2034e02d835624ce98dc1e50b617935': 335,\n",
       " 'f2b603454f71e12a568a4fe6fd3903d4': 336,\n",
       " 'f2d479ed35651af4f0f7677dc68231da': 337,\n",
       " 'f51a015f9fcebeccd6d9c6d9fd320999': 338,\n",
       " 'f7b441f0c85259e3892de06f602ff2f3': 339,\n",
       " 'f8f7340cf276a9a82a145cbdf3ffa1aa': 340,\n",
       " 'f97af9f25e4ecdffbfdb241b93fffc8d': 341,\n",
       " 'fa03fe8aa6703c6a0586d2e6b66c2930': 342,\n",
       " 'faa5c806b747b8ff38a1ed197db7e305': 343,\n",
       " 'fc07b58188f78ea09ed0d7fbca93c9c7': 344,\n",
       " 'fd4030513417e7f55e28760030fcee56': 345,\n",
       " 'fd948a36d89fa635677d58c7e01bbe6a': 346,\n",
       " 'ff079f2f2b1aae8c3bcbf8a58b049f15': 347,\n",
       " 'ff7aa9f1c161401cdb323c46633ced62': 348}"
      ]
     },
     "execution_count": 57,
     "metadata": {},
     "output_type": "execute_result"
    }
   ],
   "source": [
    "user_dict"
   ]
  },
  {
   "cell_type": "code",
   "execution_count": 58,
   "metadata": {},
   "outputs": [
    {
     "data": {
      "text/plain": [
       "{'9780062312686': 0,\n",
       " '9781408855652': 1,\n",
       " '9781444775815': 2,\n",
       " '9781542094139': 3,\n",
       " '9788121905510': 4,\n",
       " '9788174507099': 5,\n",
       " '9788179921623': 6,\n",
       " '9788179922323': 7,\n",
       " '9788183071000': 8,\n",
       " '9788192910963': 9,\n",
       " '9788192933542': 10,\n",
       " '9788193698709': 11,\n",
       " '9788193840627': 12,\n",
       " '9788194748212': 13,\n",
       " '9788194815013': 14,\n",
       " '9789312149836': 15,\n",
       " '9789313166757': 16,\n",
       " '9789324195654': 17,\n",
       " '9789324196224': 18,\n",
       " '9789325791718': 19,\n",
       " '9789351768449': 20,\n",
       " '9789382219163': 21,\n",
       " '9789384761547': 22,\n",
       " '9789387779310': 23,\n",
       " '9789388373760': 24,\n",
       " '9789389811391': 25,\n",
       " '9789390883318': 26,\n",
       " '9789391025595': 27,\n",
       " 'ABEFN2EQAP2SREM2': 28,\n",
       " 'ACCCWPD9GHRJ4GAP': 29,\n",
       " 'ACCD9XW3YU6VYCYS': 30,\n",
       " 'ACCDFZEJ6ZGSWRMK': 31,\n",
       " 'ACCDHJZYGACAZBJG': 32,\n",
       " 'ACCDQZAUKTMY5VT7': 33,\n",
       " 'ACCDSYDFMHUKZX9H': 34,\n",
       " 'ACCDZ3QBRSV9FZHG': 35,\n",
       " 'ACCDZ583WDDSDY3F': 36,\n",
       " 'ACCE4U6JNPGWQVYZ': 37,\n",
       " 'ACCE9CZGAJPTFDTQ': 38,\n",
       " 'ACCEA25DZGJUCYYH': 39,\n",
       " 'ACCEFDYCSTWHUDB4': 40,\n",
       " 'ACCEFVRKCQWN3G8Y': 41,\n",
       " 'ACCEGVTXGKZDXFRX': 42,\n",
       " 'ACCEHDJBEJSQYYKU': 43,\n",
       " 'ACCEHDJFUPC8JSEG': 44,\n",
       " 'ACCEHDJPSVZ4UYXP': 45,\n",
       " 'ACCEHSEZESFHWBSD': 46,\n",
       " 'ACCEJZT98SG39ZYD': 47,\n",
       " 'ACCEJZTAQKWR8HCZ': 48,\n",
       " 'ACCEJZXYKSG2T9GS': 49,\n",
       " 'ACCEK4CAZHWWGJRS': 50,\n",
       " 'ACCEKM2GZAGFW2TM': 51,\n",
       " 'ACCEPB2FWAVBFTEX': 52,\n",
       " 'ACCEPBDW89GY8ZYU': 53,\n",
       " 'ACCEPCGV7F94GEBB': 54,\n",
       " 'ACCEPFD7YPVPDMTZ': 55,\n",
       " 'ACCEQHA3GGC88ZKM': 56,\n",
       " 'ACCERNEE9Y8UJJE5': 57,\n",
       " 'ACCESAGFG7RZ7NYQ': 58,\n",
       " 'ACCET6ZFCGEG7GZE': 59,\n",
       " 'ACCEVQZABYWJHRHF': 60,\n",
       " 'ACCEW6XDPQD2S9PH': 61,\n",
       " 'ACCEWH82VYCDUHHH': 62,\n",
       " 'ACCEX3U2RXJFUGWG': 63,\n",
       " 'ACCEX3YYQMVCGVYS': 64,\n",
       " 'ACCEXBNK9ZZMUN4Y': 65,\n",
       " 'ACCEZB5BFPXPHPZX': 66,\n",
       " 'ACCEZB5HSGRXTYVF': 67,\n",
       " 'ACCEZB5QGQBDWVWD': 68,\n",
       " 'ACCEZB5RK47Z9K9Z': 69,\n",
       " 'ACCEZNY8YEAKQFUN': 70,\n",
       " 'ACCEZQH4M8UEMHHA': 71,\n",
       " 'ACCF26YUJXDNMW88': 72,\n",
       " 'ACCF2FHEHHD3XBUC': 73,\n",
       " 'ACCF3BHUWH7EBV78': 74,\n",
       " 'ACCF4Z7HHCB3ZY86': 75,\n",
       " 'ACCF59APNTHZ59BZ': 76,\n",
       " 'ACCF5QYU4XDWG3RD': 77,\n",
       " 'ACCF6932ZW8SYSGH': 78,\n",
       " 'ACCF6EBGFGYU32JS': 79,\n",
       " 'ACCF6S3DJ6FG5Y9N': 80,\n",
       " 'ACCF6SZ8EFWFEPZ6': 81,\n",
       " 'ACCF765QMGVKYRTX': 82,\n",
       " 'ACCF765QYZKJDMHG': 83,\n",
       " 'ACCF7TH2QHGDTKQE': 84,\n",
       " 'ACCF7TH2YBDTX6FB': 85,\n",
       " 'ACCF7ZXCYHFDS7JZ': 86,\n",
       " 'ACCF8CF7GTNYUWK7': 87,\n",
       " 'ACCF8CF7VGXFUFPX': 88,\n",
       " 'ACCF8HVTSM4A67RX': 89,\n",
       " 'ACCF8J5ZNHYVYYEH': 90,\n",
       " 'ACCF8TFYYARYBZN6': 91,\n",
       " 'ACCF94NHDZAGWDS4': 92,\n",
       " 'ACCF97SDJRA8DN5Q': 93,\n",
       " 'ACCF9FDPUNHGEH6H': 94,\n",
       " 'ACCF9NYH59RGGXQ3': 95,\n",
       " 'ACCFAMFQGCNEB8HM': 96,\n",
       " 'ACCFBFGHEA8H7F7Q': 97,\n",
       " 'ACCFBHDEHZFK6M2Y': 98,\n",
       " 'ACCFBHDF8UG8GQGV': 99,\n",
       " 'ACCFBK9PGQSJ5JKZ': 100,\n",
       " 'ACCFBMC5QAWFMSV6': 101,\n",
       " 'ACCFBPGH5S2PZGBC': 102,\n",
       " 'ACCFBZCZF8HVEQYX': 103,\n",
       " 'ACCFC7GJWYFGZSNH': 104,\n",
       " 'ACCFCF5YFFNN3WRT': 105,\n",
       " 'ACCFCF7DRHK9CZ6F': 106,\n",
       " 'ACCFCYZXFQDTQPFF': 107,\n",
       " 'ACCFDA68DUDATZVE': 108,\n",
       " 'ACCFDA68FGHARH2V': 109,\n",
       " 'ACCFDAEMYCMHREVK': 110,\n",
       " 'ACCFDBFR9ZCZTDGJ': 111,\n",
       " 'ACCFDGYT5HBTFXHE': 112,\n",
       " 'ACCFDJ52USCAUHHZ': 113,\n",
       " 'ACCFDJ5YVAVDTQP8': 114,\n",
       " 'ACCFDJAKMFH7YVPQ': 115,\n",
       " 'ACCFDWHZN5ZPWNVJ': 116,\n",
       " 'ACCFE3GJMRNAPHVK': 117,\n",
       " 'ACCFE5HS2YP2ZZBE': 118,\n",
       " 'ACCFEE49UPHSQHGX': 119,\n",
       " 'ACCFEHZ8GSGWMMSD': 120,\n",
       " 'ACCFEZ99MFMDR8CM': 121,\n",
       " 'ACCFEZ99TZUFETH7': 122,\n",
       " 'ACCFF2R85H8YG4WH': 123,\n",
       " 'ACCFF6XGWJ5SXYGQ': 124,\n",
       " 'ACCFF7Y8YRDT6W2Z': 125,\n",
       " 'ACCFFAD33W2CK9WD': 126,\n",
       " 'ACCFFDZFGJGZVXXZ': 127,\n",
       " 'ACCFFMC7DN6GZ9SH': 128,\n",
       " 'ACCFFQFAS2ESBFNY': 129,\n",
       " 'ACCFFXAR8GYH7GTY': 130,\n",
       " 'ACCFG22X2D8KHBUE': 131,\n",
       " 'ACCFG4Q5FZDP5XEF': 132,\n",
       " 'ACCFG6NFHAGAGY6U': 133,\n",
       " 'ACCFG6Z5HMEJC3EC': 134,\n",
       " 'ACCFG86Z2AHYMJ9K': 135,\n",
       " 'ACCFGAAZ8DGTZMPW': 136,\n",
       " 'ACCFGDPH67U2FCHY': 137,\n",
       " 'ACCFGG2KKRZDTH2G': 138,\n",
       " 'ACCFGH4HQ48Y2HZU': 139,\n",
       " 'ACCFGKU8GPU5T8BH': 140,\n",
       " 'ACCFGQGRTZVFSG8Z': 141,\n",
       " 'ACCFGQGRXPCPPFJN': 142,\n",
       " 'ACCFGQYJC8TP7UTW': 143,\n",
       " 'ACCFGRHA55JEJBFG': 144,\n",
       " 'ACCFGWFGN3XYSYHF': 145,\n",
       " 'ACCFGXUJBH6AEMV4': 146,\n",
       " 'ACCFGYHGGDCFYCA3': 147,\n",
       " 'ACCFGYHHKJ94GN6A': 148,\n",
       " 'ACCFGYHQDH6KJH6Y': 149,\n",
       " 'ACCFH3FZGSGGGPH8': 150,\n",
       " 'ACCFH425PNGFUHAU': 151,\n",
       " 'ACCFHBK3GUQE3BUD': 152,\n",
       " 'ACCFHBKEQGSQZN86': 153,\n",
       " 'ACCFHBKTBBTZSNHF': 154,\n",
       " 'ACCFHECY3ZNGWSRH': 155,\n",
       " 'ACCFHGQZCT4P9AFZ': 156,\n",
       " 'ACCFHGZFS7GB9CVM': 157,\n",
       " 'ACCFHURZZJSPGG9S': 158,\n",
       " 'ACCFHWFQYHJ7SGP3': 159,\n",
       " 'ACCFHWT5S8XUNWT7': 160,\n",
       " 'ACCFHYJ8ZU9WDHDW': 161,\n",
       " 'ACCFHZFXJZ9CM6GH': 162,\n",
       " 'ACCFHZP7P3D9PZJ6': 163,\n",
       " 'ACCFHZWKV6XV96HK': 164,\n",
       " 'ACCFJ6Z9BMZEH2V8': 165,\n",
       " 'ACCFJBUPRBRYVZGU': 166,\n",
       " 'ACCFJBVHAFT53KPY': 167,\n",
       " 'ACCFJEFARGKKH6RG': 168,\n",
       " 'ACCFJEFAZK8HANEC': 169,\n",
       " 'ACCFJX84RAHZGHZD': 170,\n",
       " 'ACCFJZCQNXD24UBD': 171,\n",
       " 'ACCFK9SZ7NGM6GVT': 172,\n",
       " 'ACCFKFUNDRYVGDQE': 173,\n",
       " 'ACCFKH34UT94T96U': 174,\n",
       " 'ACCFKK8BPWEMQWHX': 175,\n",
       " 'ACCFKMHYTKK9FHXR': 176,\n",
       " 'ACCFKTGTVDTHF7GQ': 177,\n",
       " 'ACCFKYCBAETWPBZX': 178,\n",
       " 'ACCFKYE2ARGG67WC': 179,\n",
       " 'ACCFM4ZHVPVGBCUS': 180,\n",
       " 'ACCFM53QQCRXKAZK': 181,\n",
       " 'ACCFMB3UYPHEHAYB': 182,\n",
       " 'ACCFMGJYM4GB3ZHX': 183,\n",
       " 'ACCFMJBJWHBMSHAN': 184,\n",
       " 'ACCFMJJMZEHNQBF4': 185,\n",
       " 'ACCFMPZGUUFHJCZF': 186,\n",
       " 'ACCFMR9VMSDTHZEG': 187,\n",
       " 'ACCFMRFXMAGVGAEG': 188,\n",
       " 'ACCFMSEVDEHGSVFF': 189,\n",
       " 'ACCFMSEVFY4ZKNZJ': 190,\n",
       " 'ACCFMSUTN234XH7H': 191,\n",
       " 'ACCFMXAT78HTTFHZ': 192,\n",
       " 'ACCFMXSQR2ZVDAYK': 193,\n",
       " 'ACCFMYMWSZYMXUWV': 194,\n",
       " 'ACCFMZ5GEGCVGUHA': 195,\n",
       " 'ACCFN5H6R5SHZFX2': 196,\n",
       " 'ACCFN5HB7XDVQQHY': 197,\n",
       " 'ACCFN5HB82CZ6GH6': 198,\n",
       " 'ACCFN5HBZRGKGFMA': 199,\n",
       " 'ACCFN6887NJPGZGT': 200,\n",
       " 'ACCFN8KVBM7SXEAS': 201,\n",
       " 'ACCFNDTWZD3UZGTH': 202,\n",
       " 'ACCFNFUKF9BKE5PS': 203,\n",
       " 'ACCFNH2GZG7AGUTM': 204,\n",
       " 'ACCFNHAUYT7THA2P': 205,\n",
       " 'ACCFNKDH5CYANWT7': 206,\n",
       " 'ACCFNKF2G9HZVRBK': 207,\n",
       " 'ACCFNMEYJNHSNCWN': 208,\n",
       " 'ACCFNT7R2FYCUGSS': 209,\n",
       " 'ACCFNT7RSK6DFGP9': 210,\n",
       " 'ACCFNT7RVY8AZXBF': 211,\n",
       " 'ACCFNWP6HWVJUT29': 212,\n",
       " 'ACCFP2XBKSQKUHTD': 213,\n",
       " 'ACCFP52PBVEGGJJZ': 214,\n",
       " 'ACCFP76AHHNQBSHV': 215,\n",
       " 'ACCFPDSFAZ8DG43U': 216,\n",
       " 'ACCFPGY9GQPH9D47': 217,\n",
       " 'ACCFPQ2HEURQ5DUD': 218,\n",
       " 'ACCFPRKY5UMKFVNH': 219,\n",
       " 'ACCFPUN4YPGZAKJH': 220,\n",
       " 'ACCFPWHPUCQTHYGG': 221,\n",
       " 'ACCFPY93NHJEPBTS': 222,\n",
       " 'ACCFPYAT26DYSHQZ': 223,\n",
       " 'ACCFQ4AFAGND63XP': 224,\n",
       " 'ACCFQB2JFUAZNDXH': 225,\n",
       " 'ACCFQH8HXHEGPXZK': 226,\n",
       " 'ACCFQKGCGHHCDNHT': 227,\n",
       " 'ACCFQKK85DSZSDHC': 228,\n",
       " 'ACCFRKG9UMZZRXMY': 229,\n",
       " 'ACCFRTJNZQCJJYS6': 230,\n",
       " 'ACCFRTMGWDTTSTZ8': 231,\n",
       " 'ACCFRY83WEMG6TRC': 232,\n",
       " 'ACCFRY8FB9XMMHGM': 233,\n",
       " 'ACCFS66EEDXYNYVW': 234,\n",
       " 'ACCFS83GBKJSJGG5': 235,\n",
       " 'ACCFS8HHZSEDBVDC': 236,\n",
       " 'ACCFSDGSN7ERVZHP': 237,\n",
       " 'ACCFSDGSYTH8XV7A': 238,\n",
       " 'ACCFSDGX68PUKJYE': 239,\n",
       " 'ACCFSDGXT4HZXY4J': 240,\n",
       " 'ACCFSDGXX3S6DVBG': 241,\n",
       " 'ACCFSKBH64FAUHUF': 242,\n",
       " 'ACCFSKBJYWZKXGCP': 243,\n",
       " 'ACCFSKBYFZKMMHPH': 244,\n",
       " 'ACCFSKBYHGBTUPP5': 245,\n",
       " 'ACCFSNJEUEKZZBXM': 246,\n",
       " 'ACCFT4B92ZFZXHG9': 247,\n",
       " 'ACCFT7HFUSZ4MXSB': 248,\n",
       " 'ACCFT7NMQTD9GKER': 249,\n",
       " 'ACCFTAZKFKWEHFP2': 250,\n",
       " 'ACCFTGDTKPZNKFUX': 251,\n",
       " 'ACCFTJX7MMPFJEYC': 252,\n",
       " 'ACCFTNYZHTVTHZGF': 253,\n",
       " 'ACCFTQBRGCDZUSG4': 254,\n",
       " 'ACCFTQBRKDZWGETY': 255,\n",
       " 'ACCFTRN3YJCHZPM9': 256,\n",
       " 'ACCFTU7ZNBFT2QNN': 257,\n",
       " 'ACCFTX4E8YZKVACC': 258,\n",
       " 'ACCFTX5A7FGJGBZT': 259,\n",
       " 'ACCFTYB6BYF3DQGR': 260,\n",
       " 'ACCFTYB6WK3NDQUG': 261,\n",
       " 'ACCFTYWVQPKAXCUE': 262,\n",
       " 'ACCFTYY3EFFYSJP9': 263,\n",
       " 'ACCFTZ3SMDE59QRM': 264,\n",
       " 'ACCFU2QEC9JTNSBY': 265,\n",
       " 'ACCFU3G2HEJYHKSS': 266,\n",
       " 'ACCFU48AZHEWSNZU': 267,\n",
       " 'ACCFUAHYP889GRQB': 268,\n",
       " 'ACCFUAHYRYGGM9MK': 269,\n",
       " 'ACCFUEYCZBYGCFFM': 270,\n",
       " 'ACCFUGAC4WYMSHYE': 271,\n",
       " 'ACCFUGACVY77ZAP3': 272,\n",
       " 'ACCFUMMVEFVWABPW': 273,\n",
       " 'ACCFUQ59HHZCHKHZ': 274,\n",
       " 'ACCFUQUSHV8HPUC7': 275,\n",
       " 'ACCFUS9Q47GKBK8J': 276,\n",
       " 'ACCFUS9Q4YGKTPXZ': 277,\n",
       " 'ACCFUS9Q7F5G3BGJ': 278,\n",
       " 'ACCFUT9H27KDZH8K': 279,\n",
       " 'ACCFUT9HJZFZADY8': 280,\n",
       " 'ACCFUUWPCQHMHZKK': 281,\n",
       " 'ACCFUXTXFQKRXSA9': 282,\n",
       " 'ACCFUXTXKEVRTKWZ': 283,\n",
       " 'ACCFUXTXY6PRYFFD': 284,\n",
       " 'ACCFUZPGFMH2YBJU': 285,\n",
       " 'ACCFUZSFGG6UFQHH': 286,\n",
       " 'ACCFUZZXHEX5PZZD': 287,\n",
       " 'ACCFV4J3N2WAHGVY': 288,\n",
       " 'ACCFV6HWFZYHQZDG': 289,\n",
       " 'ACCFV6KZNXHNEGAE': 290,\n",
       " 'ACCFV9FYUZ3RNYTH': 291,\n",
       " 'ACCFVA3GDUUVTXXJ': 292,\n",
       " 'ACCFVA3GNUZQZEHZ': 293,\n",
       " 'ACCFVA3KZ2EYMYX3': 294,\n",
       " 'ACCFVA3KZVQWVTWG': 295,\n",
       " 'ACCFVDF77WXXFQ3J': 296,\n",
       " 'ACCFVDF7EDEX3RH9': 297,\n",
       " 'ACCFVDQDKCQXUN46': 298,\n",
       " 'ACCFVE93EZDA88V8': 299,\n",
       " 'ACCFVEGCM57JTUNV': 300,\n",
       " 'ACCFVFRHCBSZFKVJ': 301,\n",
       " 'ACCFVFRHWNSHURM2': 302,\n",
       " 'ACCFVGGZKCXAV2RH': 303,\n",
       " 'ACCFVGUU4MBHHFG5': 304,\n",
       " 'ACCFVGUUCYC4JU5F': 305,\n",
       " 'ACCFVGUUSVZUZDJA': 306,\n",
       " 'ACCFVGUUTCTSJFJ2': 307,\n",
       " 'ACCFVGUUWF3AE2J3': 308,\n",
       " 'ACCFVGUUYRUTASZR': 309,\n",
       " 'ACCFVHGWUQAQF3KD': 310,\n",
       " 'ACCFVNHGB8GPGFYT': 311,\n",
       " 'ACCFVPFPAEC3TEGP': 312,\n",
       " 'ACCFVPG2VZ9GPDEM': 313,\n",
       " 'ACCFVU2W6FFHNJE7': 314,\n",
       " 'ACCFVWKN6AYYXCVY': 315,\n",
       " 'ACCFVWN4PGNTEFGY': 316,\n",
       " 'ACCFVYEFASDHJ5JS': 317,\n",
       " 'ACCFW4FAGF5UNXQK': 318,\n",
       " 'ACCFW57CUN3TXQGG': 319,\n",
       " 'ACCFW8DK7NFTRG5Z': 320,\n",
       " 'ACCFWAMVWURSRJNU': 321,\n",
       " 'ACCFWBNRZMHYEDKM': 322,\n",
       " 'ACCFWBW2MAHYCBXN': 323,\n",
       " 'ACCFWCFSGYQHZTVV': 324,\n",
       " 'ACCFWEW4J4HPQ8DY': 325,\n",
       " 'ACCFWFUZRVVAEGSG': 326,\n",
       " 'ACCFWGJSF2U3A6QF': 327,\n",
       " 'ACCFWGNYUW7V9NN5': 328,\n",
       " 'ACCFWKUSZNV9QCCW': 329,\n",
       " 'ACCFWQ92YESUPVQZ': 330,\n",
       " 'ACCFWQD8DT7K4DZG': 331,\n",
       " 'ACCFWRCUMMRRPDBB': 332,\n",
       " 'ACCFWRCYZCNYXZQ6': 333,\n",
       " 'ACCFWREJMGFZRHPW': 334,\n",
       " 'ACCFWRGQHSDYZFBT': 335,\n",
       " 'ACCFWSKQJ8GS6DA7': 336,\n",
       " 'ACCFWYYGBZA5Y6ZV': 337,\n",
       " 'ACCFWYYVZAWR38CG': 338,\n",
       " 'ACCFWZFNMZCKSEZK': 339,\n",
       " 'ACCFX3GFXVH2CBYY': 340,\n",
       " 'ACCFX4ERV7GGGFGE': 341,\n",
       " 'ACCFX9BWQPJYTBKU': 342,\n",
       " 'ACCFX9BYFPSKXVSX': 343,\n",
       " 'ACCFXC7SHM44YBZJ': 344,\n",
       " 'ACCFXEKBPNDQGZGC': 345,\n",
       " 'ACCFXEQF9YZHH82N': 346,\n",
       " 'ACCFXF3QWWDHKSUC': 347,\n",
       " 'ACCFXFEW8ZBTDCVU': 348,\n",
       " 'ACCFXG8GHSFF9HYM': 349,\n",
       " 'ACCFXG8GMXCTXK7S': 350,\n",
       " 'ACCFXMVPD8RAJZYF': 351,\n",
       " 'ACCFXNGHHG629AQM': 352,\n",
       " 'ACCFXNGYHZZTGZPU': 353,\n",
       " 'ACCFXZQARZ7ZUBUY': 354,\n",
       " 'ACCFY6MNQ2ENEHMT': 355,\n",
       " 'ACCFY8U6YSM4JQCU': 356,\n",
       " 'ACCFY95D3FRZTWH5': 357,\n",
       " 'ACCFY9MFG5VHPS6T': 358,\n",
       " 'ACCFY9VTNZDNAP8Z': 359,\n",
       " 'ACCFY9XZFGGMYCG8': 360,\n",
       " 'ACCFY9ZG44CNGEEJ': 361,\n",
       " 'ACCFYB3HJT7EQQ8H': 362,\n",
       " 'ACCFYF29YFPBYHKH': 363,\n",
       " 'ACCFYGB7JGGZMNJX': 364,\n",
       " 'ACCFYJNCCHQD8MMT': 365,\n",
       " 'ACCFYPBHGV8VUQEV': 366,\n",
       " 'ACCFYQR2FHMZYNWU': 367,\n",
       " 'ACCFYTMNZYHJWAQP': 368,\n",
       " 'ACCFYTNBYVAXANEK': 369,\n",
       " 'ACCFYUX2FRK6QRYC': 370,\n",
       " 'ACCFYWX3MSKNE9JN': 371,\n",
       " 'ACCFYWX3SM6EUDBC': 372,\n",
       " 'ACCFYWXKN5CGM3WC': 373,\n",
       " 'ACCFYY2HXGAZH8HD': 374,\n",
       " 'ACCFYY59ZHDPZEH5': 375,\n",
       " 'ACCFYZMY5N7UAGJT': 376,\n",
       " 'ACCFZ2FF7YYVZHSZ': 377,\n",
       " 'ACCFZ59AK8NNGZA5': 378,\n",
       " 'ACCFZ5FXFCWRDEHH': 379,\n",
       " 'ACCFZ5THGCT6H9BU': 380,\n",
       " 'ACCFZ5Y5J8QGVHAZ': 381,\n",
       " 'ACCFZ6CDYYH5HGQY': 382,\n",
       " 'ACCFZ6UA8PWEFY5S': 383,\n",
       " 'ACCFZ95M5JTZQH3F': 384,\n",
       " 'ACCFZ95MTQSX7NFD': 385,\n",
       " 'ACCFZ95MY8SGZQRT': 386,\n",
       " 'ACCFZ9GEGZTXRAPR': 387,\n",
       " 'ACCFZ9UZZRVSQWGZ': 388,\n",
       " 'ACCFZAYSJEQKRYCH': 389,\n",
       " 'ACCFZBWJZDFQH8GM': 390,\n",
       " 'ACCFZBY9ZCG7C2HD': 391,\n",
       " 'ACCFZCRM7PBSSQUU': 392,\n",
       " 'ACCFZCSJWDAZRECZ': 393,\n",
       " 'ACCFZCSJYCVKSDYG': 394,\n",
       " 'ACCFZCTHHGZTYTPR': 395,\n",
       " 'ACCFZCUCQZGCPZBR': 396,\n",
       " 'ACCFZDKMHEUMKHDC': 397,\n",
       " 'ACCFZEQMGMAVFXTH': 398,\n",
       " 'ACCFZEQMVPPGZ5KY': 399,\n",
       " 'ACCFZGAMWQGGTZZG': 400,\n",
       " 'ACCFZGAPGBQ7FP8H': 401,\n",
       " 'ACCFZGAQJGYCYDCM': 402,\n",
       " 'ACCFZGMYJSDR4HAS': 403,\n",
       " 'ACCFZKRPQFEBR6RF': 404,\n",
       " 'ACCFZPFERYJN8ZY5': 405,\n",
       " 'ACCFZR27PUUGUQYR': 406,\n",
       " 'ACCFZRBVFBAGZJHZ': 407,\n",
       " 'ACCFZU6HRFFPWJPF': 408,\n",
       " 'ACCFZUG7KF9ATX9H': 409,\n",
       " 'ACCFZXS4T82P7FC6': 410,\n",
       " 'ACCG23KPW7BYTYHQ': 411,\n",
       " 'ACCG23XUZYJHGGAW': 412,\n",
       " 'ACCG23YHNH7GQ8CR': 413,\n",
       " 'ACCG24PRZ7QFKFZW': 414,\n",
       " 'ACCG25SFFYDHXF67': 415,\n",
       " 'ACCG25T3Z4CHBUAP': 416,\n",
       " 'ACCG25T43BAHVRZD': 417,\n",
       " 'ACCG25TDZ2TXB4WT': 418,\n",
       " 'ACCG28YG4GQPQMRE': 419,\n",
       " 'ACCG2DHTPQRPV4ZP': 420,\n",
       " 'ACCG2DWVS3FSGDKH': 421,\n",
       " 'ACCG2EZ2NG3FFZAX': 422,\n",
       " 'ACCG2FUGVDGGZNK9': 423,\n",
       " 'ACCG2FUZEKMMVZ7N': 424,\n",
       " 'ACCG2H5ZDC3HYBHS': 425,\n",
       " 'ACCG2J2PUKJYTU7S': 426,\n",
       " 'ACCG2K38YCACC3XV': 427,\n",
       " 'ACCG2QZJNC7CHXHA': 428,\n",
       " 'ACCG2TC8SURNPZAA': 429,\n",
       " 'ACCG2VEAQBRJHGSS': 430,\n",
       " 'ACCG2YHVJCVVFYZX': 431,\n",
       " 'ACCG2YYUAVQ88GXY': 432,\n",
       " 'ACCG32YFVPZZFWZW': 433,\n",
       " 'ACCG36FHAZFMZ8PK': 434,\n",
       " 'ACCG36FNGPPGRZZR': 435,\n",
       " 'ACCG37GRBVPURZJT': 436,\n",
       " 'ACCG37GRY5R393UF': 437,\n",
       " 'ACCG37GRZX3RNCFZ': 438,\n",
       " 'ACCG38Q3N7AM4AES': 439,\n",
       " 'ACCG3C2DXZRVCYNM': 440,\n",
       " 'ACCG3CFWQGYQMW8S': 441,\n",
       " 'ACCG3E9ZY8Z4ZW8H': 442,\n",
       " 'ACCG3ECZEECW6YHD': 443,\n",
       " 'ACCG3FE473KV5DYT': 444,\n",
       " 'ACCG3HY9ZNDBZDKS': 445,\n",
       " 'ACCG3QNJGU7YGGN4': 446,\n",
       " 'ACCG3QT2QWDGGVG7': 447,\n",
       " 'ACCG3THXHSNNYRH9': 448,\n",
       " 'ACCG3UAKHGHHGH9S': 449,\n",
       " 'ACCG3UQN5XJHZG4H': 450,\n",
       " 'ACCG3W4ZBJXEMMZA': 451,\n",
       " 'ACCG3W6PRUWVQ5ZX': 452,\n",
       " 'ACCG3WFZZG8QCJYP': 453,\n",
       " 'ACCG3XD3RYYTYMHT': 454,\n",
       " 'ACCG3XFAFGR4RCYC': 455,\n",
       " 'ACCG3XYXNGYV3YWY': 456,\n",
       " 'ACCG3Y3YYNZEYEZE': 457,\n",
       " 'ACCG3YCH9DD2B6SJ': 458,\n",
       " 'ACCG3YFZZC6BRAK5': 459,\n",
       " 'ACCG3ZAYPZYTKGNU': 460,\n",
       " 'ACCG42HNVKFBGPUR': 461,\n",
       " 'ACCG42TTVN9B9RTB': 462,\n",
       " 'ACCG448USRBKHRFX': 463,\n",
       " 'ACCG44ZFD77BBXAB': 464,\n",
       " 'ACCG45FPAVSTFZFW': 465,\n",
       " 'ACCG45FPAWJV8HXS': 466,\n",
       " 'ACCG45FPRKHNVYHM': 467,\n",
       " 'ACCG46AU7HYVZZZN': 468,\n",
       " 'ACCG46AUGQMEVFTZ': 469,\n",
       " 'ACCG48F2S6F48CSZ': 470,\n",
       " 'ACCG48F2SGVM72HN': 471,\n",
       " 'ACCG48YRGAHFEV3P': 472,\n",
       " 'ACCG48YRJSQCWFNY': 473,\n",
       " 'ACCG4A9EPACEQHHV': 474,\n",
       " 'ACCG4AD9QN4HAYBH': 475,\n",
       " 'ACCG4AZTAKHZYSRN': 476,\n",
       " 'ACCG4BKA7TZYZCT8': 477,\n",
       " 'ACCG4BKACFHDV72B': 478,\n",
       " 'ACCG4BNGH7AGNZQM': 479,\n",
       " 'ACCG4EZFZ4SCWRRK': 480,\n",
       " 'ACCG4G7TFXEVGQQ2': 481,\n",
       " 'ACCG4HYEZRGJK9HN': 482,\n",
       " 'ACCG4HYUGZ8HHXND': 483,\n",
       " 'ACCG4J66GHR9FSBU': 484,\n",
       " 'ACCG4KZTF6JXYHRW': 485,\n",
       " 'ACCG4P5FVPWJ8HR5': 486,\n",
       " 'ACCG4QYQHA3BXD4M': 487,\n",
       " 'ACCG4R4XGXEAWHZN': 488,\n",
       " 'ACCG4RBWG8TWZRY9': 489,\n",
       " 'ACCG4SZGZJQUTGFS': 490,\n",
       " 'ACCG4TGBHRMFKZ3W': 491,\n",
       " 'ACCG4V9M3HTT2EGN': 492,\n",
       " 'ACCG4VHBHHRMBMFR': 493,\n",
       " 'ACCG4VNHK5QEPFMB': 494,\n",
       " 'ACCG4VPMPDWCYGJS': 495,\n",
       " 'ACCG4VZAC2CGPTNW': 496,\n",
       " 'ACCG4VZAJZVKGYSU': 497,\n",
       " 'ACCG4WVH7DNFPPZH': 498,\n",
       " 'ACCG4WXWPHHRUZ7F': 499,\n",
       " 'ACCG4WXWRBYW8ANS': 500,\n",
       " 'ACCG4WXWRCSUWTEG': 501,\n",
       " 'ACCG4WXWSQWWT9X2': 502,\n",
       " 'ACCG4ZVQDCY6TQ8H': 503,\n",
       " 'ACCG57P5RGWJZARH': 504,\n",
       " 'ACCG5CHSC8WZ7CSE': 505,\n",
       " 'ACCG5EKPM6TNNFGM': 506,\n",
       " 'ACCG5FB6CF9ZPAGT': 507,\n",
       " 'ACCG5HGYMNKYFPGZ': 508,\n",
       " 'ACCG5SUZ4PJFJPHU': 509,\n",
       " 'ACCG64452MZAJDGX': 510,\n",
       " 'ACCGF2VHJ9KNQFV9': 511,\n",
       " 'ACCGF2YNUHGGC95S': 512,\n",
       " 'ACCGF4YY7GGF3KDF': 513,\n",
       " 'ACCGF5HDSFNP88KG': 514,\n",
       " 'ACCGF7GGQVMQNEKU': 515,\n",
       " 'ACCGF8EWXCCWXWJZ': 516,\n",
       " 'ACCGF9ARSYGKZB7D': 517,\n",
       " 'ACCGF9KKGQRACVFD': 518,\n",
       " 'ACCGF9N3CQCMS74P': 519,\n",
       " 'ACCGFBV38HKXCDHK': 520,\n",
       " 'ACCGFC5AHFWCKRYV': 521,\n",
       " 'ACCGFGC6YZZDVFHG': 522,\n",
       " 'ACCGFGCPJBYDY9KX': 523,\n",
       " 'ACCGFGCPUJMRBGK6': 524,\n",
       " 'ACCGFGDYFENFGJT2': 525,\n",
       " 'ACCGFGJTGWRHZUAF': 526,\n",
       " 'ACCGFGJTK6GHJ2VW': 527,\n",
       " 'ACCGFGWQMCFAHZPR': 528,\n",
       " 'ACCGFJ3KHHGV35WZ': 529,\n",
       " 'ACCGFNTSKMNNWPVZ': 530,\n",
       " 'ACCGFQ24HZK8Y7NY': 531,\n",
       " 'ACCGFQ24JHXSUKYM': 532,\n",
       " 'ACCGFQ24SA4SBKVR': 533,\n",
       " 'ACCGFQF9GZ6TXEZ9': 534,\n",
       " 'ACCGFRB9GXNYQCSQ': 535,\n",
       " 'ACCGFVY8NTKUQVQX': 536,\n",
       " 'ACCGFWC8C3GMACZR': 537,\n",
       " 'ACCGFXEJAPG7GGRG': 538,\n",
       " 'ACCGFXTFSZXZSVNC': 539,\n",
       " 'ACCGFYJFWGTGYJZR': 540,\n",
       " 'ACCGFZ4FFM79XTFF': 541,\n",
       " 'ACCGFZ5GDZBVUC2G': 542,\n",
       " 'ACCGFZ5GKAHPNZPJ': 543,\n",
       " 'ACCGY4SQPGZFAF6Z': 544,\n",
       " 'ACCGY7QDAYG8BJZG': 545,\n",
       " 'ACCGY7QKF8RWH5MH': 546,\n",
       " 'ACCGY9DESBWUFEYJ': 547,\n",
       " 'ACCGYB6NZYDUMZJT': 548,\n",
       " 'ACCGYBNXGHVQDHJQ': 549,\n",
       " 'ACCGYDFSDGDHUJ5W': 550,\n",
       " 'ACCGYDGJBEKKWKV3': 551,\n",
       " 'ACCGYFNYBXH4PBNZ': 552,\n",
       " 'ACCGYGQGXHBJFM5E': 553,\n",
       " 'ACCGYRMRH2VXBZG4': 554,\n",
       " 'ACCGYS8VJSCDZETV': 555,\n",
       " 'ACCGYS9CZZZEE855': 556,\n",
       " 'ACCGYWBRGTMSXC7W': 557,\n",
       " 'ACCGYZ3YEHZVFVJ3': 558,\n",
       " 'ACCGYZSZ8AZCVJHA': 559,\n",
       " 'ACCGYZSZCSJVTBHN': 560,\n",
       " 'ACGFFZGVPVDHAKCH': 561,\n",
       " 'ACGFK7HHFHHAAEUV': 562,\n",
       " 'ACKFJ24GRDSPXGS2': 563,\n",
       " 'ACKFZGDRPYGGNHBB': 564,\n",
       " 'ACKG2RFKDVHAPGVX': 565,\n",
       " 'ACNFU3XZKEEJZXFC': 566,\n",
       " 'ACNFZCE3HQCGNGFZ': 567,\n",
       " 'ACNFZTDR4GAAHZSJ': 568,\n",
       " 'ACNFZZFHDUWJQX36': 569,\n",
       " 'ACNGFVMJ5ZKZVFDS': 570,\n",
       " 'ACNGYK4NGE7SAH2N': 571,\n",
       " 'ACNGYK4ZU8NZGDHC': 572,\n",
       " 'AFGFZH3GXSX4CCST': 573,\n",
       " 'AIOFM3RECEJ9EDVC': 574,\n",
       " 'AIOFUGFKWWW7NUN3': 575,\n",
       " 'AIRESTB9GU6HFETS': 576,\n",
       " 'AIREUHAZ6YHT9SA5': 577,\n",
       " 'AIRFSDGXCBRWZQ64': 578,\n",
       " 'AKSFNT8Y6TJ8KMMY': 579,\n",
       " 'AKSGFPGFEJZJSJ25': 580,\n",
       " 'ALCF6RXHDRUEW9GP': 581,\n",
       " 'ALCFGMAZP62SNYKS': 582,\n",
       " 'ALCFGSYGPDPRGZHR': 583,\n",
       " 'ALCFHG6BZHERPNCG': 584,\n",
       " 'ALCFJPH3GVJGBCY4': 585,\n",
       " 'ALCFUZF7BRKFHS2Z': 586,\n",
       " 'ALCFYGUQMEVUHWJS': 587,\n",
       " 'ALCFZ54FNCHYHNXW': 588,\n",
       " 'ALCFZ9GKNYHJUSFT': 589,\n",
       " 'ALCGF5H2DBFNJUN6': 590,\n",
       " 'ALCGY5HJHEJMDNKG': 591,\n",
       " 'ALCGYYKWHFZ5QSYG': 592,\n",
       " 'ALNG2B4YGTZZWCH7': 593,\n",
       " 'AMEFWH6XXWFSTQE6': 594,\n",
       " 'ANKEBP2G63ZHPQHU': 595,\n",
       " 'ANKECFN9WFSEXFUV': 596,\n",
       " 'ANKEGPG43ZWGGDHZ': 597,\n",
       " 'ANKFAVTDYKQRB4HV': 598,\n",
       " 'ANKFE5GYGAHUQHFE': 599,\n",
       " 'ANKFQFFVWAZCTCSY': 600,\n",
       " 'ANKFTFGQQFNV7GER': 601,\n",
       " 'ANKFXT54HUFJD4J9': 602,\n",
       " 'ANKFY3XHJXZ4MH2G': 603,\n",
       " 'ANKFY79GYASZGFAN': 604,\n",
       " 'ANKFY7GFZ5VZCGHN': 605,\n",
       " 'ANKFZYQ4PTAGKM9V': 606,\n",
       " 'ANKGF6YX9ZXWRFUG': 607,\n",
       " 'ANSFQTAMVHNGGXHH': 608,\n",
       " 'ANSFR668HRFYUHKW': 609,\n",
       " 'APCFRR82NXUH8ZMZ': 610,\n",
       " 'APPFYGGUZPCGTBXP': 611,\n",
       " 'AQFEVGD4P2ZHRWJ2': 612,\n",
       " 'AQLFYN2JH5YUF7CZ': 613,\n",
       " 'ARPFE46GMHJ3EGZ8': 614,\n",
       " 'ARPFY8ZUZPGAPRP6': 615,\n",
       " 'ARPGYAFGUZ3R6GWX': 616,\n",
       " 'ARTF8ZZW7ZUCZ7JR': 617,\n",
       " 'ARTF96KAH66YFTRZ': 618,\n",
       " 'ARTF9DE3EGXAXBQP': 619,\n",
       " 'ARTFJUPQGMSNMJ7J': 620,\n",
       " 'ARTFKY7UETFJM6US': 621,\n",
       " 'ARTFVMECG4WQBGUJ': 622,\n",
       " 'ARTFVMECUNPEBJAF': 623,\n",
       " 'ARTFW4DNUYH9BJNU': 624,\n",
       " 'ARTG5Y3GSJZB7HZD': 625,\n",
       " 'ATADFRR7MAZ3WGNY': 626,\n",
       " 'ATNFJ2Z4DMY4TBGM': 627,\n",
       " 'ATNFM44TDGYV29MG': 628,\n",
       " 'ATNFM44TKMMUSAJK': 629,\n",
       " 'ATNFVH2RDHCHSAWZ': 630,\n",
       " 'ATTFPYYYMABVXJKU': 631,\n",
       " 'AYDFUZFMCZHYC37V': 632,\n",
       " 'AYDFW5K9TCCHTZAP': 633,\n",
       " 'AYDFYHWRAFWCB9YM': 634,\n",
       " 'AYDFZDV9BWZZEDUZ': 635,\n",
       " 'AYDFZGD9QFGQTPCZ': 636,\n",
       " 'AYDG2GAGFGNDXSQU': 637,\n",
       " 'AYDG3KY9FXD8QF6C': 638,\n",
       " 'AYDG3P22GWGWZHHS': 639,\n",
       " 'AYDG4G5FHGC8UHVA': 640,\n",
       " 'BAAFD9HFZCNESFJW': 641,\n",
       " 'BAAFSQ2M7BAU9PHQ': 642,\n",
       " 'BABEUC3THTBR8NSP': 643,\n",
       " 'BAGFFZ5N5XQDGRUG': 644,\n",
       " 'BAGFN2HHTMSGH3ZY': 645,\n",
       " 'BAGFNUXRXJYRGG62': 646,\n",
       " 'BAGFYFPEEJPZSMDD': 647,\n",
       " 'BAGG4HPXXUAXB4YD': 648,\n",
       " 'BAGGFKYDWPFGSRAG': 649,\n",
       " 'BALDM4Q59MU5ZHNS': 650,\n",
       " 'BALDYGMCZHZUWY2W': 651,\n",
       " 'BALG3Y7PX8CPVACX': 652,\n",
       " 'BARF7Q8DKXYV42PB': 653,\n",
       " 'BARF7Q8HHGHQATM9': 654,\n",
       " 'BARFGFYBKDGSK2CH': 655,\n",
       " 'BARFMUPEHPU9XYV5': 656,\n",
       " 'BARFY32W78GZRZZN': 657,\n",
       " 'BARGFFAD7T6F7ECE': 658,\n",
       " 'BATF3NZCSMHMHGGU': 659,\n",
       " 'BATG2DJX5GGHZHUF': 660,\n",
       " 'BBAEHG5ANG7AHGCQ': 661,\n",
       " 'BBAEHG5AXGBV3CFQ': 662,\n",
       " 'BBAEQ5AQNYHY9GK7': 663,\n",
       " 'BBAETHNPZGCZ69XA': 664,\n",
       " 'BBAEW9HEEZZKGTFF': 665,\n",
       " 'BBAEXVH7FYSKABEP': 666,\n",
       " 'BBAF6B78SFRKGPBU': 667,\n",
       " 'BBAF6KAGQAZCGYAC': 668,\n",
       " 'BBAF7XGPH4XCPPHK': 669,\n",
       " 'BBAFBT4EBRHTCHZY': 670,\n",
       " 'BBAFCBR2HF7NF7Y2': 671,\n",
       " 'BBAFCGHT4UDXPBMF': 672,\n",
       " 'BBAFDYH3ABYCXKMD': 673,\n",
       " 'BBAFEZ73CN8BZWNW': 674,\n",
       " 'BBAFGAYVG9FZKWMG': 675,\n",
       " 'BBAFKZUP4QYTK78R': 676,\n",
       " 'BBAFQFP7CNPY5AME': 677,\n",
       " 'BBAG4CN8VJSUNFET': 678,\n",
       " 'BBAGYGGGZ5RZ2KYT': 679,\n",
       " 'BBCEMJVVF5A4AXBG': 680,\n",
       " 'BBCETH7VGMZSD5XC': 681,\n",
       " 'BBCETJFBGGYZMYDH': 682,\n",
       " 'BBCEX2SQFFD27YVG': 683,\n",
       " 'BBCEZWV2JDXJBHFH': 684,\n",
       " 'BBCFC555J5TNZEZG': 685,\n",
       " 'BBCFC555WVTEXQ97': 686,\n",
       " 'BBCFTJWBKGHG3CJW': 687,\n",
       " 'BBOF48YPVZZZDG7E': 688,\n",
       " 'BBOF5AEWGYBE6ZGD': 689,\n",
       " 'BBOFDZQMK8BDZYPQ': 690,\n",
       " 'BBVGYPG9SPD64RBB': 691,\n",
       " 'BCBG26ZZSMQT5FCG': 692,\n",
       " 'BCCET844S6TMNVTF': 693,\n",
       " 'BCCF3VJ6RF26CMQC': 694,\n",
       " 'BCCFFSSVHTM6PZGX': 695,\n",
       " 'BCRFSFC28EGGFZAA': 696,\n",
       " 'BCRGY4GSNBGF7DNV': 697,\n",
       " 'BCRGY4GSPGHRAATF': 698,\n",
       " 'BCVFH7MSK2UKPMV6': 699,\n",
       " 'BCVFTR7KF8H6XZU8': 700,\n",
       " 'BCVFX2NEJPJDGWBY': 701,\n",
       " 'BCVFZ8C9HEDUGH5K': 702,\n",
       " 'BCVFZ8HGYW6BHBTG': 703,\n",
       " 'BCVG3BFGE4RTYGYD': 704,\n",
       " 'BCVG3BFGZTWEBCZH': 705,\n",
       " 'BCVGFE98MHSJCFDQ': 706,\n",
       " 'BDDF8WMXYUVZU9NN': 707,\n",
       " 'BDDFHB352KARHSCP': 708,\n",
       " 'BDDFHB35RGQ67QJ7': 709,\n",
       " 'BDDFN746YCZVRRUM': 710,\n",
       " 'BDDFNHSHGHNG2PZG': 711,\n",
       " 'BDGFV6S2PNMKSZWS': 712,\n",
       " 'BDGG3YD7UKHDA8GY': 713,\n",
       " 'BDSEAX7J3AFEFUDC': 714,\n",
       " 'BDSEEDRFFEZHXWCS': 715,\n",
       " 'BDSEF4MH6ZU324JZ': 716,\n",
       " 'BDSEMAEVKNFZZNFU': 717,\n",
       " 'BDSEQMU8JZZHRKVB': 718,\n",
       " 'BDSEQVX7PHYGBFPF': 719,\n",
       " 'BDSEQVXFJMPHC9HM': 720,\n",
       " 'BDSEQVXGZXFQ4ZG7': 721,\n",
       " 'BDSESGF2JXCKPQZB': 722,\n",
       " 'BDSEUQV33EWDK8ZH': 723,\n",
       " 'BDSEUXEQ6N2XERWP': 724,\n",
       " 'BDSEVYXBFJ7DSGGX': 725,\n",
       " 'BDSEXA56CCAFFHBH': 726,\n",
       " 'BDSEXYYPHJCNHQNK': 727,\n",
       " 'BDSF3H6DTDFEZBFQ': 728,\n",
       " 'BDSF3XGW3BWFVP9Z': 729,\n",
       " 'BDSF3XGWHVNT24ZG': 730,\n",
       " 'BDSF4SK9J6MZRKDT': 731,\n",
       " 'BDSF7E2G7YTRDGVM': 732,\n",
       " 'BDSF7JRNYT4MUJUJ': 733,\n",
       " 'BDSF7NYQM9GPK922': 734,\n",
       " 'BDSF8CCDF2C7JXYP': 735,\n",
       " 'BDSF9RZWABEAVCPY': 736,\n",
       " 'BDSFANT32U2GWFDN': 737,\n",
       " 'BDSFANT3JDFB5XGX': 738,\n",
       " 'BDSFBNM3ZNDTXHPC': 739,\n",
       " 'BDSFDU4YUPUTZFFE': 740,\n",
       " 'BDSFGEWZDZRAQXV7': 741,\n",
       " 'BDSFGJA7AFGWXPG2': 742,\n",
       " 'BDSFGJA7JNGNXFAZ': 743,\n",
       " 'BDSFGJA7UCNFHSDR': 744,\n",
       " 'BDSFGJA7USKJPJWW': 745,\n",
       " 'BDSFJ7H52WFJXZVA': 746,\n",
       " 'BDSFJW2AQAH83GHH': 747,\n",
       " 'BDSFNAGVZRVMHFG7': 748,\n",
       " 'BDSFNXNYWZQB92AT': 749,\n",
       " 'BDSFNZRU2HQ3HR49': 750,\n",
       " 'BDSFRHZ6T3MDHVGP': 751,\n",
       " 'BDSFTNZSD3FQVKYM': 752,\n",
       " 'BDSFUDXFXXQFPCKN': 753,\n",
       " 'BDSFUQFGQXCPDNJG': 754,\n",
       " 'BDSFUZWEFYYPC6ZD': 755,\n",
       " 'BDSFV8W8TGP9XW5D': 756,\n",
       " 'BDSFW7QCH4ZEBB9V': 757,\n",
       " 'BDSFWAYVJKTKFRXJ': 758,\n",
       " 'BDSFWCNVAPNHXASF': 759,\n",
       " 'BDSFWCNVQA3JGVPR': 760,\n",
       " 'BDSFWG98VTAU3PH9': 761,\n",
       " 'BDSFX5Y36GX8QGNE': 762,\n",
       " 'BDSFXQUZKZUV8MCA': 763,\n",
       " 'BDSFYC4P9PMAPDTU': 764,\n",
       " 'BDSFYFAPD2NGTAJG': 765,\n",
       " 'BDSFYGHMZYATJQPV': 766,\n",
       " 'BDSFYJZ3PVPTMCXU': 767,\n",
       " 'BDSFYKYZ55AP4HUZ': 768,\n",
       " 'BDSFYRR79GWNWEMN': 769,\n",
       " 'BDSFYRR7FUYXQS9R': 770,\n",
       " 'BDSFZAVKF6NJJRXY': 771,\n",
       " 'BDSFZJFZGSQPZ2SX': 772,\n",
       " 'BDSFZWXESFHQPNGU': 773,\n",
       " 'BDSG24FGKZXXM3UB': 774,\n",
       " 'BDSG25BH6RZFZ5ZF': 775,\n",
       " 'BDSG25NWNHGNFEHH': 776,\n",
       " 'BDSG25QRXHRMXFQG': 777,\n",
       " 'BDSG2G8Y8XUYAHAH': 778,\n",
       " 'BDSG2GGZCYDQJYJH': 779,\n",
       " 'BDSG337RX24VXKVJ': 780,\n",
       " 'BDSG337T5FQZPFYE': 781,\n",
       " 'BDSG339KBKYX6JFX': 782,\n",
       " 'BDSG339KZZXYGDCW': 783,\n",
       " 'BDSG34S2R2HH4GMM': 784,\n",
       " 'BDSG35AGXTURYHHF': 785,\n",
       " 'BDSG3GFHQNGUYADH': 786,\n",
       " 'BDSG3HJF55RCMQCK': 787,\n",
       " 'BDSG3SHRWDHHS8FQ': 788,\n",
       " 'BDSG3V3H4YJY3Z4E': 789,\n",
       " 'BDSG4GHM366FSFBT': 790,\n",
       " 'BDSG4YYD25HHNVE5': 791,\n",
       " 'BDSG55JMGF6MMYX2': 792,\n",
       " 'BDSG6FTNU8WYMDYG': 793,\n",
       " 'BDSGFF84YBVRR9ZH': 794,\n",
       " 'BDSGFGHUAAC9EXZT': 795,\n",
       " 'BDSGFNUPUNQZDMQW': 796,\n",
       " 'BDSGFNUPWGHKAZZF': 797,\n",
       " 'BDSGFNUPZPF8GH2Q': 798,\n",
       " 'BDSGFQ2N4D947BF7': 799,\n",
       " 'BDSGFRZWMXDRATBB': 800,\n",
       " 'BDSGFUQ2CF3YKZSG': 801,\n",
       " 'BDSGFZ8A6FYZGHPD': 802,\n",
       " 'BDSGY5ZHWECVKG2Y': 803,\n",
       " 'BDSGY7GZRXCFVZE2': 804,\n",
       " 'BDSGYGRHFEMC2YGP': 805,\n",
       " 'BDSGYGRHQKGCEVC5': 806,\n",
       " 'BDSGYGRHUATXKKJ6': 807,\n",
       " 'BDSGYGRHZDGZPNHP': 808,\n",
       " 'BDSGYHYFZXSJXQP9': 809,\n",
       " 'BDSGYU5GRA5RUDEG': 810,\n",
       " 'BEDEZFZAFXXJZ8WF': 811,\n",
       " 'BEDFC5PNEGKEZQWA': 812,\n",
       " 'BEDFGXGZ6FG8HH3H': 813,\n",
       " 'BEDFKG7UJUEZHS8M': 814,\n",
       " 'BEDFZXSDJUJJHXZZ': 815,\n",
       " 'BELFBMJDTRFRY4NV': 816,\n",
       " 'BELFDWHFC3ADDW29': 817,\n",
       " 'BELFXWK66SUJDBWP': 818,\n",
       " 'BELFYUP5GKDBFJQE': 819,\n",
       " 'BELFYUZTH9HSRUHC': 820,\n",
       " 'BELFZ57YXQKKHJBM': 821,\n",
       " 'BELGF77SJFGHGUBA': 822,\n",
       " 'BEMFBTVGGY2MW9RF': 823,\n",
       " 'BEMFGKVBSSZ7GGZT': 824,\n",
       " 'BEMFJKZJHB8KHBYR': 825,\n",
       " 'BEMFP9G8QR5WDYHD': 826,\n",
       " 'BEMFS8YZ6TNFMTQN': 827,\n",
       " 'BEMG3M9Z9P5HRSVH': 828,\n",
       " 'BEODBGA5DEZ2ZB2C': 829,\n",
       " 'BEODBGA5GUZFCFFF': 830,\n",
       " 'BEOFUGZAWHXJMHG9': 831,\n",
       " 'BFRFVEHYQQMAZXKY': 832,\n",
       " 'BFRGFAKZFDRGGZKE': 833,\n",
       " 'BFTFV5SWPNRZ7XXM': 834,\n",
       " 'BGGF67VX4WMQQ7T7': 835,\n",
       " 'BGGFU93UYGXJMM9M': 836,\n",
       " 'BGGG453Y5FDPUXXN': 837,\n",
       " 'BHRERPRCTUCUYUQW': 838,\n",
       " 'BHRFU63KJ7YPNBZG': 839,\n",
       " 'BKPE2C66WBGXNHVU': 840,\n",
       " 'BKPF5S4SJM6REVZH': 841,\n",
       " 'BKPF8ZSKFUKDHHHY': 842,\n",
       " 'BKPFDPYHJUTACN7B': 843,\n",
       " 'BKPFEJKCMQSCDUNH': 844,\n",
       " 'BKPFEJKDYZHHX8QZ': 845,\n",
       " 'BKPFFFQP2ZZEAAGS': 846,\n",
       " 'BKPFH4UHYJUXTZXM': 847,\n",
       " 'BKPFMDZHBEAWR64Q': 848,\n",
       " 'BKPFME86PSHSG7RH': 849,\n",
       " 'BKPFMWYRGMEW3DZG': 850,\n",
       " 'BKPFMZFV2NFAK7FZ': 851,\n",
       " 'BKPFNTH2VVPAYZZA': 852,\n",
       " 'BKPFP8ZEJEXU5RKZ': 853,\n",
       " 'BKPFSNGFGZVQGXKQ': 854,\n",
       " 'BKPFST22DS4CDN8G': 855,\n",
       " 'BKPFST8NRU7WBGHY': 856,\n",
       " 'BKPFST8QHZFJZ3BG': 857,\n",
       " 'BKPFT348ARGYEKG7': 858,\n",
       " 'BKPFTHH4JSW9FF8M': 859,\n",
       " 'BKPFU77EHRHFFJWY': 860,\n",
       " 'BKPFU87F7HQPGFGG': 861,\n",
       " 'BKPFU9V2VNHXHFHU': 862,\n",
       " 'BKPFUFJ9W5MMHBQZ': 863,\n",
       " 'BKPFUSN4UZVZZGA9': 864,\n",
       " 'BKPFUTQSVPBEHRGW': 865,\n",
       " 'BKPFUX5MHPYESGEA': 866,\n",
       " 'BKPFVDFYJ7TPQZHY': 867,\n",
       " 'BKPFVFRZFUBHE6BV': 868,\n",
       " 'BKPFVZRTMWSTDUZ5': 869,\n",
       " 'BKPFWCGRAZTAYNZT': 870,\n",
       " 'BKPFWHCGUZP7XFVX': 871,\n",
       " 'BKPFWJHMS8FUQFSW': 872,\n",
       " 'BKPFX7YMHHHX9JHY': 873,\n",
       " 'BKPFXK2EKNSFRQTY': 874,\n",
       " 'BKPFXQNGJYWC6NVZ': 875,\n",
       " 'BKPFXY54BZRHY4G7': 876,\n",
       " 'BKPFXY54FQ5FHEFG': 877,\n",
       " 'BKPFXYYQHADBADMH': 878,\n",
       " 'BKPFXYYQTUSR8QCG': 879,\n",
       " 'BKPFY39CPZEVJDHP': 880,\n",
       " 'BKPFYH8QG85ZTSF7': 881,\n",
       " 'BKPFYTHVEPVB5GCH': 882,\n",
       " 'BKPFYTHVG2S3EMKU': 883,\n",
       " 'BKPFYZ6BBSG8VY9F': 884,\n",
       " 'BKPFZ757MV5E4FWP': 885,\n",
       " 'BKPFZ9ACTETCN4JZ': 886,\n",
       " 'BKPFZGCHEG8JZ8UK': 887,\n",
       " 'BKPFZHHBDPQZFWDR': 888,\n",
       " 'BKPG24XJTYBCB6FT': 889,\n",
       " 'BKPG3BBSGMD9S9MB': 890,\n",
       " 'BKPG3MF4H2YSSXHV': 891,\n",
       " 'BKPG5DDKPZJPHZWG': 892,\n",
       " 'BKPGF764YMNH4TGG': 893,\n",
       " 'BKPGFSABZFUMFPAJ': 894,\n",
       " 'BKPGFUMRXR2JPH8W': 895,\n",
       " 'BKPGY5QVGFGYGZVH': 896,\n",
       " 'BKPGY7KHPTQM3HSR': 897,\n",
       " 'BKPGY89AMZVJCQ7Z': 898,\n",
       " 'BKPGY8A9WQMFTAAA': 899,\n",
       " 'BKPGY8YKYXDVASXC': 900,\n",
       " 'BKPGYA36QHDCEF4R': 901,\n",
       " 'BKPGYGUEPWMQX25H': 902,\n",
       " 'BKPGYM9J6MCSGWBA': 903,\n",
       " 'BKPGYMC7DGVPH2BR': 904,\n",
       " 'BKPGYXJFFGJUTYVC': 905,\n",
       " 'BKPGYYWZPFJPDHJY': 906,\n",
       " 'BLAFC9MMHMNFYS67': 907,\n",
       " 'BLAFEYGRJNHBMJFU': 908,\n",
       " 'BLAFFJQ9JG74VTPB': 909,\n",
       " 'BLAFGCHPGKZQJHSB': 910,\n",
       " 'BLAFGDSG6JEKWHKH': 911,\n",
       " 'BLAFGDSGPVEHQBZA': 912,\n",
       " 'BLAFGDSGWFXYSAM4': 913,\n",
       " 'BLAFHAWEYHQAZNGZ': 914,\n",
       " 'BLAFJB25NRAGXKYQ': 915,\n",
       " 'BLAFJRTH4HZUYDFA': 916,\n",
       " 'BLAFMRMJTMMGJFDU': 917,\n",
       " 'BLAFNJ6HUFQPJTR5': 918,\n",
       " 'BLAFVYFJRSA4685H': 919,\n",
       " 'BLAFX2E5QNZFPMEA': 920,\n",
       " 'BLAFXHF6HCVJUUMF': 921,\n",
       " 'BLAFXHJW6FFXQCMF': 922,\n",
       " 'BLAFXMHJ44HJBX3N': 923,\n",
       " 'BLAFYMFVEHVBFXCY': 924,\n",
       " 'BLAFYUYNWGBBB4ND': 925,\n",
       " 'BLAFYUYNXNBQZ597': 926,\n",
       " 'BLAFZDG9R7HZZYGZ': 927,\n",
       " 'BLAG3ZAJZJKUTPYY': 928,\n",
       " 'BLAG4FJG2HVP9TJQ': 929,\n",
       " 'BLBEFYBHQFTHZYCG': 930,\n",
       " 'BLBEFYBHZFSEKZG8': 931,\n",
       " 'BLBEH3BH86ENTJ4G': 932,\n",
       " 'BLBEH3BHQWFP36B5': 933,\n",
       " 'BLBEJXZ9ZHMHYTQK': 934,\n",
       " 'BLBEZ6FFENDXJZGX': 935,\n",
       " 'BLBEZ6FFWZZZ8PXJ': 936,\n",
       " 'BLBFGMFME5ESCEF5': 937,\n",
       " 'BLBFGSYC8QNN5HBW': 938,\n",
       " 'BLBFZVGYZNGN2QTK': 939,\n",
       " 'BLBFZYGYG8GXX7QG': 940,\n",
       " 'BLBG22GGCZGRSYEY': 941,\n",
       " 'BLCFVVA4GNTBWVS3': 942,\n",
       " 'BLCFYHH3YYUC54ZE': 943,\n",
       " 'BLCG3YDMJV83W8GZ': 944,\n",
       " 'BLCG4HQQXHHAZSKC': 945,\n",
       " 'BLCGFNWCUGBADJYA': 946,\n",
       " 'BLNFFDUD23YQ2QWD': 947,\n",
       " 'BLNFGY3NTJEPPEEM': 948,\n",
       " 'BLNFKAK2NZYSHKTU': 949,\n",
       " 'BLNFUHZXWKYDTBMF': 950,\n",
       " 'BLNFW4FA93TAWHJZ': 951,\n",
       " 'BLNGF45PQQBDCGTD': 952,\n",
       " 'BLNGFW4FHKGNQEZC': 953,\n",
       " 'BLNGYTSRNAAQA4NT': 954,\n",
       " 'BLOFFVPFKQ3BY4BV': 955,\n",
       " 'BLOFGPQY9FHTUZHB': 956,\n",
       " 'BLOFH4VUCDAKDVGA': 957,\n",
       " 'BLOFYY2VHHPVHZFJ': 958,\n",
       " 'BLOGF2YKPFYZ9GHR': 959,\n",
       " 'BLOGY9WTRVHEEK4Y': 960,\n",
       " 'BLOGYDA2WQGKFJKW': 961,\n",
       " 'BLRFHM6M6CYQJ5B9': 962,\n",
       " 'BLUF7NVXKKRFZZNV': 963,\n",
       " 'BLUFM8GUFCP7FYSH': 964,\n",
       " 'BMBFMY5YCYP5GQUS': 965,\n",
       " 'BMDF2Y8XKYERCCAJ': 966,\n",
       " 'BMDFDMK74YPRDZG3': 967,\n",
       " 'BMDFFF3R8QQVAHK2': 968,\n",
       " 'BMDFWY9A5S5BRHZZ': 969,\n",
       " 'BMHFCCQKNZGUCQ4U': 970,\n",
       " 'BOAFMUEJHVA57GZG': 971,\n",
       " 'BOAFNHCEUKFZCF5U': 972,\n",
       " 'BOAG3PT2TU8A7EZK': 973,\n",
       " 'BOOF9P4ZSTNVHRSU': 974,\n",
       " 'BOOFKQ6UGPYSBHZ9': 975,\n",
       " 'BOOFNDNCW6BURCAA': 976,\n",
       " 'BOOFNZHZKYVAFH3Y': 977,\n",
       " 'BOOFUNSYFF8N2H2H': 978,\n",
       " 'BOOG4SJDTYNMKGGJ': 979,\n",
       " 'BOTDY4BDJ2MYTCRR': 980,\n",
       " 'BOTE6PUV4QWFGHQZ': 981,\n",
       " 'BOTE6PUVBZMBZFSG': 982,\n",
       " 'BOTE6PUVCHEFXTYC': 983,\n",
       " 'BOTE9XJ9YTTNM4YB': 984,\n",
       " 'BOTEEHXUFKNMHHUG': 985,\n",
       " 'BOTEKZH9BAHVBGNR': 986,\n",
       " 'BOTEU38MHCHE7JKY': 987,\n",
       " 'BOTEY7GP2KG7YQTG': 988,\n",
       " 'BOTF3UMVYYGVZTRN': 989,\n",
       " 'BOTF4ZRGYEE9PNRG': 990,\n",
       " 'BOTF54SMFDFKGXZV': 991,\n",
       " 'BOTF5DR6ECZJM4VC': 992,\n",
       " 'BOTF62AAYSDXEUNM': 993,\n",
       " 'BOTF6RXGDG3PZXFT': 994,\n",
       " 'BOTF72HE8EKG96GF': 995,\n",
       " 'BOTF7QC7BJCGBZP3': 996,\n",
       " 'BOTFAKVHZ8SQKAJP': 997,\n",
       " 'BOTFCSS9G9ZZHTXA': 998,\n",
       " 'BOTFCUUFNZ8ZGTFG': 999,\n",
       " ...}"
      ]
     },
     "execution_count": 58,
     "metadata": {},
     "output_type": "execute_result"
    }
   ],
   "source": [
    "product_dict"
   ]
  },
  {
   "cell_type": "markdown",
   "metadata": {},
   "source": [
    "### Node features and Edge list"
   ]
  },
  {
   "cell_type": "code",
   "execution_count": 59,
   "metadata": {},
   "outputs": [],
   "source": [
    "## Maps for edges and id encoding\n",
    "s=[]\n",
    "t=[]\n",
    "e_wt=[]\n",
    "edge_list = [[], []]\n",
    "\n",
    "# create empty features 2d array of size (total_nodes, feature dim)\n",
    "for index,row in df3.iterrows():\n",
    "    prod_feat_len = len(df3.iloc[index].drop(['product_id','account_id_enc','count']).to_numpy())\n",
    "    break\n",
    "    \n",
    "user_nodes = len(user_dict)\n",
    "prod_nodes = len(product_dict)\n",
    "prod_feat_len = 64\n",
    "user_feat_len = 64\n",
    "\n",
    "user_features = np.empty(shape=(user_nodes,prod_feat_len))\n",
    "prod_features = np.empty(shape=(prod_nodes,prod_feat_len))\n",
    "\n",
    "for index,row in df3.iterrows():\n",
    "    prod_id=row['product_id']\n",
    "    user_id=row['account_id_enc']\n",
    "    e_wt.append([float(row['count'])])\n",
    "    user_index = user_dict[user_id]\n",
    "    prod_index = product_dict[prod_id]\n",
    "\n",
    "    s.append(user_dict[user_id])\n",
    "    t.append(product_dict[prod_id])\n",
    "    edge_list[0].append(user_index)\n",
    "    edge_list[1].append(prod_index)\n",
    "\n",
    "    # node_features[prod_index] = ohe.iloc[index].drop(['product_id','account_id_enc','count']).to_numpy()\n",
    "    u=np.array([mean_rating[user_id], num_rating[user_id]])\n",
    "    padded_u = np.pad(u, (0, 62), mode='constant')\n",
    "    p = df3.iloc[index].drop(['product_id','account_id_enc','count']).to_numpy()\n",
    "    padded_p = np.pad(p, (0, 62), mode='constant')\n",
    "    # padded_u = u\n",
    "    user_features[user_index] = padded_u\n",
    "    prod_features[prod_index] = padded_p"
   ]
  },
  {
   "cell_type": "code",
   "execution_count": 60,
   "metadata": {},
   "outputs": [],
   "source": [
    "edge_list = torch.tensor(edge_list, dtype=int)"
   ]
  },
  {
   "cell_type": "code",
   "execution_count": 61,
   "metadata": {},
   "outputs": [
    {
     "data": {
      "text/plain": [
       "torch.Size([2, 10000])"
      ]
     },
     "execution_count": 61,
     "metadata": {},
     "output_type": "execute_result"
    }
   ],
   "source": [
    "edge_list.shape"
   ]
  },
  {
   "cell_type": "code",
   "execution_count": 62,
   "metadata": {},
   "outputs": [
    {
     "data": {
      "text/plain": [
       "torch.Size([10000, 1])"
      ]
     },
     "execution_count": 62,
     "metadata": {},
     "output_type": "execute_result"
    }
   ],
   "source": [
    "e_wt = torch.tensor(e_wt, dtype=float).to(torch.double)\n",
    "e_wt.shape"
   ]
  },
  {
   "cell_type": "code",
   "execution_count": 63,
   "metadata": {},
   "outputs": [
    {
     "data": {
      "text/plain": [
       "torch.Size([6630, 64])"
      ]
     },
     "execution_count": 63,
     "metadata": {},
     "output_type": "execute_result"
    }
   ],
   "source": [
    "prod_features = torch.tensor(prod_features, dtype=float, requires_grad=True).to(torch.double)\n",
    "prod_features.shape"
   ]
  },
  {
   "cell_type": "code",
   "execution_count": 64,
   "metadata": {},
   "outputs": [
    {
     "data": {
      "text/plain": [
       "torch.Size([349, 64])"
      ]
     },
     "execution_count": 64,
     "metadata": {},
     "output_type": "execute_result"
    }
   ],
   "source": [
    "user_features = torch.tensor(user_features, dtype=float, requires_grad=True).to(torch.double)\n",
    "user_features.shape"
   ]
  },
  {
   "cell_type": "code",
   "execution_count": 65,
   "metadata": {},
   "outputs": [
    {
     "name": "stdout",
     "output_type": "stream",
     "text": [
      "349\n",
      "6630\n"
     ]
    }
   ],
   "source": [
    "print(user_nodes)\n",
    "print(prod_nodes)"
   ]
  },
  {
   "cell_type": "code",
   "execution_count": 66,
   "metadata": {},
   "outputs": [
    {
     "data": {
      "text/plain": [
       "torch.Size([10000, 1])"
      ]
     },
     "execution_count": 66,
     "metadata": {},
     "output_type": "execute_result"
    }
   ],
   "source": [
    "e_wt.shape"
   ]
  },
  {
   "cell_type": "markdown",
   "metadata": {},
   "source": [
    "### PyG hetergenous Dataset"
   ]
  },
  {
   "cell_type": "code",
   "execution_count": 67,
   "metadata": {
    "colab": {
     "base_uri": "https://localhost:8080/"
    },
    "id": "I_63--974srt",
    "outputId": "93743385-48fc-4192-f970-af443d589afc"
   },
   "outputs": [
    {
     "name": "stdout",
     "output_type": "stream",
     "text": [
      "HeteroData(\n",
      "  user={\n",
      "    node_id=[349],\n",
      "    x=[349, 64],\n",
      "  },\n",
      "  product={\n",
      "    node_id=[6630],\n",
      "    x=[6630, 64],\n",
      "  },\n",
      "  (user, views, product)={\n",
      "    edge_index=[2, 10000],\n",
      "    edge_attr=[10000, 1],\n",
      "  },\n",
      "  (product, rev_views, user)={\n",
      "    edge_index=[2, 10000],\n",
      "    edge_attr=[10000, 1],\n",
      "  }\n",
      ")\n"
     ]
    },
    {
     "ename": "AssertionError",
     "evalue": "",
     "output_type": "error",
     "traceback": [
      "\u001b[0;31m---------------------------------------------------------------------------\u001b[0m",
      "\u001b[0;31mAssertionError\u001b[0m                            Traceback (most recent call last)",
      "Cell \u001b[0;32mIn[67], line 26\u001b[0m\n\u001b[1;32m     23\u001b[0m \u001b[38;5;28;01massert\u001b[39;00m data\u001b[38;5;241m.\u001b[39mnode_types \u001b[38;5;241m==\u001b[39m [\u001b[38;5;124m\"\u001b[39m\u001b[38;5;124muser\u001b[39m\u001b[38;5;124m\"\u001b[39m, \u001b[38;5;124m\"\u001b[39m\u001b[38;5;124mproduct\u001b[39m\u001b[38;5;124m\"\u001b[39m]\n\u001b[1;32m     24\u001b[0m \u001b[38;5;28;01massert\u001b[39;00m data\u001b[38;5;241m.\u001b[39medge_types \u001b[38;5;241m==\u001b[39m [(\u001b[38;5;124m\"\u001b[39m\u001b[38;5;124muser\u001b[39m\u001b[38;5;124m\"\u001b[39m, \u001b[38;5;124m\"\u001b[39m\u001b[38;5;124mviews\u001b[39m\u001b[38;5;124m\"\u001b[39m, \u001b[38;5;124m\"\u001b[39m\u001b[38;5;124mproduct\u001b[39m\u001b[38;5;124m\"\u001b[39m),\n\u001b[1;32m     25\u001b[0m                            (\u001b[38;5;124m\"\u001b[39m\u001b[38;5;124mproduct\u001b[39m\u001b[38;5;124m\"\u001b[39m, \u001b[38;5;124m\"\u001b[39m\u001b[38;5;124mrev_views\u001b[39m\u001b[38;5;124m\"\u001b[39m, \u001b[38;5;124m\"\u001b[39m\u001b[38;5;124muser\u001b[39m\u001b[38;5;124m\"\u001b[39m)]\n\u001b[0;32m---> 26\u001b[0m \u001b[38;5;28;01massert\u001b[39;00m data[\u001b[38;5;124m\"\u001b[39m\u001b[38;5;124muser\u001b[39m\u001b[38;5;124m\"\u001b[39m]\u001b[38;5;241m.\u001b[39mnum_nodes \u001b[38;5;241m==\u001b[39m \u001b[38;5;241m15\u001b[39m\n\u001b[1;32m     27\u001b[0m \u001b[38;5;28;01massert\u001b[39;00m data[\u001b[38;5;124m\"\u001b[39m\u001b[38;5;124muser\u001b[39m\u001b[38;5;124m\"\u001b[39m]\u001b[38;5;241m.\u001b[39mnum_features \u001b[38;5;241m==\u001b[39m \u001b[38;5;241m64\u001b[39m\n\u001b[1;32m     28\u001b[0m \u001b[38;5;28;01massert\u001b[39;00m data[\u001b[38;5;124m\"\u001b[39m\u001b[38;5;124mproduct\u001b[39m\u001b[38;5;124m\"\u001b[39m]\u001b[38;5;241m.\u001b[39mnum_nodes \u001b[38;5;241m==\u001b[39m \u001b[38;5;241m471\u001b[39m\n",
      "\u001b[0;31mAssertionError\u001b[0m: "
     ]
    }
   ],
   "source": [
    "from torch_geometric.data import HeteroData\n",
    "import torch_geometric.transforms as T\n",
    "\n",
    "data = HeteroData()\n",
    "\n",
    "# Save node indices:\n",
    "data[\"user\"].node_id = torch.arange(len(user_ids), dtype=int)\n",
    "data[\"product\"].node_id = torch.arange(len(product_ids), dtype=int)\n",
    "\n",
    "# Add the node features and edge indices:\n",
    "data[\"product\"].x = prod_features.to(torch.double)\n",
    "data[\"user\"].x = user_features.to(torch.double)\n",
    "data[\"user\", \"views\", \"product\"].edge_index = edge_list.to(torch.long)\n",
    "data[\"user\", \"views\", \"product\"].edge_attr = e_wt.to(torch.double)\n",
    "\n",
    "# We also need to make sure to add the reverse edges from movies to users\n",
    "# in order to let a GNN be able to pass messages in both directions.\n",
    "# We can leverage the `T.ToUndirected()` transform for this from PyG:\n",
    "data = T.ToUndirected()(data)\n",
    "\n",
    "print(data)\n",
    "\n",
    "assert data.node_types == [\"user\", \"product\"]\n",
    "assert data.edge_types == [(\"user\", \"views\", \"product\"),\n",
    "                           (\"product\", \"rev_views\", \"user\")]\n",
    "assert data[\"user\"].num_nodes == 15\n",
    "assert data[\"user\"].num_features == 64\n",
    "assert data[\"product\"].num_nodes == 471\n",
    "assert data[\"product\"].num_features == 64\n",
    "data[\"user\", \"views\", \"product\"].num_edge_features == 1\n",
    "assert data[\"user\", \"views\", \"product\"].num_edges == 500\n",
    "assert data[\"product\", \"rev_views\", \"user\"].num_edges == 500"
   ]
  },
  {
   "cell_type": "code",
   "execution_count": 68,
   "metadata": {},
   "outputs": [
    {
     "data": {
      "text/plain": [
       "1"
      ]
     },
     "execution_count": 68,
     "metadata": {},
     "output_type": "execute_result"
    }
   ],
   "source": [
    "data[\"user\", \"views\", \"product\"].num_edge_features"
   ]
  },
  {
   "cell_type": "markdown",
   "metadata": {
    "id": "2QGdkLAurBq9"
   },
   "source": [
    "## Defining Edge-level Training Splits\n",
    "\n",
    "Since our data is now ready-to-be-used, we can split the ratings of users into training, validation, and test splits.\n",
    "This is needed in order to ensure that we leak no information about edges used during evaluation into the training phase.\n",
    "For this, we make use of the [`transforms.RandomLinkSplit`](https://pytorch-geometric.readthedocs.io/en/latest/modules/transforms.html#torch_geometric.transforms.RandomLinkSplit) transformation from PyG.\n",
    "This transforms randomly divides the edges in the `(\"user\", \"rates\", \"movie\")` into training, validation and test edges.\n",
    "The `disjoint_train_ratio` parameter further separates edges in the training split into edges used for message passing (`edge_index`) and edges used for supervision (`edge_label_index`).\n",
    "Note that we also need to specify the reverse edge type `(\"movie\", \"rev_rates\", \"user\")`.\n",
    "This allows the `RandomLinkSplit` transform to drop reverse edges accordingly to not leak any information into the training phase."
   ]
  },
  {
   "cell_type": "code",
   "execution_count": 69,
   "metadata": {
    "colab": {
     "base_uri": "https://localhost:8080/"
    },
    "id": "rwgNwoa26Eja",
    "outputId": "77471a87-6b54-4d38-c19a-43afcc26f2b7"
   },
   "outputs": [
    {
     "name": "stdout",
     "output_type": "stream",
     "text": [
      "Training data:\n",
      "==============\n",
      "HeteroData(\n",
      "  user={\n",
      "    node_id=[349],\n",
      "    x=[349, 64],\n",
      "  },\n",
      "  product={\n",
      "    node_id=[6630],\n",
      "    x=[6630, 64],\n",
      "  },\n",
      "  (user, views, product)={\n",
      "    edge_index=[2, 5600],\n",
      "    edge_attr=[5600, 1],\n",
      "    edge_label=[2400],\n",
      "    edge_label_index=[2, 2400],\n",
      "  },\n",
      "  (product, rev_views, user)={\n",
      "    edge_index=[2, 5600],\n",
      "    edge_attr=[5600, 1],\n",
      "  }\n",
      ")\n",
      "\n",
      "Validation data:\n",
      "================\n",
      "HeteroData(\n",
      "  user={\n",
      "    node_id=[349],\n",
      "    x=[349, 64],\n",
      "  },\n",
      "  product={\n",
      "    node_id=[6630],\n",
      "    x=[6630, 64],\n",
      "  },\n",
      "  (user, views, product)={\n",
      "    edge_index=[2, 8000],\n",
      "    edge_attr=[8000, 1],\n",
      "    edge_label=[3000],\n",
      "    edge_label_index=[2, 3000],\n",
      "  },\n",
      "  (product, rev_views, user)={\n",
      "    edge_index=[2, 8000],\n",
      "    edge_attr=[8000, 1],\n",
      "  }\n",
      ")\n"
     ]
    },
    {
     "ename": "AssertionError",
     "evalue": "",
     "output_type": "error",
     "traceback": [
      "\u001b[0;31m---------------------------------------------------------------------------\u001b[0m",
      "\u001b[0;31mAssertionError\u001b[0m                            Traceback (most recent call last)",
      "Cell \u001b[0;32mIn[69], line 27\u001b[0m\n\u001b[1;32m     24\u001b[0m \u001b[38;5;28mprint\u001b[39m(\u001b[38;5;124m\"\u001b[39m\u001b[38;5;124m================\u001b[39m\u001b[38;5;124m\"\u001b[39m)\n\u001b[1;32m     25\u001b[0m \u001b[38;5;28mprint\u001b[39m(val_data)\n\u001b[0;32m---> 27\u001b[0m \u001b[38;5;28;01massert\u001b[39;00m train_data[\u001b[38;5;124m\"\u001b[39m\u001b[38;5;124muser\u001b[39m\u001b[38;5;124m\"\u001b[39m, \u001b[38;5;124m\"\u001b[39m\u001b[38;5;124mviews\u001b[39m\u001b[38;5;124m\"\u001b[39m, \u001b[38;5;124m\"\u001b[39m\u001b[38;5;124mproduct\u001b[39m\u001b[38;5;124m\"\u001b[39m]\u001b[38;5;241m.\u001b[39mnum_edges \u001b[38;5;241m==\u001b[39m \u001b[38;5;241m56469\u001b[39m\n\u001b[1;32m     28\u001b[0m \u001b[38;5;28;01massert\u001b[39;00m train_data[\u001b[38;5;124m\"\u001b[39m\u001b[38;5;124muser\u001b[39m\u001b[38;5;124m\"\u001b[39m, \u001b[38;5;124m\"\u001b[39m\u001b[38;5;124mviews\u001b[39m\u001b[38;5;124m\"\u001b[39m, \u001b[38;5;124m\"\u001b[39m\u001b[38;5;124mproduct\u001b[39m\u001b[38;5;124m\"\u001b[39m]\u001b[38;5;241m.\u001b[39medge_label_index\u001b[38;5;241m.\u001b[39msize(\u001b[38;5;241m1\u001b[39m) \u001b[38;5;241m==\u001b[39m \u001b[38;5;241m24201\u001b[39m\n\u001b[1;32m     29\u001b[0m \u001b[38;5;28;01massert\u001b[39;00m train_data[\u001b[38;5;124m\"\u001b[39m\u001b[38;5;124mproduct\u001b[39m\u001b[38;5;124m\"\u001b[39m, \u001b[38;5;124m\"\u001b[39m\u001b[38;5;124mrev_views\u001b[39m\u001b[38;5;124m\"\u001b[39m, \u001b[38;5;124m\"\u001b[39m\u001b[38;5;124muser\u001b[39m\u001b[38;5;124m\"\u001b[39m]\u001b[38;5;241m.\u001b[39mnum_edges \u001b[38;5;241m==\u001b[39m \u001b[38;5;241m56469\u001b[39m\n",
      "\u001b[0;31mAssertionError\u001b[0m: "
     ]
    }
   ],
   "source": [
    "# For this, we first split the set of edges into\n",
    "# training (80%), validation (10%), and testing edges (10%).\n",
    "# Across the training edges, we use 70% of edges for message passing,\n",
    "# and 30% of edges for supervision.\n",
    "# We further want to generate fixed negative edges for evaluation with a ratio of 2:1.\n",
    "# Negative edges during training will be generated on-the-fly.\n",
    "# We can leverage the `RandomLinkSplit()` transform for this from PyG:\n",
    "transform = T.RandomLinkSplit(\n",
    "    num_val=0.1,\n",
    "    num_test=0.1,\n",
    "    disjoint_train_ratio=0.3,\n",
    "    neg_sampling_ratio=2.0,\n",
    "    add_negative_train_samples=False,\n",
    "    edge_types=(\"user\", \"views\", \"product\"),\n",
    "    rev_edge_types=(\"product\", \"rev_views\", \"user\"),\n",
    ")\n",
    "\n",
    "train_data, val_data, test_data = transform(data)\n",
    "print(\"Training data:\")\n",
    "print(\"==============\")\n",
    "print(train_data)\n",
    "print()\n",
    "print(\"Validation data:\")\n",
    "print(\"================\")\n",
    "print(val_data)\n",
    "\n",
    "assert train_data[\"user\", \"views\", \"product\"].num_edges == 56469\n",
    "assert train_data[\"user\", \"views\", \"product\"].edge_label_index.size(1) == 24201\n",
    "assert train_data[\"product\", \"rev_views\", \"user\"].num_edges == 56469\n",
    "# No negative edges added:\n",
    "assert train_data[\"user\", \"views\", \"product\"].edge_label.min() == 1\n",
    "assert train_data[\"user\", \"views\", \"product\"].edge_label.max() == 1\n",
    "\n",
    "assert val_data[\"user\", \"views\", \"product\"].num_edges == 80670\n",
    "assert val_data[\"user\", \"views\", \"product\"].edge_label_index.size(1) == 30249\n",
    "assert val_data[\"product\", \"rev_views\", \"user\"].num_edges == 80670\n",
    "# Negative edges with ratio 2:1:\n",
    "assert val_data[\"user\", \"views\", \"proudct\"].edge_label.long().bincount().tolist() == [20166, 10083]"
   ]
  },
  {
   "cell_type": "markdown",
   "metadata": {
    "id": "prKLwq6RsYoh"
   },
   "source": [
    "## Defining Mini-batch Loaders\n",
    "\n",
    "We are now ready to create a mini-batch loader that will generate subgraphs that can be used as input into our GNN.\n",
    "While this step is not strictly necessary for small-scale graphs, it is absolutely necessary to apply GNNs on larger graphs that do not fit onto GPU memory otherwise.\n",
    "Here, we make use of the [`loader.LinkNeighborLoader`](https://pytorch-geometric.readthedocs.io/en/latest/modules/loader.html#torch_geometric.loader.LinkNeighborLoader) which samples multiple hops from both ends of a link and creates a subgraph from it.\n",
    "Here, `edge_label_index` serves as the \"seed links\" to start sampling from."
   ]
  },
  {
   "cell_type": "code",
   "execution_count": 70,
   "metadata": {},
   "outputs": [
    {
     "data": {
      "text/plain": [
       "torch.Size([2400])"
      ]
     },
     "execution_count": 70,
     "metadata": {},
     "output_type": "execute_result"
    }
   ],
   "source": [
    "(train_data[\"user\", \"views\", \"product\"].edge_label.shape)"
   ]
  },
  {
   "cell_type": "code",
   "execution_count": 71,
   "metadata": {
    "colab": {
     "base_uri": "https://localhost:8080/"
    },
    "id": "Ogh615ka9I2c",
    "outputId": "522f070e-02f1-4d4f-f2e0-89d1dceea3ff"
   },
   "outputs": [
    {
     "name": "stdout",
     "output_type": "stream",
     "text": [
      "Sampled mini-batch:\n",
      "===================\n",
      "HeteroData(\n",
      "  user={\n",
      "    node_id=[247],\n",
      "    x=[247, 64],\n",
      "    n_id=[247],\n",
      "  },\n",
      "  product={\n",
      "    node_id=[1330],\n",
      "    x=[1330, 64],\n",
      "    n_id=[1330],\n",
      "  },\n",
      "  (user, views, product)={\n",
      "    edge_index=[2, 1873],\n",
      "    edge_attr=[1873, 1],\n",
      "    edge_label=[96],\n",
      "    edge_label_index=[2, 96],\n",
      "    e_id=[1873],\n",
      "    input_id=[32],\n",
      "  },\n",
      "  (product, rev_views, user)={\n",
      "    edge_index=[2, 1458],\n",
      "    edge_attr=[1458, 1],\n",
      "    e_id=[1458],\n",
      "  }\n",
      ")\n"
     ]
    },
    {
     "ename": "AssertionError",
     "evalue": "",
     "output_type": "error",
     "traceback": [
      "\u001b[0;31m---------------------------------------------------------------------------\u001b[0m",
      "\u001b[0;31mAssertionError\u001b[0m                            Traceback (most recent call last)",
      "Cell \u001b[0;32mIn[71], line 31\u001b[0m\n\u001b[1;32m     28\u001b[0m \u001b[38;5;28mprint\u001b[39m(\u001b[38;5;124m\"\u001b[39m\u001b[38;5;124m===================\u001b[39m\u001b[38;5;124m\"\u001b[39m)\n\u001b[1;32m     29\u001b[0m \u001b[38;5;28mprint\u001b[39m(sampled_data)\n\u001b[0;32m---> 31\u001b[0m \u001b[38;5;28;01massert\u001b[39;00m sampled_data[\u001b[38;5;124m\"\u001b[39m\u001b[38;5;124muser\u001b[39m\u001b[38;5;124m\"\u001b[39m, \u001b[38;5;124m\"\u001b[39m\u001b[38;5;124mviews\u001b[39m\u001b[38;5;124m\"\u001b[39m, \u001b[38;5;124m\"\u001b[39m\u001b[38;5;124mproduct\u001b[39m\u001b[38;5;124m\"\u001b[39m]\u001b[38;5;241m.\u001b[39medge_label_index\u001b[38;5;241m.\u001b[39msize(\u001b[38;5;241m1\u001b[39m) \u001b[38;5;241m==\u001b[39m \u001b[38;5;241m3\u001b[39m \u001b[38;5;241m*\u001b[39m \u001b[38;5;241m128\u001b[39m\n\u001b[1;32m     32\u001b[0m \u001b[38;5;28;01massert\u001b[39;00m sampled_data[\u001b[38;5;124m\"\u001b[39m\u001b[38;5;124muser\u001b[39m\u001b[38;5;124m\"\u001b[39m, \u001b[38;5;124m\"\u001b[39m\u001b[38;5;124mviews\u001b[39m\u001b[38;5;124m\"\u001b[39m, \u001b[38;5;124m\"\u001b[39m\u001b[38;5;124mproduct\u001b[39m\u001b[38;5;124m\"\u001b[39m]\u001b[38;5;241m.\u001b[39medge_label\u001b[38;5;241m.\u001b[39mmin() \u001b[38;5;241m==\u001b[39m \u001b[38;5;241m0\u001b[39m\n\u001b[1;32m     33\u001b[0m \u001b[38;5;28;01massert\u001b[39;00m sampled_data[\u001b[38;5;124m\"\u001b[39m\u001b[38;5;124muser\u001b[39m\u001b[38;5;124m\"\u001b[39m, \u001b[38;5;124m\"\u001b[39m\u001b[38;5;124mviews\u001b[39m\u001b[38;5;124m\"\u001b[39m, \u001b[38;5;124m\"\u001b[39m\u001b[38;5;124mproduct\u001b[39m\u001b[38;5;124m\"\u001b[39m]\u001b[38;5;241m.\u001b[39medge_label\u001b[38;5;241m.\u001b[39mmax() \u001b[38;5;241m==\u001b[39m \u001b[38;5;241m1\u001b[39m\n",
      "\u001b[0;31mAssertionError\u001b[0m: "
     ]
    }
   ],
   "source": [
    "# In the first hop, we sample at most 20 neighbors.\n",
    "# In the second hop, we sample at most 10 neighbors.\n",
    "# In addition, during training, we want to sample negative edges on-the-fly with\n",
    "# a ratio of 2:1.\n",
    "# We can make use of the `loader.LinkNeighborLoader` from PyG:\n",
    "from torch_geometric.loader import LinkNeighborLoader\n",
    "\n",
    "# Define seed edges:\n",
    "edge_label_index = train_data[\"user\", \"views\", \"product\"].edge_label_index\n",
    "edge_label = train_data[\"user\", \"views\", \"product\"].edge_label\n",
    "edge_attr = train_data[\"user\", \"views\", \"product\"].edge_attr\n",
    "\n",
    "train_loader = LinkNeighborLoader(\n",
    "    data=train_data,\n",
    "    num_neighbors=[20, 10],\n",
    "    neg_sampling_ratio=2.0,\n",
    "    edge_label_index=((\"user\", \"views\", \"product\"), edge_label_index),\n",
    "    edge_label=edge_label,\n",
    "    # weight_attr=edge_attr,\n",
    "    batch_size=32,\n",
    "    shuffle=True,\n",
    ")\n",
    "\n",
    "# Inspect a sample:\n",
    "sampled_data = next(iter(train_loader))\n",
    "\n",
    "print(\"Sampled mini-batch:\")\n",
    "print(\"===================\")\n",
    "print(sampled_data)\n",
    "\n",
    "assert sampled_data[\"user\", \"views\", \"product\"].edge_label_index.size(1) == 3 * 128\n",
    "assert sampled_data[\"user\", \"views\", \"product\"].edge_label.min() == 0\n",
    "assert sampled_data[\"user\", \"views\", \"product\"].edge_label.max() == 1"
   ]
  },
  {
   "cell_type": "markdown",
   "metadata": {
    "id": "uj7biOtatAmG"
   },
   "source": [
    "## Creating a Heterogeneous Link-level GNN\n",
    "\n",
    "We are now ready to create our heterogeneous GNN.\n",
    "The GNN is responsible for learning enriched node representations from the surrounding subgraphs, which can be then used to derive edge-level predictions.\n",
    "For defining our heterogenous GNN, we make use of [`nn.SAGEConv`](https://pytorch-geometric.readthedocs.io/en/latest/modules/nn.html#torch_geometric.nn.conv.SAGEConv) and the [`nn.to_hetero()`](https://pytorch-geometric.readthedocs.io/en/latest/modules/nn.html#torch_geometric.nn.to_hetero_transformer.to_hetero) function, which transforms a GNN defined on homogeneous graphs to be applied on heterogeneous ones.\n",
    "\n",
    "In addition, we define a final link-level classifier, which simply takes both node embeddings of the link we are trying to predict, and applies a dot-product on them.\n",
    "\n",
    "As users do not have any node-level information, we choose to learn their features jointly via a `torch.nn.Embedding` layer. In order to improve the expressiveness of movie features, we do the same for movie nodes, and simply add their shallow embeddings to the pre-defined genre features."
   ]
  },
  {
   "cell_type": "code",
   "execution_count": 72,
   "metadata": {
    "colab": {
     "base_uri": "https://localhost:8080/"
    },
    "id": "ebsFf-Pr_4LF",
    "outputId": "f6374886-f956-47b7-a978-6627725cbbfa"
   },
   "outputs": [],
   "source": [
    "# from torch_geometric.nn import SAGEConv, to_hetero\n",
    "# import torch.nn.functional as F\n",
    "\n",
    "# class GNN(torch.nn.Module):\n",
    "#     def __init__(self, hidden_channels):\n",
    "#         super().__init__()\n",
    "\n",
    "#         self.conv1 = SAGEConv(hidden_channels, hidden_channels)\n",
    "#         self.conv2 = SAGEConv(hidden_channels, hidden_channels)\n",
    "\n",
    "#     def forward(self, x: Tensor, edge_index: Tensor) -> Tensor:\n",
    "#         x = F.relu(self.conv1(x, edge_index))\n",
    "#         x = self.conv2(x, edge_index)\n",
    "#         return x\n",
    "\n",
    "# # Our final classifier applies the dot-product between source and destination\n",
    "# # node embeddings to derive edge-level predictions:\n",
    "# class Classifier(torch.nn.Module):\n",
    "#     def forward(self, x_user: Tensor, x_product: Tensor, edge_label_index: Tensor) -> Tensor:\n",
    "#         # Convert node embeddings to edge-level representations:\n",
    "#         edge_feat_user = x_user[edge_label_index[0]]\n",
    "#         edge_feat_prod = x_product[edge_label_index[1]]\n",
    "\n",
    "#         # Apply dot-product to get a prediction per supervision edge:\n",
    "#         return (edge_feat_user * edge_feat_prod).sum(dim=-1)\n",
    "\n",
    "\n",
    "# class Model(torch.nn.Module):\n",
    "#     def __init__(self, hidden_channels):\n",
    "#         super().__init__()\n",
    "#         # Since the dataset does not come with rich features, we also learn two\n",
    "#         # embedding matrices for users and movies:\n",
    "#         self.prod_lin = torch.nn.Linear(prod_feat_len, hidden_channels)\n",
    "#         self.user_lin = torch.nn.Linear(user_feat_len, hidden_channels)\n",
    "#         self.user_emb = torch.nn.Embedding(data[\"user\"].num_nodes, hidden_channels)\n",
    "#         self.prod_emb = torch.nn.Embedding(data[\"product\"].num_nodes, hidden_channels)\n",
    "\n",
    "#         # Instantiate homogeneous GNN:\n",
    "#         self.gnn = GNN(hidden_channels)\n",
    "\n",
    "#         # Convert GNN model into a heterogeneous variant:\n",
    "#         self.gnn = to_hetero(self.gnn, metadata=data.metadata())\n",
    "\n",
    "#         self.classifier = Classifier()\n",
    "\n",
    "#     def forward(self, data: HeteroData) -> Tensor:\n",
    "#         x_dict = {\n",
    "#           \"user\": self.user_lin(data[\"user\"].x) + self.user_emb(data[\"user\"].node_id.to(torch.long)),\n",
    "#           \"product\": self.prod_lin(data[\"product\"].x) + self.prod_emb(data[\"product\"].node_id.to(torch.long)),\n",
    "#         }\n",
    "#         emb = x_dict\n",
    "\n",
    "#         # `x_dict` holds feature matrices of all node types\n",
    "#         # `edge_index_dict` holds all edge indices of all edge types\n",
    "#         x_dict_new = self.gnn(x_dict, data.edge_index_dict)\n",
    "#         pred = self.classifier(\n",
    "#             x_dict_new[\"user\"],\n",
    "#             x_dict_new[\"product\"],\n",
    "#             data[\"user\", \"views\", \"product\"].edge_label_index,\n",
    "#         )\n",
    "\n",
    "#         return pred, emb\n",
    "\n",
    "\n",
    "# model = Model(hidden_channels=128)\n",
    "\n",
    "# print(model)"
   ]
  },
  {
   "cell_type": "code",
   "execution_count": 73,
   "metadata": {},
   "outputs": [
    {
     "name": "stdout",
     "output_type": "stream",
     "text": [
      "\u001b[33mDEPRECATION: Loading egg at /Library/Frameworks/Python.framework/Versions/3.11/lib/python3.11/site-packages/gae-0.0.1-py3.11.egg is deprecated. pip 23.3 will enforce this behaviour change. A possible replacement is to use pip for package installation..\u001b[0m\u001b[33m\n",
      "\u001b[0mRequirement already satisfied: torch-geometric in /Library/Frameworks/Python.framework/Versions/3.11/lib/python3.11/site-packages (2.4.0)\n",
      "Requirement already satisfied: tqdm in /Library/Frameworks/Python.framework/Versions/3.11/lib/python3.11/site-packages (from torch-geometric) (4.66.1)\n",
      "Requirement already satisfied: numpy in /Library/Frameworks/Python.framework/Versions/3.11/lib/python3.11/site-packages (from torch-geometric) (1.24.3)\n",
      "Requirement already satisfied: scipy in /Library/Frameworks/Python.framework/Versions/3.11/lib/python3.11/site-packages (from torch-geometric) (1.11.2)\n",
      "Requirement already satisfied: jinja2 in /Library/Frameworks/Python.framework/Versions/3.11/lib/python3.11/site-packages (from torch-geometric) (3.1.2)\n",
      "Requirement already satisfied: requests in /Library/Frameworks/Python.framework/Versions/3.11/lib/python3.11/site-packages (from torch-geometric) (2.31.0)\n",
      "Requirement already satisfied: pyparsing in /Library/Frameworks/Python.framework/Versions/3.11/lib/python3.11/site-packages (from torch-geometric) (3.1.1)\n",
      "Requirement already satisfied: scikit-learn in /Library/Frameworks/Python.framework/Versions/3.11/lib/python3.11/site-packages (from torch-geometric) (1.3.1)\n",
      "Requirement already satisfied: psutil>=5.8.0 in /Library/Frameworks/Python.framework/Versions/3.11/lib/python3.11/site-packages (from torch-geometric) (5.9.5)\n",
      "Requirement already satisfied: MarkupSafe>=2.0 in /Library/Frameworks/Python.framework/Versions/3.11/lib/python3.11/site-packages (from jinja2->torch-geometric) (2.1.3)\n",
      "Requirement already satisfied: charset-normalizer<4,>=2 in /Library/Frameworks/Python.framework/Versions/3.11/lib/python3.11/site-packages (from requests->torch-geometric) (3.2.0)\n",
      "Requirement already satisfied: idna<4,>=2.5 in /Library/Frameworks/Python.framework/Versions/3.11/lib/python3.11/site-packages (from requests->torch-geometric) (3.4)\n",
      "Requirement already satisfied: urllib3<3,>=1.21.1 in /Library/Frameworks/Python.framework/Versions/3.11/lib/python3.11/site-packages (from requests->torch-geometric) (1.26.16)\n",
      "Requirement already satisfied: certifi>=2017.4.17 in /Library/Frameworks/Python.framework/Versions/3.11/lib/python3.11/site-packages (from requests->torch-geometric) (2023.7.22)\n",
      "Requirement already satisfied: joblib>=1.1.1 in /Library/Frameworks/Python.framework/Versions/3.11/lib/python3.11/site-packages (from scikit-learn->torch-geometric) (1.3.2)\n",
      "Requirement already satisfied: threadpoolctl>=2.0.0 in /Library/Frameworks/Python.framework/Versions/3.11/lib/python3.11/site-packages (from scikit-learn->torch-geometric) (3.2.0)\n"
     ]
    }
   ],
   "source": [
    "!pip3 install --upgrade torch-geometric"
   ]
  },
  {
   "cell_type": "code",
   "execution_count": 74,
   "metadata": {},
   "outputs": [
    {
     "name": "stdout",
     "output_type": "stream",
     "text": [
      "Model(\n",
      "  (prod_lin): Linear(in_features=64, out_features=128, bias=True)\n",
      "  (user_lin): Linear(in_features=64, out_features=128, bias=True)\n",
      "  (user_emb): Embedding(349, 128)\n",
      "  (prod_emb): Embedding(6630, 128)\n",
      "  (gnn): GraphModule(\n",
      "    (conv1): ModuleDict(\n",
      "      (user__views__product): GATConv(128, 128, heads=1)\n",
      "      (product__rev_views__user): GATConv(128, 128, heads=1)\n",
      "    )\n",
      "    (conv2): ModuleDict(\n",
      "      (user__views__product): GATConv(128, 128, heads=1)\n",
      "      (product__rev_views__user): GATConv(128, 128, heads=1)\n",
      "    )\n",
      "  )\n",
      "  (classifier): Classifier()\n",
      ")\n"
     ]
    }
   ],
   "source": [
    "from torch_geometric.nn import SAGEConv, to_hetero, GATConv\n",
    "import torch.nn.functional as F\n",
    "\n",
    "NUM_EDGE_FEATURES=1\n",
    "\n",
    "class GNN(torch.nn.Module):\n",
    "    def __init__(self, hidden_channels):\n",
    "        super().__init__()\n",
    "\n",
    "        self.conv1 = GATConv(hidden_channels, hidden_channels, edge_dim = NUM_EDGE_FEATURES, add_self_loops=False).to(torch.double)\n",
    "        self.conv2 = GATConv(hidden_channels, hidden_channels, edge_dim = NUM_EDGE_FEATURES, add_self_loops=False).to(torch.double)\n",
    "\n",
    "    def forward(self, x: Tensor, edge_index: Tensor, edge_attr: Tensor) -> Tensor:\n",
    "        x = F.relu(self.conv1(x, edge_index, edge_attr=edge_attr)).to(torch.double)\n",
    "        x = self.conv2(x, edge_index, edge_attr=edge_attr).to(torch.double)\n",
    "        return x\n",
    "\n",
    "# Our final classifier applies the dot-product between source and destination\n",
    "# node embeddings to derive edge-level predictions:\n",
    "class Classifier(torch.nn.Module):\n",
    "    def forward(self, x_user: Tensor, x_product: Tensor, edge_label_index: Tensor) -> Tensor:\n",
    "        # Convert node embeddings to edge-level representations:\n",
    "        edge_feat_user = x_user[edge_label_index[0]].to(torch.double)\n",
    "        edge_feat_prod = x_product[edge_label_index[1]].to(torch.double)\n",
    "\n",
    "        # Apply dot-product to get a prediction per supervision edge:\n",
    "        return (edge_feat_user * edge_feat_prod).sum(dim=-1).to(torch.double)\n",
    "\n",
    "\n",
    "class Model(torch.nn.Module):\n",
    "    def __init__(self, hidden_channels):\n",
    "        super().__init__()\n",
    "        # Learn two embedding matrices for users and products:\n",
    "        self.prod_lin = torch.nn.Linear(prod_feat_len, hidden_channels).to(torch.double)\n",
    "        self.user_lin = torch.nn.Linear(user_feat_len, hidden_channels).to(torch.double)\n",
    "        self.user_emb = torch.nn.Embedding(data[\"user\"].num_nodes, hidden_channels).to(torch.double)\n",
    "        self.prod_emb = torch.nn.Embedding(data[\"product\"].num_nodes, hidden_channels).to(torch.double)\n",
    "\n",
    "        # Instantiate homogeneous GNN:\n",
    "        self.gnn = GNN(hidden_channels).to(torch.double)\n",
    "\n",
    "        # Convert GNN model into a heterogeneous variant:\n",
    "        self.gnn = to_hetero(self.gnn, metadata=data.metadata()).to(torch.double)\n",
    "\n",
    "        self.classifier = Classifier().to(torch.double)\n",
    "\n",
    "    def forward(self, data: HeteroData) -> Tensor:\n",
    "        x_dict = {\n",
    "          \"user\": self.user_lin(data[\"user\"].x) + self.user_emb(data[\"user\"].node_id.to(torch.long)),\n",
    "          \"product\": self.prod_lin(data[\"product\"].x) + self.prod_emb(data[\"product\"].node_id.to(torch.long)),\n",
    "        }\n",
    "        emb = x_dict\n",
    "\n",
    "        x_dict['user']=x_dict['user'].to(torch.double)\n",
    "        x_dict['product']=x_dict['product'].to(torch.double)\n",
    "        \n",
    "        # `x_dict` holds feature matrices of all node types\n",
    "        # `edge_index_dict` holds all edge indices of all edge types\n",
    "        x_dict_new = self.gnn(x_dict, data.edge_index_dict, data.edge_attr_dict)\n",
    "        pred = self.classifier(\n",
    "            x_dict_new[\"user\"],\n",
    "            x_dict_new[\"product\"],\n",
    "            data[\"user\", \"views\", \"product\"].edge_label_index,\n",
    "        )\n",
    "\n",
    "        return pred, emb\n",
    "\n",
    "\n",
    "model = Model(hidden_channels=128)\n",
    "print(model)"
   ]
  },
  {
   "cell_type": "markdown",
   "metadata": {
    "id": "05dfew-WuWHN"
   },
   "source": [
    "## Training a Heterogeneous Link-level GNN\n",
    "\n",
    "Training our GNN is then similar to training any PyTorch model.\n",
    "We move the model to the desired device, and initialize an optimizer that takes care of adjusting model parameters via stochastic gradient descent.\n",
    "\n",
    "The training loop then iterates over our mini-batches, applies the forward computation of the model, computes the loss from ground-truth labels and obtained predictions (here we make use of binary cross entropy), and adjusts model parameters via back-propagation and stochastic gradient descent."
   ]
  },
  {
   "cell_type": "code",
   "execution_count": 75,
   "metadata": {},
   "outputs": [],
   "source": [
    "from torch_geometric.utils import remove_self_loops\n",
    "data[\"user\", \"views\", \"product\"].edge_index, _ = remove_self_loops(data[\"user\", \"views\", \"product\"].edge_index)\n",
    "data[\"product\", \"rev_views\", \"user\"].edge_index, _ = remove_self_loops(data[\"product\", \"rev_views\", \"user\"].edge_index)"
   ]
  },
  {
   "cell_type": "code",
   "execution_count": 76,
   "metadata": {
    "colab": {
     "base_uri": "https://localhost:8080/"
    },
    "id": "OqLuXEcrAMru",
    "outputId": "319eee17-7ef0-4359-8158-a4cec614a939"
   },
   "outputs": [
    {
     "name": "stdout",
     "output_type": "stream",
     "text": [
      "Device: 'cpu'\n"
     ]
    },
    {
     "name": "stderr",
     "output_type": "stream",
     "text": [
      "100%|████████████████████████████████████████████████████████████████████████████████████| 75/75 [00:02<00:00, 29.51it/s]\n"
     ]
    },
    {
     "name": "stdout",
     "output_type": "stream",
     "text": [
      "Epoch: 001, Loss: 94.0072\n"
     ]
    },
    {
     "name": "stderr",
     "output_type": "stream",
     "text": [
      "100%|████████████████████████████████████████████████████████████████████████████████████| 75/75 [00:02<00:00, 29.02it/s]\n"
     ]
    },
    {
     "name": "stdout",
     "output_type": "stream",
     "text": [
      "Epoch: 002, Loss: 1.4247\n"
     ]
    },
    {
     "name": "stderr",
     "output_type": "stream",
     "text": [
      "100%|████████████████████████████████████████████████████████████████████████████████████| 75/75 [00:02<00:00, 29.04it/s]\n"
     ]
    },
    {
     "name": "stdout",
     "output_type": "stream",
     "text": [
      "Epoch: 003, Loss: 1.2725\n"
     ]
    },
    {
     "name": "stderr",
     "output_type": "stream",
     "text": [
      "100%|████████████████████████████████████████████████████████████████████████████████████| 75/75 [00:02<00:00, 28.41it/s]\n"
     ]
    },
    {
     "name": "stdout",
     "output_type": "stream",
     "text": [
      "Epoch: 004, Loss: 1.3860\n"
     ]
    },
    {
     "name": "stderr",
     "output_type": "stream",
     "text": [
      "100%|████████████████████████████████████████████████████████████████████████████████████| 75/75 [00:02<00:00, 27.66it/s]\n"
     ]
    },
    {
     "name": "stdout",
     "output_type": "stream",
     "text": [
      "Epoch: 005, Loss: 1.2750\n"
     ]
    },
    {
     "name": "stderr",
     "output_type": "stream",
     "text": [
      "100%|████████████████████████████████████████████████████████████████████████████████████| 75/75 [00:02<00:00, 28.38it/s]\n"
     ]
    },
    {
     "name": "stdout",
     "output_type": "stream",
     "text": [
      "Epoch: 006, Loss: 1.2406\n"
     ]
    },
    {
     "name": "stderr",
     "output_type": "stream",
     "text": [
      "100%|████████████████████████████████████████████████████████████████████████████████████| 75/75 [00:02<00:00, 27.77it/s]\n"
     ]
    },
    {
     "name": "stdout",
     "output_type": "stream",
     "text": [
      "Epoch: 007, Loss: 1.0569\n"
     ]
    },
    {
     "name": "stderr",
     "output_type": "stream",
     "text": [
      "100%|████████████████████████████████████████████████████████████████████████████████████| 75/75 [00:02<00:00, 27.25it/s]\n"
     ]
    },
    {
     "name": "stdout",
     "output_type": "stream",
     "text": [
      "Epoch: 008, Loss: 1.3810\n"
     ]
    },
    {
     "name": "stderr",
     "output_type": "stream",
     "text": [
      "100%|████████████████████████████████████████████████████████████████████████████████████| 75/75 [00:02<00:00, 26.94it/s]\n"
     ]
    },
    {
     "name": "stdout",
     "output_type": "stream",
     "text": [
      "Epoch: 009, Loss: 0.9393\n"
     ]
    },
    {
     "name": "stderr",
     "output_type": "stream",
     "text": [
      "100%|████████████████████████████████████████████████████████████████████████████████████| 75/75 [00:02<00:00, 26.44it/s]\n"
     ]
    },
    {
     "name": "stdout",
     "output_type": "stream",
     "text": [
      "Epoch: 010, Loss: 1.0762\n"
     ]
    },
    {
     "name": "stderr",
     "output_type": "stream",
     "text": [
      "100%|████████████████████████████████████████████████████████████████████████████████████| 75/75 [00:02<00:00, 28.08it/s]\n"
     ]
    },
    {
     "name": "stdout",
     "output_type": "stream",
     "text": [
      "Epoch: 011, Loss: 0.9624\n"
     ]
    },
    {
     "name": "stderr",
     "output_type": "stream",
     "text": [
      "100%|████████████████████████████████████████████████████████████████████████████████████| 75/75 [00:02<00:00, 27.92it/s]\n"
     ]
    },
    {
     "name": "stdout",
     "output_type": "stream",
     "text": [
      "Epoch: 012, Loss: 1.2018\n"
     ]
    },
    {
     "name": "stderr",
     "output_type": "stream",
     "text": [
      "100%|████████████████████████████████████████████████████████████████████████████████████| 75/75 [00:02<00:00, 30.34it/s]\n"
     ]
    },
    {
     "name": "stdout",
     "output_type": "stream",
     "text": [
      "Epoch: 013, Loss: 1.1963\n"
     ]
    },
    {
     "name": "stderr",
     "output_type": "stream",
     "text": [
      "100%|████████████████████████████████████████████████████████████████████████████████████| 75/75 [00:02<00:00, 30.86it/s]\n"
     ]
    },
    {
     "name": "stdout",
     "output_type": "stream",
     "text": [
      "Epoch: 014, Loss: 0.9255\n"
     ]
    },
    {
     "name": "stderr",
     "output_type": "stream",
     "text": [
      "100%|████████████████████████████████████████████████████████████████████████████████████| 75/75 [00:02<00:00, 28.30it/s]\n"
     ]
    },
    {
     "name": "stdout",
     "output_type": "stream",
     "text": [
      "Epoch: 015, Loss: 0.9868\n"
     ]
    },
    {
     "name": "stderr",
     "output_type": "stream",
     "text": [
      "100%|████████████████████████████████████████████████████████████████████████████████████| 75/75 [00:02<00:00, 31.56it/s]\n"
     ]
    },
    {
     "name": "stdout",
     "output_type": "stream",
     "text": [
      "Epoch: 016, Loss: 0.9409\n"
     ]
    },
    {
     "name": "stderr",
     "output_type": "stream",
     "text": [
      "100%|████████████████████████████████████████████████████████████████████████████████████| 75/75 [00:02<00:00, 30.51it/s]\n"
     ]
    },
    {
     "name": "stdout",
     "output_type": "stream",
     "text": [
      "Epoch: 017, Loss: 1.0971\n"
     ]
    },
    {
     "name": "stderr",
     "output_type": "stream",
     "text": [
      "100%|████████████████████████████████████████████████████████████████████████████████████| 75/75 [00:02<00:00, 31.47it/s]\n"
     ]
    },
    {
     "name": "stdout",
     "output_type": "stream",
     "text": [
      "Epoch: 018, Loss: 0.9417\n"
     ]
    },
    {
     "name": "stderr",
     "output_type": "stream",
     "text": [
      "100%|████████████████████████████████████████████████████████████████████████████████████| 75/75 [00:02<00:00, 31.17it/s]\n"
     ]
    },
    {
     "name": "stdout",
     "output_type": "stream",
     "text": [
      "Epoch: 019, Loss: 0.8321\n"
     ]
    },
    {
     "name": "stderr",
     "output_type": "stream",
     "text": [
      "100%|████████████████████████████████████████████████████████████████████████████████████| 75/75 [00:03<00:00, 23.07it/s]\n"
     ]
    },
    {
     "name": "stdout",
     "output_type": "stream",
     "text": [
      "Epoch: 020, Loss: 0.8283\n"
     ]
    },
    {
     "name": "stderr",
     "output_type": "stream",
     "text": [
      "100%|████████████████████████████████████████████████████████████████████████████████████| 75/75 [00:02<00:00, 27.29it/s]\n"
     ]
    },
    {
     "name": "stdout",
     "output_type": "stream",
     "text": [
      "Epoch: 021, Loss: 0.7798\n"
     ]
    },
    {
     "name": "stderr",
     "output_type": "stream",
     "text": [
      "100%|████████████████████████████████████████████████████████████████████████████████████| 75/75 [00:05<00:00, 14.09it/s]\n"
     ]
    },
    {
     "name": "stdout",
     "output_type": "stream",
     "text": [
      "Epoch: 022, Loss: 0.7266\n"
     ]
    },
    {
     "name": "stderr",
     "output_type": "stream",
     "text": [
      "100%|████████████████████████████████████████████████████████████████████████████████████| 75/75 [00:02<00:00, 26.81it/s]\n"
     ]
    },
    {
     "name": "stdout",
     "output_type": "stream",
     "text": [
      "Epoch: 023, Loss: 0.6893\n"
     ]
    },
    {
     "name": "stderr",
     "output_type": "stream",
     "text": [
      "100%|████████████████████████████████████████████████████████████████████████████████████| 75/75 [00:02<00:00, 33.24it/s]\n"
     ]
    },
    {
     "name": "stdout",
     "output_type": "stream",
     "text": [
      "Epoch: 024, Loss: 0.7551\n"
     ]
    },
    {
     "name": "stderr",
     "output_type": "stream",
     "text": [
      "100%|████████████████████████████████████████████████████████████████████████████████████| 75/75 [00:02<00:00, 32.26it/s]\n"
     ]
    },
    {
     "name": "stdout",
     "output_type": "stream",
     "text": [
      "Epoch: 025, Loss: 0.8094\n"
     ]
    },
    {
     "name": "stderr",
     "output_type": "stream",
     "text": [
      "100%|████████████████████████████████████████████████████████████████████████████████████| 75/75 [00:02<00:00, 33.12it/s]\n"
     ]
    },
    {
     "name": "stdout",
     "output_type": "stream",
     "text": [
      "Epoch: 026, Loss: 0.7536\n"
     ]
    },
    {
     "name": "stderr",
     "output_type": "stream",
     "text": [
      "100%|████████████████████████████████████████████████████████████████████████████████████| 75/75 [00:02<00:00, 29.63it/s]\n"
     ]
    },
    {
     "name": "stdout",
     "output_type": "stream",
     "text": [
      "Epoch: 027, Loss: 0.7226\n"
     ]
    },
    {
     "name": "stderr",
     "output_type": "stream",
     "text": [
      "100%|████████████████████████████████████████████████████████████████████████████████████| 75/75 [00:02<00:00, 33.18it/s]\n"
     ]
    },
    {
     "name": "stdout",
     "output_type": "stream",
     "text": [
      "Epoch: 028, Loss: 0.6517\n"
     ]
    },
    {
     "name": "stderr",
     "output_type": "stream",
     "text": [
      "100%|████████████████████████████████████████████████████████████████████████████████████| 75/75 [00:02<00:00, 31.70it/s]\n"
     ]
    },
    {
     "name": "stdout",
     "output_type": "stream",
     "text": [
      "Epoch: 029, Loss: 0.8446\n"
     ]
    },
    {
     "name": "stderr",
     "output_type": "stream",
     "text": [
      "100%|████████████████████████████████████████████████████████████████████████████████████| 75/75 [00:02<00:00, 32.74it/s]\n"
     ]
    },
    {
     "name": "stdout",
     "output_type": "stream",
     "text": [
      "Epoch: 030, Loss: 0.7933\n"
     ]
    },
    {
     "name": "stderr",
     "output_type": "stream",
     "text": [
      "100%|████████████████████████████████████████████████████████████████████████████████████| 75/75 [00:02<00:00, 29.54it/s]\n"
     ]
    },
    {
     "name": "stdout",
     "output_type": "stream",
     "text": [
      "Epoch: 031, Loss: 0.7091\n"
     ]
    },
    {
     "name": "stderr",
     "output_type": "stream",
     "text": [
      "100%|████████████████████████████████████████████████████████████████████████████████████| 75/75 [00:02<00:00, 29.32it/s]\n"
     ]
    },
    {
     "name": "stdout",
     "output_type": "stream",
     "text": [
      "Epoch: 032, Loss: 0.7061\n"
     ]
    },
    {
     "name": "stderr",
     "output_type": "stream",
     "text": [
      "100%|████████████████████████████████████████████████████████████████████████████████████| 75/75 [00:02<00:00, 31.32it/s]\n"
     ]
    },
    {
     "name": "stdout",
     "output_type": "stream",
     "text": [
      "Epoch: 033, Loss: 0.6735\n"
     ]
    },
    {
     "name": "stderr",
     "output_type": "stream",
     "text": [
      "100%|████████████████████████████████████████████████████████████████████████████████████| 75/75 [00:02<00:00, 33.09it/s]\n"
     ]
    },
    {
     "name": "stdout",
     "output_type": "stream",
     "text": [
      "Epoch: 034, Loss: 0.6546\n"
     ]
    },
    {
     "name": "stderr",
     "output_type": "stream",
     "text": [
      "100%|████████████████████████████████████████████████████████████████████████████████████| 75/75 [00:02<00:00, 31.94it/s]\n"
     ]
    },
    {
     "name": "stdout",
     "output_type": "stream",
     "text": [
      "Epoch: 035, Loss: 0.6922\n"
     ]
    },
    {
     "name": "stderr",
     "output_type": "stream",
     "text": [
      "100%|████████████████████████████████████████████████████████████████████████████████████| 75/75 [00:02<00:00, 32.26it/s]\n"
     ]
    },
    {
     "name": "stdout",
     "output_type": "stream",
     "text": [
      "Epoch: 036, Loss: 0.6379\n"
     ]
    },
    {
     "name": "stderr",
     "output_type": "stream",
     "text": [
      "100%|████████████████████████████████████████████████████████████████████████████████████| 75/75 [00:02<00:00, 32.43it/s]\n"
     ]
    },
    {
     "name": "stdout",
     "output_type": "stream",
     "text": [
      "Epoch: 037, Loss: 0.7085\n"
     ]
    },
    {
     "name": "stderr",
     "output_type": "stream",
     "text": [
      "100%|████████████████████████████████████████████████████████████████████████████████████| 75/75 [00:02<00:00, 33.05it/s]\n"
     ]
    },
    {
     "name": "stdout",
     "output_type": "stream",
     "text": [
      "Epoch: 038, Loss: 0.9921\n"
     ]
    },
    {
     "name": "stderr",
     "output_type": "stream",
     "text": [
      "100%|████████████████████████████████████████████████████████████████████████████████████| 75/75 [00:02<00:00, 32.70it/s]\n"
     ]
    },
    {
     "name": "stdout",
     "output_type": "stream",
     "text": [
      "Epoch: 039, Loss: 0.7193\n"
     ]
    },
    {
     "name": "stderr",
     "output_type": "stream",
     "text": [
      "100%|████████████████████████████████████████████████████████████████████████████████████| 75/75 [00:02<00:00, 31.84it/s]\n"
     ]
    },
    {
     "name": "stdout",
     "output_type": "stream",
     "text": [
      "Epoch: 040, Loss: 0.7215\n"
     ]
    },
    {
     "name": "stderr",
     "output_type": "stream",
     "text": [
      "100%|████████████████████████████████████████████████████████████████████████████████████| 75/75 [00:02<00:00, 32.57it/s]\n"
     ]
    },
    {
     "name": "stdout",
     "output_type": "stream",
     "text": [
      "Epoch: 041, Loss: 0.6331\n"
     ]
    },
    {
     "name": "stderr",
     "output_type": "stream",
     "text": [
      "100%|████████████████████████████████████████████████████████████████████████████████████| 75/75 [00:02<00:00, 32.75it/s]\n"
     ]
    },
    {
     "name": "stdout",
     "output_type": "stream",
     "text": [
      "Epoch: 042, Loss: 0.7394\n"
     ]
    },
    {
     "name": "stderr",
     "output_type": "stream",
     "text": [
      "100%|████████████████████████████████████████████████████████████████████████████████████| 75/75 [00:02<00:00, 32.71it/s]\n"
     ]
    },
    {
     "name": "stdout",
     "output_type": "stream",
     "text": [
      "Epoch: 043, Loss: 0.6660\n"
     ]
    },
    {
     "name": "stderr",
     "output_type": "stream",
     "text": [
      "100%|████████████████████████████████████████████████████████████████████████████████████| 75/75 [00:02<00:00, 33.05it/s]\n"
     ]
    },
    {
     "name": "stdout",
     "output_type": "stream",
     "text": [
      "Epoch: 044, Loss: 0.6758\n"
     ]
    },
    {
     "name": "stderr",
     "output_type": "stream",
     "text": [
      "100%|████████████████████████████████████████████████████████████████████████████████████| 75/75 [00:02<00:00, 33.09it/s]\n"
     ]
    },
    {
     "name": "stdout",
     "output_type": "stream",
     "text": [
      "Epoch: 045, Loss: 0.5880\n"
     ]
    },
    {
     "name": "stderr",
     "output_type": "stream",
     "text": [
      "100%|████████████████████████████████████████████████████████████████████████████████████| 75/75 [00:02<00:00, 32.82it/s]\n"
     ]
    },
    {
     "name": "stdout",
     "output_type": "stream",
     "text": [
      "Epoch: 046, Loss: 0.5857\n"
     ]
    },
    {
     "name": "stderr",
     "output_type": "stream",
     "text": [
      "100%|████████████████████████████████████████████████████████████████████████████████████| 75/75 [00:02<00:00, 32.18it/s]\n"
     ]
    },
    {
     "name": "stdout",
     "output_type": "stream",
     "text": [
      "Epoch: 047, Loss: 0.5877\n"
     ]
    },
    {
     "name": "stderr",
     "output_type": "stream",
     "text": [
      "100%|████████████████████████████████████████████████████████████████████████████████████| 75/75 [00:02<00:00, 31.08it/s]\n"
     ]
    },
    {
     "name": "stdout",
     "output_type": "stream",
     "text": [
      "Epoch: 048, Loss: 0.6666\n"
     ]
    },
    {
     "name": "stderr",
     "output_type": "stream",
     "text": [
      "100%|████████████████████████████████████████████████████████████████████████████████████| 75/75 [00:02<00:00, 29.64it/s]\n"
     ]
    },
    {
     "name": "stdout",
     "output_type": "stream",
     "text": [
      "Epoch: 049, Loss: 0.5622\n"
     ]
    },
    {
     "name": "stderr",
     "output_type": "stream",
     "text": [
      "100%|████████████████████████████████████████████████████████████████████████████████████| 75/75 [00:02<00:00, 32.68it/s]\n"
     ]
    },
    {
     "name": "stdout",
     "output_type": "stream",
     "text": [
      "Epoch: 050, Loss: 0.5548\n"
     ]
    },
    {
     "name": "stderr",
     "output_type": "stream",
     "text": [
      "100%|████████████████████████████████████████████████████████████████████████████████████| 75/75 [00:02<00:00, 28.96it/s]\n"
     ]
    },
    {
     "name": "stdout",
     "output_type": "stream",
     "text": [
      "Epoch: 051, Loss: 0.5362\n"
     ]
    },
    {
     "name": "stderr",
     "output_type": "stream",
     "text": [
      "100%|████████████████████████████████████████████████████████████████████████████████████| 75/75 [00:02<00:00, 27.34it/s]\n"
     ]
    },
    {
     "name": "stdout",
     "output_type": "stream",
     "text": [
      "Epoch: 052, Loss: 0.5417\n"
     ]
    },
    {
     "name": "stderr",
     "output_type": "stream",
     "text": [
      "100%|████████████████████████████████████████████████████████████████████████████████████| 75/75 [00:02<00:00, 29.13it/s]\n"
     ]
    },
    {
     "name": "stdout",
     "output_type": "stream",
     "text": [
      "Epoch: 053, Loss: 0.5992\n"
     ]
    },
    {
     "name": "stderr",
     "output_type": "stream",
     "text": [
      "100%|████████████████████████████████████████████████████████████████████████████████████| 75/75 [00:02<00:00, 29.37it/s]\n"
     ]
    },
    {
     "name": "stdout",
     "output_type": "stream",
     "text": [
      "Epoch: 054, Loss: 0.5573\n"
     ]
    },
    {
     "name": "stderr",
     "output_type": "stream",
     "text": [
      "100%|████████████████████████████████████████████████████████████████████████████████████| 75/75 [00:02<00:00, 29.29it/s]\n"
     ]
    },
    {
     "name": "stdout",
     "output_type": "stream",
     "text": [
      "Epoch: 055, Loss: 0.5752\n"
     ]
    },
    {
     "name": "stderr",
     "output_type": "stream",
     "text": [
      "100%|████████████████████████████████████████████████████████████████████████████████████| 75/75 [00:02<00:00, 25.45it/s]\n"
     ]
    },
    {
     "name": "stdout",
     "output_type": "stream",
     "text": [
      "Epoch: 056, Loss: 0.5642\n"
     ]
    },
    {
     "name": "stderr",
     "output_type": "stream",
     "text": [
      "100%|████████████████████████████████████████████████████████████████████████████████████| 75/75 [00:02<00:00, 34.89it/s]\n"
     ]
    },
    {
     "name": "stdout",
     "output_type": "stream",
     "text": [
      "Epoch: 057, Loss: 0.5375\n"
     ]
    },
    {
     "name": "stderr",
     "output_type": "stream",
     "text": [
      "100%|████████████████████████████████████████████████████████████████████████████████████| 75/75 [00:02<00:00, 28.44it/s]\n"
     ]
    },
    {
     "name": "stdout",
     "output_type": "stream",
     "text": [
      "Epoch: 058, Loss: 0.5597\n"
     ]
    },
    {
     "name": "stderr",
     "output_type": "stream",
     "text": [
      "100%|████████████████████████████████████████████████████████████████████████████████████| 75/75 [00:02<00:00, 28.97it/s]\n"
     ]
    },
    {
     "name": "stdout",
     "output_type": "stream",
     "text": [
      "Epoch: 059, Loss: 0.5316\n"
     ]
    },
    {
     "name": "stderr",
     "output_type": "stream",
     "text": [
      "100%|████████████████████████████████████████████████████████████████████████████████████| 75/75 [00:02<00:00, 31.07it/s]\n"
     ]
    },
    {
     "name": "stdout",
     "output_type": "stream",
     "text": [
      "Epoch: 060, Loss: 0.5184\n"
     ]
    },
    {
     "name": "stderr",
     "output_type": "stream",
     "text": [
      "100%|████████████████████████████████████████████████████████████████████████████████████| 75/75 [00:02<00:00, 31.03it/s]\n"
     ]
    },
    {
     "name": "stdout",
     "output_type": "stream",
     "text": [
      "Epoch: 061, Loss: 0.5456\n"
     ]
    },
    {
     "name": "stderr",
     "output_type": "stream",
     "text": [
      "100%|████████████████████████████████████████████████████████████████████████████████████| 75/75 [00:02<00:00, 31.90it/s]\n"
     ]
    },
    {
     "name": "stdout",
     "output_type": "stream",
     "text": [
      "Epoch: 062, Loss: 0.5213\n"
     ]
    },
    {
     "name": "stderr",
     "output_type": "stream",
     "text": [
      "100%|████████████████████████████████████████████████████████████████████████████████████| 75/75 [00:02<00:00, 31.72it/s]\n"
     ]
    },
    {
     "name": "stdout",
     "output_type": "stream",
     "text": [
      "Epoch: 063, Loss: 0.5296\n"
     ]
    },
    {
     "name": "stderr",
     "output_type": "stream",
     "text": [
      "100%|████████████████████████████████████████████████████████████████████████████████████| 75/75 [00:02<00:00, 26.57it/s]\n"
     ]
    },
    {
     "name": "stdout",
     "output_type": "stream",
     "text": [
      "Epoch: 064, Loss: 0.5574\n"
     ]
    },
    {
     "name": "stderr",
     "output_type": "stream",
     "text": [
      "100%|████████████████████████████████████████████████████████████████████████████████████| 75/75 [00:02<00:00, 26.95it/s]\n"
     ]
    },
    {
     "name": "stdout",
     "output_type": "stream",
     "text": [
      "Epoch: 065, Loss: 0.5173\n"
     ]
    },
    {
     "name": "stderr",
     "output_type": "stream",
     "text": [
      "100%|████████████████████████████████████████████████████████████████████████████████████| 75/75 [00:02<00:00, 31.89it/s]\n"
     ]
    },
    {
     "name": "stdout",
     "output_type": "stream",
     "text": [
      "Epoch: 066, Loss: 0.5872\n"
     ]
    },
    {
     "name": "stderr",
     "output_type": "stream",
     "text": [
      "100%|████████████████████████████████████████████████████████████████████████████████████| 75/75 [00:02<00:00, 32.54it/s]\n"
     ]
    },
    {
     "name": "stdout",
     "output_type": "stream",
     "text": [
      "Epoch: 067, Loss: 0.5198\n"
     ]
    },
    {
     "name": "stderr",
     "output_type": "stream",
     "text": [
      "100%|████████████████████████████████████████████████████████████████████████████████████| 75/75 [00:02<00:00, 32.80it/s]\n"
     ]
    },
    {
     "name": "stdout",
     "output_type": "stream",
     "text": [
      "Epoch: 068, Loss: 0.5498\n"
     ]
    },
    {
     "name": "stderr",
     "output_type": "stream",
     "text": [
      "100%|████████████████████████████████████████████████████████████████████████████████████| 75/75 [00:02<00:00, 32.28it/s]\n"
     ]
    },
    {
     "name": "stdout",
     "output_type": "stream",
     "text": [
      "Epoch: 069, Loss: 0.5859\n"
     ]
    },
    {
     "name": "stderr",
     "output_type": "stream",
     "text": [
      "100%|████████████████████████████████████████████████████████████████████████████████████| 75/75 [00:02<00:00, 30.53it/s]\n"
     ]
    },
    {
     "name": "stdout",
     "output_type": "stream",
     "text": [
      "Epoch: 070, Loss: 0.5672\n"
     ]
    },
    {
     "name": "stderr",
     "output_type": "stream",
     "text": [
      "100%|████████████████████████████████████████████████████████████████████████████████████| 75/75 [00:02<00:00, 31.19it/s]\n"
     ]
    },
    {
     "name": "stdout",
     "output_type": "stream",
     "text": [
      "Epoch: 071, Loss: 0.5498\n"
     ]
    },
    {
     "name": "stderr",
     "output_type": "stream",
     "text": [
      "100%|████████████████████████████████████████████████████████████████████████████████████| 75/75 [00:02<00:00, 28.81it/s]\n"
     ]
    },
    {
     "name": "stdout",
     "output_type": "stream",
     "text": [
      "Epoch: 072, Loss: 0.4983\n"
     ]
    },
    {
     "name": "stderr",
     "output_type": "stream",
     "text": [
      "100%|████████████████████████████████████████████████████████████████████████████████████| 75/75 [00:02<00:00, 31.94it/s]\n"
     ]
    },
    {
     "name": "stdout",
     "output_type": "stream",
     "text": [
      "Epoch: 073, Loss: 0.4905\n"
     ]
    },
    {
     "name": "stderr",
     "output_type": "stream",
     "text": [
      "100%|████████████████████████████████████████████████████████████████████████████████████| 75/75 [00:02<00:00, 31.36it/s]\n"
     ]
    },
    {
     "name": "stdout",
     "output_type": "stream",
     "text": [
      "Epoch: 074, Loss: 0.4983\n"
     ]
    },
    {
     "name": "stderr",
     "output_type": "stream",
     "text": [
      "100%|████████████████████████████████████████████████████████████████████████████████████| 75/75 [00:02<00:00, 29.46it/s]\n"
     ]
    },
    {
     "name": "stdout",
     "output_type": "stream",
     "text": [
      "Epoch: 075, Loss: 0.4911\n"
     ]
    },
    {
     "name": "stderr",
     "output_type": "stream",
     "text": [
      "100%|████████████████████████████████████████████████████████████████████████████████████| 75/75 [00:02<00:00, 27.37it/s]\n"
     ]
    },
    {
     "name": "stdout",
     "output_type": "stream",
     "text": [
      "Epoch: 076, Loss: 0.4842\n"
     ]
    },
    {
     "name": "stderr",
     "output_type": "stream",
     "text": [
      "100%|████████████████████████████████████████████████████████████████████████████████████| 75/75 [00:02<00:00, 28.34it/s]\n"
     ]
    },
    {
     "name": "stdout",
     "output_type": "stream",
     "text": [
      "Epoch: 077, Loss: 0.4909\n"
     ]
    },
    {
     "name": "stderr",
     "output_type": "stream",
     "text": [
      "100%|████████████████████████████████████████████████████████████████████████████████████| 75/75 [00:02<00:00, 30.62it/s]\n"
     ]
    },
    {
     "name": "stdout",
     "output_type": "stream",
     "text": [
      "Epoch: 078, Loss: 0.4764\n"
     ]
    },
    {
     "name": "stderr",
     "output_type": "stream",
     "text": [
      "100%|████████████████████████████████████████████████████████████████████████████████████| 75/75 [00:02<00:00, 31.02it/s]\n"
     ]
    },
    {
     "name": "stdout",
     "output_type": "stream",
     "text": [
      "Epoch: 079, Loss: 0.4929\n"
     ]
    },
    {
     "name": "stderr",
     "output_type": "stream",
     "text": [
      "100%|████████████████████████████████████████████████████████████████████████████████████| 75/75 [00:02<00:00, 30.91it/s]\n"
     ]
    },
    {
     "name": "stdout",
     "output_type": "stream",
     "text": [
      "Epoch: 080, Loss: 0.4962\n"
     ]
    },
    {
     "name": "stderr",
     "output_type": "stream",
     "text": [
      "100%|████████████████████████████████████████████████████████████████████████████████████| 75/75 [00:02<00:00, 30.37it/s]\n"
     ]
    },
    {
     "name": "stdout",
     "output_type": "stream",
     "text": [
      "Epoch: 081, Loss: 0.4872\n"
     ]
    },
    {
     "name": "stderr",
     "output_type": "stream",
     "text": [
      "100%|████████████████████████████████████████████████████████████████████████████████████| 75/75 [00:02<00:00, 30.08it/s]\n"
     ]
    },
    {
     "name": "stdout",
     "output_type": "stream",
     "text": [
      "Epoch: 082, Loss: 0.4679\n"
     ]
    },
    {
     "name": "stderr",
     "output_type": "stream",
     "text": [
      "100%|████████████████████████████████████████████████████████████████████████████████████| 75/75 [00:02<00:00, 30.32it/s]\n"
     ]
    },
    {
     "name": "stdout",
     "output_type": "stream",
     "text": [
      "Epoch: 083, Loss: 0.4847\n"
     ]
    },
    {
     "name": "stderr",
     "output_type": "stream",
     "text": [
      "100%|████████████████████████████████████████████████████████████████████████████████████| 75/75 [00:02<00:00, 30.58it/s]\n"
     ]
    },
    {
     "name": "stdout",
     "output_type": "stream",
     "text": [
      "Epoch: 084, Loss: 0.4797\n"
     ]
    },
    {
     "name": "stderr",
     "output_type": "stream",
     "text": [
      "100%|████████████████████████████████████████████████████████████████████████████████████| 75/75 [00:02<00:00, 32.10it/s]\n"
     ]
    },
    {
     "name": "stdout",
     "output_type": "stream",
     "text": [
      "Epoch: 085, Loss: 0.4673\n"
     ]
    },
    {
     "name": "stderr",
     "output_type": "stream",
     "text": [
      "100%|████████████████████████████████████████████████████████████████████████████████████| 75/75 [00:02<00:00, 30.14it/s]\n"
     ]
    },
    {
     "name": "stdout",
     "output_type": "stream",
     "text": [
      "Epoch: 086, Loss: 0.4681\n"
     ]
    },
    {
     "name": "stderr",
     "output_type": "stream",
     "text": [
      "100%|████████████████████████████████████████████████████████████████████████████████████| 75/75 [00:02<00:00, 29.80it/s]\n"
     ]
    },
    {
     "name": "stdout",
     "output_type": "stream",
     "text": [
      "Epoch: 087, Loss: 0.4803\n"
     ]
    },
    {
     "name": "stderr",
     "output_type": "stream",
     "text": [
      "100%|████████████████████████████████████████████████████████████████████████████████████| 75/75 [00:02<00:00, 30.82it/s]\n"
     ]
    },
    {
     "name": "stdout",
     "output_type": "stream",
     "text": [
      "Epoch: 088, Loss: 0.4556\n"
     ]
    },
    {
     "name": "stderr",
     "output_type": "stream",
     "text": [
      "100%|████████████████████████████████████████████████████████████████████████████████████| 75/75 [00:02<00:00, 29.62it/s]\n"
     ]
    },
    {
     "name": "stdout",
     "output_type": "stream",
     "text": [
      "Epoch: 089, Loss: 0.4604\n"
     ]
    },
    {
     "name": "stderr",
     "output_type": "stream",
     "text": [
      "100%|████████████████████████████████████████████████████████████████████████████████████| 75/75 [00:02<00:00, 30.38it/s]\n"
     ]
    },
    {
     "name": "stdout",
     "output_type": "stream",
     "text": [
      "Epoch: 090, Loss: 0.4536\n"
     ]
    },
    {
     "name": "stderr",
     "output_type": "stream",
     "text": [
      "100%|████████████████████████████████████████████████████████████████████████████████████| 75/75 [00:02<00:00, 30.38it/s]\n"
     ]
    },
    {
     "name": "stdout",
     "output_type": "stream",
     "text": [
      "Epoch: 091, Loss: 0.4530\n"
     ]
    },
    {
     "name": "stderr",
     "output_type": "stream",
     "text": [
      "100%|████████████████████████████████████████████████████████████████████████████████████| 75/75 [00:02<00:00, 30.04it/s]\n"
     ]
    },
    {
     "name": "stdout",
     "output_type": "stream",
     "text": [
      "Epoch: 092, Loss: 0.4633\n"
     ]
    },
    {
     "name": "stderr",
     "output_type": "stream",
     "text": [
      "100%|████████████████████████████████████████████████████████████████████████████████████| 75/75 [00:02<00:00, 31.11it/s]\n"
     ]
    },
    {
     "name": "stdout",
     "output_type": "stream",
     "text": [
      "Epoch: 093, Loss: 0.4475\n"
     ]
    },
    {
     "name": "stderr",
     "output_type": "stream",
     "text": [
      "100%|████████████████████████████████████████████████████████████████████████████████████| 75/75 [00:02<00:00, 29.89it/s]\n"
     ]
    },
    {
     "name": "stdout",
     "output_type": "stream",
     "text": [
      "Epoch: 094, Loss: 0.4519\n"
     ]
    },
    {
     "name": "stderr",
     "output_type": "stream",
     "text": [
      "100%|████████████████████████████████████████████████████████████████████████████████████| 75/75 [00:02<00:00, 29.86it/s]\n"
     ]
    },
    {
     "name": "stdout",
     "output_type": "stream",
     "text": [
      "Epoch: 095, Loss: 0.4453\n"
     ]
    },
    {
     "name": "stderr",
     "output_type": "stream",
     "text": [
      "100%|████████████████████████████████████████████████████████████████████████████████████| 75/75 [00:02<00:00, 30.29it/s]\n"
     ]
    },
    {
     "name": "stdout",
     "output_type": "stream",
     "text": [
      "Epoch: 096, Loss: 0.4985\n"
     ]
    },
    {
     "name": "stderr",
     "output_type": "stream",
     "text": [
      "100%|████████████████████████████████████████████████████████████████████████████████████| 75/75 [00:02<00:00, 31.18it/s]\n"
     ]
    },
    {
     "name": "stdout",
     "output_type": "stream",
     "text": [
      "Epoch: 097, Loss: 0.4611\n"
     ]
    },
    {
     "name": "stderr",
     "output_type": "stream",
     "text": [
      "100%|████████████████████████████████████████████████████████████████████████████████████| 75/75 [00:02<00:00, 30.22it/s]\n"
     ]
    },
    {
     "name": "stdout",
     "output_type": "stream",
     "text": [
      "Epoch: 098, Loss: 0.4850\n"
     ]
    },
    {
     "name": "stderr",
     "output_type": "stream",
     "text": [
      "100%|████████████████████████████████████████████████████████████████████████████████████| 75/75 [00:02<00:00, 31.06it/s]"
     ]
    },
    {
     "name": "stdout",
     "output_type": "stream",
     "text": [
      "Epoch: 099, Loss: 0.4445\n"
     ]
    },
    {
     "name": "stderr",
     "output_type": "stream",
     "text": [
      "\n"
     ]
    }
   ],
   "source": [
    "import tqdm\n",
    "import torch.nn.functional as F\n",
    "from sklearn.metrics import roc_auc_score\n",
    "\n",
    "device = torch.device('cuda' if torch.cuda.is_available() else 'cpu')\n",
    "print(f\"Device: '{device}'\")\n",
    "\n",
    "loss_arr = []\n",
    "auc_arr = []\n",
    "\n",
    "model = model.to(device)\n",
    "optimizer = torch.optim.Adam(model.parameters(), lr=0.001)\n",
    "final_emb = {}\n",
    "for epoch in range(1, 100):\n",
    "    total_loss = total_examples = 0\n",
    "    total_auc = 0\n",
    "    for sampled_data in tqdm.tqdm(train_loader):\n",
    "        optimizer.zero_grad()\n",
    "\n",
    "        sampled_data.to(device)\n",
    "        pred, final_emb = model(sampled_data)\n",
    "\n",
    "        ground_truth = sampled_data[\"user\", \"views\", \"product\"].edge_label\n",
    "        loss = F.binary_cross_entropy_with_logits(pred, ground_truth)\n",
    "        auc = roc_auc_score(ground_truth.detach().numpy(), pred.detach().numpy())\n",
    "\n",
    "        loss.backward()\n",
    "        optimizer.step()\n",
    "        total_loss += float(loss) * pred.numel()\n",
    "        total_auc += float(auc) * pred.numel()\n",
    "        total_examples += pred.numel()\n",
    "    loss_arr.append(float(total_loss / total_examples))\n",
    "    auc_arr.append(float(total_auc / total_examples))\n",
    "    print(f\"Epoch: {epoch:03d}, Loss: {total_loss / total_examples:.4f}\")"
   ]
  },
  {
   "cell_type": "code",
   "execution_count": 77,
   "metadata": {},
   "outputs": [],
   "source": [
    "import matplotlib.pyplot as plt\n",
    "def plot(arr, name):\n",
    "    epochs_arr = np.arange(0, 99)\n",
    "    x = np.asarray(epochs_arr)\n",
    "    ypoints = np.asarray(arr)\n",
    "    plt.plot(x, ypoints)\n",
    "    plt.xlabel(\"Epochs\")\n",
    "    plt.ylabel(name)\n",
    "    plt.legend()\n",
    "    plt.show()"
   ]
  },
  {
   "cell_type": "code",
   "execution_count": 78,
   "metadata": {},
   "outputs": [
    {
     "data": {
      "text/plain": [
       "float"
      ]
     },
     "execution_count": 78,
     "metadata": {},
     "output_type": "execute_result"
    }
   ],
   "source": [
    "type(loss_arr[0])"
   ]
  },
  {
   "cell_type": "code",
   "execution_count": 79,
   "metadata": {},
   "outputs": [
    {
     "name": "stderr",
     "output_type": "stream",
     "text": [
      "WARNING:matplotlib.legend:No artists with labels found to put in legend.  Note that artists whose label start with an underscore are ignored when legend() is called with no argument.\n"
     ]
    },
    {
     "data": {
      "image/png": "[encoded data removed]",
      "text/plain": [
       "<Figure size 640x480 with 1 Axes>"
      ]
     },
     "metadata": {},
     "output_type": "display_data"
    }
   ],
   "source": [
    "plot(loss_arr, 'Training Loss')"
   ]
  },
  {
   "cell_type": "code",
   "execution_count": 80,
   "metadata": {},
   "outputs": [
    {
     "name": "stderr",
     "output_type": "stream",
     "text": [
      "WARNING:matplotlib.legend:No artists with labels found to put in legend.  Note that artists whose label start with an underscore are ignored when legend() is called with no argument.\n"
     ]
    },
    {
     "data": {
      "image/png": "[encoded data removed]",
      "text/plain": [
       "<Figure size 640x480 with 1 Axes>"
      ]
     },
     "metadata": {},
     "output_type": "display_data"
    }
   ],
   "source": [
    "plot(auc_arr, 'ROC')"
   ]
  },
  {
   "cell_type": "markdown",
   "metadata": {
    "id": "Yq-I2xaYueF0"
   },
   "source": [
    "## Evaluating a Heterogeneous Link-level GNN\n",
    "\n",
    "After training, we evaluate our model on useen data coming from the validation set.\n",
    "For this, we define a new `LinkNeighborLoader` (which now iterates over the edges in the validation set), obtain the predictions on validation edges by running the model, and finally evaluate the performance of the model by computing the AUC score over the set of predictions and their corresponding ground-truth edges (including both positive and negative edges)."
   ]
  },
  {
   "cell_type": "code",
   "execution_count": 81,
   "metadata": {
    "colab": {
     "base_uri": "https://localhost:8080/"
    },
    "id": "ZIrRn9YoNllj",
    "outputId": "d665a0c0-dd63-4973-db28-901e150e0857"
   },
   "outputs": [
    {
     "name": "stdout",
     "output_type": "stream",
     "text": [
      "Sampled mini-batch:\n",
      "===================\n",
      "HeteroData(\n",
      "  user={\n",
      "    node_id=[298],\n",
      "    x=[298, 64],\n",
      "    n_id=[298],\n",
      "  },\n",
      "  product={\n",
      "    node_id=[2662],\n",
      "    x=[2662, 64],\n",
      "    n_id=[2662],\n",
      "  },\n",
      "  (user, views, product)={\n",
      "    edge_index=[2, 4087],\n",
      "    edge_attr=[4087, 1],\n",
      "    edge_label=[384],\n",
      "    edge_label_index=[2, 384],\n",
      "    e_id=[4087],\n",
      "    input_id=[384],\n",
      "  },\n",
      "  (product, rev_views, user)={\n",
      "    edge_index=[2, 3150],\n",
      "    edge_attr=[3150, 1],\n",
      "    e_id=[3150],\n",
      "  }\n",
      ")\n"
     ]
    }
   ],
   "source": [
    "# Define the validation seed edges:\n",
    "edge_label_index = val_data[\"user\", \"views\", \"product\"].edge_label_index\n",
    "edge_label = val_data[\"user\", \"views\", \"product\"].edge_label\n",
    "\n",
    "val_loader = LinkNeighborLoader(\n",
    "    data=val_data,\n",
    "    num_neighbors=[20, 10],\n",
    "    edge_label_index=((\"user\", \"views\", \"product\"), edge_label_index),\n",
    "    edge_label=edge_label,\n",
    "    batch_size=3 * 128,\n",
    "    shuffle=False,\n",
    ")\n",
    "\n",
    "sampled_data = next(iter(val_loader))\n",
    "\n",
    "print(\"Sampled mini-batch:\")\n",
    "print(\"===================\")\n",
    "print(sampled_data)\n",
    "\n",
    "assert sampled_data[\"user\", \"views\", \"product\"].edge_label_index.size(1) == 3 * 128\n",
    "assert sampled_data[\"user\", \"views\", \"product\"].edge_label.min() >= 0\n",
    "assert sampled_data[\"user\", \"views\", \"product\"].edge_label.max() <= 1"
   ]
  },
  {
   "cell_type": "markdown",
   "metadata": {},
   "source": [
    "### ROC score"
   ]
  },
  {
   "cell_type": "code",
   "execution_count": 82,
   "metadata": {
    "colab": {
     "base_uri": "https://localhost:8080/"
    },
    "id": "Vi25Z7lFPPjc",
    "outputId": "761e48cd-6b1d-4cc3-e92a-4795d0a93de1"
   },
   "outputs": [
    {
     "name": "stderr",
     "output_type": "stream",
     "text": [
      "100%|██████████████████████████████████████████████████████████████████████████████████████| 8/8 [00:00<00:00, 45.86it/s]"
     ]
    },
    {
     "name": "stdout",
     "output_type": "stream",
     "text": [
      "\n",
      "Validation AUC: 0.8362\n"
     ]
    },
    {
     "name": "stderr",
     "output_type": "stream",
     "text": [
      "\n"
     ]
    }
   ],
   "source": [
    "from sklearn.metrics import roc_auc_score\n",
    "\n",
    "preds = []\n",
    "ground_truths = []\n",
    "for sampled_data in tqdm.tqdm(val_loader):\n",
    "    with torch.no_grad():\n",
    "        sampled_data.to(device)\n",
    "        pred, emb = model(sampled_data)\n",
    "        preds.append(pred)\n",
    "        ground_truths.append(sampled_data[\"user\", \"views\", \"product\"].edge_label)\n",
    "\n",
    "pred = torch.cat(preds, dim=0).cpu().numpy()\n",
    "ground_truth = torch.cat(ground_truths, dim=0).cpu().numpy()\n",
    "auc = roc_auc_score(ground_truth, pred)\n",
    "print()\n",
    "print(f\"Validation AUC: {auc:.4f}\")"
   ]
  },
  {
   "cell_type": "markdown",
   "metadata": {},
   "source": [
    "### TSNE Visualisation"
   ]
  },
  {
   "cell_type": "code",
   "execution_count": 631,
   "metadata": {
    "id": "sJbr4JHCH0gs"
   },
   "outputs": [],
   "source": [
    "# Perform dimensionality reduction using t-SNE\n",
    "from sklearn.manifold import TSNE\n",
    "tsne = TSNE(n_components=2, perplexity=30, n_iter=300)\n",
    "embeddings_2d = tsne.fit_transform(prod_features.detach().numpy())"
   ]
  },
  {
   "cell_type": "code",
   "execution_count": 37,
   "metadata": {},
   "outputs": [
    {
     "data": {
      "text/plain": [
       "torch.Size([471, 64])"
      ]
     },
     "execution_count": 37,
     "metadata": {},
     "output_type": "execute_result"
    }
   ],
   "source": [
    "prod_features.shape"
   ]
  },
  {
   "cell_type": "code",
   "execution_count": 633,
   "metadata": {},
   "outputs": [
    {
     "data": {
      "text/html": [
       "<div>\n",
       "<style scoped>\n",
       "    .dataframe tbody tr th:only-of-type {\n",
       "        vertical-align: middle;\n",
       "    }\n",
       "\n",
       "    .dataframe tbody tr th {\n",
       "        vertical-align: top;\n",
       "    }\n",
       "\n",
       "    .dataframe thead th {\n",
       "        text-align: right;\n",
       "    }\n",
       "</style>\n",
       "<table border=\"1\" class=\"dataframe\">\n",
       "  <thead>\n",
       "    <tr style=\"text-align: right;\">\n",
       "      <th></th>\n",
       "      <th>product_id</th>\n",
       "      <th>price</th>\n",
       "      <th>cms_vertical</th>\n",
       "      <th>count</th>\n",
       "      <th>account_id_enc</th>\n",
       "    </tr>\n",
       "  </thead>\n",
       "  <tbody>\n",
       "    <tr>\n",
       "      <th>0</th>\n",
       "      <td>BDSF8CCDF2C7JXYP</td>\n",
       "      <td>0.002824</td>\n",
       "      <td>126</td>\n",
       "      <td>0.000000</td>\n",
       "      <td>35d096bb533c7f0fdbd413e70b50aad3</td>\n",
       "    </tr>\n",
       "    <tr>\n",
       "      <th>1</th>\n",
       "      <td>BDSF8CCDF2C7JXYP</td>\n",
       "      <td>0.002824</td>\n",
       "      <td>126</td>\n",
       "      <td>0.000000</td>\n",
       "      <td>d3a281e7626e1153f8cd247eb814a387</td>\n",
       "    </tr>\n",
       "    <tr>\n",
       "      <th>2</th>\n",
       "      <td>BDSG337RX24VXKVJ</td>\n",
       "      <td>0.003451</td>\n",
       "      <td>126</td>\n",
       "      <td>0.000000</td>\n",
       "      <td>d8433504430f2be3fdef7883a42a684a</td>\n",
       "    </tr>\n",
       "    <tr>\n",
       "      <th>3</th>\n",
       "      <td>BOOFNDNCW6BURCAA</td>\n",
       "      <td>0.004092</td>\n",
       "      <td>7</td>\n",
       "      <td>0.000000</td>\n",
       "      <td>26719a71b20f814c898388abd933dbb7</td>\n",
       "    </tr>\n",
       "    <tr>\n",
       "      <th>4</th>\n",
       "      <td>BOTF7QC7BJCGBZP3</td>\n",
       "      <td>0.010938</td>\n",
       "      <td>95</td>\n",
       "      <td>0.040000</td>\n",
       "      <td>88af7b587b8c3cb79f515d69c02912cd</td>\n",
       "    </tr>\n",
       "    <tr>\n",
       "      <th>...</th>\n",
       "      <td>...</td>\n",
       "      <td>...</td>\n",
       "      <td>...</td>\n",
       "      <td>...</td>\n",
       "      <td>...</td>\n",
       "    </tr>\n",
       "    <tr>\n",
       "      <th>9995</th>\n",
       "      <td>TSHFMMYYPFNMAH53</td>\n",
       "      <td>0.003772</td>\n",
       "      <td>117</td>\n",
       "      <td>0.000000</td>\n",
       "      <td>0977095b44bcc4364386911232f52f29</td>\n",
       "    </tr>\n",
       "    <tr>\n",
       "      <th>9996</th>\n",
       "      <td>TSHFMQF2Q66ZDHEN</td>\n",
       "      <td>0.005744</td>\n",
       "      <td>117</td>\n",
       "      <td>0.000000</td>\n",
       "      <td>bc35bb7c28fbd46a11a82d4ab71d6b37</td>\n",
       "    </tr>\n",
       "    <tr>\n",
       "      <th>9997</th>\n",
       "      <td>WCWFEQH7KBUHPNJA</td>\n",
       "      <td>0.007127</td>\n",
       "      <td>53</td>\n",
       "      <td>0.000000</td>\n",
       "      <td>43f186c39a230b214b1c5d9cfb6be68b</td>\n",
       "    </tr>\n",
       "    <tr>\n",
       "      <th>9998</th>\n",
       "      <td>WCWFEQH7KBUHPNJA</td>\n",
       "      <td>0.007127</td>\n",
       "      <td>53</td>\n",
       "      <td>0.000000</td>\n",
       "      <td>277b2c508a3e19308e272a63ac313302</td>\n",
       "    </tr>\n",
       "    <tr>\n",
       "      <th>9999</th>\n",
       "      <td>WIPFMYNUHMZPCZUK</td>\n",
       "      <td>0.002689</td>\n",
       "      <td>8</td>\n",
       "      <td>0.026667</td>\n",
       "      <td>0c42d1adc972b666427023148feef6d9</td>\n",
       "    </tr>\n",
       "  </tbody>\n",
       "</table>\n",
       "<p>10000 rows × 5 columns</p>\n",
       "</div>"
      ],
      "text/plain": [
       "            product_id     price  cms_vertical     count  \\\n",
       "0     BDSF8CCDF2C7JXYP  0.002824           126  0.000000   \n",
       "1     BDSF8CCDF2C7JXYP  0.002824           126  0.000000   \n",
       "2     BDSG337RX24VXKVJ  0.003451           126  0.000000   \n",
       "3     BOOFNDNCW6BURCAA  0.004092             7  0.000000   \n",
       "4     BOTF7QC7BJCGBZP3  0.010938            95  0.040000   \n",
       "...                ...       ...           ...       ...   \n",
       "9995  TSHFMMYYPFNMAH53  0.003772           117  0.000000   \n",
       "9996  TSHFMQF2Q66ZDHEN  0.005744           117  0.000000   \n",
       "9997  WCWFEQH7KBUHPNJA  0.007127            53  0.000000   \n",
       "9998  WCWFEQH7KBUHPNJA  0.007127            53  0.000000   \n",
       "9999  WIPFMYNUHMZPCZUK  0.002689             8  0.026667   \n",
       "\n",
       "                        account_id_enc  \n",
       "0     35d096bb533c7f0fdbd413e70b50aad3  \n",
       "1     d3a281e7626e1153f8cd247eb814a387  \n",
       "2     d8433504430f2be3fdef7883a42a684a  \n",
       "3     26719a71b20f814c898388abd933dbb7  \n",
       "4     88af7b587b8c3cb79f515d69c02912cd  \n",
       "...                                ...  \n",
       "9995  0977095b44bcc4364386911232f52f29  \n",
       "9996  bc35bb7c28fbd46a11a82d4ab71d6b37  \n",
       "9997  43f186c39a230b214b1c5d9cfb6be68b  \n",
       "9998  277b2c508a3e19308e272a63ac313302  \n",
       "9999  0c42d1adc972b666427023148feef6d9  \n",
       "\n",
       "[10000 rows x 5 columns]"
      ]
     },
     "execution_count": 633,
     "metadata": {},
     "output_type": "execute_result"
    }
   ],
   "source": [
    "df3"
   ]
  },
  {
   "cell_type": "code",
   "execution_count": 38,
   "metadata": {},
   "outputs": [],
   "source": [
    "import numpy as np\n",
    "from sklearn.cluster import KMeans\n",
    "import matplotlib.pyplot as plt"
   ]
  },
  {
   "cell_type": "code",
   "execution_count": 90,
   "metadata": {},
   "outputs": [
    {
     "name": "stderr",
     "output_type": "stream",
     "text": [
      "/Library/Frameworks/Python.framework/Versions/3.11/lib/python3.11/site-packages/sklearn/cluster/_kmeans.py:1416: FutureWarning: The default value of `n_init` will change from 10 to 'auto' in 1.4. Set the value of `n_init` explicitly to suppress the warning\n",
      "  super()._check_params_vs_input(X, default_n_init=10)\n"
     ]
    },
    {
     "data": {
      "image/png": "[encoded data removed]",
      "text/plain": [
       "<Figure size 640x480 with 1 Axes>"
      ]
     },
     "metadata": {},
     "output_type": "display_data"
    }
   ],
   "source": [
    "# Define the number of clusters (k) you want to find\n",
    "k = 10\n",
    "\n",
    "node_features = prod_features.detach().numpy()[:,0:2]\n",
    "\n",
    "# Apply K-Means clustering\n",
    "kmeans = KMeans(n_clusters=k)\n",
    "clusters = kmeans.fit_predict(node_features)\n",
    "\n",
    "# Scatter plot the results\n",
    "for cluster_id in range(k):\n",
    "    plt.scatter(node_features[clusters == cluster_id, 0], node_features[clusters == cluster_id, 1], label=f'Cluster {cluster_id + 1}')\n",
    "\n",
    "# Plot the cluster centers\n",
    "cluster_centers = kmeans.cluster_centers_\n",
    "plt.scatter(cluster_centers[:, 0], cluster_centers[:, 1], marker='x', color='black', s=100, label='Cluster Centers')\n",
    "\n",
    "plt.title(f'K-Means Clustering (k={k})')\n",
    "plt.legend()\n",
    "plt.show()"
   ]
  },
  {
   "cell_type": "code",
   "execution_count": 91,
   "metadata": {},
   "outputs": [
    {
     "name": "stderr",
     "output_type": "stream",
     "text": [
      "/Library/Frameworks/Python.framework/Versions/3.11/lib/python3.11/site-packages/sklearn/cluster/_kmeans.py:1416: FutureWarning: The default value of `n_init` will change from 10 to 'auto' in 1.4. Set the value of `n_init` explicitly to suppress the warning\n",
      "  super()._check_params_vs_input(X, default_n_init=10)\n"
     ]
    },
    {
     "data": {
      "image/png": "[encoded data removed]",
      "text/plain": [
       "<Figure size 640x480 with 1 Axes>"
      ]
     },
     "metadata": {},
     "output_type": "display_data"
    }
   ],
   "source": [
    "# Define the number of clusters (k) you want to find\n",
    "k = 4\n",
    "\n",
    "node_features = prod_features.detach().numpy()\n",
    "\n",
    "# Apply K-Means clustering\n",
    "kmeans = KMeans(n_clusters=k)\n",
    "clusters = kmeans.fit_predict(node_features)\n",
    "\n",
    "# Scatter plot the results\n",
    "for cluster_id in range(k):\n",
    "    plt.scatter(node_features[clusters == cluster_id, 0], node_features[clusters == cluster_id, 1], label=f'Cluster {cluster_id + 1}')\n",
    "\n",
    "# Plot the cluster centers\n",
    "cluster_centers = kmeans.cluster_centers_\n",
    "plt.scatter(cluster_centers[:, 0], cluster_centers[:, 1], marker='x', color='black', s=100, label='Cluster Centers')\n",
    "\n",
    "plt.title(f'K-Means Clustering (k={k})')\n",
    "plt.legend()\n",
    "plt.show()"
   ]
  },
  {
   "cell_type": "code",
   "execution_count": 92,
   "metadata": {},
   "outputs": [
    {
     "name": "stderr",
     "output_type": "stream",
     "text": [
      "/Library/Frameworks/Python.framework/Versions/3.11/lib/python3.11/site-packages/sklearn/cluster/_kmeans.py:1416: FutureWarning: The default value of `n_init` will change from 10 to 'auto' in 1.4. Set the value of `n_init` explicitly to suppress the warning\n",
      "  super()._check_params_vs_input(X, default_n_init=10)\n"
     ]
    },
    {
     "data": {
      "image/png": "[encoded data removed]",
      "text/plain": [
       "<Figure size 640x480 with 1 Axes>"
      ]
     },
     "metadata": {},
     "output_type": "display_data"
    }
   ],
   "source": [
    "# Define the number of clusters (k) you want to find\n",
    "k = 4\n",
    "\n",
    "node_emb = final_emb['product'].detach().numpy()\n",
    "\n",
    "# Apply K-Means clustering\n",
    "kmeans = KMeans(n_clusters=k)\n",
    "clusters = kmeans.fit_predict(node_emb)\n",
    "\n",
    "# Scatter plot the results\n",
    "for cluster_id in range(k):\n",
    "    plt.scatter(node_emb[clusters == cluster_id, 0], node_emb[clusters == cluster_id, 1], label=f'Cluster {cluster_id + 1}')\n",
    "\n",
    "# Plot the cluster centers\n",
    "cluster_centers = kmeans.cluster_centers_\n",
    "plt.scatter(cluster_centers[:, 0], cluster_centers[:, 1], marker='x', color='black', s=100, label='Cluster Centers')\n",
    "\n",
    "plt.title(f'K-Means Clustering (k={k})')\n",
    "plt.legend()\n",
    "plt.show()"
   ]
  },
  {
   "cell_type": "code",
   "execution_count": null,
   "metadata": {},
   "outputs": [],
   "source": []
  },
  {
   "cell_type": "code",
   "execution_count": 635,
   "metadata": {
    "id": "fcrCLc0vE3d3"
   },
   "outputs": [
    {
     "data": {
      "image/png": "[encoded data removed]",
      "text/plain": [
       "<Figure size 640x480 with 1 Axes>"
      ]
     },
     "metadata": {},
     "output_type": "display_data"
    }
   ],
   "source": [
    "import matplotlib.pyplot as plt\n",
    "\n",
    "color = prod_features[:,1].detach().numpy()\n",
    "\n",
    "plt.scatter(embeddings_2d[:, 0], embeddings_2d[:, 1], s=70, c=color)\n",
    "plt.title('t-SNE Visualization of product features')\n",
    "plt.show()"
   ]
  },
  {
   "cell_type": "code",
   "execution_count": 626,
   "metadata": {},
   "outputs": [
    {
     "data": {
      "text/plain": [
       "{'user': tensor([[ -1.2718,   0.7425,  -2.5023,  ...,  -0.8493,   1.9342,  -2.1132],\n",
       "         [ -4.9814,   0.8761, -10.6169,  ...,  -0.4288,  10.4230, -13.0839],\n",
       "         [ -8.5591,   1.8601, -12.3092,  ...,   0.4792,  12.0875, -13.8287],\n",
       "         ...,\n",
       "         [ -1.0422,   0.6366,  -2.9277,  ...,   0.0515,   1.6372,  -1.2740],\n",
       "         [  0.5108,   1.7268,  -2.3759,  ...,  -0.3799,  -0.3899,  -0.7374],\n",
       "         [  0.8751,  -1.4210,   0.4366,  ...,   0.4473,  -0.5237,  -1.4259]],\n",
       "        dtype=torch.float64, grad_fn=<AddBackward0>),\n",
       " 'product': tensor([[ -1.3782,   0.1336,  -1.8761,  ...,  -1.4691,   4.0581,  -2.6797],\n",
       "         [ -1.6177,  -1.8631,  -7.0806,  ...,  -5.8658,  12.9688,  -5.4499],\n",
       "         [ -0.9902,  -3.6767,  -5.9958,  ...,  -5.7758,  13.1721,  -5.0534],\n",
       "         ...,\n",
       "         [  1.2474,  -6.1154, -15.1621,  ..., -12.7967,  31.7505, -11.9468],\n",
       "         [  0.6116,  -5.1503, -14.2292,  ..., -12.8267,  34.6063, -11.9538],\n",
       "         [  2.0469,  -4.5546, -14.1629,  ..., -12.8000,  31.6009, -10.4590]],\n",
       "        dtype=torch.float64, grad_fn=<AddBackward0>)}"
      ]
     },
     "execution_count": 626,
     "metadata": {},
     "output_type": "execute_result"
    }
   ],
   "source": [
    "final_emb"
   ]
  },
  {
   "cell_type": "code",
   "execution_count": 41,
   "metadata": {},
   "outputs": [
    {
     "data": {
      "text/plain": [
       "torch.Size([238, 128])"
      ]
     },
     "execution_count": 41,
     "metadata": {},
     "output_type": "execute_result"
    }
   ],
   "source": [
    "final_emb['product'].shape"
   ]
  },
  {
   "cell_type": "code",
   "execution_count": 636,
   "metadata": {},
   "outputs": [],
   "source": [
    "# Perform dimensionality reduction using t-SNE\n",
    "from sklearn.manifold import TSNE\n",
    "tsne = TSNE(n_components=2, perplexity=30, n_iter=300)\n",
    "embeddings_2d = tsne.fit_transform(final_emb['product'].detach().numpy())"
   ]
  },
  {
   "cell_type": "code",
   "execution_count": 641,
   "metadata": {},
   "outputs": [
    {
     "name": "stdout",
     "output_type": "stream",
     "text": [
      "(1307, 2)\n"
     ]
    }
   ],
   "source": [
    "print(embeddings_2d.shape)"
   ]
  },
  {
   "cell_type": "code",
   "execution_count": 643,
   "metadata": {},
   "outputs": [
    {
     "data": {
      "image/png": "[encoded data removed]",
      "text/plain": [
       "<Figure size 640x480 with 1 Axes>"
      ]
     },
     "metadata": {},
     "output_type": "display_data"
    }
   ],
   "source": [
    "import matplotlib.pyplot as plt\n",
    "\n",
    "color = prod_features[:,1].detach().numpy()\n",
    "\n",
    "plt.scatter(embeddings_2d[:, 0], embeddings_2d[:, 1], s=70, c='blue')\n",
    "plt.title('t-SNE Visualization of prod embeddings')\n",
    "plt.show()"
   ]
  },
  {
   "cell_type": "code",
   "execution_count": null,
   "metadata": {},
   "outputs": [],
   "source": []
  },
  {
   "cell_type": "code",
   "execution_count": null,
   "metadata": {},
   "outputs": [],
   "source": []
  },
  {
   "cell_type": "code",
   "execution_count": null,
   "metadata": {},
   "outputs": [],
   "source": []
  }
 ],
 "metadata": {
  "colab": {
   "provenance": []
  },
  "kernelspec": {
   "display_name": "Python 3 (ipykernel)",
   "language": "python",
   "name": "python3"
  },
  "language_info": {
   "codemirror_mode": {
    "name": "ipython",
    "version": 3
   },
   "file_extension": ".py",
   "mimetype": "text/x-python",
   "name": "python",
   "nbconvert_exporter": "python",
   "pygments_lexer": "ipython3",
   "version": "3.11.5"
  }
 },
 "nbformat": 4,
 "nbformat_minor": 4
}
