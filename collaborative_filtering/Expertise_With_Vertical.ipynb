{
 "cells": [
  {
   "cell_type": "code",
   "execution_count": 1,
   "metadata": {},
   "outputs": [],
   "source": [
    "import implicit \n",
    "import pandas as pd\n",
    "import numpy as np\n",
    "from tqdm.notebook import tqdm\n",
    "import glob\n",
    "import time\n",
    "from datetime import datetime\n",
    "import matplotlib.pyplot as plt\n",
    "from matplotlib.ticker import PercentFormatter\n",
    "import os\n",
    "import statistics\n",
    "from scipy.sparse import csr_matrix"
   ]
  },
  {
   "cell_type": "code",
   "execution_count": 2,
   "metadata": {},
   "outputs": [],
   "source": [
    "#os.environ[\"OPENBLAS_NUM_THREADS\"] = \"1\"\n",
    "#os.environ[\"GOTO_NUM_THREADS\"] = \"1\"\n",
    "#os.environ[\"OMP_NUM_THREADS\"] = \"1\""
   ]
  },
  {
   "cell_type": "code",
   "execution_count": 3,
   "metadata": {},
   "outputs": [
    {
     "name": "stdout",
     "output_type": "stream",
     "text": [
      "Data read.\n"
     ]
    }
   ],
   "source": [
    "data = pd.read_csv('/media/root/data/swiggy/flipkart/data2/ppv2.csv')\n",
    "print(\"Data read.\")"
   ]
  },
  {
   "cell_type": "code",
   "execution_count": null,
   "metadata": {},
   "outputs": [],
   "source": [
    "data = pd.read_csv('/media/root/data/swiggy/flipkart/data2/ppv2.csv')\n",
    "print(\"Data read.\")"
   ]
  },
  {
   "cell_type": "code",
   "execution_count": 4,
   "metadata": {},
   "outputs": [
    {
     "name": "stdout",
     "output_type": "stream",
     "text": [
      "Index(['product_id', 'count', 'analytic_business_unit', 'cms_vertical',\n",
      "       'account_id_enc'],\n",
      "      dtype='object')\n"
     ]
    }
   ],
   "source": [
    "print(data.columns)"
   ]
  },
  {
   "cell_type": "code",
   "execution_count": 5,
   "metadata": {},
   "outputs": [
    {
     "name": "stdout",
     "output_type": "stream",
     "text": [
      "No of products is:  10032224\n",
      "No of accounts is:  2323658\n",
      "No of verticals is:  3288\n"
     ]
    }
   ],
   "source": [
    "#First creating required sparse csr matrix\n",
    "import scipy\n",
    "products = data.product_id.unique()\n",
    "accounts = data.account_id_enc.unique()\n",
    "verticals = data.cms_vertical.unique()\n",
    "\n",
    "print(\"No of products is: \",len(products))\n",
    "print(\"No of accounts is: \",len(accounts))\n",
    "print(\"No of verticals is: \",len(verticals))\n",
    "\n",
    "prod_to_int = {}\n",
    "acc_to_int = {}\n",
    "int_to_prod = {}\n",
    "int_to_acc = {}\n",
    "vert_to_int = {}\n",
    "int_to_vert = {}\n",
    "\n",
    "count=0\n",
    "for prod in products:\n",
    "    prod_to_int[prod] = count\n",
    "    int_to_prod[count] = prod\n",
    "    count += 1\n",
    "\n",
    "count=0\n",
    "for acc in accounts:\n",
    "    acc_to_int[acc] = count\n",
    "    int_to_acc[count] = acc\n",
    "    count += 1\n",
    "    \n",
    "count=0\n",
    "for vert in verticals:\n",
    "    vert_to_int[vert] = count\n",
    "    int_to_vert[count] = vert\n",
    "    count += 1\n",
    "    "
   ]
  },
  {
   "cell_type": "code",
   "execution_count": 7,
   "metadata": {},
   "outputs": [
    {
     "data": {
      "text/plain": [
       "count    1.958053e+08\n",
       "mean     1.499054e+00\n",
       "std      3.692193e+00\n",
       "min      1.000000e+00\n",
       "25%      1.000000e+00\n",
       "50%      1.000000e+00\n",
       "75%      1.000000e+00\n",
       "max      2.679000e+04\n",
       "Name: count, dtype: float64"
      ]
     },
     "execution_count": 7,
     "metadata": {},
     "output_type": "execute_result"
    }
   ],
   "source": [
    "data['count'].describe()"
   ]
  },
  {
   "cell_type": "code",
   "execution_count": 9,
   "metadata": {},
   "outputs": [
    {
     "name": "stdout",
     "output_type": "stream",
     "text": [
      "Preprocessing started\n",
      "Step 1 done\n",
      "Step 2 done\n",
      "Step 3 done\n",
      "Step 4 done\n",
      "Preprocessing done.\n",
      "Time taken -> 565.8410403728485\n"
     ]
    }
   ],
   "source": [
    "start_time = time.time()\n",
    "print(\"Preprocessing started\")\n",
    "df_acc_to_int = pd.DataFrame(acc_to_int.items(), columns=['account_id', 'account_index'])\n",
    "print(\"Step 1 done\")\n",
    "df_vert_to_int = pd.DataFrame(vert_to_int.items(),columns=['cms_vertical','vertical_index'])\n",
    "print(\"Step 2 done\")\n",
    "data_userIdx = pd.merge(data, df_acc_to_int, left_on=['account_id_enc'], right_on = ['account_id'])\n",
    "print(\"Step 3 done\")\n",
    "data_user_vertIdx = pd.merge(data_userIdx,df_vert_to_int,left_on=['cms_vertical'],right_on=['cms_vertical'])\n",
    "print(\"Step 4 done\")\n",
    "print(\"Preprocessing done.\")\n",
    "print(\"Time taken ->\", time.time() - start_time)"
   ]
  },
  {
   "cell_type": "code",
   "execution_count": 13,
   "metadata": {},
   "outputs": [
    {
     "name": "stdout",
     "output_type": "stream",
     "text": [
      "      product_id  count analytic_business_unit cms_vertical  \\\n",
      "0  9780005331927      1                    BGM         book   \n",
      "1  9788126708635      1                    BGM         book   \n",
      "2  9789387464506      2                    BGM         book   \n",
      "3  9788171197415      1                    BGM         book   \n",
      "4  9789352291328      1                    BGM         book   \n",
      "\n",
      "                     account_id_enc                        account_id  \\\n",
      "0  46d8931f4aee076458b4183784d798cc  46d8931f4aee076458b4183784d798cc   \n",
      "1  46d8931f4aee076458b4183784d798cc  46d8931f4aee076458b4183784d798cc   \n",
      "2  46d8931f4aee076458b4183784d798cc  46d8931f4aee076458b4183784d798cc   \n",
      "3  46d8931f4aee076458b4183784d798cc  46d8931f4aee076458b4183784d798cc   \n",
      "4  46d8931f4aee076458b4183784d798cc  46d8931f4aee076458b4183784d798cc   \n",
      "\n",
      "   account_index  vertical_index  \n",
      "0              0               0  \n",
      "1              0               0  \n",
      "2              0               0  \n",
      "3              0               0  \n",
      "4              0               0  \n"
     ]
    }
   ],
   "source": [
    "print(data_user_vertIdx.head())"
   ]
  },
  {
   "cell_type": "code",
   "execution_count": 27,
   "metadata": {},
   "outputs": [
    {
     "name": "stdout",
     "output_type": "stream",
     "text": [
      "   account_index  vertical_index  count\n",
      "0              0               0     32\n",
      "1              0             924      4\n",
      "2              0            1135     21\n",
      "3              0            1230      9\n",
      "4              0            1501      3\n"
     ]
    }
   ],
   "source": [
    "df_store = data_user_vertIdx.groupby(['account_index','vertical_index'],as_index=False).sum()\n",
    "print(df_store.head())"
   ]
  },
  {
   "cell_type": "code",
   "execution_count": 29,
   "metadata": {},
   "outputs": [
    {
     "name": "stdout",
     "output_type": "stream",
     "text": [
      "Index(['account_index', 'vertical_index', 'count'], dtype='object')\n"
     ]
    }
   ],
   "source": [
    "print(df_store.columns)\n",
    "rows = np.array(df_store['account_index'])\n",
    "cols = np.array(df_store['vertical_index'])\n",
    "values = np.array(df_store['count'])\n",
    "\n",
    "sparseMatrix = csr_matrix((values, (cols, rows)), shape = ( len(verticals),len(accounts)))\n",
    "\n"
   ]
  },
  {
   "cell_type": "code",
   "execution_count": 30,
   "metadata": {},
   "outputs": [
    {
     "name": "stdout",
     "output_type": "stream",
     "text": [
      "99.45856157354329\n"
     ]
    }
   ],
   "source": [
    "matrix_size = sparseMatrix.shape[0]*sparseMatrix.shape[1] # Number of possible interactions in the matrix\n",
    "num_purchases = len(sparseMatrix.nonzero()[0]) # Number of items interacted with\n",
    "sparsity = 100*(1 - (num_purchases/matrix_size))\n",
    "print(sparsity)\n"
   ]
  },
  {
   "cell_type": "code",
   "execution_count": 31,
   "metadata": {},
   "outputs": [
    {
     "data": {
      "application/vnd.jupyter.widget-view+json": {
       "model_id": "967c993c9f7b454583b9b77fcec2899a",
       "version_major": 2,
       "version_minor": 0
      },
      "text/plain": [
       "  0%|          | 0/15 [00:00<?, ?it/s]"
      ]
     },
     "metadata": {},
     "output_type": "display_data"
    }
   ],
   "source": [
    "model = implicit.als.AlternatingLeastSquares(factors=50)\n",
    "model.fit(sparseMatrix)"
   ]
  },
  {
   "cell_type": "code",
   "execution_count": 33,
   "metadata": {},
   "outputs": [
    {
     "name": "stdout",
     "output_type": "stream",
     "text": [
      "Shape of item vector matrix :  (3288, 50)\n",
      "Shape of User vector matrix :  (2323658, 50)\n"
     ]
    }
   ],
   "source": [
    "item_vecs = model.item_factors\n",
    "user_vecs = model.user_factors\n",
    "print('Shape of item vector matrix : ', item_vecs.shape)\n",
    "print('Shape of User vector matrix : ', user_vecs.shape)"
   ]
  },
  {
   "cell_type": "code",
   "execution_count": 34,
   "metadata": {},
   "outputs": [],
   "source": [
    "np.save('user_feature.npy',user_vecs)\n",
    "np.save('item_feature.npy',item_vecs)"
   ]
  },
  {
   "cell_type": "code",
   "execution_count": 35,
   "metadata": {},
   "outputs": [
    {
     "name": "stderr",
     "output_type": "stream",
     "text": [
      "/media/root/data/swiggy/miniconda3/envs/venv/lib/python3.6/site-packages/statsmodels/tools/_testing.py:19: FutureWarning: pandas.util.testing is deprecated. Use the functions in the public API at pandas.testing instead.\n",
      "  import pandas.util.testing as tm\n"
     ]
    }
   ],
   "source": [
    "from sklearn.preprocessing import StandardScaler\n",
    "from sklearn.cluster import KMeans\n",
    "from kneed import KneeLocator\n",
    "import seaborn as sns"
   ]
  },
  {
   "cell_type": "code",
   "execution_count": 134,
   "metadata": {},
   "outputs": [
    {
     "name": "stdout",
     "output_type": "stream",
     "text": [
      "Clustering started\n",
      "Clustering done.\n",
      "Time taken -> 401.37528371810913\n"
     ]
    }
   ],
   "source": [
    "start_time = time.time()\n",
    "print(\"Clustering started\")\n",
    "kmeans = KMeans(n_clusters=20,random_state=0).fit(user_vecs)\n",
    "\n",
    "np.save('labels.npy',kmeans.labels_)\n",
    "np.save('centers.npy',kmeans.cluster_centers_)\n",
    "print(\"Clustering done.\")\n",
    "print(\"Time taken ->\", time.time() - start_time)"
   ]
  },
  {
   "cell_type": "code",
   "execution_count": 135,
   "metadata": {},
   "outputs": [
    {
     "name": "stdout",
     "output_type": "stream",
     "text": [
      "(2323658,)\n",
      "(2323658,)\n",
      "[[     0 139031]\n",
      " [     1  99279]\n",
      " [     2 124380]\n",
      " [     3  45123]\n",
      " [     4  83780]\n",
      " [     5  72258]\n",
      " [     6 131636]\n",
      " [     7  69426]\n",
      " [     8 418712]\n",
      " [     9  54186]\n",
      " [    10 153018]\n",
      " [    11  36454]\n",
      " [    12 303283]\n",
      " [    13  90210]\n",
      " [    14  91133]\n",
      " [    15  86850]\n",
      " [    16  99289]\n",
      " [    17  66279]\n",
      " [    18  67700]\n",
      " [    19  91631]]\n"
     ]
    }
   ],
   "source": [
    "labels = kmeans.labels_\n",
    "centers = kmeans.cluster_centers_\n",
    "print(labels.shape)\n",
    "(unique, counts) = np.unique(labels, return_counts=True)\n",
    "print(labels.shape)\n",
    "frequencies = np.asarray((unique, counts)).T\n",
    "print(frequencies)"
   ]
  },
  {
   "cell_type": "code",
   "execution_count": 41,
   "metadata": {},
   "outputs": [
    {
     "name": "stdout",
     "output_type": "stream",
     "text": [
      "297751\n",
      "328611\n",
      "1259873\n",
      "user vertical combination in shopsy 811757\n"
     ]
    }
   ],
   "source": [
    "shopsy_dataset = pd.read_csv('/media/root/data/swiggy/flipkart/data2/reseller_profile.csv')\n",
    "print(shopsy_dataset['s.account_id_enc'].nunique())\n",
    "print(shopsy_dataset['s.product_id'].nunique())\n",
    "print(shopsy_dataset.shape[0])\n",
    "\n",
    "shopsy_user_vertical= shopsy_dataset.groupby(['s.account_id_enc','o.analytic_vertical'],as_index=False).agg({'s.order_item_id_enc':'count'})\n",
    "print(\"user vertical combination in shopsy\", shopsy_user_vertical.shape[0])"
   ]
  },
  {
   "cell_type": "code",
   "execution_count": 108,
   "metadata": {},
   "outputs": [
    {
     "name": "stdout",
     "output_type": "stream",
     "text": [
      "Sampling done\n",
      "Mean item fraction brought:  0.15285\n",
      "Time taken -> 27.331515550613403\n",
      "Sampling done\n",
      "Mean item fraction brought:  0.13155\n",
      "Time taken -> 27.416813135147095\n",
      "Sampling done\n",
      "Mean item fraction brought:  0.106425\n",
      "Time taken -> 25.99855089187622\n",
      "Sampling done\n",
      "Mean item fraction brought:  0.09836000000001455\n",
      "Time taken -> 25.982348203659058\n",
      "Sampling done\n",
      "Mean item fraction brought:  0.07295999999999206\n",
      "Time taken -> 25.990940809249878\n",
      "Sampling done\n",
      "Mean item fraction brought:  0.04874749999998925\n",
      "Time taken -> 26.04105854034424\n",
      "Sampling done\n",
      "Mean item fraction brought:  0.024417999999996418\n",
      "Time taken -> 26.138896465301514\n",
      "Sampling done\n",
      "Mean item fraction brought:  0.013208499999997896\n",
      "Time taken -> 26.245589017868042\n",
      "[0.15285, 0.13155, 0.106425, 0.09836000000001455, 0.07295999999999206, 0.04874749999998925, 0.024417999999996418, 0.013208499999997896]\n"
     ]
    }
   ],
   "source": [
    "from random import sample\n",
    "\n",
    "def intersection(lst1, lst2):\n",
    "    store = list(set(lst1) & set(lst2))\n",
    "    return len(store)\n",
    "\n",
    "def find_common_shopsy(c1):\n",
    "    mean_items_bought = 0\n",
    "    user_idx = shopsy_click_users['account_index'].unique()\n",
    "    user_idx = sample(list(user_idx),20000)\n",
    "    start_time = time.time()\n",
    "    for user in user_idx:\n",
    "        item_interest = np.dot(item_vecs,user_vecs[user].reshape(-1, 1)).reshape(-1)\n",
    "        pred_items = (-item_interest).argsort()[:c1]\n",
    "        actual_items = shopsy_click_users[shopsy_click_users['account_index']==user]\n",
    "        items_bought = actual_items['vertical_index_y'].unique()\n",
    "        frac_actually_bought = intersection(items_bought,pred_items)/c1\n",
    "        mean_items_bought += frac_actually_bought \n",
    "    mean_items_bought = mean_items_bought/len(user_idx)\n",
    "    print(\"Mean item fraction brought: \",mean_items_bought)\n",
    "    print(\"Time taken ->\", time.time() - start_time)\n",
    "    return mean_items_bought\n",
    "values = [1,2,4,5,10,20,50,100]\n",
    "store = [ find_common_shopsy(v) for v in values]\n",
    "print(store)"
   ]
  },
  {
   "cell_type": "code",
   "execution_count": 110,
   "metadata": {},
   "outputs": [
    {
     "data": {
      "image/png": "[encoded data removed]",
      "text/plain": [
       "<Figure size 432x288 with 1 Axes>"
      ]
     },
     "metadata": {
      "needs_background": "light"
     },
     "output_type": "display_data"
    }
   ],
   "source": [
    "plt.plot(values,store)\n",
    "plt.xlabel('No of recommendations')\n",
    "plt.ylabel('Prediction similarity with Shopsy')\n",
    "plt.savefig(\"../plots/shopsy_sim.png\")"
   ]
  },
  {
   "cell_type": "code",
   "execution_count": 76,
   "metadata": {},
   "outputs": [
    {
     "name": "stdout",
     "output_type": "stream",
     "text": [
      "      product_id  count analytic_business_unit cms_vertical  \\\n",
      "0  9780007282463      1                    BGM         book   \n",
      "1  9789353043636      3                    BGM         book   \n",
      "2  9780099518440      3                    BGM         book   \n",
      "3  9788175994225      5                    BGM         book   \n",
      "4  9788176060462      1                    BGM         book   \n",
      "\n",
      "                     account_id_enc                      account_id_x  \\\n",
      "0  fd442e903852cf65d65e1c0c0f6734db  fd442e903852cf65d65e1c0c0f6734db   \n",
      "1  fd442e903852cf65d65e1c0c0f6734db  fd442e903852cf65d65e1c0c0f6734db   \n",
      "2  fd442e903852cf65d65e1c0c0f6734db  fd442e903852cf65d65e1c0c0f6734db   \n",
      "3  fd442e903852cf65d65e1c0c0f6734db  fd442e903852cf65d65e1c0c0f6734db   \n",
      "4  fd442e903852cf65d65e1c0c0f6734db  fd442e903852cf65d65e1c0c0f6734db   \n",
      "\n",
      "   account_index  vertical_index_x                  s.account_id_enc  \\\n",
      "0              2                 0  fd442e903852cf65d65e1c0c0f6734db   \n",
      "1              2                 0  fd442e903852cf65d65e1c0c0f6734db   \n",
      "2              2                 0  fd442e903852cf65d65e1c0c0f6734db   \n",
      "3              2                 0  fd442e903852cf65d65e1c0c0f6734db   \n",
      "4              2                 0  fd442e903852cf65d65e1c0c0f6734db   \n",
      "\n",
      "  o.analytic_vertical  s.order_item_id_enc                      account_id_y  \\\n",
      "0                book                    2  fd442e903852cf65d65e1c0c0f6734db   \n",
      "1                book                    2  fd442e903852cf65d65e1c0c0f6734db   \n",
      "2                book                    2  fd442e903852cf65d65e1c0c0f6734db   \n",
      "3                book                    2  fd442e903852cf65d65e1c0c0f6734db   \n",
      "4                book                    2  fd442e903852cf65d65e1c0c0f6734db   \n",
      "\n",
      "   vertical_index_y  \n",
      "0                 0  \n",
      "1                 0  \n",
      "2                 0  \n",
      "3                 0  \n",
      "4                 0  \n"
     ]
    }
   ],
   "source": [
    "shopsy_user_vertical_encode_temp = pd.merge(shopsy_user_vertical, df_acc_to_int, left_on=['s.account_id_enc'], right_on = ['account_id'])\n",
    "\n",
    "func = lambda s: s[:1].lower() + s[1:] if s else ''\n",
    "\n",
    "shopsy_user_vertical_encode_temp['o.analytic_vertical'] = shopsy_user_vertical_encode_temp['o.analytic_vertical'].apply(func)\n",
    "\n",
    "shopsy_user_vertical_encode = pd.merge(shopsy_user_vertical_encode_temp, df_vert_to_int, left_on=['o.analytic_vertical'], right_on = ['cms_vertical'],how='inner')\n",
    "shopsy_click_users = pd.merge(data_user_vertIdx, shopsy_user_vertical_encode, right_on=['account_index','cms_vertical'], left_on = ['account_index','cms_vertical'],how='inner')\n",
    "\n",
    "print(shopsy_click_users.head())"
   ]
  },
  {
   "cell_type": "code",
   "execution_count": 137,
   "metadata": {},
   "outputs": [
    {
     "name": "stdout",
     "output_type": "stream",
     "text": [
      "Mean item fraction brought:  0.00512\n",
      "Time taken -> 100.99179291725159\n",
      "Mean item fraction brought:  0.00968\n",
      "Time taken -> 96.70566582679749\n",
      "Mean item fraction brought:  0.01988\n",
      "Time taken -> 96.78916335105896\n",
      "Mean item fraction brought:  0.02284\n",
      "Time taken -> 96.94307494163513\n",
      "Mean item fraction brought:  0.03964\n",
      "Time taken -> 97.39696907997131\n",
      "Mean item fraction brought:  0.07092\n",
      "Time taken -> 97.7311782836914\n",
      "Mean item fraction brought:  0.16148\n",
      "Time taken -> 99.73670220375061\n",
      "Mean item fraction brought:  0.25968\n",
      "Time taken -> 103.00068163871765\n",
      "[0.00512, 0.00968, 0.01988, 0.02284, 0.03964, 0.07092, 0.16148, 0.25968]\n"
     ]
    }
   ],
   "source": [
    "def intersection(lst1, lst2):\n",
    "    lst1.sort()\n",
    "    set2 = set(lst2)\n",
    "    common=0\n",
    "    for item in lst1:\n",
    "        if item in set2:\n",
    "            common += 1\n",
    "    return common/len(lst1)\n",
    "\n",
    "def check_for_cluster(c1):\n",
    "    mean_arr1 = []\n",
    "    start_time = time.time()\n",
    "    for c in range(0,20):\n",
    "        cluster_index = np.where(labels==c)\n",
    "        mean_items_bought = 0\n",
    "        user_idx = cluster_index[0]\n",
    "        user_idx = sample(list(user_idx),25000)\n",
    "        cluster_item = np.dot(item_vecs,centers[c].reshape(-1,1)).reshape(-1)\n",
    "        pred_center = (-cluster_item).argsort()[:c1]\n",
    "        for user in user_idx:    \n",
    "            item_interest = np.dot(item_vecs,user_vecs[user].reshape(-1, 1)).reshape(-1)\n",
    "            pred_items = (-item_interest).argsort()[:c1]\n",
    "            frac_actually_bought = intersection(items_bought,pred_items)\n",
    "            mean_items_bought += frac_actually_bought \n",
    "        mean_items_bought = mean_items_bought/len(user_idx)\n",
    "        mean_arr1.append(mean_items_bought)\n",
    "    results = np.mean(np.array(mean_items_bought))\n",
    "    print(\"Mean item fraction brought: \",results)\n",
    "    print(\"Time taken ->\", time.time() - start_time)\n",
    "    return results\n",
    "\n",
    "values = [1,2,4,5,10,20,50,100]\n",
    "center_sim = [ check_for_cluster(v) for v in values]\n",
    "print(center_sim)"
   ]
  },
  {
   "cell_type": "code",
   "execution_count": 138,
   "metadata": {},
   "outputs": [
    {
     "data": {
      "image/png": "[encoded data removed]",
      "text/plain": [
       "<Figure size 432x288 with 1 Axes>"
      ]
     },
     "metadata": {
      "needs_background": "light"
     },
     "output_type": "display_data"
    }
   ],
   "source": [
    "plt.plot(values,center_sim)\n",
    "plt.xlabel('No of recommendations')\n",
    "plt.ylabel('Center cluster similarity')\n",
    "plt.savefig(\"../plots/cluster_cent.png\")"
   ]
  },
  {
   "cell_type": "code",
   "execution_count": 139,
   "metadata": {},
   "outputs": [
    {
     "name": "stdout",
     "output_type": "stream",
     "text": [
      "Mean item fraction brought:  0.179116\n",
      "Time taken -> 205.14967894554138\n",
      "Mean item fraction brought:  0.223529\n",
      "Time taken -> 197.94775795936584\n",
      "Mean item fraction brought:  0.25139700000000004\n",
      "Time taken -> 195.19112038612366\n",
      "Mean item fraction brought:  0.25586040000000004\n",
      "Time taken -> 198.4999396800995\n",
      "Mean item fraction brought:  0.27022540000000006\n",
      "Time taken -> 194.1580901145935\n",
      "Mean item fraction brought:  0.2815477\n",
      "Time taken -> 195.26968550682068\n",
      "Mean item fraction brought:  0.30492432\n",
      "Time taken -> 199.59020280838013\n",
      "Mean item fraction brought:  0.34096289999999996\n",
      "Time taken -> 206.84351873397827\n",
      "[0.179116, 0.223529, 0.25139700000000004, 0.25586040000000004, 0.27022540000000006, 0.2815477, 0.30492432, 0.34096289999999996]\n"
     ]
    }
   ],
   "source": [
    "def jaccardian(lst1,lst2):\n",
    "    lst1.sort()\n",
    "    lst2.sort()\n",
    "    i = 0\n",
    "    j = 0\n",
    "    common = 0\n",
    "    while(i<len(lst1) and j<len(lst2)):\n",
    "        if(lst1[i]>lst2[j]):\n",
    "            j += 1\n",
    "        elif(lst1[i]<lst2[j]):\n",
    "            i += 1\n",
    "        else:\n",
    "            i += 1\n",
    "            j += 1\n",
    "            common += 1\n",
    "    return common/(len(lst1)+len(lst2) - common)\n",
    "            \n",
    "def check_pairwise(c1):\n",
    "    mean_arr1 = []\n",
    "    start_time = time.time()\n",
    "    for c in range(0,20):\n",
    "        cluster_index = np.where(labels==c)\n",
    "        mean_items_bought = 0\n",
    "        user_idx = cluster_index[0]\n",
    "        user_idx_1 = sample(list(user_idx),25000)\n",
    "        user_idx_2 = sample(list(user_idx),25000)\n",
    "        \n",
    "        arr1 = []\n",
    "        \n",
    "        for i in range(0,25000):\n",
    "            item_interest = np.dot(item_vecs,user_vecs[user_idx_1[i]].reshape(-1, 1)).reshape(-1)\n",
    "            pred_items_1 = (-item_interest).argsort()[:c1]\n",
    "            item_interest = np.dot(item_vecs,user_vecs[user_idx_2[i]].reshape(-1, 1)).reshape(-1)\n",
    "            pred_items_2 = (-item_interest).argsort()[:c1]\n",
    "            arr1.append(intersection(pred_items_1,pred_items_2))\n",
    "        mean_items_bought = np.mean(np.array(arr1))\n",
    "        mean_arr1.append(mean_items_bought)\n",
    "    result = np.mean(np.array(mean_arr1))\n",
    "    print(\"Mean item fraction brought: \",result)\n",
    "    print(\"Time taken ->\", time.time() - start_time)\n",
    "    return result\n",
    "\n",
    "values = [1,2,4,5,10,20,50,100]\n",
    "pairwise_sim = [ check_pairwise(v) for v in values]\n",
    "print(pairwise_sim)"
   ]
  },
  {
   "cell_type": "code",
   "execution_count": 140,
   "metadata": {},
   "outputs": [
    {
     "data": {
      "image/png": "[encoded data removed]",
      "text/plain": [
       "<Figure size 432x288 with 1 Axes>"
      ]
     },
     "metadata": {
      "needs_background": "light"
     },
     "output_type": "display_data"
    }
   ],
   "source": [
    "plt.plot(values,pairwise_sim)\n",
    "plt.xlabel('No of recommendations')\n",
    "plt.ylabel('Pairwise similarity')\n",
    "plt.savefig(\"../plots/pairwise.png\")"
   ]
  },
  {
   "cell_type": "code",
   "execution_count": null,
   "metadata": {},
   "outputs": [],
   "source": [
    "#New test results from below. Firstly resuming from cluster center and then pairwise similarity.\n"
   ]
  },
  {
   "cell_type": "code",
   "execution_count": 141,
   "metadata": {},
   "outputs": [
    {
     "name": "stdout",
     "output_type": "stream",
     "text": [
      "Mean item fraction brought:  0.00444\n",
      "Time taken -> 96.69340872764587\n",
      "Mean item fraction brought:  0.00964\n",
      "Time taken -> 96.65996146202087\n",
      "Mean item fraction brought:  0.01788\n",
      "Time taken -> 96.79027152061462\n",
      "Mean item fraction brought:  0.02276\n",
      "Time taken -> 96.95538830757141\n",
      "Mean item fraction brought:  0.03956\n",
      "Time taken -> 97.30304312705994\n",
      "Mean item fraction brought:  0.07212\n",
      "Time taken -> 97.81439208984375\n",
      "Mean item fraction brought:  0.16108\n",
      "Time taken -> 99.64172601699829\n",
      "Mean item fraction brought:  0.26032\n",
      "Time taken -> 102.98319697380066\n",
      "[0.00444, 0.00964, 0.01788, 0.02276, 0.03956, 0.07212, 0.16108, 0.26032]\n"
     ]
    }
   ],
   "source": [
    "def intersection(lst1, lst2):\n",
    "    lst1.sort()\n",
    "    set2 = set(lst2)\n",
    "    common=0\n",
    "    for item in lst1:\n",
    "        if item in set2:\n",
    "            common += 1\n",
    "    return common/len(lst1)\n",
    "\n",
    "def check_for_cluster2(c1):\n",
    "    mean_arr1 = []\n",
    "    start_time = time.time()\n",
    "    for c in range(0,20):\n",
    "        cluster_index = np.where(labels==c)\n",
    "        mean_items_bought = 0\n",
    "        user_idx = cluster_index[0]\n",
    "        user_idx = sample(list(user_idx),25000)\n",
    "        cluster_item = np.dot(item_vecs,centers[c].reshape(-1,1)).reshape(-1)\n",
    "        pred_center = (-cluster_item).argsort()[:c1]\n",
    "        for user in user_idx:    \n",
    "            item_interest = np.dot(item_vecs,user_vecs[user].reshape(-1, 1)).reshape(-1)\n",
    "            pred_items = (-item_interest).argsort()[:c1]\n",
    "            frac_actually_bought = intersection(items_bought,pred_items)\n",
    "            if  frac_actually_bought > 0 :\n",
    "                mean_items_bought += 1 \n",
    "        mean_items_bought = mean_items_bought/len(user_idx)\n",
    "        mean_arr1.append(mean_items_bought)\n",
    "    results = np.mean(np.array(mean_items_bought))\n",
    "    print(\"Mean item fraction brought: \",results)\n",
    "    print(\"Time taken ->\", time.time() - start_time)\n",
    "    return results\n",
    "\n",
    "values = [1,2,4,5,10,20,50,100]\n",
    "center_sim2 = [ check_for_cluster2(v) for v in values]\n",
    "print(center_sim2)"
   ]
  },
  {
   "cell_type": "code",
   "execution_count": 142,
   "metadata": {},
   "outputs": [
    {
     "name": "stdout",
     "output_type": "stream",
     "text": [
      "Mean item fraction brought:  0.17926599999999998\n",
      "Time taken -> 194.41235280036926\n",
      "Mean item fraction brought:  0.393636\n",
      "Time taken -> 192.48697805404663\n",
      "Mean item fraction brought:  0.6559\n",
      "Time taken -> 192.89559698104858\n",
      "Mean item fraction brought:  0.734554\n",
      "Time taken -> 193.12487936019897\n",
      "Mean item fraction brought:  0.9092199999999998\n",
      "Time taken -> 193.92241954803467\n",
      "Mean item fraction brought:  0.9764160000000001\n",
      "Time taken -> 195.15839982032776\n",
      "Mean item fraction brought:  0.998846\n",
      "Time taken -> 203.21919584274292\n",
      "Mean item fraction brought:  0.999992\n",
      "Time taken -> 206.0729465484619\n",
      "[0.17926599999999998, 0.393636, 0.6559, 0.734554, 0.9092199999999998, 0.9764160000000001, 0.998846, 0.999992]\n"
     ]
    }
   ],
   "source": [
    "def jaccardian(lst1,lst2):\n",
    "    lst1.sort()\n",
    "    lst2.sort()\n",
    "    i = 0\n",
    "    j = 0\n",
    "    common = 0\n",
    "    while(i<len(lst1) and j<len(lst2)):\n",
    "        if(lst1[i]>lst2[j]):\n",
    "            j += 1\n",
    "        elif(lst1[i]<lst2[j]):\n",
    "            i += 1\n",
    "        else:\n",
    "            i += 1\n",
    "            j += 1\n",
    "            common += 1\n",
    "    return common/(len(lst1)+len(lst2) - common)\n",
    "            \n",
    "def check_pairwise2(c1):\n",
    "    mean_arr1 = []\n",
    "    start_time = time.time()\n",
    "    for c in range(0,20):\n",
    "        cluster_index = np.where(labels==c)\n",
    "        mean_items_bought = 0\n",
    "        user_idx = cluster_index[0]\n",
    "        user_idx_1 = sample(list(user_idx),25000)\n",
    "        user_idx_2 = sample(list(user_idx),25000)\n",
    "        \n",
    "        arr1 = []\n",
    "        \n",
    "        for i in range(0,25000):\n",
    "            item_interest = np.dot(item_vecs,user_vecs[user_idx_1[i]].reshape(-1, 1)).reshape(-1)\n",
    "            pred_items_1 = (-item_interest).argsort()[:c1]\n",
    "            item_interest = np.dot(item_vecs,user_vecs[user_idx_2[i]].reshape(-1, 1)).reshape(-1)\n",
    "            pred_items_2 = (-item_interest).argsort()[:c1]\n",
    "            if intersection(pred_items_1,pred_items_2) > 0:\n",
    "                arr1.append(1)\n",
    "            else:\n",
    "                arr1.append(0)\n",
    "        mean_items_bought = np.mean(np.array(arr1))\n",
    "        mean_arr1.append(mean_items_bought)\n",
    "    result = np.mean(np.array(mean_arr1))\n",
    "    print(\"Mean item fraction brought: \",result)\n",
    "    print(\"Time taken ->\", time.time() - start_time)\n",
    "    return result\n",
    "\n",
    "values = [1,2,4,5,10,20,50,100]\n",
    "pairwise_sim2 = [ check_pairwise2(v) for v in values]\n",
    "print(pairwise_sim2)"
   ]
  },
  {
   "cell_type": "code",
   "execution_count": 163,
   "metadata": {},
   "outputs": [
    {
     "name": "stdout",
     "output_type": "stream",
     "text": [
      "{'adhesive': 513, 'allopathy': 23, 'alta': 1, 'antiseptic': 904, 'apron': 761, 'backpack': 50490, 'balaclava': 195, 'band': 24, 'bar': 1169, 'bed': 509, 'bedsheet': 92640, 'bell': 249, 'bindi': 190, 'blanket': 6698, 'blinds': 12, 'blower': 511, 'blush': 293, 'bong': 56, 'book': 69333, 'boomerang': 2, 'bottle': 46895, 'bouncer': 639, 'briefcase': 5, 'bronzer': 17, 'bucket': 251, 'bulb': 17401, 'calculator': 2063, 'calendar': 2, 'caliper': 79, 'candle': 1169, 'canvas': 382, 'carabiner': 198, 'chainsaw': 212, 'chalk': 306, 'cheese': 33, 'chimney': 1219, 'chips': 344, 'chopper': 10585, 'chowki': 288, 'chyawanprash': 466, 'clamp': 31, 'cleanser': 659, 'clip': 82, 'clothesline': 67, 'coaster': 176, 'coffee': 1998, 'compact': 4339, 'concealer': 1858, 'conditioner': 3619, 'condom': 6577, 'container': 37728, 'cover': 253, 'crayon': 547, 'crimper': 60, 'curtain': 689, 'cutter': 539, 'dart': 12, 'deodorant': 56264, 'diaper': 31299, 'diffuser': 1, 'dimmer': 3, 'diya': 1406, 'drone': 266, 'dumbbell': 3043, 'dustbin': 475, 'duster': 179, 'dustpan': 49, 'easel': 36, 'electrotherapy': 66, 'envelope': 55, 'epilator': 147, 'eraser': 333, 'fairness': 9843, 'fan': 17478, 'faucet': 8773, 'fender': 152, 'filter': 13, 'flag': 96, 'flash': 44, 'flourmill': 123, 'foundation': 5180, 'funnel': 6, 'garland': 82, 'ghee': 984, 'glass': 2423, 'globe': 191, 'glucometer': 903, 'glue': 1, 'grill': 3, 'hammer': 492, 'hanger': 1468, 'helmet': 12827, 'henna': 455, 'highlighter': 1105, 'hinge': 67, 'homeopathy': 1512, 'honey': 2005, 'hook': 601, 'inverter': 639, 'iron': 8719, 'jaggery': 208, 'jug': 924, 'kajal': 3093, 'kalash': 87, 'kamarband': 257, 'khol': 1, 'kite': 70, 'ladle': 263, 'lantern': 65, 'lanyard': 27, 'lens': 71, 'level': 192, 'lid': 129, 'lipstick': 17317, 'lock': 328, 'loofah': 459, 'lubricant': 502, 'magnet': 58, 'magnifier': 103, 'mallet': 8, 'mascara': 581, 'masher': 1173, 'mask': 101, 'massager': 2738, 'mattress': 193, 'mehendi': 88, 'microphone': 2581, 'milk': 47, 'mirror': 9, 'motherboard': 151, 'motor': 1, 'mould': 1874, 'mouse': 5796, 'mouthwash': 648, 'movie': 35, 'mug': 7522, 'multimeter': 432, 'napkin': 233, 'nappy': 820, 'nebulizer': 650, 'paint': 1061, 'painting': 3434, 'palette': 4, 'paper': 2060, 'pasta': 581, 'pedal': 14, 'peeler': 138, 'pen': 39635, 'pencil': 2645, 'perfume': 9407, 'pillow': 5723, 'pin': 68, 'plier': 1749, 'polisher': 58, 'popcorn': 302, 'poster': 912, 'primer': 1124, 'printer': 2968, 'processor': 112, 'projector': 294, 'pruner': 184, 'rake': 3, 'recliner': 6, 'rice': 629, 'router': 2800, 'rubber': 3, 'rucksack': 2921, 'ruler': 119, 'salt': 209, 'sander': 19, 'scanner': 9, 'scissor': 1073, 'screw': 38, 'scrub': 3140, 'shampoo': 64730, 'shankh': 77, 'shaver': 140, 'shuttle': 828, 'sindoor': 585, 'skate': 465, 'skateboard': 160, 'smartwatch': 27646, 'snip': 1, 'soap': 53822, 'softbox': 19, 'soup': 15, 'spatula': 140, 'speedometer': 1, 'stapler': 68, 'steamer': 275, 'stencil': 816, 'stepper': 8, 'stethoscope': 328, 'sticker': 30895, 'stool': 328, 'strap': 23, 'straw': 28, 'sugar': 539, 'suitcase': 16207, 'sunscreen': 3728, 'support': 8084, 'suspender': 63, 'syrup': 454, 'talc': 5481, 'tampon': 24, 'tapestry': 1, 'tea': 12289, 'telescope': 4, 'television': 22020, 'toner': 2126, 'tong': 477, 'toothbrush': 6044, 'toothpaste': 18200, 'toran': 262, 'torch': 8120, 'touchpad': 4, 'treadmill': 313, 'trimmer': 21916, 'trivet': 65, 'trowel': 4, 'umbrella': 2016, 'vaporizer': 1209, 'vase': 202, 'vermicelli': 79, 'walker': 1512, 'water': 8, 'watermeter': 11, 'webcam': 423, 'whisk': 176, 'whistle': 27, 'wicket': 32, 'wipe': 5861, 'wrench': 85, 'yantra': 371}\n"
     ]
    }
   ],
   "source": [
    "store_dataset = shopsy_click_users.groupby(\"o.analytic_vertical\")\n",
    "store_dataset.count()\n",
    "\n",
    "count_product_in_vertical = {}\n",
    "col1 = list(store_dataset['product_id'])\n",
    "for i in range(0,len(col1)):\n",
    "    count_product_in_vertical[col1[i][0]]= len(col1[i][1])\n",
    "print(count_product_in_vertical)"
   ]
  },
  {
   "cell_type": "code",
   "execution_count": 174,
   "metadata": {},
   "outputs": [
    {
     "data": {
      "text/html": [
       "<div>\n",
       "<style scoped>\n",
       "    .dataframe tbody tr th:only-of-type {\n",
       "        vertical-align: middle;\n",
       "    }\n",
       "\n",
       "    .dataframe tbody tr th {\n",
       "        vertical-align: top;\n",
       "    }\n",
       "\n",
       "    .dataframe thead th {\n",
       "        text-align: right;\n",
       "    }\n",
       "</style>\n",
       "<table border=\"1\" class=\"dataframe\">\n",
       "  <thead>\n",
       "    <tr style=\"text-align: right;\">\n",
       "      <th></th>\n",
       "      <th></th>\n",
       "      <th>product_id</th>\n",
       "      <th>count</th>\n",
       "      <th>analytic_business_unit</th>\n",
       "      <th>cms_vertical</th>\n",
       "      <th>account_id_enc</th>\n",
       "      <th>account_id_x</th>\n",
       "      <th>vertical_index_x</th>\n",
       "      <th>s.account_id_enc</th>\n",
       "      <th>s.order_item_id_enc</th>\n",
       "      <th>account_id_y</th>\n",
       "      <th>vertical_index_y</th>\n",
       "    </tr>\n",
       "    <tr>\n",
       "      <th>account_index</th>\n",
       "      <th>o.analytic_vertical</th>\n",
       "      <th></th>\n",
       "      <th></th>\n",
       "      <th></th>\n",
       "      <th></th>\n",
       "      <th></th>\n",
       "      <th></th>\n",
       "      <th></th>\n",
       "      <th></th>\n",
       "      <th></th>\n",
       "      <th></th>\n",
       "      <th></th>\n",
       "    </tr>\n",
       "  </thead>\n",
       "  <tbody>\n",
       "    <tr>\n",
       "      <th>2</th>\n",
       "      <th>book</th>\n",
       "      <td>18</td>\n",
       "      <td>18</td>\n",
       "      <td>18</td>\n",
       "      <td>18</td>\n",
       "      <td>18</td>\n",
       "      <td>18</td>\n",
       "      <td>18</td>\n",
       "      <td>18</td>\n",
       "      <td>18</td>\n",
       "      <td>18</td>\n",
       "      <td>18</td>\n",
       "    </tr>\n",
       "    <tr>\n",
       "      <th rowspan=\"2\" valign=\"top\">9</th>\n",
       "      <th>book</th>\n",
       "      <td>14</td>\n",
       "      <td>14</td>\n",
       "      <td>14</td>\n",
       "      <td>14</td>\n",
       "      <td>14</td>\n",
       "      <td>14</td>\n",
       "      <td>14</td>\n",
       "      <td>14</td>\n",
       "      <td>14</td>\n",
       "      <td>14</td>\n",
       "      <td>14</td>\n",
       "    </tr>\n",
       "    <tr>\n",
       "      <th>trimmer</th>\n",
       "      <td>2</td>\n",
       "      <td>2</td>\n",
       "      <td>2</td>\n",
       "      <td>2</td>\n",
       "      <td>2</td>\n",
       "      <td>2</td>\n",
       "      <td>2</td>\n",
       "      <td>2</td>\n",
       "      <td>2</td>\n",
       "      <td>2</td>\n",
       "      <td>2</td>\n",
       "    </tr>\n",
       "    <tr>\n",
       "      <th>43</th>\n",
       "      <th>deodorant</th>\n",
       "      <td>2</td>\n",
       "      <td>2</td>\n",
       "      <td>2</td>\n",
       "      <td>2</td>\n",
       "      <td>2</td>\n",
       "      <td>2</td>\n",
       "      <td>2</td>\n",
       "      <td>2</td>\n",
       "      <td>2</td>\n",
       "      <td>2</td>\n",
       "      <td>2</td>\n",
       "    </tr>\n",
       "    <tr>\n",
       "      <th>44</th>\n",
       "      <th>blower</th>\n",
       "      <td>7</td>\n",
       "      <td>7</td>\n",
       "      <td>7</td>\n",
       "      <td>7</td>\n",
       "      <td>7</td>\n",
       "      <td>7</td>\n",
       "      <td>7</td>\n",
       "      <td>7</td>\n",
       "      <td>7</td>\n",
       "      <td>7</td>\n",
       "      <td>7</td>\n",
       "    </tr>\n",
       "    <tr>\n",
       "      <th>...</th>\n",
       "      <th>...</th>\n",
       "      <td>...</td>\n",
       "      <td>...</td>\n",
       "      <td>...</td>\n",
       "      <td>...</td>\n",
       "      <td>...</td>\n",
       "      <td>...</td>\n",
       "      <td>...</td>\n",
       "      <td>...</td>\n",
       "      <td>...</td>\n",
       "      <td>...</td>\n",
       "      <td>...</td>\n",
       "    </tr>\n",
       "    <tr>\n",
       "      <th>2323379</th>\n",
       "      <th>diaper</th>\n",
       "      <td>1</td>\n",
       "      <td>1</td>\n",
       "      <td>1</td>\n",
       "      <td>1</td>\n",
       "      <td>1</td>\n",
       "      <td>1</td>\n",
       "      <td>1</td>\n",
       "      <td>1</td>\n",
       "      <td>1</td>\n",
       "      <td>1</td>\n",
       "      <td>1</td>\n",
       "    </tr>\n",
       "    <tr>\n",
       "      <th>2323419</th>\n",
       "      <th>iron</th>\n",
       "      <td>1</td>\n",
       "      <td>1</td>\n",
       "      <td>1</td>\n",
       "      <td>1</td>\n",
       "      <td>1</td>\n",
       "      <td>1</td>\n",
       "      <td>1</td>\n",
       "      <td>1</td>\n",
       "      <td>1</td>\n",
       "      <td>1</td>\n",
       "      <td>1</td>\n",
       "    </tr>\n",
       "    <tr>\n",
       "      <th>2323425</th>\n",
       "      <th>iron</th>\n",
       "      <td>1</td>\n",
       "      <td>1</td>\n",
       "      <td>1</td>\n",
       "      <td>1</td>\n",
       "      <td>1</td>\n",
       "      <td>1</td>\n",
       "      <td>1</td>\n",
       "      <td>1</td>\n",
       "      <td>1</td>\n",
       "      <td>1</td>\n",
       "      <td>1</td>\n",
       "    </tr>\n",
       "    <tr>\n",
       "      <th>2323510</th>\n",
       "      <th>pen</th>\n",
       "      <td>1</td>\n",
       "      <td>1</td>\n",
       "      <td>1</td>\n",
       "      <td>1</td>\n",
       "      <td>1</td>\n",
       "      <td>1</td>\n",
       "      <td>1</td>\n",
       "      <td>1</td>\n",
       "      <td>1</td>\n",
       "      <td>1</td>\n",
       "      <td>1</td>\n",
       "    </tr>\n",
       "    <tr>\n",
       "      <th>2323586</th>\n",
       "      <th>shampoo</th>\n",
       "      <td>1</td>\n",
       "      <td>1</td>\n",
       "      <td>1</td>\n",
       "      <td>1</td>\n",
       "      <td>1</td>\n",
       "      <td>1</td>\n",
       "      <td>1</td>\n",
       "      <td>1</td>\n",
       "      <td>1</td>\n",
       "      <td>1</td>\n",
       "      <td>1</td>\n",
       "    </tr>\n",
       "  </tbody>\n",
       "</table>\n",
       "<p>142323 rows × 11 columns</p>\n",
       "</div>"
      ],
      "text/plain": [
       "                                   product_id  count  analytic_business_unit  \\\n",
       "account_index o.analytic_vertical                                              \n",
       "2             book                         18     18                      18   \n",
       "9             book                         14     14                      14   \n",
       "              trimmer                       2      2                       2   \n",
       "43            deodorant                     2      2                       2   \n",
       "44            blower                        7      7                       7   \n",
       "...                                       ...    ...                     ...   \n",
       "2323379       diaper                        1      1                       1   \n",
       "2323419       iron                          1      1                       1   \n",
       "2323425       iron                          1      1                       1   \n",
       "2323510       pen                           1      1                       1   \n",
       "2323586       shampoo                       1      1                       1   \n",
       "\n",
       "                                   cms_vertical  account_id_enc  account_id_x  \\\n",
       "account_index o.analytic_vertical                                               \n",
       "2             book                           18              18            18   \n",
       "9             book                           14              14            14   \n",
       "              trimmer                         2               2             2   \n",
       "43            deodorant                       2               2             2   \n",
       "44            blower                          7               7             7   \n",
       "...                                         ...             ...           ...   \n",
       "2323379       diaper                          1               1             1   \n",
       "2323419       iron                            1               1             1   \n",
       "2323425       iron                            1               1             1   \n",
       "2323510       pen                             1               1             1   \n",
       "2323586       shampoo                         1               1             1   \n",
       "\n",
       "                                   vertical_index_x  s.account_id_enc  \\\n",
       "account_index o.analytic_vertical                                       \n",
       "2             book                               18                18   \n",
       "9             book                               14                14   \n",
       "              trimmer                             2                 2   \n",
       "43            deodorant                           2                 2   \n",
       "44            blower                              7                 7   \n",
       "...                                             ...               ...   \n",
       "2323379       diaper                              1                 1   \n",
       "2323419       iron                                1                 1   \n",
       "2323425       iron                                1                 1   \n",
       "2323510       pen                                 1                 1   \n",
       "2323586       shampoo                             1                 1   \n",
       "\n",
       "                                   s.order_item_id_enc  account_id_y  \\\n",
       "account_index o.analytic_vertical                                      \n",
       "2             book                                  18            18   \n",
       "9             book                                  14            14   \n",
       "              trimmer                                2             2   \n",
       "43            deodorant                              2             2   \n",
       "44            blower                                 7             7   \n",
       "...                                                ...           ...   \n",
       "2323379       diaper                                 1             1   \n",
       "2323419       iron                                   1             1   \n",
       "2323425       iron                                   1             1   \n",
       "2323510       pen                                    1             1   \n",
       "2323586       shampoo                                1             1   \n",
       "\n",
       "                                   vertical_index_y  \n",
       "account_index o.analytic_vertical                    \n",
       "2             book                               18  \n",
       "9             book                               14  \n",
       "              trimmer                             2  \n",
       "43            deodorant                           2  \n",
       "44            blower                              7  \n",
       "...                                             ...  \n",
       "2323379       diaper                              1  \n",
       "2323419       iron                                1  \n",
       "2323425       iron                                1  \n",
       "2323510       pen                                 1  \n",
       "2323586       shampoo                             1  \n",
       "\n",
       "[142323 rows x 11 columns]"
      ]
     },
     "execution_count": 174,
     "metadata": {},
     "output_type": "execute_result"
    }
   ],
   "source": [
    "dataset_abc  = shopsy_click_users.groupby([\"account_index\",\"o.analytic_vertical\"])\n",
    "dataset_abc.count()\n"
   ]
  },
  {
   "cell_type": "code",
   "execution_count": 178,
   "metadata": {},
   "outputs": [],
   "source": [
    "acc = list(dataset_abc[\"account_index\"])\n",
    "vert = list(dataset_abc[\"o.analytic_vertical\"])\n",
    "counts = list(dataset_abc[\"product_id\"])"
   ]
  },
  {
   "cell_type": "code",
   "execution_count": 192,
   "metadata": {},
   "outputs": [],
   "source": [
    "map_pairs = {}\n",
    "for i in range(0,len(acc)):\n",
    "    map_pairs[(acc[i][0][0],vert_to_int[vert[i][0][1]])] = len(counts[i][1])\n",
    "    "
   ]
  },
  {
   "cell_type": "code",
   "execution_count": 1,
   "metadata": {},
   "outputs": [
    {
     "ename": "NameError",
     "evalue": "name 'map_pairs' is not defined",
     "output_type": "error",
     "traceback": [
      "\u001b[0;31m---------------------------------------------------------------------------\u001b[0m",
      "\u001b[0;31mNameError\u001b[0m                                 Traceback (most recent call last)",
      "Cell \u001b[0;32mIn[1], line 1\u001b[0m\n\u001b[0;32m----> 1\u001b[0m \u001b[38;5;28mprint\u001b[39m(\u001b[43mmap_pairs\u001b[49m)\n",
      "\u001b[0;31mNameError\u001b[0m: name 'map_pairs' is not defined"
     ]
    }
   ],
   "source": [
    "print(map_pairs)"
   ]
  },
  {
   "cell_type": "code",
   "execution_count": 196,
   "metadata": {},
   "outputs": [
    {
     "name": "stdout",
     "output_type": "stream",
     "text": [
      "Mean items amongst vertical brought by user is:  1.12525\n",
      "Time taken -> 26.653108596801758\n",
      "Mean items amongst vertical brought by user is:  1.923\n",
      "Time taken -> 26.847374200820923\n",
      "Mean items amongst vertical brought by user is:  3.43525\n",
      "Time taken -> 25.493853092193604\n",
      "Mean items amongst vertical brought by user is:  4.0129\n",
      "Time taken -> 25.513455629348755\n",
      "Mean items amongst vertical brought by user is:  6.02695\n",
      "Time taken -> 25.54689908027649\n",
      "Mean items amongst vertical brought by user is:  7.9792\n",
      "Time taken -> 25.629108667373657\n",
      "Mean items amongst vertical brought by user is:  9.2904\n",
      "Time taken -> 25.667429447174072\n",
      "Mean items amongst vertical brought by user is:  9.7561\n",
      "Time taken -> 25.833409309387207\n",
      "[1.12525, 1.923, 3.43525, 4.0129, 6.02695, 7.9792, 9.2904, 9.7561]\n"
     ]
    }
   ],
   "source": [
    "def intersection_new(lst1, lst2):\n",
    "    store = list(set(lst1) & set(lst2))\n",
    "    return store\n",
    "\n",
    "def find_common_shopsy_2(c1):\n",
    "    mean_items_bought = 0\n",
    "    user_idx = shopsy_click_users['account_index'].unique()\n",
    "    user_idx = sample(list(user_idx),20000)\n",
    "    start_time = time.time()\n",
    "    for user in user_idx:\n",
    "        item_interest = np.dot(item_vecs,user_vecs[user].reshape(-1, 1)).reshape(-1)\n",
    "        pred_items = (-item_interest).argsort()[:c1]\n",
    "        actual_items = shopsy_click_users[shopsy_click_users['account_index']==user]\n",
    "        items_bought = actual_items['vertical_index_y'].unique()\n",
    "        verticals_bought = intersection_new(items_bought,pred_items)\n",
    "        for vert1 in verticals_bought:\n",
    "            mean_items_bought +=  map_pairs[(user,vert1)]\n",
    "    mean_items_bought = mean_items_bought/len(user_idx)\n",
    "    print(\"Mean items amongst vertical brought by user is: \",mean_items_bought)\n",
    "    print(\"Time taken ->\", time.time() - start_time)\n",
    "    return mean_items_bought\n",
    "values = [1,2,4,5,10,20,50,100]\n",
    "store = [ find_common_shopsy_2(v) for v in values]\n",
    "print(store)"
   ]
  },
  {
   "cell_type": "code",
   "execution_count": null,
   "metadata": {},
   "outputs": [],
   "source": []
  }
 ],
 "metadata": {
  "kernelspec": {
   "display_name": "Python 3 (ipykernel)",
   "language": "python",
   "name": "python3"
  },
  "language_info": {
   "codemirror_mode": {
    "name": "ipython",
    "version": 3
   },
   "file_extension": ".py",
   "mimetype": "text/x-python",
   "name": "python",
   "nbconvert_exporter": "python",
   "pygments_lexer": "ipython3",
   "version": "3.11.5"
  },
  "latex_envs": {
   "LaTeX_envs_menu_present": true,
   "autoclose": false,
   "autocomplete": true,
   "bibliofile": "biblio.bib",
   "cite_by": "apalike",
   "current_citInitial": 1,
   "eqLabelWithNumbers": true,
   "eqNumInitial": 1,
   "hotkeys": {
    "equation": "Ctrl-E",
    "itemize": "Ctrl-I"
   },
   "labels_anchors": false,
   "latex_user_defs": false,
   "report_style_numbering": false,
   "user_envs_cfg": false
  }
 },
 "nbformat": 4,
 "nbformat_minor": 4
}
