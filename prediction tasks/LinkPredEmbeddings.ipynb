{
 "cells": [
  {
   "cell_type": "code",
   "execution_count": 2,
   "metadata": {
    "colab": {
     "base_uri": "https://localhost:8080/"
    },
    "id": "uh7LaSzfwcj2",
    "outputId": "51a66311-7273-4811-8c53-a36a4dde4a3c"
   },
   "outputs": [
    {
     "name": "stdout",
     "output_type": "stream",
     "text": [
      "2.0.1\n"
     ]
    }
   ],
   "source": [
    "import torch\n",
    "from torch import Tensor\n",
    "print(torch.__version__)"
   ]
  },
  {
   "cell_type": "code",
   "execution_count": 3,
   "metadata": {
    "colab": {
     "base_uri": "https://localhost:8080/"
    },
    "id": "AsWUrVh7vZtM",
    "outputId": "48f64826-08b4-4884-8bb9-2f09e160912b"
   },
   "outputs": [
    {
     "name": "stdout",
     "output_type": "stream",
     "text": [
      "Looking in links: https://data.pyg.org/whl/torch-2.0.1.html\n",
      "Requirement already satisfied: torch-scatter in /Users/etiksha/miniconda3/lib/python3.11/site-packages (2.1.2)\n",
      "Looking in links: https://data.pyg.org/whl/torch-2.0.1.html\n",
      "Requirement already satisfied: torch-sparse in /Users/etiksha/miniconda3/lib/python3.11/site-packages (0.6.18)\n",
      "Requirement already satisfied: scipy in /Users/etiksha/miniconda3/lib/python3.11/site-packages (from torch-sparse) (1.11.3)\n",
      "Requirement already satisfied: numpy<1.28.0,>=1.21.6 in /Users/etiksha/miniconda3/lib/python3.11/site-packages (from scipy->torch-sparse) (1.24.3)\n",
      "Looking in links: https://data.pyg.org/whl/nightly/torch-2.0.1.html\n",
      "\u001b[31mERROR: Could not find a version that satisfies the requirement pyg-lib (from versions: none)\u001b[0m\u001b[31m\n",
      "\u001b[0m\u001b[31mERROR: No matching distribution found for pyg-lib\u001b[0m\u001b[31m\n",
      "\u001b[0mCollecting git+https://github.com/pyg-team/pytorch_geometric.git\n",
      "  Cloning https://github.com/pyg-team/pytorch_geometric.git to /private/var/folders/nz/0trbh9kx61d_rsf7yfgbt3gc0000gn/T/pip-req-build-484ivrz6\n",
      "  Running command git clone --filter=blob:none --quiet https://github.com/pyg-team/pytorch_geometric.git /private/var/folders/nz/0trbh9kx61d_rsf7yfgbt3gc0000gn/T/pip-req-build-484ivrz6\n",
      "  Resolved https://github.com/pyg-team/pytorch_geometric.git to commit 999af2312efcdd7bd35e40c9b21c4a6a45464ac5\n",
      "  Installing build dependencies ... \u001b[?25ldone\n",
      "\u001b[?25h  Getting requirements to build wheel ... \u001b[?25ldone\n",
      "\u001b[?25h  Preparing metadata (pyproject.toml) ... \u001b[?25ldone\n",
      "\u001b[?25hRequirement already satisfied: tqdm in /Users/etiksha/miniconda3/lib/python3.11/site-packages (from torch_geometric==2.4.0) (4.65.0)\n",
      "Requirement already satisfied: numpy in /Users/etiksha/miniconda3/lib/python3.11/site-packages (from torch_geometric==2.4.0) (1.24.3)\n",
      "Requirement already satisfied: scipy in /Users/etiksha/miniconda3/lib/python3.11/site-packages (from torch_geometric==2.4.0) (1.11.3)\n",
      "Requirement already satisfied: jinja2 in /Users/etiksha/miniconda3/lib/python3.11/site-packages (from torch_geometric==2.4.0) (3.1.2)\n",
      "Requirement already satisfied: requests in /Users/etiksha/miniconda3/lib/python3.11/site-packages (from torch_geometric==2.4.0) (2.29.0)\n",
      "Requirement already satisfied: pyparsing in /Users/etiksha/miniconda3/lib/python3.11/site-packages (from torch_geometric==2.4.0) (3.1.1)\n",
      "Requirement already satisfied: scikit-learn in /Users/etiksha/miniconda3/lib/python3.11/site-packages (from torch_geometric==2.4.0) (1.3.1)\n",
      "Requirement already satisfied: psutil>=5.8.0 in /Users/etiksha/miniconda3/lib/python3.11/site-packages (from torch_geometric==2.4.0) (5.9.6)\n",
      "Requirement already satisfied: MarkupSafe>=2.0 in /Users/etiksha/miniconda3/lib/python3.11/site-packages (from jinja2->torch_geometric==2.4.0) (2.1.3)\n",
      "Requirement already satisfied: charset-normalizer<4,>=2 in /Users/etiksha/miniconda3/lib/python3.11/site-packages (from requests->torch_geometric==2.4.0) (2.0.4)\n",
      "Requirement already satisfied: idna<4,>=2.5 in /Users/etiksha/miniconda3/lib/python3.11/site-packages (from requests->torch_geometric==2.4.0) (3.4)\n",
      "Requirement already satisfied: urllib3<1.27,>=1.21.1 in /Users/etiksha/miniconda3/lib/python3.11/site-packages (from requests->torch_geometric==2.4.0) (1.26.16)\n",
      "Requirement already satisfied: certifi>=2017.4.17 in /Users/etiksha/miniconda3/lib/python3.11/site-packages (from requests->torch_geometric==2.4.0) (2023.7.22)\n",
      "Requirement already satisfied: joblib>=1.1.1 in /Users/etiksha/miniconda3/lib/python3.11/site-packages (from scikit-learn->torch_geometric==2.4.0) (1.3.2)\n",
      "Requirement already satisfied: threadpoolctl>=2.0.0 in /Users/etiksha/miniconda3/lib/python3.11/site-packages (from scikit-learn->torch_geometric==2.4.0) (3.2.0)\n"
     ]
    }
   ],
   "source": [
    "# Install required packages.\n",
    "import os\n",
    "os.environ['TORCH'] = torch.__version__\n",
    "\n",
    "!pip3 install torch-scatter -f https://data.pyg.org/whl/torch-${TORCH}.html\n",
    "!pip3 install torch-sparse -f https://data.pyg.org/whl/torch-${TORCH}.html\n",
    "!pip3 install pyg-lib -f https://data.pyg.org/whl/nightly/torch-${TORCH}.html\n",
    "!pip3 install git+https://github.com/pyg-team/pytorch_geometric.git"
   ]
  },
  {
   "cell_type": "markdown",
   "metadata": {
    "id": "N_pshZh8Y3dw"
   },
   "source": [
    "## Heterogeneous Graph Creation\n",
    "\n",
    "First, we download the dataset to an arbitrary folder (in this case, the current directory):"
   ]
  },
  {
   "cell_type": "markdown",
   "metadata": {
    "id": "B89RD_evY7uu"
   },
   "source": [
    "### Data"
   ]
  },
  {
   "cell_type": "code",
   "execution_count": 4,
   "metadata": {
    "colab": {
     "base_uri": "https://localhost:8080/"
    },
    "id": "D6ixkcCOwCDi",
    "outputId": "7a5904e6-7fe8-41f6-ced6-3eb41701d016"
   },
   "outputs": [
    {
     "name": "stdout",
     "output_type": "stream",
     "text": [
      "products.csv:\n",
      "===========\n",
      "      product_id        price cms_vertical\n",
      "0  9780000018885   690.000000         book\n",
      "1  9780002245708  2665.000000         book\n",
      "2  9780007154692   333.000000         book\n",
      "3  9780007175185   192.222222         book\n",
      "4  9780007216161   395.000000         book\n",
      "\n",
      "count.csv:\n",
      "============\n",
      "         product_id  count                    account_id_enc\n",
      "0  ACCG2DHTPQRPV4ZP      3  36ee6d3cd4e30b41e7b6aba58641e09a\n",
      "1  ACCG57P5RGWJZARH     13  36ee6d3cd4e30b41e7b6aba58641e09a\n",
      "2  MOBFUSBNAZGY7HQU     16  36ee6d3cd4e30b41e7b6aba58641e09a\n",
      "3  ACCFHYJ8ZU9WDHDW      1  36ee6d3cd4e30b41e7b6aba58641e09a\n",
      "4  ACNGFVMJ5ZKZVFDS      2  36ee6d3cd4e30b41e7b6aba58641e09a\n"
     ]
    }
   ],
   "source": [
    "import pandas as pd\n",
    "\n",
    "df1=pd.read_csv('../data/product_detail_fin.csv')\n",
    "df2=pd.read_csv('../data/ppv_encrypted-001.csv', nrows=100000)\n",
    "\n",
    "print('products.csv:')\n",
    "print('===========')\n",
    "print(df1.head())\n",
    "print()\n",
    "print('count.csv:')\n",
    "print('============')\n",
    "print(df2.head())"
   ]
  },
  {
   "cell_type": "code",
   "execution_count": 5,
   "metadata": {},
   "outputs": [],
   "source": [
    "df3=df1.merge(df2,how='inner',on='product_id')"
   ]
  },
  {
   "cell_type": "code",
   "execution_count": 6,
   "metadata": {},
   "outputs": [],
   "source": [
    "frequency_map = df3['cms_vertical'].value_counts().to_dict()\n",
    "# Map the frequency values to the original column\n",
    "df3['cms_vertical'] = df3['cms_vertical'].map(frequency_map)"
   ]
  },
  {
   "cell_type": "code",
   "execution_count": 7,
   "metadata": {},
   "outputs": [
    {
     "data": {
      "text/html": [
       "<div>\n",
       "<style scoped>\n",
       "    .dataframe tbody tr th:only-of-type {\n",
       "        vertical-align: middle;\n",
       "    }\n",
       "\n",
       "    .dataframe tbody tr th {\n",
       "        vertical-align: top;\n",
       "    }\n",
       "\n",
       "    .dataframe thead th {\n",
       "        text-align: right;\n",
       "    }\n",
       "</style>\n",
       "<table border=\"1\" class=\"dataframe\">\n",
       "  <thead>\n",
       "    <tr style=\"text-align: right;\">\n",
       "      <th></th>\n",
       "      <th>product_id</th>\n",
       "      <th>price</th>\n",
       "      <th>cms_vertical</th>\n",
       "      <th>count</th>\n",
       "      <th>account_id_enc</th>\n",
       "    </tr>\n",
       "  </thead>\n",
       "  <tbody>\n",
       "    <tr>\n",
       "      <th>0</th>\n",
       "      <td>HSYF42FFEHZUJZBP</td>\n",
       "      <td>335.121838</td>\n",
       "      <td>80</td>\n",
       "      <td>2</td>\n",
       "      <td>056b89f05f4b160991cd101b906f87f9</td>\n",
       "    </tr>\n",
       "    <tr>\n",
       "      <th>1</th>\n",
       "      <td>PEND8QGTFHCZR2ZW</td>\n",
       "      <td>346.726268</td>\n",
       "      <td>368</td>\n",
       "      <td>1</td>\n",
       "      <td>e03513938449f4df633637854f391d8c</td>\n",
       "    </tr>\n",
       "    <tr>\n",
       "      <th>2</th>\n",
       "      <td>BPRFDXDUC3Y9GB7H</td>\n",
       "      <td>247.791736</td>\n",
       "      <td>17</td>\n",
       "      <td>1</td>\n",
       "      <td>3e3f6c69bdb0cfa2156481120a5e9354</td>\n",
       "    </tr>\n",
       "    <tr>\n",
       "      <th>3</th>\n",
       "      <td>SBNG3KSFFPVRPN2F</td>\n",
       "      <td>2134.210396</td>\n",
       "      <td>224</td>\n",
       "      <td>2</td>\n",
       "      <td>9d9b4534966a643b16f9cbc54150f021</td>\n",
       "    </tr>\n",
       "    <tr>\n",
       "      <th>4</th>\n",
       "      <td>TBRFUQSSVXPUBQH7</td>\n",
       "      <td>230.632948</td>\n",
       "      <td>2</td>\n",
       "      <td>1</td>\n",
       "      <td>bd12484f5c6969f344f2b3706a8efff6</td>\n",
       "    </tr>\n",
       "    <tr>\n",
       "      <th>...</th>\n",
       "      <td>...</td>\n",
       "      <td>...</td>\n",
       "      <td>...</td>\n",
       "      <td>...</td>\n",
       "      <td>...</td>\n",
       "    </tr>\n",
       "    <tr>\n",
       "      <th>44108</th>\n",
       "      <td>BRAFBB54UNHNXPQM</td>\n",
       "      <td>304.435754</td>\n",
       "      <td>377</td>\n",
       "      <td>1</td>\n",
       "      <td>9123df36ddc2221ed7fd8af470dd9d0b</td>\n",
       "    </tr>\n",
       "    <tr>\n",
       "      <th>44109</th>\n",
       "      <td>FANDXH7GJXZYMHUG</td>\n",
       "      <td>2434.885607</td>\n",
       "      <td>373</td>\n",
       "      <td>1</td>\n",
       "      <td>2348408a304afc45e49a26183aa58d89</td>\n",
       "    </tr>\n",
       "    <tr>\n",
       "      <th>44110</th>\n",
       "      <td>CPHE9NNAZGKA8GHT</td>\n",
       "      <td>154.126450</td>\n",
       "      <td>37</td>\n",
       "      <td>1</td>\n",
       "      <td>08488bbdee624eb956183e62595b7f17</td>\n",
       "    </tr>\n",
       "    <tr>\n",
       "      <th>44111</th>\n",
       "      <td>LSKG4XQ3E8UD5GYH</td>\n",
       "      <td>149.482051</td>\n",
       "      <td>252</td>\n",
       "      <td>1</td>\n",
       "      <td>ff8b130ffa8cf03282a459d08341d02f</td>\n",
       "    </tr>\n",
       "    <tr>\n",
       "      <th>44112</th>\n",
       "      <td>NLAFRSH8YHMBQCAG</td>\n",
       "      <td>188.339703</td>\n",
       "      <td>11</td>\n",
       "      <td>1</td>\n",
       "      <td>6c8d15c65663ad7bfb4e9ecdbe601e3a</td>\n",
       "    </tr>\n",
       "  </tbody>\n",
       "</table>\n",
       "<p>44113 rows × 5 columns</p>\n",
       "</div>"
      ],
      "text/plain": [
       "             product_id        price  cms_vertical  count  \\\n",
       "0      HSYF42FFEHZUJZBP   335.121838            80      2   \n",
       "1      PEND8QGTFHCZR2ZW   346.726268           368      1   \n",
       "2      BPRFDXDUC3Y9GB7H   247.791736            17      1   \n",
       "3      SBNG3KSFFPVRPN2F  2134.210396           224      2   \n",
       "4      TBRFUQSSVXPUBQH7   230.632948             2      1   \n",
       "...                 ...          ...           ...    ...   \n",
       "44108  BRAFBB54UNHNXPQM   304.435754           377      1   \n",
       "44109  FANDXH7GJXZYMHUG  2434.885607           373      1   \n",
       "44110  CPHE9NNAZGKA8GHT   154.126450            37      1   \n",
       "44111  LSKG4XQ3E8UD5GYH   149.482051           252      1   \n",
       "44112  NLAFRSH8YHMBQCAG   188.339703            11      1   \n",
       "\n",
       "                         account_id_enc  \n",
       "0      056b89f05f4b160991cd101b906f87f9  \n",
       "1      e03513938449f4df633637854f391d8c  \n",
       "2      3e3f6c69bdb0cfa2156481120a5e9354  \n",
       "3      9d9b4534966a643b16f9cbc54150f021  \n",
       "4      bd12484f5c6969f344f2b3706a8efff6  \n",
       "...                                 ...  \n",
       "44108  9123df36ddc2221ed7fd8af470dd9d0b  \n",
       "44109  2348408a304afc45e49a26183aa58d89  \n",
       "44110  08488bbdee624eb956183e62595b7f17  \n",
       "44111  ff8b130ffa8cf03282a459d08341d02f  \n",
       "44112  6c8d15c65663ad7bfb4e9ecdbe601e3a  \n",
       "\n",
       "[44113 rows x 5 columns]"
      ]
     },
     "execution_count": 7,
     "metadata": {},
     "output_type": "execute_result"
    }
   ],
   "source": [
    "# dropping rows with high cms and price\n",
    "df3 = df3[df3['cms_vertical'] < 600]\n",
    "df3 = df3[df3['price'] < 3000]\n",
    "df3=df3.sample(frac=1).reset_index(drop=True)\n",
    "df3"
   ]
  },
  {
   "cell_type": "markdown",
   "metadata": {},
   "source": [
    "### Normalise and freq encoding"
   ]
  },
  {
   "cell_type": "code",
   "execution_count": 8,
   "metadata": {},
   "outputs": [],
   "source": [
    "min_val = df3['count'].min()\n",
    "max_val = df3['count'].max()\n",
    "df3['count'] = (df3['count'] - min_val) / (max_val - min_val)\n",
    "min_val = df3['price'].min()\n",
    "max_val = df3['price'].max()\n",
    "df3['price'] = (df3['price'] - min_val) / (max_val - min_val)"
   ]
  },
  {
   "cell_type": "code",
   "execution_count": 9,
   "metadata": {},
   "outputs": [],
   "source": [
    "# User features\n",
    "mean_rating = df2.groupby(\"account_id_enc\")[\"count\"].mean().rename(\"mean\")\n",
    "num_rating = df2.groupby(\"account_id_enc\")[\"product_id\"].count().rename(\"total\")"
   ]
  },
  {
   "cell_type": "code",
   "execution_count": 10,
   "metadata": {},
   "outputs": [
    {
     "data": {
      "text/html": [
       "<div>\n",
       "<style scoped>\n",
       "    .dataframe tbody tr th:only-of-type {\n",
       "        vertical-align: middle;\n",
       "    }\n",
       "\n",
       "    .dataframe tbody tr th {\n",
       "        vertical-align: top;\n",
       "    }\n",
       "\n",
       "    .dataframe thead th {\n",
       "        text-align: right;\n",
       "    }\n",
       "</style>\n",
       "<table border=\"1\" class=\"dataframe\">\n",
       "  <thead>\n",
       "    <tr style=\"text-align: right;\">\n",
       "      <th></th>\n",
       "      <th>product_id</th>\n",
       "      <th>price</th>\n",
       "      <th>cms_vertical</th>\n",
       "      <th>count</th>\n",
       "      <th>account_id_enc</th>\n",
       "    </tr>\n",
       "  </thead>\n",
       "  <tbody>\n",
       "    <tr>\n",
       "      <th>0</th>\n",
       "      <td>HSYF42FFEHZUJZBP</td>\n",
       "      <td>0.111528</td>\n",
       "      <td>80</td>\n",
       "      <td>0.008333</td>\n",
       "      <td>056b89f05f4b160991cd101b906f87f9</td>\n",
       "    </tr>\n",
       "    <tr>\n",
       "      <th>1</th>\n",
       "      <td>PEND8QGTFHCZR2ZW</td>\n",
       "      <td>0.115409</td>\n",
       "      <td>368</td>\n",
       "      <td>0.000000</td>\n",
       "      <td>e03513938449f4df633637854f391d8c</td>\n",
       "    </tr>\n",
       "    <tr>\n",
       "      <th>2</th>\n",
       "      <td>BPRFDXDUC3Y9GB7H</td>\n",
       "      <td>0.082318</td>\n",
       "      <td>17</td>\n",
       "      <td>0.000000</td>\n",
       "      <td>3e3f6c69bdb0cfa2156481120a5e9354</td>\n",
       "    </tr>\n",
       "    <tr>\n",
       "      <th>3</th>\n",
       "      <td>SBNG3KSFFPVRPN2F</td>\n",
       "      <td>0.713281</td>\n",
       "      <td>224</td>\n",
       "      <td>0.008333</td>\n",
       "      <td>9d9b4534966a643b16f9cbc54150f021</td>\n",
       "    </tr>\n",
       "    <tr>\n",
       "      <th>4</th>\n",
       "      <td>TBRFUQSSVXPUBQH7</td>\n",
       "      <td>0.076579</td>\n",
       "      <td>2</td>\n",
       "      <td>0.000000</td>\n",
       "      <td>bd12484f5c6969f344f2b3706a8efff6</td>\n",
       "    </tr>\n",
       "    <tr>\n",
       "      <th>...</th>\n",
       "      <td>...</td>\n",
       "      <td>...</td>\n",
       "      <td>...</td>\n",
       "      <td>...</td>\n",
       "      <td>...</td>\n",
       "    </tr>\n",
       "    <tr>\n",
       "      <th>44108</th>\n",
       "      <td>BRAFBB54UNHNXPQM</td>\n",
       "      <td>0.101264</td>\n",
       "      <td>377</td>\n",
       "      <td>0.000000</td>\n",
       "      <td>9123df36ddc2221ed7fd8af470dd9d0b</td>\n",
       "    </tr>\n",
       "    <tr>\n",
       "      <th>44109</th>\n",
       "      <td>FANDXH7GJXZYMHUG</td>\n",
       "      <td>0.813850</td>\n",
       "      <td>373</td>\n",
       "      <td>0.000000</td>\n",
       "      <td>2348408a304afc45e49a26183aa58d89</td>\n",
       "    </tr>\n",
       "    <tr>\n",
       "      <th>44110</th>\n",
       "      <td>CPHE9NNAZGKA8GHT</td>\n",
       "      <td>0.050989</td>\n",
       "      <td>37</td>\n",
       "      <td>0.000000</td>\n",
       "      <td>08488bbdee624eb956183e62595b7f17</td>\n",
       "    </tr>\n",
       "    <tr>\n",
       "      <th>44111</th>\n",
       "      <td>LSKG4XQ3E8UD5GYH</td>\n",
       "      <td>0.049436</td>\n",
       "      <td>252</td>\n",
       "      <td>0.000000</td>\n",
       "      <td>ff8b130ffa8cf03282a459d08341d02f</td>\n",
       "    </tr>\n",
       "    <tr>\n",
       "      <th>44112</th>\n",
       "      <td>NLAFRSH8YHMBQCAG</td>\n",
       "      <td>0.062433</td>\n",
       "      <td>11</td>\n",
       "      <td>0.000000</td>\n",
       "      <td>6c8d15c65663ad7bfb4e9ecdbe601e3a</td>\n",
       "    </tr>\n",
       "  </tbody>\n",
       "</table>\n",
       "<p>44113 rows × 5 columns</p>\n",
       "</div>"
      ],
      "text/plain": [
       "             product_id     price  cms_vertical     count  \\\n",
       "0      HSYF42FFEHZUJZBP  0.111528            80  0.008333   \n",
       "1      PEND8QGTFHCZR2ZW  0.115409           368  0.000000   \n",
       "2      BPRFDXDUC3Y9GB7H  0.082318            17  0.000000   \n",
       "3      SBNG3KSFFPVRPN2F  0.713281           224  0.008333   \n",
       "4      TBRFUQSSVXPUBQH7  0.076579             2  0.000000   \n",
       "...                 ...       ...           ...       ...   \n",
       "44108  BRAFBB54UNHNXPQM  0.101264           377  0.000000   \n",
       "44109  FANDXH7GJXZYMHUG  0.813850           373  0.000000   \n",
       "44110  CPHE9NNAZGKA8GHT  0.050989            37  0.000000   \n",
       "44111  LSKG4XQ3E8UD5GYH  0.049436           252  0.000000   \n",
       "44112  NLAFRSH8YHMBQCAG  0.062433            11  0.000000   \n",
       "\n",
       "                         account_id_enc  \n",
       "0      056b89f05f4b160991cd101b906f87f9  \n",
       "1      e03513938449f4df633637854f391d8c  \n",
       "2      3e3f6c69bdb0cfa2156481120a5e9354  \n",
       "3      9d9b4534966a643b16f9cbc54150f021  \n",
       "4      bd12484f5c6969f344f2b3706a8efff6  \n",
       "...                                 ...  \n",
       "44108  9123df36ddc2221ed7fd8af470dd9d0b  \n",
       "44109  2348408a304afc45e49a26183aa58d89  \n",
       "44110  08488bbdee624eb956183e62595b7f17  \n",
       "44111  ff8b130ffa8cf03282a459d08341d02f  \n",
       "44112  6c8d15c65663ad7bfb4e9ecdbe601e3a  \n",
       "\n",
       "[44113 rows x 5 columns]"
      ]
     },
     "execution_count": 10,
     "metadata": {},
     "output_type": "execute_result"
    }
   ],
   "source": [
    "df3"
   ]
  },
  {
   "cell_type": "markdown",
   "metadata": {},
   "source": [
    "### Dicts and ids"
   ]
  },
  {
   "cell_type": "code",
   "execution_count": 11,
   "metadata": {},
   "outputs": [],
   "source": [
    "import numpy as np\n",
    "product_ids = np.unique(df3['product_id'])\n",
    "user_ids = np.unique(df3['account_id_enc'])\n",
    "product_dict = {}\n",
    "user_dict = {}\n",
    "for i in range(len(product_ids)):\n",
    "    product_dict[product_ids[i]] = i \n",
    "for i in range(len(user_ids)):\n",
    "    user_dict[user_ids[i]] = i"
   ]
  },
  {
   "cell_type": "code",
   "execution_count": 12,
   "metadata": {},
   "outputs": [
    {
     "data": {
      "text/plain": [
       "{'001c11387163b3efd1e054b53b45a089': 0,\n",
       " '004c635f008509b7c1552c54e51e8c8e': 1,\n",
       " '007bab6a45de82f54e81d22e9176a375': 2,\n",
       " '00823dd4a9edfea5b59e9f0c5f46b2cb': 3,\n",
       " '00843ab6e84044d8144fd6719c5d044c': 4,\n",
       " '009758cf3b5495e81fd454e8761f7d2d': 5,\n",
       " '009b18068ca8def45152efd86a519a6f': 6,\n",
       " '00ce12d76d1d7fdac0a6341c2f3e6307': 7,\n",
       " '00ea051ea6f7c4df1ba76d26c77ae3a8': 8,\n",
       " '00f0ab351a2e6b0534e2c1688b3b962b': 9,\n",
       " '0102da73dc62272bd19e52cf4284cc6e': 10,\n",
       " '011e047cc5a350d9b469b8d648c39b88': 11,\n",
       " '013d657e5cce089f01c9508a5338a8a0': 12,\n",
       " '0147bb989d530571b892046d03e06a92': 13,\n",
       " '0149fbaeb08536f80b655f8e4b118b4c': 14,\n",
       " '0152f30515fe0b9be59a432c0d722341': 15,\n",
       " '01593490bfd42ffe38eff99812e05e65': 16,\n",
       " '0171875ac16b7694e58b5b923f22d15f': 17,\n",
       " '017a76d5691ed07ebac287692453d343': 18,\n",
       " '01851d3a1cf0362dcc608ccb7065a1a8': 19,\n",
       " '019259cc359ba9cf780ce77965be5187': 20,\n",
       " '022176cfc442245a757f0c569ef5e2c9': 21,\n",
       " '026037520872fbff2c3ca87e41105be1': 22,\n",
       " '02664c7538d6f3e81fbfc6bc2c7af048': 23,\n",
       " '027d35826dbd1ee89cef95127e508aef': 24,\n",
       " '0281f2fbee863ef07d6fcd6b650bb798': 25,\n",
       " '02bffe1aa4fa0cc7e017b397f545d598': 26,\n",
       " '02d546f33ec56d8ecb45e00710b9e76e': 27,\n",
       " '0303647f57ded7a6459cc98804c55ea3': 28,\n",
       " '0377444087e4f00f974162af1107882e': 29,\n",
       " '037be7583098e9dc43c12392cff23128': 30,\n",
       " '037ecda8ec01e7c8e270179024c0c0ca': 31,\n",
       " '038e2ce81b20b6fbf678956e021d7e15': 32,\n",
       " '03ace49db39d60b5ed72a0bd40a1de22': 33,\n",
       " '03c3805fed1b5cba3cbb6124b3d9389b': 34,\n",
       " '03d5315cb179cc9f47889ae70b563e97': 35,\n",
       " '040a16f1803aae152d630b841061fe8c': 36,\n",
       " '04303169a76b72219b667cb5e5e1c684': 37,\n",
       " '046745619b433a1d4840dd407118555a': 38,\n",
       " '0477901d91b26856f3450de7b127cca3': 39,\n",
       " '0496600a72785b4534e88d3e9a9b623f': 40,\n",
       " '04aa7ef3a7900c4a6ad427e83851e568': 41,\n",
       " '04afb9894b3d8df726cb7bb883ed9718': 42,\n",
       " '04d467fec5ab8e7a5c280cd324afc823': 43,\n",
       " '04fe2ecf48cf09ec6fc8066090c1c118': 44,\n",
       " '05008f3c5869c9e2617ec7f0860eba30': 45,\n",
       " '0505161a9e88cdde8e4b14ad38c2258d': 46,\n",
       " '050b0f23bee7301597fa090785087f82': 47,\n",
       " '05128eb15a398f30d54c5e066b495fe0': 48,\n",
       " '051c83c3162bb6903ee5ca29d3982366': 49,\n",
       " '0533ae1f5ef41709ac1088018833b7fe': 50,\n",
       " '05559424247b47d9d5f4d37af20ac0a6': 51,\n",
       " '05622a41eeca2bc80f3c2fe46e4bd164': 52,\n",
       " '056b89f05f4b160991cd101b906f87f9': 53,\n",
       " '056ff8bfc8f70d16a8ec6ca08ea48ba5': 54,\n",
       " '0574c1d74fcc3b84586f6390c412a23e': 55,\n",
       " '057d603c57f2c4cd012b142a56172556': 56,\n",
       " '05916395e1a33476399d6d24dd4359e6': 57,\n",
       " '059a5ce48da9f5053f0147a3b8bb04ca': 58,\n",
       " '05bba0199d96f87981b349878435c36a': 59,\n",
       " '05e0bf900362568c9c30f3341d51a900': 60,\n",
       " '05ec200ab7181793f8cb0ed4179b3c07': 61,\n",
       " '05ecf4fc44abb88407426e3bb7e9e2b9': 62,\n",
       " '05ef5f115e497277dc01a7d13ba551a9': 63,\n",
       " '05f5633b68a696aa6973ca407a5286a5': 64,\n",
       " '062cd617290a16b5a8458329c19fcb14': 65,\n",
       " '0643d97869acc677fc79ed38e900a335': 66,\n",
       " '065b224dd65157cfc94a0d17cfb9991a': 67,\n",
       " '066407c961ee3d7c3c03e87543f826e6': 68,\n",
       " '0665bf7f13519d2b44cf153a004106f0': 69,\n",
       " '068fbeeea32d886c98e037777710596a': 70,\n",
       " '06997f742fd7ce2bb816c752ca66d434': 71,\n",
       " '06dca87b8f0477143b1ad5f184b21ee2': 72,\n",
       " '06f8fa6fe62c10cc1e0881e56ef6eb7a': 73,\n",
       " '07246bf97be3f963fc17bf545aa17e27': 74,\n",
       " '07521d6155d1d831cb98b8902e353f71': 75,\n",
       " '0755412bed073cfbf78bd33707f85739': 76,\n",
       " '079d1733470b6cc427557be457ac456d': 77,\n",
       " '079eb273eb22ed89ad1be0e5452575be': 78,\n",
       " '07a972f79f6074871ba68a60285f7fea': 79,\n",
       " '07cad76e846ef5f3844ac627f9bafa85': 80,\n",
       " '07d12c41f8de05818a3fb08a543a4e24': 81,\n",
       " '07d75d422aacb98f519f47c7f74fa806': 82,\n",
       " '081f5f3f34ce7c73c16b550609c9b63d': 83,\n",
       " '08488bbdee624eb956183e62595b7f17': 84,\n",
       " '08758e557754b40496298002f862862e': 85,\n",
       " '0879dadf6e32ad182d6dfe4f26d19d78': 86,\n",
       " '08b3890239f51c54cb3eaba50a1c2cf3': 87,\n",
       " '08b7f50e493b06f17376e38160328064': 88,\n",
       " '08c2ee95c2d2b847076d731eb0755852': 89,\n",
       " '08ded7c19db91ab8157855fe60867408': 90,\n",
       " '08e32a5bcaa80741fe17513506fdb909': 91,\n",
       " '08f0f60500a4582a89ef2e5592330157': 92,\n",
       " '09444902424dbcbb8087cb6532433e79': 93,\n",
       " '095c1861895cdc88cddf765036bdacb8': 94,\n",
       " '09652800132b7894eda6430f521ee30f': 95,\n",
       " '0977095b44bcc4364386911232f52f29': 96,\n",
       " '099faac1abf73ba5fe0a818a63962e5f': 97,\n",
       " '09b27266ce9a70313efb8ff91261c607': 98,\n",
       " '0a0225db4f7f96a03a449ad06d4cfdc8': 99,\n",
       " '0a233281636e62b5a3e5c7c7d58c2dea': 100,\n",
       " '0a26d4e97d8b0176d6ea97055fc6333e': 101,\n",
       " '0a346dabad66bf90e22e8c1d72080179': 102,\n",
       " '0a385192b2dc048caf7c88c85d30f349': 103,\n",
       " '0a3f792a910561bf62eec7f9f48ed964': 104,\n",
       " '0a863e8f46e1ee9a6461bae6064dba83': 105,\n",
       " '0ab56aaed0e2b2f21bd707b66f6ccaca': 106,\n",
       " '0ab7acb5d0f61d85aa9364bede5e33f4': 107,\n",
       " '0abe6874852e4eeb53c168a7b6de516d': 108,\n",
       " '0ac6f7e21ba20b14422b893a97375628': 109,\n",
       " '0acb26f019e7126edc856d07f0b1c7c0': 110,\n",
       " '0ad08828bfee0270d5794ac0d1541505': 111,\n",
       " '0ae3c9391abcfc80ee833f5548a7d9c6': 112,\n",
       " '0afe60002f11adb8f4f9835a4fa8580f': 113,\n",
       " '0affdae35e90739b143c6ff6b5c000b3': 114,\n",
       " '0b186653e1ccd24038e8d7b69ef8edbb': 115,\n",
       " '0b236b12594912f8486e5da76d06837e': 116,\n",
       " '0b27b76d0802e992a3272e7eb360d696': 117,\n",
       " '0b5a97ef038d1626f3e34d90812337dd': 118,\n",
       " '0b96f64a92b5879567451cd1dcbcdd4e': 119,\n",
       " '0be2c6db291f002f987003ea85f4c676': 120,\n",
       " '0c0088050bd68b5cef881461ad54fdf8': 121,\n",
       " '0c098aff1edefc4ed3ff3fe4c5f65f9d': 122,\n",
       " '0c42d1adc972b666427023148feef6d9': 123,\n",
       " '0c48167d1fa4a32391ffe66cad2bd3c8': 124,\n",
       " '0c4ce2fe09da261d1aa3f5b677dc9ac3': 125,\n",
       " '0c5556b73a525d762edd4555334b78a6': 126,\n",
       " '0c5eb29fcc9b7022a5398cd9bdad443a': 127,\n",
       " '0c615a3cb9dd01a9cb87dfa39a0f1fbe': 128,\n",
       " '0c7949df93d391292bb278f7ead38644': 129,\n",
       " '0c90a1aff77f833d304e4df2dcd22d1e': 130,\n",
       " '0ca80f33058af7605a15d20369f3b07d': 131,\n",
       " '0cac0128bc15a95c4af31f0521a6963d': 132,\n",
       " '0cb57a5d9c00c9843ec152cca1842326': 133,\n",
       " '0cc242514a097c474a92e862bfbb097e': 134,\n",
       " '0d3c4145c4a567890f1749b4e890c6c7': 135,\n",
       " '0d6cd7c56c803ec0c86967931845b56e': 136,\n",
       " '0d820fa912f0d24874a93ab5a44fec65': 137,\n",
       " '0d99a017e5d35fe6d5c07fc9129db10f': 138,\n",
       " '0db399c5b702dd06011449759bcfd373': 139,\n",
       " '0db78417713ee5ca510a1295ecb9cd69': 140,\n",
       " '0dbe71d1f78a59e5f86052865acd83cc': 141,\n",
       " '0dc5b630ce871cac101ce617a8dddc8f': 142,\n",
       " '0dcf09bcd448c091457f2cf4653b5736': 143,\n",
       " '0deceb10465c88134d89ca0680e190c7': 144,\n",
       " '0dedd2fe83984331a741655a0c625e96': 145,\n",
       " '0df0bcb2ffe1a15fd45bb3645feabb6b': 146,\n",
       " '0e0d21c726ad0ac1929452b52cd6e52c': 147,\n",
       " '0e0fbfbeb8bee6fbfd18260228152664': 148,\n",
       " '0e1fbe598c0d58b2d8da95575ce49e9c': 149,\n",
       " '0e5d952554e056706cd1165fba7d69fc': 150,\n",
       " '0e6c310f4808803a9375de893f3ba04a': 151,\n",
       " '0e824e7b516bcc8ed17a261118609994': 152,\n",
       " '0e911b43ef250caa792a5d7b57561616': 153,\n",
       " '0e9865b02d9e24689167ce0b1bf5728e': 154,\n",
       " '0eb40bf8c2b6811f7c1e59f7a2455a47': 155,\n",
       " '0eb791c3a12b40f88116ea9da27d1991': 156,\n",
       " '0ebbb0b06c12d153edb7e16be04f25aa': 157,\n",
       " '0ec01d23c9a0cf9ee8020f61cc8c18ec': 158,\n",
       " '0ed2ca2d06bd1662407f4fd337c789d9': 159,\n",
       " '0ed5b5bc78bfda34dd17ad03d0cf737e': 160,\n",
       " '0edd7a9ed873aedee3e961d0b1b20c24': 161,\n",
       " '0eddd63ff66f12e08b6939eefcfd03e2': 162,\n",
       " '0ef3ec702f222f7429ec7eb16d048a86': 163,\n",
       " '0ef8b26452810d5c71447cb8c2eb596c': 164,\n",
       " '0f148e09e657639e14bebf619b9365b5': 165,\n",
       " '0f15c7576e51a4038c4f0fd2faf427e1': 166,\n",
       " '0f2008be93f1e886f7f6aff0c2270e85': 167,\n",
       " '0f3906eb23b228da27e92681cc4c041c': 168,\n",
       " '0f7719ea25b6f980c65480742c503bf6': 169,\n",
       " '0f8007d8f3532ad400be88aed9f26af0': 170,\n",
       " '0f881c090717ff62e74f523b842d12a5': 171,\n",
       " '0f93df9a0a5c8c9413a75eba065c30a4': 172,\n",
       " '0fbf2808712dcc95210390656362c71d': 173,\n",
       " '0fc4e52ae6ef01584d36001d4148834f': 174,\n",
       " '0fe8da2b39bd652c21744ce8d3f6d207': 175,\n",
       " '0ffa9451ea03ae26ccd619d8fe902ca4': 176,\n",
       " '1018594ee27946c63b7ab10a3bcc01c7': 177,\n",
       " '102f614ba009d3bbab8be5d2b904add8': 178,\n",
       " '1056dba6d17dd05ea1fdd4d3bebe73cd': 179,\n",
       " '10656c9fbb369fb312e786d92763cacd': 180,\n",
       " '1075228f8c82ed97b8f8f0331df09e1d': 181,\n",
       " '10b793938aee0cf38737f95abf749415': 182,\n",
       " '10c3f3f875e613400a089dd86ab43861': 183,\n",
       " '10ed7451d385dfc8f0a03ea44963f69e': 184,\n",
       " '1100794df0cb891c49d98bc5a165b807': 185,\n",
       " '110bebe2230e4f1725c7e898cc2ba463': 186,\n",
       " '11256cc579b43d87efa52c226c91bf24': 187,\n",
       " '115247d951cc0bf82fc2ca85328a6257': 188,\n",
       " '1178056b298f46f49716297d5e79b719': 189,\n",
       " '11abfdc1c140299445ad843d7b868f86': 190,\n",
       " '11f164eeac933eb8e089753e0146a563': 191,\n",
       " '122a87da932687373a99b22f0988f973': 192,\n",
       " '124c85d5e521fb215c777ae58c333a93': 193,\n",
       " '125301370282ae664968ae85dea3d864': 194,\n",
       " '1296ad25f5f5752461f99505b7c941d0': 195,\n",
       " '12a2a24dd59ec29de46e1bb8e449e1ff': 196,\n",
       " '12b0878dba3346637cabb1b2b72f4938': 197,\n",
       " '12b5612b42ab25766593b031c9c59014': 198,\n",
       " '12d60b349c407b30179505f329e80721': 199,\n",
       " '12f9eae6e7a6dfde5172223e8789b876': 200,\n",
       " '12ff5297b0910076ed832133883c5a08': 201,\n",
       " '130c0055090103f8e3cddcfd28beb37e': 202,\n",
       " '1321df462e2c812f34585983c2dcbd28': 203,\n",
       " '1326b51d082c85f1c486b12dcbc14835': 204,\n",
       " '13322fa589838713fdf650a5ec2cecf8': 205,\n",
       " '133e520eef0d55e201e1d157a257c845': 206,\n",
       " '137938ab3d8546bf5b03e486913d2225': 207,\n",
       " '138452c8f4dce64a5ca2fba161a5bd08': 208,\n",
       " '13a8ab822f71781c4214821e296d7729': 209,\n",
       " '13d07403dbb7a9a97585625acf98ba2c': 210,\n",
       " '1419553f55ed29a839deceab988831a3': 211,\n",
       " '14369e1c9599292bf5f7d8bbe62608a9': 212,\n",
       " '143f636d72a46902f1cdc5aa39f88570': 213,\n",
       " '1456991ec770c015992491423dbd0cf3': 214,\n",
       " '1482ef9fc3bb25d1a80f3d157a91f352': 215,\n",
       " '14949464811f3ca76e6d520544f4a629': 216,\n",
       " '149be56976c60c548734645ea17f8181': 217,\n",
       " '14b8723e8278b981bdeb7959e8ad3445': 218,\n",
       " '14da1618bc8839d4527ffd87fbc328bd': 219,\n",
       " '15116d6a9a41b96968d51b7e0a7bf89e': 220,\n",
       " '153fe417c38db94e5f51e29163d84e56': 221,\n",
       " '1541ef42b282c97a45521805dcfde2a6': 222,\n",
       " '156879f3c9ed3be6817ebd42e3843fc2': 223,\n",
       " '15831ba03e711a74e0b3c76d97c1d888': 224,\n",
       " '15c5f257e59c71bb8f97e10221db78a8': 225,\n",
       " '160438a1ac5eb7ead6d56a167b67310d': 226,\n",
       " '160b1c9bcd7a1726feb9db4d967aeae6': 227,\n",
       " '1610c398f1035935117ab28d5db809e1': 228,\n",
       " '161c5eb3dbb70d14001eef53159dead0': 229,\n",
       " '165529f9620edf72bbbd0f41d14261fa': 230,\n",
       " '165cabe18ac0d61ebc5901bd44c83b57': 231,\n",
       " '167e08d417ff36772e0a4e97f2250f15': 232,\n",
       " '169ba235ed1102d860e61182063893e1': 233,\n",
       " '16ba8f35bf7e50270e50d6c2499aee72': 234,\n",
       " '16c852df7376aae807052f48b77e1c99': 235,\n",
       " '16cc51df2d8b2e0bcb9a6ec6cde7e65a': 236,\n",
       " '16e13975f6b53447bdbad19920b50eb9': 237,\n",
       " '16ec932c4589f98edade7217c6e41313': 238,\n",
       " '16fad7843dd5ac475db7f343c6fa19ce': 239,\n",
       " '172338039403aa882874ecb1500b6482': 240,\n",
       " '1727bc1c2b7f5810f633a4e4370b166b': 241,\n",
       " '173b285554d51e28d458e5e0f796bff8': 242,\n",
       " '174335289b2d606851c8136e9d1c0350': 243,\n",
       " '17896843fb1bbb1d5254785291abfa78': 244,\n",
       " '17c2df45371d28f1fd3c7d4d7fc96fe4': 245,\n",
       " '17e03bc5c98f75f77561f915b63b7ae8': 246,\n",
       " '1809953b51633823123cd9708b6dce0a': 247,\n",
       " '183d2360eb12d1e66750efd1a32b85f3': 248,\n",
       " '185931b4460e01ad3d30ed0480c9d9ef': 249,\n",
       " '1865158f0d1b3fd6738af81940f56d9e': 250,\n",
       " '187dd58e017ca4aa102aeee6a18eab88': 251,\n",
       " '187f0c50809fd689669378c2d1e1b234': 252,\n",
       " '188086f37ba032935510a255af15a5da': 253,\n",
       " '1888d9058f39edda88ee524df9fe12eb': 254,\n",
       " '18b58c199bd05e234f6b7c59bd6bcbd4': 255,\n",
       " '18ce62792cd645ca0d8bbf2aeea8f97b': 256,\n",
       " '18ebc56f70812d5e35ce99b41446af37': 257,\n",
       " '19179d2f1e872dbb48dcb70f413e7d90': 258,\n",
       " '19277f3805e3f9b1043b37f4512746b2': 259,\n",
       " '193e1a78a473cb2f7acb6a6212e79905': 260,\n",
       " '1946fcecc5bef0c28ac79c866df4b23b': 261,\n",
       " '194d5037d1582b07e9723475a935a38f': 262,\n",
       " '194dc8b5863d523e6728826468e0b400': 263,\n",
       " '1968a190df4b4d5ae19d60077d7ba00d': 264,\n",
       " '19b47db291f232439c4e9181a0146bec': 265,\n",
       " '19b5128df34a40e75624337cb219144b': 266,\n",
       " '19bcaf61da0aafa9a801e1c7475b5bf2': 267,\n",
       " '19de81bdd7faeb7f3e89674dcc6035d8': 268,\n",
       " '19e2c6168a769ecb6988a9493e543290': 269,\n",
       " '19edae23a03d0c2c222c060dd633cb6b': 270,\n",
       " '1a1cac6d7f33a47caebf248938091c91': 271,\n",
       " '1a347c240245e7b53eeabc8a022d9d51': 272,\n",
       " '1a5c876f606b85e9da90192669b0d061': 273,\n",
       " '1a73eb7ac5b41181a3656456c1a3d0be': 274,\n",
       " '1a762aab59cc31ce2047f6b0a6969fd6': 275,\n",
       " '1a9230e7a58e2619e345f8f9cf665d9c': 276,\n",
       " '1a951d5b73ba3c26e5effb9c0b970a4a': 277,\n",
       " '1ac22a48cfbcd9d4dd6a0aa41981f9bf': 278,\n",
       " '1b102b378f88b1ec7eeee986dc0e6561': 279,\n",
       " '1b239865bbe9031a6b97181855427dd5': 280,\n",
       " '1b610ecc20960bd94f18526f78dceeef': 281,\n",
       " '1b9c6acb194cb28690f565d03def052b': 282,\n",
       " '1bbc6f46aff6c78cb6f9aa13e8092225': 283,\n",
       " '1bc4a73e92e0a16e7652533324edd2f7': 284,\n",
       " '1be2744c1e1bf253a5553f3d51d17104': 285,\n",
       " '1be786ad5847f4b17e8a0542c4ff16dd': 286,\n",
       " '1c06f3d8e9272114b58ed0a4ae32ec40': 287,\n",
       " '1c171ae7c846d679e4198fa282342c59': 288,\n",
       " '1c1a35aa6dda2d54376df3ef127a69af': 289,\n",
       " '1c5551d22ce1cd0860f20891dbb76992': 290,\n",
       " '1c816adf324241c856a3bb5c6329c1aa': 291,\n",
       " '1c9b03918eeec2a342f8da8c01792b67': 292,\n",
       " '1ca87f89fbec786e7380b532ed605785': 293,\n",
       " '1cb48fbb86aa1e93b788178dddd00977': 294,\n",
       " '1cb863798d63830ba99d69aae879387c': 295,\n",
       " '1cc252eb8a88c6fb57357d05b37741eb': 296,\n",
       " '1cc6fe4d0a82d412ccc525555364957b': 297,\n",
       " '1d009676f7dbf651f28df71e3db11255': 298,\n",
       " '1d22314b5456c86557a3f5d5e0649a7f': 299,\n",
       " '1d30dbc8728cc0bc7c78e9dcc936978b': 300,\n",
       " '1d3dc96a2c74f48ab7f9678060b24370': 301,\n",
       " '1d42e96c40280348f55b463295b05fbb': 302,\n",
       " '1d8e45ac6ebaf14a8d9c04721b1e432e': 303,\n",
       " '1db5abcd8231d0e04f34afef0b268777': 304,\n",
       " '1db7b29df42219ddc0058168b70c8b1a': 305,\n",
       " '1dcac09ab5026fec04cf21df91536d53': 306,\n",
       " '1dccbc70a575627f6d7f0080e54580d2': 307,\n",
       " '1dd3c493a278e6bf288a459cbec2a129': 308,\n",
       " '1deac52b385a4e52612f4d9da31fc6eb': 309,\n",
       " '1e368222db9f153942da1ded3e7ecfd5': 310,\n",
       " '1e4b80e41dd798cdfdbdcc03d1c27d9c': 311,\n",
       " '1e514f53d0a088b988935c89c8354150': 312,\n",
       " '1e5f586cfc7419a1d4cc63094e3143dd': 313,\n",
       " '1e920db8b2ef41fe419e040d167f2f82': 314,\n",
       " '1ebdbd3715d8dfa0981646f2599590f1': 315,\n",
       " '1ecd03b53e2f7196c652b2dfc728eb5b': 316,\n",
       " '1ed2a17be8d490d76b90ff665a87f8fc': 317,\n",
       " '1efc75dd5e231958a5a59818643f2f17': 318,\n",
       " '1efe65c8058fe722bb65f08af135191c': 319,\n",
       " '1f14c7345e6a17e8510e07a3871f5332': 320,\n",
       " '1f158e1dc7e7faaf9f65eee8a9801585': 321,\n",
       " '1f24fce21f2a6bd3462952cc4925fbab': 322,\n",
       " '1f387db1902a52f97ba3d7d000ac84b2': 323,\n",
       " '1f59b159e74ef7cd02824ad107c484c0': 324,\n",
       " '1f7bbbe7c930de6e34b5bd46db0d4fb9': 325,\n",
       " '1f872d22319cc1895e77fb2294dd8c95': 326,\n",
       " '1f8a7cb3772b7f199ca43d7a55be2c30': 327,\n",
       " '1f8fbd881595da9fca9bab9f7d6db82c': 328,\n",
       " '1f951f9c81da5725a7990a55885c2738': 329,\n",
       " '1f998fe2e8b54c2a009f5ad535495a2b': 330,\n",
       " '1fa396e39623cdc49f579e6bcac8adbc': 331,\n",
       " '1fa858f8489784654c824cc8b4ff22f9': 332,\n",
       " '1fb23b1377e8bae679633b74a068fafc': 333,\n",
       " '1fe37e6eb0f7c6dede195db33bc4d17c': 334,\n",
       " '1fe8c6793e01fafec50ece58163a86da': 335,\n",
       " '1ff3dd9f07977b9addd8921e8b30cf29': 336,\n",
       " '1ffe3d084b5eac5fae90996b5f773ceb': 337,\n",
       " '2003ed9a225186fb1035a2b1b077c91d': 338,\n",
       " '20270c23b88361e1baa6269a27e08420': 339,\n",
       " '203597ca1b2f45707888991269462734': 340,\n",
       " '203f4c2e21d8037908fa1b503ba64440': 341,\n",
       " '2046ff80a7789db6071fc45b7f3d2c56': 342,\n",
       " '204cba9e20b3cf82a796d84bbdbe35bf': 343,\n",
       " '2060c4cc397903dea483762e551c839d': 344,\n",
       " '20c6956e2c266442181025aacbaa5fc3': 345,\n",
       " '20dad77afd7eed89aa7772c94df1de6c': 346,\n",
       " '21002f3d3d6c1770f620d5cb31446776': 347,\n",
       " '21118a06dd6e43a46da8cc923e6e6202': 348,\n",
       " '2122c58a89940b2222693cfc32caa152': 349,\n",
       " '21359a80e24068f2b0db31917f821c4e': 350,\n",
       " '2187a6cce1a4fdf7f7a19c9a932b1cee': 351,\n",
       " '21b5aa7d42c5777a24b1ce8cb57b6e0c': 352,\n",
       " '21ceb08bf64ed726f9bcd7d5afeda2b9': 353,\n",
       " '21e5f59fac11c73d0d424088d33564ef': 354,\n",
       " '21ff5b4ae45def0e6033808351d2c171': 355,\n",
       " '22235f9bc196d0551f3194cb87c754c2': 356,\n",
       " '2224fabcd1e90d44f2097c0e537ef0d7': 357,\n",
       " '22250435d9fe6612e4825695dcd942d5': 358,\n",
       " '223f3cf49c3dd184b7fe5f43c2c39ca9': 359,\n",
       " '22417f4d5c2346ab5e64a95a701addc9': 360,\n",
       " '22568a129861a3c3d3572a3b25fac1ce': 361,\n",
       " '225bb83c9918eb2ddbdf83167437eceb': 362,\n",
       " '227aa6f0f4e972858cc66b327e926bc4': 363,\n",
       " '22bfe78a9fd23c416e0567022f2e2a14': 364,\n",
       " '22d4f4e54772681f4f1120857bfa65bb': 365,\n",
       " '22f12a89cf2b957345d3ff49ae98d9ea': 366,\n",
       " '2338ac98e8d7181b8bb036b5ece5d744': 367,\n",
       " '233f0dcf021362d8b65d6de372dbc8e2': 368,\n",
       " '2348408a304afc45e49a26183aa58d89': 369,\n",
       " '2355515bb513e3c1c575d2a47aa5bb78': 370,\n",
       " '2377b67211bf89a96bf5df6428b7e1ca': 371,\n",
       " '2380f83f5910ac2889b0d736b7d53c02': 372,\n",
       " '23b25805cef1d65a9c33f9d748dad2ad': 373,\n",
       " '23baf46cd1dfbe7f8825fff59838d226': 374,\n",
       " '23ca9cd31cde2a19b5db9bf4a769c9fa': 375,\n",
       " '24382dd63a5723343a4eb4133e9c4e12': 376,\n",
       " '244a325a1b6278eeda194bef1f209e23': 377,\n",
       " '24524f20a19c19575ac388c85a606cf5': 378,\n",
       " '24598e74770c8915a9acdbd21694bebf': 379,\n",
       " '2462c3400fda839c99b8eb7cc2f7e21f': 380,\n",
       " '2465ceeaba452f978c39d4a0a3fd5377': 381,\n",
       " '247010422ff74f71e7d0b4ffbcb50e31': 382,\n",
       " '247cec3f1f65ad656977603de52ddfad': 383,\n",
       " '2485f828421136d03e58bc234dab597d': 384,\n",
       " '24acdf39cc75e5606d2baf73fc9cf4d7': 385,\n",
       " '24b920967f522f91da2b1673e20d1041': 386,\n",
       " '24cbf83f50c43dcec6c8155d0a02f257': 387,\n",
       " '24da078f743fab3751e4a6a49b50ecf4': 388,\n",
       " '24effb48b9db2d0ea9f6619560d99b5e': 389,\n",
       " '24fc6797129ba37cdc78a8fadbbda17a': 390,\n",
       " '2500fb8f2497af0fba470f4db2557679': 391,\n",
       " '253dcf269a5fcd863a83d4a7400941c4': 392,\n",
       " '254edd239366ed92a89e39fde31c56c8': 393,\n",
       " '257040adf64ed2eca06b12f72f86034c': 394,\n",
       " '257063e0250d68fafda847d952715812': 395,\n",
       " '2576cf8596126f424460e5c1c60f4569': 396,\n",
       " '2594595ff54760c5c019db9e4b721eb5': 397,\n",
       " '25dbe27246931b8be059d844d85312fe': 398,\n",
       " '2608e8dc73efc85f626f0d13042fbec5': 399,\n",
       " '260ebe94e9a4338622fd333e1851e674': 400,\n",
       " '262af7cb8fde26933850e13ba096acc3': 401,\n",
       " '2641eb69d8b0f9458e3102063809510b': 402,\n",
       " '2650872e704261ffc4a0aa4c0a6f5f52': 403,\n",
       " '26670970a59ca7685abbe5c704730034': 404,\n",
       " '26719a71b20f814c898388abd933dbb7': 405,\n",
       " '2691e21f1d134c24a1283186a3ab8dd2': 406,\n",
       " '269444c31ff65568a24da737739b0458': 407,\n",
       " '27066b8c3a703c9c1dbdad98cd3fcd13': 408,\n",
       " '27154a5877b78f67b798aafbd54d84a0': 409,\n",
       " '273173adb862a5b2381c803c085095d0': 410,\n",
       " '273890aaddf9a43aeed450a384115075': 411,\n",
       " '273ffec9cf71029aec640c0a23e54751': 412,\n",
       " '2758f49c2d3e80714f9566319aec84df': 413,\n",
       " '275e881e6b785c79b5c1dc0e7af48bc4': 414,\n",
       " '27706332673cd023f87adf2e5d944db4': 415,\n",
       " '277b2c508a3e19308e272a63ac313302': 416,\n",
       " '277b85d4f054884abfb16b6d1be49748': 417,\n",
       " '27f32642b0a8c5f4d4d64ad8a404909b': 418,\n",
       " '27fb1d5712868bb51bb659f73e6b56ea': 419,\n",
       " '27fbaa7298513f5f7b9e80bbe18438e1': 420,\n",
       " '280a71e358f99d2c08ea2c529e0f3e18': 421,\n",
       " '2812abec57dce858c05cad7acfdcc37f': 422,\n",
       " '281619f385f4557525353be3475d49b2': 423,\n",
       " '282be630f105fc463c0a77d451c71706': 424,\n",
       " '283ef96dfe45032923dbbe38c7bf3693': 425,\n",
       " '284da5a3c3b370d52b7b3d1a55337add': 426,\n",
       " '28719851b4650adcf794074b7d6e37c5': 427,\n",
       " '28814eaea5d5956b1b64669bddafede2': 428,\n",
       " '2888efaa6b92eecaf5af1fe2753ae147': 429,\n",
       " '289af65ccc768051b7f060bfb8cb9a87': 430,\n",
       " '28a15f491579a96741ddff13de7250fe': 431,\n",
       " '28c94eb4bf48c8d32071bd4c6946d8a2': 432,\n",
       " '28df153039baef9dc86d3f0aa2dc5dce': 433,\n",
       " '28ed4afcaf26d47fb5fd9deb7aaa8dc1': 434,\n",
       " '29114bd32499a4d599911c70323e4592': 435,\n",
       " '2911fb14dfacc46ed6f1083ad769b0e4': 436,\n",
       " '2925fada7b9d8a3010673671d86e4622': 437,\n",
       " '2950cfac4c4684e7ee2ae526d72011af': 438,\n",
       " '295c0f4337b85c6c6e2f72da3135cc2f': 439,\n",
       " '298fb7fe64bcb159c447797bdb39353f': 440,\n",
       " '29980ac1cebc44ea9bb15fa266b139ae': 441,\n",
       " '29a8f2b2ee78ceeb1e9cb550db9fd146': 442,\n",
       " '29a9b2d199d80a4702c564154022f26a': 443,\n",
       " '29bfbdd8efcb4c289b3c6f012ba8f665': 444,\n",
       " '29cbed295d02322da747560419a785ce': 445,\n",
       " '29d086dbcc97b6223191d9ae1dbb7913': 446,\n",
       " '29dfc71030859cda5b6bfff3e51bfed8': 447,\n",
       " '29e8c1048a48b167ef7a9ab4f86da005': 448,\n",
       " '2a01cd1a8ae42ed135a32476513cf19f': 449,\n",
       " '2a09b7c667448f6ebe57e69f0d71c55a': 450,\n",
       " '2a0fcb679d913fa7ebe04c3dc413cac5': 451,\n",
       " '2a399f9f5dfe2e22d0dfc7c02e36c161': 452,\n",
       " '2a6eedf4a7a6197f697762eb584b74eb': 453,\n",
       " '2a7b01be726de7648681232af60eef9f': 454,\n",
       " '2a89bfc443d288f9c67604a4d1157263': 455,\n",
       " '2a95cac49c0b5fc4972bb388ded8ddf7': 456,\n",
       " '2a982787c12493fd3bd2a7ab2d035175': 457,\n",
       " '2aa4614addd5904e2f67ef1fa2040f50': 458,\n",
       " '2aac8f29ba2833f72146f161ddde2d0b': 459,\n",
       " '2ab50cfe73317cf38d1777b86f9c092e': 460,\n",
       " '2abbe7b3e272789dff9c7421156f6686': 461,\n",
       " '2abc9eeec532e884c7c7e6913aa4a35e': 462,\n",
       " '2acc22dfc2d67e9422ace3da1408a329': 463,\n",
       " '2ae4737446f68871be2bf03377376d3b': 464,\n",
       " '2ae8d748eb2f04632416d40ea28fde47': 465,\n",
       " '2b49af5ae824d69558ecfa1c14b3f9d7': 466,\n",
       " '2b7954ea3b485818172fd2eb987c8c64': 467,\n",
       " '2b8384860126adac418e76d87b3bc795': 468,\n",
       " '2b89667ef1a4967181102cc0b1745eb4': 469,\n",
       " '2b9989a42c88da2bb057f74288bb5b74': 470,\n",
       " '2bba89d41abe2e98437601a7242e6fdd': 471,\n",
       " '2bc421f37ac41cdd584eeb3789226cb6': 472,\n",
       " '2bc94a61651e62c60299faf8683105ee': 473,\n",
       " '2bca997eb17f39818bde65609c7f0010': 474,\n",
       " '2bde43b42f397d58920a13c896293337': 475,\n",
       " '2beb78f5828847552e1eed6399bfab1b': 476,\n",
       " '2bfd2f6fc250a228ea9487e033ef25e0': 477,\n",
       " '2c0c923fa7adac6bfde253423a29e32e': 478,\n",
       " '2c105eab8e2f0f457fd96571c89b96f5': 479,\n",
       " '2c1c1009cba6a04787f047d0ab2b2f06': 480,\n",
       " '2c267b9139d44ce366c46d45c788b464': 481,\n",
       " '2c3a88b6e4dc5122b15598ea66e9ea56': 482,\n",
       " '2c79300f0fb50c78feeff57481f23eb4': 483,\n",
       " '2c80d790b2a1fda20d128953948953c2': 484,\n",
       " '2c87bc9f4fb03b15cd784a000c684dd9': 485,\n",
       " '2ca752077ef16c845938fd230de41d97': 486,\n",
       " '2cb919f2b2db62c83988109630d4a908': 487,\n",
       " '2cc84c87d21f19ab0e147737ecbf03d4': 488,\n",
       " '2cd87d62c263b448bc6070debb6d89d2': 489,\n",
       " '2cf136b7e6f85b3da89ef1af6f2e6732': 490,\n",
       " '2cfc50b8dc63aa3fb59c94129451341a': 491,\n",
       " '2d0a750d3dfe60a31803988f3a7b5aea': 492,\n",
       " '2d22fe11c18463802aaddf7bcf0e310c': 493,\n",
       " '2d2cc30bade3df41519828dd25a398d9': 494,\n",
       " '2d353cf62877406075c7cf96fbc8013b': 495,\n",
       " '2d457540286db067d3613524a23e85c5': 496,\n",
       " '2d60c157f71e7c55926e719fb514ee38': 497,\n",
       " '2d734c0fa1562e8dd3113d7f8526fb36': 498,\n",
       " '2d78b05fcf2a5388df8f87082d66e69a': 499,\n",
       " '2d9a8f3846547aa3d489202d8d0f30bf': 500,\n",
       " '2dafcc5f469f0b227211d75a9dc3f770': 501,\n",
       " '2dbc48c1dd3c2253974837eefb85e940': 502,\n",
       " '2dbd8beeb2a229c6454993af87b6a874': 503,\n",
       " '2dc3d5d1d26fdaeccc6a9a56ebe32334': 504,\n",
       " '2dd12b3647e5947361dc185bddb0b18d': 505,\n",
       " '2de84b6ae85e0b92f266421b40a3e88a': 506,\n",
       " '2df538bd1c0dbefdd1f69c8e4c45c989': 507,\n",
       " '2dfe427c6095dd3e115cabaedac2618b': 508,\n",
       " '2e2aa77dbd5713a90f724c12a258ae26': 509,\n",
       " '2e6067aa3c72e31b95f99996ab745fe5': 510,\n",
       " '2eb10177b7a5b270391f3e30ced6bdb4': 511,\n",
       " '2ebe8510598ceda8a50eab9f57676f31': 512,\n",
       " '2ebf58c6978d68a9f8c989063d60eb23': 513,\n",
       " '2ec5539affe2618b1a47070b14551277': 514,\n",
       " '2ec873d08cf7cb09677195f2c74bba61': 515,\n",
       " '2edbd382d77dd329a08eb3ac5bbe21e3': 516,\n",
       " '2ee75357a4a15eff203651fc624b6cb3': 517,\n",
       " '2efbe1d895de17a7126c2bed70400c2b': 518,\n",
       " '2f13b587dd1b37a5a1ea682f6931e4cc': 519,\n",
       " '2f2f959008daa18311d78ab8bb65f51e': 520,\n",
       " '2f57aecaeddc6978215ad1d038cd7c10': 521,\n",
       " '2f9fd07a26ac38d9edcc23c8e1f5b01b': 522,\n",
       " '2fa80985928d8bb8f708e5eaff3e58ea': 523,\n",
       " '2fbfd4e46c7be0c7085ecfcb0a9e748a': 524,\n",
       " '2fcd4ca29d6264839a3256a7eb02a6f3': 525,\n",
       " '2fe7ebc4d2007b7419e783cf214c9d50': 526,\n",
       " '2ff9b4333c35f02318c8df862427b90d': 527,\n",
       " '300cdb8ffeeed32ca7bc96de9cf4687c': 528,\n",
       " '301503dc64ca47800e54baff439e0af4': 529,\n",
       " '3036e17e5b616a2bd575eef33cf28253': 530,\n",
       " '305183b6af37c16a9423aac391f943e8': 531,\n",
       " '305669473c2731d664597f0bff455606': 532,\n",
       " '3060d35563b144583fb7ad1a204fdc19': 533,\n",
       " '30620f9ba25458b127820ccf954ed852': 534,\n",
       " '3099a2893bcc4698ad715e331411fc55': 535,\n",
       " '30b33ecf3fcdf9b935fdc0b5806a3f6d': 536,\n",
       " '30c5e420cbccf1ed76520b41fd5035b2': 537,\n",
       " '30efcb3eccd13500a5ea68ca8853a923': 538,\n",
       " '30f714848686445e1dbd711395b7affc': 539,\n",
       " '30fa56a3c6146a33d7971142552ba2f6': 540,\n",
       " '30fbf6aab4426e29c6cec0e87df1ee3b': 541,\n",
       " '31023f7b580e40fec833e4b94c5e0959': 542,\n",
       " '312e1fa0270b256beecc91930c3ff379': 543,\n",
       " '313d178e4eefb9494a439839812c20e2': 544,\n",
       " '314e038c7ecc97455b1a201530e29af7': 545,\n",
       " '314fd948d51ecab41a20e1e31e6b5df1': 546,\n",
       " '31560d8166c35b8f8ab1fbd1dae844d7': 547,\n",
       " '315adcc07bd1b042daef66719d09c357': 548,\n",
       " '315bc360be73eed623878ae8886f425c': 549,\n",
       " '31800dcd616e3d362a46b6c84cc04f56': 550,\n",
       " '31877f8d948467b6afb7fbda96d3f288': 551,\n",
       " '318c542a2224ca8c812fc0647bd2b81f': 552,\n",
       " '31ace84cbf6f51a9b76548922edb0a18': 553,\n",
       " '31b4ed93eaea9afcabaefbf3cac41934': 554,\n",
       " '31c62e94728eedec219f9a8b346b38dc': 555,\n",
       " '31e620151bdaab99b626e34eab9ee4fb': 556,\n",
       " '31f249fb3ec495adc474aa616bdb74e6': 557,\n",
       " '31fb712dbcf478408e40018e0f8fcba8': 558,\n",
       " '3207823730cad8debbea17cc70afc52e': 559,\n",
       " '3211557aa9040379c589dbdf8c2dc768': 560,\n",
       " '322638080cda9595f19159959ad7bcfd': 561,\n",
       " '3226db9d084c5762827d90db26a3d55a': 562,\n",
       " '3227d1cd42f81be3e5aa17aa04ef0eb4': 563,\n",
       " '3242a651f4f250f6553795bbfb9a4e58': 564,\n",
       " '324e01d8e1261c5a544704e32047c750': 565,\n",
       " '325704547ca97fc75edae66b8c29d903': 566,\n",
       " '326ac86860061c80da9705e3f15d9594': 567,\n",
       " '327ac49fb384a6d0575d6a463441057f': 568,\n",
       " '328d1ef04e3c0281ef88cd445899a721': 569,\n",
       " '329278797cfe95d6cda25314ef8c9733': 570,\n",
       " '32942c5e6ce4e3ca6871ce297967b354': 571,\n",
       " '32c0af5e3a12afee31df1872f425c099': 572,\n",
       " '32ca597bbb971ea682862d88d528b64f': 573,\n",
       " '32cd67c7cc9317bf2488a646cce3d299': 574,\n",
       " '32d4ce5b3e96903425022f7191068b1d': 575,\n",
       " '32f1080896ead45cb99de48038a423ac': 576,\n",
       " '33163e327e37ce10e4183d348f8afaa0': 577,\n",
       " '333090c36140180666b954e0eb7cb9d2': 578,\n",
       " '33336ec2cbc51718d009aafb546510ba': 579,\n",
       " '333c0574baa8ba55debb2878c6c896a6': 580,\n",
       " '334ce76d02d53bc1021b056f9357a980': 581,\n",
       " '336b16c340c37a7025f4299941af2666': 582,\n",
       " '3388e05295c5c51b47cee981b9bbfe15': 583,\n",
       " '33a782eb4f31cb8acf4d026e93f37545': 584,\n",
       " '33a8da905ad6f7a9cc83e5fe738249c3': 585,\n",
       " '33a93dd8437d5a822e62c238c1250676': 586,\n",
       " '33bffc8c2f4e0638a8b783f0f4df5bc9': 587,\n",
       " '33d6cedb96f5188838a20020e01c876a': 588,\n",
       " '33ea0c3172547361e84680afe3ff5eea': 589,\n",
       " '33ee0450044c285e08f7218c2c2dfb40': 590,\n",
       " '34716b4338934904fc4406a07b979a98': 591,\n",
       " '3476c345991c4696f4a7942202cfd484': 592,\n",
       " '34847495c3f74c088cfc3fed9cd9bb78': 593,\n",
       " '3485377cf514a954974bab0386ef741a': 594,\n",
       " '34944c6c919af9a09276eb714485d5b1': 595,\n",
       " '34a7c4b822acd204d43f317f09fda6ab': 596,\n",
       " '34b10022f51dd86292f93b02abb0f38a': 597,\n",
       " '34bec278cdc75019608b89d57bccebbb': 598,\n",
       " '34c357ec9a585b21b1f10b820c170ca7': 599,\n",
       " '34e24f2fd1bebd357b51d4d4f6e7f4fe': 600,\n",
       " '34fe8d2aac121256df705862f02ad12f': 601,\n",
       " '351be3a15e2dd5ff4abc456dd9a946a3': 602,\n",
       " '351c45488c45c3daa90a7a0486ead04b': 603,\n",
       " '35380e90fd189a87cc4694f87efda0d2': 604,\n",
       " '3550087b8294a9722b7ea701b86832e0': 605,\n",
       " '359494be0d7744811d3c16ef22a4fff6': 606,\n",
       " '35a96566b0fed8d4a3572b18f36a1f19': 607,\n",
       " '35ad140db5d2231e8545db310b259d5e': 608,\n",
       " '35af6becbb0b3b30414faa90d4636db4': 609,\n",
       " '35b9118e308248d41ba1f4a56242a5e2': 610,\n",
       " '35c5eede3d20871e05547f14080d616f': 611,\n",
       " '35ce665cd5a0ef29bf81590f49631e96': 612,\n",
       " '35d096bb533c7f0fdbd413e70b50aad3': 613,\n",
       " '35d77ae6fc28fb0ed6b1138693cb564b': 614,\n",
       " '35f55f045e9462bde607e24299265547': 615,\n",
       " '360685bbf636ca1f801a8d6b9cf0fb5b': 616,\n",
       " '360c2a98c26a0a7c1f03b2264164f460': 617,\n",
       " '360eb8371e53a5474e7fd31929601c4c': 618,\n",
       " '3612cf1386d688e474eaed2caf491f37': 619,\n",
       " '361624953e6cb7ac69a0dee16ec3330e': 620,\n",
       " '3648621e690e0270b3173f44ac8feead': 621,\n",
       " '3650e0dde1397a79100984b3e4705678': 622,\n",
       " '367f3f2f2a35b1b453c66cdc4c6200ce': 623,\n",
       " '368d5d4cfc4071253dd585194a8403f0': 624,\n",
       " '36a51706ee6374e8bde8d90fb7786023': 625,\n",
       " '36ae3f0ea202b050470b4a0d2417998f': 626,\n",
       " '36aedd4d3d219831946a11e82eec5626': 627,\n",
       " '36b0deeb1e9a132decfae0d208e4cbdc': 628,\n",
       " '36c7f42058679f2c17a03a14c8238b68': 629,\n",
       " '36cea28e321f9b35e55168c7e1724252': 630,\n",
       " '36d77c53d3403c0201e125a5efc4dd03': 631,\n",
       " '36ef4533ee2ab6bd3cf0613b832c6585': 632,\n",
       " '36f0fe5c6edbabbdc275a6469dc1319b': 633,\n",
       " '36f52fa6338b34f9abb663cd29d3f39c': 634,\n",
       " '3702061a73456590bcc62d0ee32b3111': 635,\n",
       " '370fcc66a27e2716acaeed166a0c84ba': 636,\n",
       " '373bd45847cfc2833ea1ca1bf06c7fe7': 637,\n",
       " '37592811b1119ceec5e12e848c115203': 638,\n",
       " '375c606e54f9d42d5077a0e10dddee48': 639,\n",
       " '37854e9aee452bde8db6df29aad90c61': 640,\n",
       " '378b29c9aa2a75796e3ec9acb49816d5': 641,\n",
       " '37abf320e2d5937aca8ab3b17d619352': 642,\n",
       " '37c63df4a5c99a145cf7dabeb72829f1': 643,\n",
       " '37e47a56c8936d2049bd74452009f9e3': 644,\n",
       " '37e722d435685478d5edbf5db3c06d2e': 645,\n",
       " '37f60ee9ecc88a2388d6362f5e33bebe': 646,\n",
       " '37f84c25245b26c7c62483858e44cb56': 647,\n",
       " '380bff9e5fdccd44a3550348db01c7e1': 648,\n",
       " '383b2fc0aeae1dda8768fb24385069df': 649,\n",
       " '38412492d5ba6856cd914229925a4502': 650,\n",
       " '38486f86872b2e62fa1c4612751a18c8': 651,\n",
       " '38588d2a0946d902ff4f1c757a3f0e8e': 652,\n",
       " '386aa0488deb1bb2d8349df2e15abea9': 653,\n",
       " '3879fb152428f017d9b21fab1210d3ae': 654,\n",
       " '387ad10fa7c530d72b89f2c2be4aa2fb': 655,\n",
       " '38dfb07d2de5cec6f60dbd16a92098d8': 656,\n",
       " '38e48ced7145848b5bf039ba5d2db6b3': 657,\n",
       " '391a130544c503fe5472f8a7c597aafc': 658,\n",
       " '392388fd489baf5fb3453709d78cc164': 659,\n",
       " '394c669047ab54e4d8131e187f695429': 660,\n",
       " '3950ab265e59511ef39173a571854d73': 661,\n",
       " '395bcb6a306c2991df92c2ae0b5be5e4': 662,\n",
       " '39623c195d36bb64868600eb794463de': 663,\n",
       " '398179b07b79664115ce6763dffb1993': 664,\n",
       " '3988251aab9fbd5b5451d6c564b25904': 665,\n",
       " '398bcf8d7ef0ea8614f94fc025f52335': 666,\n",
       " '399dffb16fb9692951bbea3f2b49a2f1': 667,\n",
       " '39ab4de709c6e7ed4ece9f2f4420cd63': 668,\n",
       " '39dd09775e6f433da8a56a24d25cf0d6': 669,\n",
       " '39ec5e231c04b0bf2e8098104a5fbb9d': 670,\n",
       " '39f973c83b094cd3ca094dd2d2c892a5': 671,\n",
       " '39fdb549f003359d1a3e238bf74feda4': 672,\n",
       " '39fe3423379cba83e44297204f9722a9': 673,\n",
       " '3a0e338571c6bf5e165c755a80e9f55b': 674,\n",
       " '3a1b05b91a9ccd97ca75eb5ec11f065d': 675,\n",
       " '3a1e8333692a37c6b17b83527b01e17e': 676,\n",
       " '3a25d4a7db86e5b174b41962845410f6': 677,\n",
       " '3a266acccb44ea1ce24ba8fffe967b5d': 678,\n",
       " '3a2aa9e8aac3f525e1b4f84d556fb4b4': 679,\n",
       " '3a2d4598ff55c1d6088b9ae824749fd7': 680,\n",
       " '3a8603f0193a1cfdca8e48b1d0db0f1c': 681,\n",
       " '3aaf52e4e9439381d87c075749c8757c': 682,\n",
       " '3ac14cd9bb66d70a8137124e7da3a5cd': 683,\n",
       " '3b0777cf6c6e0fb6a04bf118fba943a2': 684,\n",
       " '3b166582aaf055c6a15b4c7bb35633e8': 685,\n",
       " '3b39639685937e3d958075accceb351b': 686,\n",
       " '3b47eeba4c5453f7391c603bd8bff613': 687,\n",
       " '3b4f48c76113b2439780ea7ebe7bcc47': 688,\n",
       " '3b527214e61c4a20a7d1119e80eed803': 689,\n",
       " '3b6e81aafb060d859cecdac3eb75f6da': 690,\n",
       " '3b7743503d056206a2110c73aff7221e': 691,\n",
       " '3b892d81aaaabb62ea0a55f4bf9a7769': 692,\n",
       " '3b99d04e1b2b727a7781d37308a0fcee': 693,\n",
       " '3ba3352b073ce0ab353104aa0d5e81b4': 694,\n",
       " '3ba6b7e069632f650b37e0ec7bc202b5': 695,\n",
       " '3bab02fab914f57626d35fc8a2511da0': 696,\n",
       " '3baf3fe4f2b4b481a3827aaf95322f26': 697,\n",
       " '3bb5fd472c3c947363e428d0e177f95e': 698,\n",
       " '3bd32b8f453b3cd988d11ee88774f8c2': 699,\n",
       " '3bee24b516bb465829bf45a4f50bc67b': 700,\n",
       " '3c26cb84119aea7c2d9390a9aeb2b888': 701,\n",
       " '3c391881d186db523542a691ddaf10e2': 702,\n",
       " '3c52315fc45c0cc1e52ef825d2f34994': 703,\n",
       " '3c62f5a338c54e6951e729edd94dd3ff': 704,\n",
       " '3c75bb17546c30dd8ea24ee421ff1e69': 705,\n",
       " '3c783dcda4722742131011261e3f5b20': 706,\n",
       " '3c9355c30d3aafe826d584ded667925f': 707,\n",
       " '3cb13ca0244645ce38d9b92b0e24c1cc': 708,\n",
       " '3cbe7de2b1da1bb0443b77889e8c9ed1': 709,\n",
       " '3cdf89f30103d26b573b6069f32db341': 710,\n",
       " '3cec1983e005507337c0b33af0a60964': 711,\n",
       " '3cfcde4cc6f79cefca656bd301dd7400': 712,\n",
       " '3cfe8dd52f9b365940c9eceef3188dc2': 713,\n",
       " '3d1cdcbe58b63beb9fb87b4362914307': 714,\n",
       " '3d27cfc78e22110248d67620cf6fde9d': 715,\n",
       " '3d3515dd12e01ebc5f95a9fc022cc881': 716,\n",
       " '3d3dbfc735a5df5c0aef0bf6646e8abe': 717,\n",
       " '3d6e677c73e333ecc5a4cfdff450f2ab': 718,\n",
       " '3d97816eb7cae7ceaf5a3ae18eaeb077': 719,\n",
       " '3db4cf0d011966176250db158d7da804': 720,\n",
       " '3df8c7c685bd5ad717fe906996463b64': 721,\n",
       " '3e3f6c69bdb0cfa2156481120a5e9354': 722,\n",
       " '3e599df4f4d369d844b0669a5b469631': 723,\n",
       " '3e6b995455cfa6ed801a1c9292f56a21': 724,\n",
       " '3e79e7dd4f139ebc1e5b07e1fdf2a0ae': 725,\n",
       " '3e86024efd026199c6e3afefcda370dd': 726,\n",
       " '3e932485fc5b8e58c9d6b234482e578f': 727,\n",
       " '3ed250a9c55b5cbdce326fcab402dad4': 728,\n",
       " '3ef3421e9da1bc443087e1d4267ea2d0': 729,\n",
       " '3f03babb050d6d2fe334ec52b5ec5fe9': 730,\n",
       " '3f14fa689e91ca43cbb40acf197abb84': 731,\n",
       " '3f25bdc1e293a2ffeaedf8423a19ce67': 732,\n",
       " '3f4a07026619512bf1ede3f9e4adb310': 733,\n",
       " '3f611351630cd082babb5cfda8185945': 734,\n",
       " '3f8c8b11bcd6e1bd2955cbcd51e63c09': 735,\n",
       " '3f942c181d7dfdc419c66e36436a5e92': 736,\n",
       " '3f952f96570eeecd0bb0cacca7a59201': 737,\n",
       " '3fff530b9f3502c1e05761116df196ed': 738,\n",
       " '40172a533c87a73d63a953215ec5a10a': 739,\n",
       " '405369bc92b7e57746deec5e0276154c': 740,\n",
       " '4068b8d55fc78d48c70ad74535982ac5': 741,\n",
       " '40701875f0ba7cf49a86fea43434117e': 742,\n",
       " '40797de4e50ae9dde5ef713864fd5c61': 743,\n",
       " '408bb6d128817c483b7a5d6b351b2a7b': 744,\n",
       " '409302b2791c5ca01b99c29a951a2930': 745,\n",
       " '40bfd77a9daa9838734649516628b2ed': 746,\n",
       " '40c5f66a3f1fc40e769161f97342d529': 747,\n",
       " '40f03ac7e86f6e300cd17ec0c3ceb3ac': 748,\n",
       " '40f1070a5accd63db6fbcf4fdf9c0aff': 749,\n",
       " '40fd5028e26b5fd6239da06f790504b6': 750,\n",
       " '41032fca4f3eb0ccd5b363712db02eb6': 751,\n",
       " '410bec5f9b4d35f71460da80bd6b72f8': 752,\n",
       " '411f9c44a8d5cfe5d94af6bc34c1287f': 753,\n",
       " '41322139a055989935688fbffe4557b2': 754,\n",
       " '416fec28bf4ca1a1d4487c2d4f317152': 755,\n",
       " '41790a917ca4eb7a71f517f8f5c080b7': 756,\n",
       " '419212fa31d86d4b14346e8669c88a3b': 757,\n",
       " '41c18cee68ce638e6cd7437be5d0016b': 758,\n",
       " '41c571c3610f9686fa43718e5d24593f': 759,\n",
       " '41c6781f8188f6463726b65119f431ac': 760,\n",
       " '422581dee5876aae33a9a128249b35d3': 761,\n",
       " '422d6da13fac7081045d7abeefef0012': 762,\n",
       " '4230a31b157402bbc1283dc4103cf925': 763,\n",
       " '42400f07a0b7e9d2f769a76b53717ab1': 764,\n",
       " '4244493782f24a45805540b71dfe60d3': 765,\n",
       " '426655c19c46175306293c16065f26ef': 766,\n",
       " '4277aa88a30415aa341c0f9c0a472437': 767,\n",
       " '4277f784489ebf756a8948a6f9c53cb1': 768,\n",
       " '428f065d82773b87ec8e39280b5c00f7': 769,\n",
       " '42941f87148ade231bee6f31afd1b51b': 770,\n",
       " '42993f3c2c7a830cd89ab72d9077d271': 771,\n",
       " '42aafc979f349ea2844d15e0706e24e8': 772,\n",
       " '42c20a17603b738dd7662a85352cdf80': 773,\n",
       " '42e7c2703504f3154a2a09356eb97f4b': 774,\n",
       " '42eebab477aa23a90b12ba2b609bb714': 775,\n",
       " '42f1dbb202077b1391891e731a5e8b76': 776,\n",
       " '42f8fc7e0143585e7b6b0afd014e50ea': 777,\n",
       " '430a22022b99c221c37ba8771e536656': 778,\n",
       " '4329ec8e28d41944bd73b6eba49da28f': 779,\n",
       " '433c551683e473d25a74916b6339f7fc': 780,\n",
       " '43433b22de412e467dbfbd0480aaa30a': 781,\n",
       " '434c41c7d77b51594d5facb2be117a72': 782,\n",
       " '43593541ec9c3bf26fca4d4048e364dd': 783,\n",
       " '436103e69e83fb4edc693dda853d1cc6': 784,\n",
       " '43688fe0033ceb202a336a4d721f129d': 785,\n",
       " '436f4ac22f110534adb52858f8375c35': 786,\n",
       " '43c24c73dfde95994c6c623c5ed2ab57': 787,\n",
       " '43ce48bcad8042fe6c0b55777443f3f5': 788,\n",
       " '43f05d0bcb4f2c700717f159e5841c64': 789,\n",
       " '43f186c39a230b214b1c5d9cfb6be68b': 790,\n",
       " '43f2148cd21086e66e39697c9df3b0e1': 791,\n",
       " '44404668a87d57f3ad05278dc3354c00': 792,\n",
       " '4444ff9c536612a80a77ffbc4abaca3b': 793,\n",
       " '446b9a67e3d5f9c7752f567356c30f45': 794,\n",
       " '44a5a3b9f659c11eae613b041591d6c0': 795,\n",
       " '44d295e17ae0766ea9657d72f688c99c': 796,\n",
       " '44d2d1ff8b8ca991d89b6dc3d125a11b': 797,\n",
       " '450a4b0efcad3135f602c4e65ee8e10c': 798,\n",
       " '4543f0d80e40a91b774fb3aed13a98bc': 799,\n",
       " '456b17f4c7b5454788aea9d6324480e6': 800,\n",
       " '458ee366a72ead9be47abfdfc6d177b4': 801,\n",
       " '4595e2ba5927d0b1864fc62694246e7e': 802,\n",
       " '45b46292ae8629cc2e22a56600ed548d': 803,\n",
       " '45d1f1a12b702b9bcfb9b3d79e08eb7c': 804,\n",
       " '45fda62851388ef07a801bec94ffb3bc': 805,\n",
       " '45ff62e764926da7d6843785818e7afb': 806,\n",
       " '4627a4ca43528326be576821ec5dd676': 807,\n",
       " '4640fbe2470d4e0c17eb399950c2785f': 808,\n",
       " '466080512bd8c817ade9e77f1248b3c1': 809,\n",
       " '466d392bc12df6dc6f981ed23409ec7a': 810,\n",
       " '467c7394b01704fada42e0fc52c2e2fd': 811,\n",
       " '468600e88d4cc3b0268f60e0e4af1759': 812,\n",
       " '469a593f17b8a25ced1c0bf687859a39': 813,\n",
       " '46ad3252f83a88c6b9ac58ceb7e176f0': 814,\n",
       " '46cb7f021981722cb977b073015c755e': 815,\n",
       " '46d681dd833b30aa7e589c0654e56c5f': 816,\n",
       " '470786e18de4c5c8ed274d15ac7c0353': 817,\n",
       " '4709b813d0990ab68f56dade5f8ba895': 818,\n",
       " '4731fcba4b558599e352b71429f90c4d': 819,\n",
       " '474591c68fe1cca8fb8136e5a53d0722': 820,\n",
       " '4747a976529241fee2572c77f90343de': 821,\n",
       " '475e630279a5d90f06b99c34d159f32e': 822,\n",
       " '477a294a5bf5fff2bbb04c45d3d7c5fc': 823,\n",
       " '478c091b8c7a10b73872a390ebdcc664': 824,\n",
       " '479d85cde47eb6b66d7e1c1b2830e649': 825,\n",
       " '47a3ccf701d31a63e4b660c74d0edd03': 826,\n",
       " '47a66f50618b5a9f67b69383d59d4572': 827,\n",
       " '47b8a97ee1ef1aabd64339174632c034': 828,\n",
       " '47e43686c6d4f6567b9e2a00d42d3684': 829,\n",
       " '4829da3db2e3858027a1943e524f2c88': 830,\n",
       " '4844b34366c5f2a509ad076d3b56ee08': 831,\n",
       " '4856698769412ababf125ffe817570e1': 832,\n",
       " '486a6fd08f02154ce2835ab21bddcdfc': 833,\n",
       " '487a0feae30cb8d842f904288e479cf5': 834,\n",
       " '4884ae1cbb615ad9b2153b4723f41db3': 835,\n",
       " '48974566d8ad596822d599246ccfe990': 836,\n",
       " '48996767df6cc26100ad31f2b9a5fce4': 837,\n",
       " '48a3325eaf0d233439ac5bd7768975a2': 838,\n",
       " '48db52cfcc10a49fd21b16817fc55e44': 839,\n",
       " '48e6552188b4add5d71cd74a21f37a48': 840,\n",
       " '48e7d59de5abbd23f34aeee002d3ec4d': 841,\n",
       " '49148849583213108ebc2a2a07e0fdf5': 842,\n",
       " '491cb1e2e536e216456fb92485a373f6': 843,\n",
       " '49239174304b62e3487214d836c4230e': 844,\n",
       " '492501b430c62d4231eda775cb46d3bd': 845,\n",
       " '493f3328e002624184437ca1f7e7cef2': 846,\n",
       " '49865dac52a4c15f3721de2057ea646a': 847,\n",
       " '499a9924f351e6d44bcfcde4a941eb48': 848,\n",
       " '49a50c4834500415c3740de5ff8828de': 849,\n",
       " '49c334ba8ed5638eb42d8ade026f8a63': 850,\n",
       " '49e41389f8155fd908d362552040f8de': 851,\n",
       " '4a1824d45f724ad7ab17192db238d45c': 852,\n",
       " '4a50d5242797db21a937bfbc88207bd7': 853,\n",
       " '4a5fbd23d67a7141b95f1e7fb232e4c1': 854,\n",
       " '4a6a7f4bdec703208635c9745c704deb': 855,\n",
       " '4a8838a95639070b42c8dd73e0ad1d27': 856,\n",
       " '4a97e240d5ef626116710d1928f83167': 857,\n",
       " '4a997a4baac24e72018e13fe367c1bd2': 858,\n",
       " '4aac971105c6eb79d88ca2f6dc12806b': 859,\n",
       " '4ab2b2c77274f4694701e7649b281e56': 860,\n",
       " '4ac2a7972ebb340ea195a086230561f8': 861,\n",
       " '4ad6027a1a7b48260e3acd2360657e2f': 862,\n",
       " '4b31712a18797d7c5c5ff94cc8319de5': 863,\n",
       " '4b36090c70424d983f709f325c22af28': 864,\n",
       " '4b41039d8d887f34bb31a2961498b314': 865,\n",
       " '4b417d1ef1f4eafe25baf242941e46e1': 866,\n",
       " '4b5819eafb716351e195afb3637a4cbe': 867,\n",
       " '4b61138680afc04a3e0ed9d04248cd53': 868,\n",
       " '4b6650737dc257c74d9526dbb44e1502': 869,\n",
       " '4b70a50e0e323925b5804b14f1adbcec': 870,\n",
       " '4b79f218ea68ba22f329b82d93275639': 871,\n",
       " '4b909f1568f55da9cbdcfa118ff90b8e': 872,\n",
       " '4b97316cf4b47a1c813ccc4bc327a707': 873,\n",
       " '4bb0d19eaf7e7425cec883c2894e91a6': 874,\n",
       " '4bd65e8129e1ce8049f344cec6d5880c': 875,\n",
       " '4be65ab1a668b95fbe5190d95ab555c4': 876,\n",
       " '4c26a2afb1fccc686044476896dcec0d': 877,\n",
       " '4c2777a5112fe245ecff84b4651edc06': 878,\n",
       " '4c4761dd6dac4a001f84c0d3a8c33add': 879,\n",
       " '4c4fae1d11dd9dec73ae109115f5624a': 880,\n",
       " '4c6b31018389127e45e37eb8e8109e52': 881,\n",
       " '4c7925f688f117d6aac4efbfb1122756': 882,\n",
       " '4c7bca5329058c82f3a3a5785caf9134': 883,\n",
       " '4c9e2904315cc4d658e46d10105b712e': 884,\n",
       " '4ca62d81eca5406ac7df6648519f4235': 885,\n",
       " '4cc3c2ff40aa78e48a6ced35e8295667': 886,\n",
       " '4cc633f41896f17e9d4b0bd1d479bd4b': 887,\n",
       " '4cd07e3d66bf11d3979a72b8efffae52': 888,\n",
       " '4cd59e40da2ef8b83004d9510073e00a': 889,\n",
       " '4ce0f508962f8fa427b0db2586c093ca': 890,\n",
       " '4ce5743b04289ecc3d05b7c9dde09ae7': 891,\n",
       " '4cecea336d7e0c34b29005c32d269bb2': 892,\n",
       " '4cf59f33a48998b4db1a7de0a5e79a63': 893,\n",
       " '4d04c63a3b8f188c89bc7a43ef0d4f91': 894,\n",
       " '4d0bf630321addc862945c8587c51251': 895,\n",
       " '4d173b6ccead06ad69dcda511a6e19b5': 896,\n",
       " '4d34b48fd361c72548aa5664e443cb07': 897,\n",
       " '4d5a55e57af1c65bd20245e74b9dba7b': 898,\n",
       " '4d6314f6e539e038d4203fb7c8c7717e': 899,\n",
       " '4d793820c68df52c3ddfc56a997459ec': 900,\n",
       " '4d84a7159d2527fdb9a4ad55d48696cd': 901,\n",
       " '4dcf615661e3bd11e27ef693efc53b50': 902,\n",
       " '4de0ae59dc1ba23e75a059b6ffc9f8e6': 903,\n",
       " '4de1e39875249b35d5c91c2ece5b1514': 904,\n",
       " '4deb0e4b8f3f91005f300752cbcc7322': 905,\n",
       " '4debde2d627eb2f3b31058fd28c86d06': 906,\n",
       " '4e0cf09d93596207ca22d683534004aa': 907,\n",
       " '4e2317dd27e9669e85e6858ee8e33b54': 908,\n",
       " '4e32483e85627224211aa5591c123967': 909,\n",
       " '4e349ce40707c55fb702e65d29fe6c40': 910,\n",
       " '4e414130120996c5ea11460f4d21831a': 911,\n",
       " '4e6e1f3e4470dbe142a3802afe9d5138': 912,\n",
       " '4e780ae4d3fbddb396ddbe41ce8fe83a': 913,\n",
       " '4e9d5f0eaba71a97fd40a5058bf0113d': 914,\n",
       " '4ec858b1e3d51a123e041915a8f932fe': 915,\n",
       " '4ed67e31b730c2cf99f74759306841f2': 916,\n",
       " '4ee82f5acc8152ce4af9a053877dbf99': 917,\n",
       " '4ee95f2f11bcd80e7475b2e77a3d63a9': 918,\n",
       " '4f00938b64c587968941bcf0c0c13b19': 919,\n",
       " '4f585da58915ff3d69e53899e2163cff': 920,\n",
       " '4f80aa8060de43bb92fa2b1134a6aa81': 921,\n",
       " '4f931a37b56c24f15622e63e7e8f4b46': 922,\n",
       " '4fb438c28a3f2c385b00528822572ae4': 923,\n",
       " '4fd03e2cddf93809b335bb39cfa0900d': 924,\n",
       " '4fd88bddae76a5a252721b5a1a184b71': 925,\n",
       " '4ff105c3dd994698369fac430e074ef9': 926,\n",
       " '4ff7f1da78e8df37f184099036dcb8cc': 927,\n",
       " '501c7b15d7b68b60b2d2ca1265a7d98c': 928,\n",
       " '5025041538b860577d7a952d07a1b7b6': 929,\n",
       " '502dcf27070ee0075ed164e9535ab2ba': 930,\n",
       " '503ad18db28f382de7cc877b3e6085bd': 931,\n",
       " '504c479c9992c9b85b9bc58188b74f7a': 932,\n",
       " '505c095fa5054c3bd896c3a774ade7d2': 933,\n",
       " '50735cede965d7537c83fbbdb925be53': 934,\n",
       " '50a998f353738b66bfb8be11d657ed6c': 935,\n",
       " '50a9e7fb23192bf142181e68ea9b26d0': 936,\n",
       " '50dc650a60f1d834722acaa0bdf63368': 937,\n",
       " '5152bc4f1f920d80f983e1032c433203': 938,\n",
       " '5155886bacc2eb8f79610b414a756c3f': 939,\n",
       " '518992db2efb10b674744d0a5dfd59e1': 940,\n",
       " '51a35ab377d651e0ee7ea75a7c1fcb5f': 941,\n",
       " '51a9e8cc5bf87d9d519b5f91a7eb1a20': 942,\n",
       " '51ca2b4bfb913e7977ef0d708b418e87': 943,\n",
       " '51cb0aa10d1cf698200f2d6ff9a0ceef': 944,\n",
       " '51dbccb6ce9a02e98350777f5b51a3cc': 945,\n",
       " '51dd1761a637d1b39b749a5fdf64f86a': 946,\n",
       " '51ef6a24f804ce27f358c068c7a0ea1b': 947,\n",
       " '51f9afe0926690432544dab383f2e769': 948,\n",
       " '51fb9cb6aa6b40d2797349aaf336bbde': 949,\n",
       " '520a10b8315d88841cd6943980797249': 950,\n",
       " '52352368b5bd76b20fa223f1ba0b1fbd': 951,\n",
       " '523a1f75180198f1316bb51123586ad4': 952,\n",
       " '52495260dc571cd40f045c3674aa675b': 953,\n",
       " '52709e58f645d4d93ef2dc9eb6833247': 954,\n",
       " '52723cbc2ac2b6836f912d756f40f39a': 955,\n",
       " '527dd29d6be0a5d9e6aea750bd251920': 956,\n",
       " '52903cacb120f37ca8f48de224e1874c': 957,\n",
       " '52e21e1c7162a67c77d2008417339ddc': 958,\n",
       " '52f0ab619b61895e716a05f2ab7e3015': 959,\n",
       " '5312563056fd9b2b326797dfeccc8022': 960,\n",
       " '531ad1b4d4fe83b2cf996db426fbef9f': 961,\n",
       " '53269feae03ace1bab2b11e3214972df': 962,\n",
       " '535ca111aa9d1ebb15a2b89c91141637': 963,\n",
       " '538f2c444f6d15e9734c6e4c9a88a8e3': 964,\n",
       " '5394b5e8f6c7e75228646cd75fdc3b8b': 965,\n",
       " '53982d798750bb570946246a46b43db4': 966,\n",
       " '53a5f17c0fe57435ded1d512029fcd7d': 967,\n",
       " '53b55649c453f7f13eac7d67b81d9a4d': 968,\n",
       " '53b6797f0cc1b2e9bec93232a79fe2c4': 969,\n",
       " '53bb0f09536068fa549dc653e1864f41': 970,\n",
       " '53f083d14b2468c59fe7fc3ca63400d7': 971,\n",
       " '53f6851d0903120990d9bfc5dc3c797b': 972,\n",
       " '53fb02283266e89658e9023ae1f83773': 973,\n",
       " '540a1a6f916b91d17bf97fe7bdadd41e': 974,\n",
       " '54256394bfe6d8ec640e23b62758b800': 975,\n",
       " '543092b02c7a23c857dd0f18ef026499': 976,\n",
       " '544a2df1c1f09b718d6dc7e3b01bad5e': 977,\n",
       " '545271dfddb604a642ea471cd597c5e2': 978,\n",
       " '548cb0e0502842e009a52018738a428f': 979,\n",
       " '549b9645471fa49621ae3fff2bcc5b20': 980,\n",
       " '54a860d697428b601a2dbf3612c08aba': 981,\n",
       " '54cb0ea232f1a6d7a7980d4ebd80e4a6': 982,\n",
       " '54e70ed7ade2a277840d35afe2ef897e': 983,\n",
       " '54f9552f592d15d0be97d4bd7768470d': 984,\n",
       " '550b6d311c7a1268a4802466ae93c84e': 985,\n",
       " '55129839d17ee171593605555e8b2e27': 986,\n",
       " '5515f61cd88fd2db65b2eca4fc114bd8': 987,\n",
       " '553c34170e9ddda89c031fdaec733c98': 988,\n",
       " '5568d132a832f9ef25ca0ca520ad0eab': 989,\n",
       " '559b3f80efd9e2fc08ce5aa47a676172': 990,\n",
       " '55ad0613aeb7c68907e2c3a9a64aa850': 991,\n",
       " '55c013696f58f0f6faa88abf4a8c5069': 992,\n",
       " '55dfc9194b35657b846a8fa9afe603f3': 993,\n",
       " '55eb46813c6c0fc014ce81b4069039c3': 994,\n",
       " '55f5c57c76e2c223ba23f8bda1cf99ef': 995,\n",
       " '5619f7def1a2c60e1cbba35f8572e3d4': 996,\n",
       " '56512bb6fe631b647b73402e7118b191': 997,\n",
       " '565b4ea8406909973b8b7bf05ab16bb7': 998,\n",
       " '567cfae0511899e8aaba333f77af4f51': 999,\n",
       " ...}"
      ]
     },
     "execution_count": 12,
     "metadata": {},
     "output_type": "execute_result"
    }
   ],
   "source": [
    "user_dict"
   ]
  },
  {
   "cell_type": "code",
   "execution_count": 13,
   "metadata": {},
   "outputs": [
    {
     "data": {
      "text/plain": [
       "{'9780008123208': 0,\n",
       " '9780008386597': 1,\n",
       " '9780062312686': 2,\n",
       " '9780062641540': 3,\n",
       " '9780071074827': 4,\n",
       " '9780099572862': 5,\n",
       " '9780143028574': 6,\n",
       " '9780143062226': 7,\n",
       " '9780143333166': 8,\n",
       " '9780143424123': 9,\n",
       " '9780143424680': 10,\n",
       " '9780143442295': 11,\n",
       " '9780143442950': 12,\n",
       " '9780143442974': 13,\n",
       " '9780143446248': 14,\n",
       " '9780143450832': 15,\n",
       " '9780143452676': 16,\n",
       " '9780143453635': 17,\n",
       " '9780190123659': 18,\n",
       " '9780195628166': 19,\n",
       " '9780195687859': 20,\n",
       " '9780198075554': 21,\n",
       " '9780198076407': 22,\n",
       " '9780199472222': 23,\n",
       " '9780670093250': 24,\n",
       " '9781408855652': 25,\n",
       " '9781409303183': 26,\n",
       " '9781444775815': 27,\n",
       " '9781542040464': 28,\n",
       " '9781542094139': 29,\n",
       " '9781612680194': 30,\n",
       " '9781786330895': 31,\n",
       " '9781847941831': 32,\n",
       " '9786273549903': 33,\n",
       " '9788121905510': 34,\n",
       " '9788121924405': 35,\n",
       " '9788121924986': 36,\n",
       " '9788129118929': 37,\n",
       " '9788129135513': 38,\n",
       " '9788129142146': 39,\n",
       " '9788129142153': 40,\n",
       " '9788131017746': 41,\n",
       " '9788131251430': 42,\n",
       " '9788171673407': 43,\n",
       " '9788172234881': 44,\n",
       " '9788172234980': 45,\n",
       " '9788172345662': 46,\n",
       " '9788174505811': 47,\n",
       " '9788174507099': 48,\n",
       " '9788175960299': 49,\n",
       " '9788177091878': 50,\n",
       " '9788177099850': 51,\n",
       " '9788179921623': 52,\n",
       " '9788179922323': 53,\n",
       " '9788183071000': 54,\n",
       " '9788183220187': 55,\n",
       " '9788183225090': 56,\n",
       " '9788183481397': 57,\n",
       " '9788184955699': 58,\n",
       " '9788186775219': 59,\n",
       " '9788192910963': 60,\n",
       " '9788192933542': 61,\n",
       " '9788193074305': 62,\n",
       " '9788193466247': 63,\n",
       " '9788193631409': 64,\n",
       " '9788193698709': 65,\n",
       " '9788193752388': 66,\n",
       " '9788193840627': 67,\n",
       " '9788193925355': 68,\n",
       " '9788194032656': 69,\n",
       " '9788194144304': 70,\n",
       " '9788194232841': 71,\n",
       " '9788194298670': 72,\n",
       " '9788194748212': 73,\n",
       " '9788194790839': 74,\n",
       " '9788194815013': 75,\n",
       " '9788194898825': 76,\n",
       " '9788194963882': 77,\n",
       " '9788195181414': 78,\n",
       " '9788195181421': 79,\n",
       " '9789311121260': 80,\n",
       " '9789312149836': 81,\n",
       " '9789313160281': 82,\n",
       " '9789313166757': 83,\n",
       " '9789313168805': 84,\n",
       " '9789313193098': 85,\n",
       " '9789324191823': 86,\n",
       " '9789324192677': 87,\n",
       " '9789324195395': 88,\n",
       " '9789324195654': 89,\n",
       " '9789324195685': 90,\n",
       " '9789324196194': 91,\n",
       " '9789324196224': 92,\n",
       " '9789325292475': 93,\n",
       " '9789325293397': 94,\n",
       " '9789325293458': 95,\n",
       " '9789325293687': 96,\n",
       " '9789325295414': 97,\n",
       " '9789325295568': 98,\n",
       " '9789325295933': 99,\n",
       " '9789325295957': 100,\n",
       " '9789325296121': 101,\n",
       " '9789325296473': 102,\n",
       " '9789325298323': 103,\n",
       " '9789325299542': 104,\n",
       " '9789325791718': 105,\n",
       " '9789350122518': 106,\n",
       " '9789350122686': 107,\n",
       " '9789350271698': 108,\n",
       " '9789350481462': 109,\n",
       " '9789350487976': 110,\n",
       " '9789350944820': 111,\n",
       " '9789351767664': 112,\n",
       " '9789351768449': 113,\n",
       " '9789351772071': 114,\n",
       " '9789352534029': 115,\n",
       " '9789352701544': 116,\n",
       " '9789352831357': 117,\n",
       " '9789352832163': 118,\n",
       " '9789352833726': 119,\n",
       " '9789353168193': 120,\n",
       " '9789353338459': 121,\n",
       " '9789354352492': 122,\n",
       " '9789354492969': 123,\n",
       " '9789356752146': 124,\n",
       " '9789381448915': 125,\n",
       " '9789381588789': 126,\n",
       " '9789382219163': 127,\n",
       " '9789382311034': 128,\n",
       " '9789382665250': 129,\n",
       " '9789384761165': 130,\n",
       " '9789384761172': 131,\n",
       " '9789384761547': 132,\n",
       " '9789384761585': 133,\n",
       " '9789385986185': 134,\n",
       " '9789386173058': 135,\n",
       " '9789386300836': 136,\n",
       " '9789386320179': 137,\n",
       " '9789386759795': 138,\n",
       " '9789386845436': 139,\n",
       " '9789387022812': 140,\n",
       " '9789387779310': 141,\n",
       " '9789388013239': 142,\n",
       " '9789388028028': 143,\n",
       " '9789388240130': 144,\n",
       " '9789388240208': 145,\n",
       " '9789388333566': 146,\n",
       " '9789388373760': 147,\n",
       " '9789388550079': 148,\n",
       " '9789388810104': 149,\n",
       " '9789388810111': 150,\n",
       " '9789389053548': 151,\n",
       " '9789389053555': 152,\n",
       " '9789389053814': 153,\n",
       " '9789389053838': 154,\n",
       " '9789389261981': 155,\n",
       " '9789389538472': 156,\n",
       " '9789389538489': 157,\n",
       " '9789389567472': 158,\n",
       " '9789389811391': 159,\n",
       " '9789389811407': 160,\n",
       " '9789389949186': 161,\n",
       " '9789390062331': 162,\n",
       " '9789390166268': 163,\n",
       " '9789390183036': 164,\n",
       " '9789390183050': 165,\n",
       " '9789390185719': 166,\n",
       " '9789390219575': 167,\n",
       " '9789390251025': 168,\n",
       " '9789390315291': 169,\n",
       " '9789390351473': 170,\n",
       " '9789390391516': 171,\n",
       " '9789390486281': 172,\n",
       " '9789390564705': 173,\n",
       " '9789390577675': 174,\n",
       " '9789390727735': 175,\n",
       " '9789390883264': 176,\n",
       " '9789390883318': 177,\n",
       " '9789390883400': 178,\n",
       " '9789390927166': 179,\n",
       " '9789390927319': 180,\n",
       " '9789391025595': 181,\n",
       " '9789391401610': 182,\n",
       " '9789432657518': 183,\n",
       " '9789799509963': 184,\n",
       " 'AAOFG9G4TUH3YDFY': 185,\n",
       " 'AAOFGF2S9GJYVVQU': 186,\n",
       " 'ABEEFZJ8FHKW7QGF': 187,\n",
       " 'ABEF35HWKZJUGCXQ': 188,\n",
       " 'ABEF8KFEYF4NEZCR': 189,\n",
       " 'ABEFDWGSGRJZEGMG': 190,\n",
       " 'ABEFFFTYBYW9WAGB': 191,\n",
       " 'ABEFHF86F5NRNTJG': 192,\n",
       " 'ABEFN2EQAP2SREM2': 193,\n",
       " 'ABEFSVCZUJZ6W6ZX': 194,\n",
       " 'ABEFT45UCNR9EPZY': 195,\n",
       " 'ABEFTZQ4BAFDFCAH': 196,\n",
       " 'ABEFUPDKEBDAFGGB': 197,\n",
       " 'ABEFV2BZGHRVJSZZ': 198,\n",
       " 'ABEFXCAQX29TKGCW': 199,\n",
       " 'ABEFZB7KVQHGV6DY': 200,\n",
       " 'ABEG5GNAGDFEBGGX': 201,\n",
       " 'ABEG5YJ6BFTXBS8R': 202,\n",
       " 'ABMFCBVQRWWNRAFW': 203,\n",
       " 'ABMFCY7N9XSSSSZY': 204,\n",
       " 'ABMFFTGY2PXXZRAC': 205,\n",
       " 'ABMFHG5ZRRHRYAEX': 206,\n",
       " 'ABMGYKWV3RBYYQGE': 207,\n",
       " 'ABQFE7CDDAR577GH': 208,\n",
       " 'ABQFT8ZHCHQNWYWT': 209,\n",
       " 'ABQFVDJGTQHUAMVQ': 210,\n",
       " 'ABQFXH9AWGHB2ECR': 211,\n",
       " 'ABQGFYHVUKPVGEFK': 212,\n",
       " 'ACCCRRQZJFYGNFRM': 213,\n",
       " 'ACCCWPADYYFEJ7ZG': 214,\n",
       " 'ACCCWPD9GHRJ4GAP': 215,\n",
       " 'ACCCZZC9ZGAH97QE': 216,\n",
       " 'ACCD9XW3YU6VYCYS': 217,\n",
       " 'ACCD9ZYYETH3FADD': 218,\n",
       " 'ACCDBFEVHVDG2DMJ': 219,\n",
       " 'ACCDEDVG9DS8GG9Z': 220,\n",
       " 'ACCDEE5SFBX9WRRQ': 221,\n",
       " 'ACCDG6H4HVFGAZ6M': 222,\n",
       " 'ACCDH7MFZJGRWJCW': 223,\n",
       " 'ACCDHJZYGACAZBJG': 224,\n",
       " 'ACCDHVDWGJUN5DEG': 225,\n",
       " 'ACCDKRYYXFAZJ7S3': 226,\n",
       " 'ACCDPV8Q2MBJP3TZ': 227,\n",
       " 'ACCDSYDFMHUKZX9H': 228,\n",
       " 'ACCDSYDFPZMAHYKG': 229,\n",
       " 'ACCDTR26KZZMSB57': 230,\n",
       " 'ACCDZ34F82FWXAGM': 231,\n",
       " 'ACCDZ3QBRSV9FZHG': 232,\n",
       " 'ACCDZ583WDDSDY3F': 233,\n",
       " 'ACCE2A6RAHXPYHWT': 234,\n",
       " 'ACCE4U6JNPGWQVYZ': 235,\n",
       " 'ACCE5E95HWRFXBMM': 236,\n",
       " 'ACCE5HMYN25RRPXG': 237,\n",
       " 'ACCE94WY6QPXKXFN': 238,\n",
       " 'ACCEDUQDHA8SY853': 239,\n",
       " 'ACCEF6QMZP3YEP79': 240,\n",
       " 'ACCEFCP65ZZBFQSE': 241,\n",
       " 'ACCEGVTXGKZDXFRX': 242,\n",
       " 'ACCEHDYAKFAJ7EYQ': 243,\n",
       " 'ACCEHJ4KYQEHQW5W': 244,\n",
       " 'ACCEHJSRXBQGRQDV': 245,\n",
       " 'ACCEHSEZESFHWBSD': 246,\n",
       " 'ACCEHWAA5HHM6PPG': 247,\n",
       " 'ACCEHWAAFNCQ8B4G': 248,\n",
       " 'ACCEHYGNKHFBUXJR': 249,\n",
       " 'ACCEKM2GZAGFW2TM': 250,\n",
       " 'ACCEMA53DFSNZMHU': 251,\n",
       " 'ACCEMA5FGTK2YZXV': 252,\n",
       " 'ACCEMZ7HKUA6PCPG': 253,\n",
       " 'ACCENKQ3NGUZ5WSH': 254,\n",
       " 'ACCENUZA28X2PQ4G': 255,\n",
       " 'ACCENUZAEYTH8U7S': 256,\n",
       " 'ACCENUZASQAYW4MD': 257,\n",
       " 'ACCEPB2FWAVBFTEX': 258,\n",
       " 'ACCEPE3APHE3AGYE': 259,\n",
       " 'ACCEQAEUXGNER36C': 260,\n",
       " 'ACCEQAEVFEQHCYER': 261,\n",
       " 'ACCEQHA3GGC88ZKM': 262,\n",
       " 'ACCEQTG68M3MUYRH': 263,\n",
       " 'ACCER3N8PAWM229R': 264,\n",
       " 'ACCERG6Q5WEZUCDG': 265,\n",
       " 'ACCERG6SECUTYXHH': 266,\n",
       " 'ACCERZGMHSZGZGQQ': 267,\n",
       " 'ACCES6YFGJFF7GFJ': 268,\n",
       " 'ACCESAGFG7RZ7NYQ': 269,\n",
       " 'ACCESCT8D5398PFD': 270,\n",
       " 'ACCESFBCEYS4RGWP': 271,\n",
       " 'ACCET6ZFCGEG7GZE': 272,\n",
       " 'ACCEUAK85EPBRF7P': 273,\n",
       " 'ACCEUEFXZEKWUM7Q': 274,\n",
       " 'ACCEUHMJC6HH2MH5': 275,\n",
       " 'ACCEUHMJYT7HWTV7': 276,\n",
       " 'ACCEUJSTP25VGBF5': 277,\n",
       " 'ACCEUJSTQUZH4XEP': 278,\n",
       " 'ACCEV6GJWG5QKXU6': 279,\n",
       " 'ACCEV6GMXQTQMS3G': 280,\n",
       " 'ACCEV6HYAAMVCTGY': 281,\n",
       " 'ACCEWB239ZBGEQW2': 282,\n",
       " 'ACCEWR3RYXRHEGEX': 283,\n",
       " 'ACCEWZBYFKGXEERY': 284,\n",
       " 'ACCEYVUNTBZTSCFU': 285,\n",
       " 'ACCEZ24V3AM8JDG9': 286,\n",
       " 'ACCEZ3YWU75CERHH': 287,\n",
       " 'ACCEZQH4M8UEMHHA': 288,\n",
       " 'ACCEZU7NX3XQHTHK': 289,\n",
       " 'ACCF23XZE7HGWSCA': 290,\n",
       " 'ACCF2FHEHHD3XBUC': 291,\n",
       " 'ACCF2UJWWWYQJ76Q': 292,\n",
       " 'ACCF2UVNKYZEN5TS': 293,\n",
       " 'ACCF3GYQBJRPXS7W': 294,\n",
       " 'ACCF3H96AUH4MACV': 295,\n",
       " 'ACCF48HMFFEJB3HW': 296,\n",
       " 'ACCF4B5XEVYCUJCH': 297,\n",
       " 'ACCF4Z7HHCB3ZY86': 298,\n",
       " 'ACCF59APNTHZ59BZ': 299,\n",
       " 'ACCF5G57ZHURP9MZ': 300,\n",
       " 'ACCF5Q2FBDBUZPAU': 301,\n",
       " 'ACCF5QYU4XDWG3RD': 302,\n",
       " 'ACCF5QZNXPPTGZVE': 303,\n",
       " 'ACCF5QZVSH4XRNC2': 304,\n",
       " 'ACCF5ZYFNRUU3RCV': 305,\n",
       " 'ACCF5ZYFVZYTX6ZJ': 306,\n",
       " 'ACCF6EBGFGYU32JS': 307,\n",
       " 'ACCF6GT7KSYXQYZ7': 308,\n",
       " 'ACCF6K6QRFKSQYFB': 309,\n",
       " 'ACCF6YH4TZZ2ZP7H': 310,\n",
       " 'ACCF765QMGVKYRTX': 311,\n",
       " 'ACCF765QYZKJDMHG': 312,\n",
       " 'ACCF7GP2FHNTPVCH': 313,\n",
       " 'ACCF7HJAVEWTRUX7': 314,\n",
       " 'ACCF7MR6U65AWYHX': 315,\n",
       " 'ACCF7TH2QHGDTKQE': 316,\n",
       " 'ACCF7TH2YBDTX6FB': 317,\n",
       " 'ACCF7UZRZSUHKXGY': 318,\n",
       " 'ACCF7VMYF7QZFKMZ': 319,\n",
       " 'ACCF7XVD9R7BXBYU': 320,\n",
       " 'ACCF7XWNGE5ZY78V': 321,\n",
       " 'ACCF7Y2MVPU5FGCN': 322,\n",
       " 'ACCF86QFCSRGHXQD': 323,\n",
       " 'ACCF895WSJTCEYAT': 324,\n",
       " 'ACCF8HVTSM4A67RX': 325,\n",
       " 'ACCF8K7KPGAWCTMF': 326,\n",
       " 'ACCF8PNFEW3FVZYY': 327,\n",
       " 'ACCF8PNNJVZHSDKM': 328,\n",
       " 'ACCF8TFYYARYBZN6': 329,\n",
       " 'ACCF8TZFZMZJMYWC': 330,\n",
       " 'ACCF8ZNAQZCYBGGT': 331,\n",
       " 'ACCF97SDJRA8DN5Q': 332,\n",
       " 'ACCF97SDYYK9BWVW': 333,\n",
       " 'ACCF97SEZGGJM4H2': 334,\n",
       " 'ACCF98PHBCRYUD3Z': 335,\n",
       " 'ACCF9FH5BZZTBVCE': 336,\n",
       " 'ACCF9NYH59RGGXQ3': 337,\n",
       " 'ACCFABX28BYSGXRX': 338,\n",
       " 'ACCFAFXCZMDPXSGD': 339,\n",
       " 'ACCFAGYSXGSY2XGH': 340,\n",
       " 'ACCFAHEZ9HEFPHMG': 341,\n",
       " 'ACCFAUEFZT5R72ZS': 342,\n",
       " 'ACCFAWN5GEZHBFJU': 343,\n",
       " 'ACCFB9ZMHZ2CFAGP': 344,\n",
       " 'ACCFBBGH2TGH2KYJ': 345,\n",
       " 'ACCFBDCVVNXUWBXH': 346,\n",
       " 'ACCFBFGHEA8H7F7Q': 347,\n",
       " 'ACCFBGYGS2DSQEP8': 348,\n",
       " 'ACCFBHF4JEBNGGEK': 349,\n",
       " 'ACCFBJY34XNA5HZW': 350,\n",
       " 'ACCFBKA2KYKSJH3D': 351,\n",
       " 'ACCFBNFB8HEHHPHW': 352,\n",
       " 'ACCFBNFGHDKWAEJN': 353,\n",
       " 'ACCFBNHQYHKJPMEZ': 354,\n",
       " 'ACCFBPGH5S2PZGBC': 355,\n",
       " 'ACCFBPGHR8HWPHUF': 356,\n",
       " 'ACCFBYHEFYCWVBQF': 357,\n",
       " 'ACCFBZCZF8HVEQYX': 358,\n",
       " 'ACCFC599PYYHZHZH': 359,\n",
       " 'ACCFC7GJWYFGZSNH': 360,\n",
       " 'ACCFCBY7VFAPRX2N': 361,\n",
       " 'ACCFCF5YDCBMZNCB': 362,\n",
       " 'ACCFCF5YFFNN3WRT': 363,\n",
       " 'ACCFCHYK8ZXTEYC3': 364,\n",
       " 'ACCFCS8WJFQG4GAG': 365,\n",
       " 'ACCFCSCDGRATZG9Z': 366,\n",
       " 'ACCFCSCDZZ2UPK9Z': 367,\n",
       " 'ACCFCTKHDZB3B4NR': 368,\n",
       " 'ACCFCYZXFQDTQPFF': 369,\n",
       " 'ACCFDA68AAAWPWQY': 370,\n",
       " 'ACCFDA68DUDATZVE': 371,\n",
       " 'ACCFDA68FGHARH2V': 372,\n",
       " 'ACCFDAEMYCMHREVK': 373,\n",
       " 'ACCFDF8YXHCGV9KZ': 374,\n",
       " 'ACCFDFCWUDU7E6G9': 375,\n",
       " 'ACCFDGYT5EBKJH9J': 376,\n",
       " 'ACCFDGYT5HBTFXHE': 377,\n",
       " 'ACCFDGYTJV3ZDQAG': 378,\n",
       " 'ACCFDGYTQXJGGKNU': 379,\n",
       " 'ACCFDGYTTFWTYYJP': 380,\n",
       " 'ACCFDK469A9W96HJ': 381,\n",
       " 'ACCFDXFJBDEPKAZU': 382,\n",
       " 'ACCFDYHB2KGFBZ2X': 383,\n",
       " 'ACCFDZXNR8BDY5TQ': 384,\n",
       " 'ACCFDZZY2QZJG7X6': 385,\n",
       " 'ACCFE3GJMRNAPHVK': 386,\n",
       " 'ACCFED9HU56DEVHA': 387,\n",
       " 'ACCFEDH2P5CH5DQV': 388,\n",
       " 'ACCFEE49UPHSQHGX': 389,\n",
       " 'ACCFEJUNW6AJQQGT': 390,\n",
       " 'ACCFEJZFQ7VGVRV3': 391,\n",
       " 'ACCFEM6SRJSBQUY2': 392,\n",
       " 'ACCFEQGHMXTZAHZG': 393,\n",
       " 'ACCFEQJ5FZFT4YAN': 394,\n",
       " 'ACCFERHXAF3CG5AB': 395,\n",
       " 'ACCFEU7MES7YBNPB': 396,\n",
       " 'ACCFEYRZRK37EWDD': 397,\n",
       " 'ACCFEZ6XRPHPMYZZ': 398,\n",
       " 'ACCFF2E9KZXGXH9A': 399,\n",
       " 'ACCFF3ZXFTEVHY9X': 400,\n",
       " 'ACCFF7GADGZSBC4Y': 401,\n",
       " 'ACCFFAD33W2CK9WD': 402,\n",
       " 'ACCFFCGUGB5ZJ9YY': 403,\n",
       " 'ACCFFDZFGJGZVXXZ': 404,\n",
       " 'ACCFFN8U5Z32HTHD': 405,\n",
       " 'ACCFFQFAS2ESBFNY': 406,\n",
       " 'ACCFFQXFUYGEPZCD': 407,\n",
       " 'ACCFFRPHHMQZKZBK': 408,\n",
       " 'ACCFFTCZWF4CGKCU': 409,\n",
       " 'ACCFFVYRBVAFGECU': 410,\n",
       " 'ACCFFWNUSSJVZYMU': 411,\n",
       " 'ACCFFXAR8GYH7GTY': 412,\n",
       " 'ACCFFXARKRGZJMMF': 413,\n",
       " 'ACCFFY5WFYPSG8P5': 414,\n",
       " 'ACCFFZ3SKYJXZEVQ': 415,\n",
       " 'ACCFG3AAF3VH7JYP': 416,\n",
       " 'ACCFG4HNGHZKN9QJ': 417,\n",
       " 'ACCFG4NVUEZ7HYDP': 418,\n",
       " 'ACCFG4Q5FZDP5XEF': 419,\n",
       " 'ACCFG5HE45RYWPHK': 420,\n",
       " 'ACCFG5Q5ED9VWK4K': 421,\n",
       " 'ACCFG5ZVG6SCMPST': 422,\n",
       " 'ACCFG6NFHAGAGY6U': 423,\n",
       " 'ACCFG6Z5HMEJC3EC': 424,\n",
       " 'ACCFG86Z2AHYMJ9K': 425,\n",
       " 'ACCFGAKESSGDJGQP': 426,\n",
       " 'ACCFGBN2VMZZXYBA': 427,\n",
       " 'ACCFGCEGKBAS5X5H': 428,\n",
       " 'ACCFGDPH67U2FCHY': 429,\n",
       " 'ACCFGEQE9YFUZAHZ': 430,\n",
       " 'ACCFGETG5HDVJCHN': 431,\n",
       " 'ACCFGFVY9UZJSHXB': 432,\n",
       " 'ACCFGG2KKRZDTH2G': 433,\n",
       " 'ACCFGGQHEKDNR3RH': 434,\n",
       " 'ACCFGGUGQQTUY3D9': 435,\n",
       " 'ACCFGGVEMKYQW8SQ': 436,\n",
       " 'ACCFGNM85ARUDHFZ': 437,\n",
       " 'ACCFGPHW2KJSWBGB': 438,\n",
       " 'ACCFGPHW8YRGYWGR': 439,\n",
       " 'ACCFGPHWDFDVX5CM': 440,\n",
       " 'ACCFGPHWEXCNK27X': 441,\n",
       " 'ACCFGPHWZHE7NJVG': 442,\n",
       " 'ACCFGPVBNNMJAHJG': 443,\n",
       " 'ACCFGQGRBF6WHGPH': 444,\n",
       " 'ACCFGQGRTZVFSG8Z': 445,\n",
       " 'ACCFGQGRXPCPPFJN': 446,\n",
       " 'ACCFGQYJC8TP7UTW': 447,\n",
       " 'ACCFGSQBN9K9YG7G': 448,\n",
       " 'ACCFGSXHFEENDHZR': 449,\n",
       " 'ACCFGVG3RZUWWQ69': 450,\n",
       " 'ACCFGVYF5C7EM6FG': 451,\n",
       " 'ACCFGVYFABVXDVWF': 452,\n",
       " 'ACCFGVYFYKSPPBCN': 453,\n",
       " 'ACCFGWFGN3XYSYHF': 454,\n",
       " 'ACCFGWGRURPSXAXM': 455,\n",
       " 'ACCFGWXHSTQVRUDG': 456,\n",
       " 'ACCFGXZM3V5WSHFF': 457,\n",
       " 'ACCFGZ23FKDWUFWG': 458,\n",
       " 'ACCFGZ2EKNZRMVBH': 459,\n",
       " 'ACCFH4KZ6YZZV9HU': 460,\n",
       " 'ACCFH72ZRGZCDSES': 461,\n",
       " 'ACCFH72ZVSDRTH7E': 462,\n",
       " 'ACCFH833ZFNZFAZD': 463,\n",
       " 'ACCFH9X7ZZ6YYCZC': 464,\n",
       " 'ACCFHDF6BYPT2HTM': 465,\n",
       " 'ACCFHDGAYBFXXHHR': 466,\n",
       " 'ACCFHDW8KKUQQJHJ': 467,\n",
       " 'ACCFHFGNXFC3Z6KD': 468,\n",
       " 'ACCFHFHKBTVQXBUH': 469,\n",
       " 'ACCFHGQZCT4P9AFZ': 470,\n",
       " 'ACCFHGRAHJCYDK6H': 471,\n",
       " 'ACCFHMRXHHZZEZ7R': 472,\n",
       " 'ACCFHMS6MKYUYYX2': 473,\n",
       " 'ACCFHNZJAV9HUGVY': 474,\n",
       " 'ACCFHQP4QZAYFCXK': 475,\n",
       " 'ACCFHSGUWHNK5Z4H': 476,\n",
       " 'ACCFHURZZJSPGG9S': 477,\n",
       " 'ACCFHWANXTRXHRZN': 478,\n",
       " 'ACCFHX5JZSMCVRNU': 479,\n",
       " 'ACCFHXFWA3WD7MSV': 480,\n",
       " 'ACCFHZFXJZ9CM6GH': 481,\n",
       " 'ACCFHZJYN8HJV6XU': 482,\n",
       " 'ACCFHZWKV6XV96HK': 483,\n",
       " 'ACCFJ323MYVJYRHC': 484,\n",
       " 'ACCFJ42H8PGP7FQH': 485,\n",
       " 'ACCFJ6Z9BMZEH2V8': 486,\n",
       " 'ACCFJ6ZHXDQGBS3W': 487,\n",
       " 'ACCFJE853SZBPCHB': 488,\n",
       " 'ACCFJEATGYDVNWUY': 489,\n",
       " 'ACCFJEB8BFFQHHNY': 490,\n",
       " 'ACCFJEFARGKKH6RG': 491,\n",
       " 'ACCFJEFAZK8HANEC': 492,\n",
       " 'ACCFJEFF3WMYUDGQ': 493,\n",
       " 'ACCFJEFF4GPY6CFQ': 494,\n",
       " 'ACCFJKRCUD4WYW39': 495,\n",
       " 'ACCFJNFYY2RZUGCG': 496,\n",
       " 'ACCFJPAS9GRUXGGB': 497,\n",
       " 'ACCFJRJWDNV4WFFW': 498,\n",
       " 'ACCFJV6ZSCCNZHBH': 499,\n",
       " 'ACCFJX84RAHZGHZD': 500,\n",
       " 'ACCFJZCQNXD24UBD': 501,\n",
       " 'ACCFK5TFKXGSGST4': 502,\n",
       " 'ACCFK5TFYTMNBFU4': 503,\n",
       " 'ACCFK7AAMQUXSFJ6': 504,\n",
       " 'ACCFK9EAH7NDBYHZ': 505,\n",
       " 'ACCFKARHRF9D7BA4': 506,\n",
       " 'ACCFKBXJGHGE7ERA': 507,\n",
       " 'ACCFKFH2CGQTNSGZ': 508,\n",
       " 'ACCFKFKSCRZYXKUZ': 509,\n",
       " 'ACCFKFUNDRYVGDQE': 510,\n",
       " 'ACCFKH34UT94T96U': 511,\n",
       " 'ACCFKJ7WGWCF9MZW': 512,\n",
       " 'ACCFKK8BPWEMQWHX': 513,\n",
       " 'ACCFKNGYCHZBTTBM': 514,\n",
       " 'ACCFKR7HBGYQDFYU': 515,\n",
       " 'ACCFKTBSU4HBPKCR': 516,\n",
       " 'ACCFKWNTE8BW9UUJ': 517,\n",
       " 'ACCFKYUDTNQ2ZB4N': 518,\n",
       " 'ACCFM4ZHVPVGBCUS': 519,\n",
       " 'ACCFM53QMNSAPGWP': 520,\n",
       " 'ACCFM53QQCRXKAZK': 521,\n",
       " 'ACCFM5DDAGD3FVKF': 522,\n",
       " 'ACCFM7AWHFH9XEYN': 523,\n",
       " 'ACCFMGU5DZDAPBUG': 524,\n",
       " 'ACCFMJJMZEHNQBF4': 525,\n",
       " 'ACCFMJTDWHSJ8EGF': 526,\n",
       " 'ACCFMKGH5KCAVGPZ': 527,\n",
       " 'ACCFMSEVDEHGSVFF': 528,\n",
       " 'ACCFMSEVFY4ZKNZJ': 529,\n",
       " 'ACCFMSEVHN7CC98G': 530,\n",
       " 'ACCFMSEVPJMSSQEM': 531,\n",
       " 'ACCFMSUTN234XH7H': 532,\n",
       " 'ACCFMWWT7SGHDZHE': 533,\n",
       " 'ACCFN6W8DTHBYUCG': 534,\n",
       " 'ACCFN9TQPMKNY3Z5': 535,\n",
       " 'ACCFNA5H9XZ65VYB': 536,\n",
       " 'ACCFNBG9YBSGF8PU': 537,\n",
       " 'ACCFNFQNVTYDGZCR': 538,\n",
       " 'ACCFNFQNYD34TNNY': 539,\n",
       " 'ACCFNFUKF9BKE5PS': 540,\n",
       " 'ACCFNT6H7R5JCGFM': 541,\n",
       " 'ACCFNUGGEF9NVHKM': 542,\n",
       " 'ACCFNW9RBRP56ZXT': 543,\n",
       " 'ACCFNYPEPUCDH8CK': 544,\n",
       " 'ACCFP3ZUZPZGDZZA': 545,\n",
       " 'ACCFP76AHHNQBSHV': 546,\n",
       " 'ACCFP775SHK8YTGG': 547,\n",
       " 'ACCFPFSV7PEY3W7G': 548,\n",
       " 'ACCFPFVBJKMVZBJ5': 549,\n",
       " 'ACCFPGY9GQPH9D47': 550,\n",
       " 'ACCFPGYZC5YTKQAP': 551,\n",
       " 'ACCFPHCUEAWDP8ET': 552,\n",
       " 'ACCFPKCJY8XG6GZG': 553,\n",
       " 'ACCFPKNPFUR6XQG9': 554,\n",
       " 'ACCFPMUF8MR9N7NU': 555,\n",
       " 'ACCFPNKRBGTCV2PY': 556,\n",
       " 'ACCFPNKRTNZBYH3A': 557,\n",
       " 'ACCFPNNCWBUUWJ7U': 558,\n",
       " 'ACCFPNTTFSHHRQSQ': 559,\n",
       " 'ACCFPNWXGNBYWZRR': 560,\n",
       " 'ACCFPNX3Z2Y8GPYB': 561,\n",
       " 'ACCFPQ2HEURQ5DUD': 562,\n",
       " 'ACCFPUENVG6YKWRH': 563,\n",
       " 'ACCFPVPWF4HDNTY5': 564,\n",
       " 'ACCFPWPYXK3UKQJK': 565,\n",
       " 'ACCFPY93NHJEPBTS': 566,\n",
       " 'ACCFPY9CFNZDGDM7': 567,\n",
       " 'ACCFPYAT26DYSHQZ': 568,\n",
       " 'ACCFPYCFWMS6DPRK': 569,\n",
       " 'ACCFPYKVHXC9BSGG': 570,\n",
       " 'ACCFPZYJBGPSCE7Q': 571,\n",
       " 'ACCFQ26SXMZJ9TUY': 572,\n",
       " 'ACCFQ2ZZB8SFZJVR': 573,\n",
       " 'ACCFQ4AFAGND63XP': 574,\n",
       " 'ACCFQHZ9BGTBJPGN': 575,\n",
       " 'ACCFQHZ9EKRHFH5F': 576,\n",
       " 'ACCFQYEYFBMTKSYW': 577,\n",
       " 'ACCFRP92JHY9HSJ3': 578,\n",
       " 'ACCFRTTZA3Q28UNN': 579,\n",
       " 'ACCFRWVBWVBHHCXG': 580,\n",
       " 'ACCFS27PHBPMMSHP': 581,\n",
       " 'ACCFS66EEDXYNYVW': 582,\n",
       " 'ACCFS74BDHAC3VU3': 583,\n",
       " 'ACCFSAB9MTY4MEFX': 584,\n",
       " 'ACCFSBAC4UTSJU9X': 585,\n",
       " 'ACCFSFWSBAHFGPZM': 586,\n",
       " 'ACCFSHC2Y7XTZWCT': 587,\n",
       " 'ACCFSHCAZ3CWAKCY': 588,\n",
       " 'ACCFSHDZ36TNSQ8T': 589,\n",
       " 'ACCFSHDZJVHCMZGN': 590,\n",
       " 'ACCFSHPWUHFABJH3': 591,\n",
       " 'ACCFSHQFYYDDMH6W': 592,\n",
       " 'ACCFSYAHGBYHVNEN': 593,\n",
       " 'ACCFT4B92ZFZXHG9': 594,\n",
       " 'ACCFT4GGGMH5AUGE': 595,\n",
       " 'ACCFTF9JWBHJNAAB': 596,\n",
       " 'ACCFTFHWTCHAGWYQ': 597,\n",
       " 'ACCFTFY3GF9MBG5E': 598,\n",
       " 'ACCFTGDTKPZNKFUX': 599,\n",
       " 'ACCFTGSAGRQJVWNY': 600,\n",
       " 'ACCFTGZ4HHGC8E89': 601,\n",
       " 'ACCFTJX7MMPFJEYC': 602,\n",
       " 'ACCFTK5FEAANMHGB': 603,\n",
       " 'ACCFTKPYVF8J3QWX': 604,\n",
       " 'ACCFTP9YN2DDSCTW': 605,\n",
       " 'ACCFTPBHYR4G7DYV': 606,\n",
       " 'ACCFTQBYARJZWHVB': 607,\n",
       " 'ACCFTQHHXJG3H4ZR': 608,\n",
       " 'ACCFTU3UAT39UJZV': 609,\n",
       " 'ACCFTUZUQ7YWDZ7Z': 610,\n",
       " 'ACCFTVTTY6NZPF84': 611,\n",
       " 'ACCFTX4E8YZKVACC': 612,\n",
       " 'ACCFTZ3SMDE59QRM': 613,\n",
       " 'ACCFTZ5HEGRZGFFB': 614,\n",
       " 'ACCFTZ6438YDTUYS': 615,\n",
       " 'ACCFU2QEC9JTNSBY': 616,\n",
       " 'ACCFU48AZHEWSNZU': 617,\n",
       " 'ACCFU5VAEDDBMT8Q': 618,\n",
       " 'ACCFU5WZWYREMKKW': 619,\n",
       " 'ACCFU7BY9RHRTJXC': 620,\n",
       " 'ACCFUAHYP889GRQB': 621,\n",
       " 'ACCFUAHYRYGGM9MK': 622,\n",
       " 'ACCFUBZQGSZHTTXC': 623,\n",
       " 'ACCFUDWYRJACHRDG': 624,\n",
       " 'ACCFUGAC4WYMSHYE': 625,\n",
       " 'ACCFUGACVY77ZAP3': 626,\n",
       " 'ACCFUGB3KG2QGYYZ': 627,\n",
       " 'ACCFUGH2WUTVGHCY': 628,\n",
       " 'ACCFUJC6YG3MWYQ5': 629,\n",
       " 'ACCFUJNZMVCVAN47': 630,\n",
       " 'ACCFUMMVEFVWABPW': 631,\n",
       " 'ACCFUNRYCHEG7GDU': 632,\n",
       " 'ACCFUP4GPPUQC6UV': 633,\n",
       " 'ACCFUPTHVEVNZEHG': 634,\n",
       " 'ACCFUQ55ZZTD2WBE': 635,\n",
       " 'ACCFUQUSHV8HPUC7': 636,\n",
       " 'ACCFUR5Z4CVZG4EJ': 637,\n",
       " 'ACCFURCCTMNJXDXA': 638,\n",
       " 'ACCFUS9Q47GKBK8J': 639,\n",
       " 'ACCFUS9Q4YGKTPXZ': 640,\n",
       " 'ACCFUS9Q7F5G3BGJ': 641,\n",
       " 'ACCFUSSSFZSDAYRN': 642,\n",
       " 'ACCFUU9JRYTWJ6EF': 643,\n",
       " 'ACCFUUBWGFHWGR4S': 644,\n",
       " 'ACCFUUWPCQHMHZKK': 645,\n",
       " 'ACCFUVMVPCER5F3J': 646,\n",
       " 'ACCFUZPGFMH2YBJU': 647,\n",
       " 'ACCFV226WCFA87D5': 648,\n",
       " 'ACCFV3EMZ5VUDD6J': 649,\n",
       " 'ACCFV3TGCVHHABEK': 650,\n",
       " 'ACCFV6HWFZYHQZDG': 651,\n",
       " 'ACCFV7VHMZBJQTAY': 652,\n",
       " 'ACCFV974JW7EVHY7': 653,\n",
       " 'ACCFVCJ9X3VGQ9NE': 654,\n",
       " 'ACCFVCJFWKGJSJVY': 655,\n",
       " 'ACCFVDFXBWWWF63M': 656,\n",
       " 'ACCFVDJUBBMJZDP7': 657,\n",
       " 'ACCFVDQDKCQXUN46': 658,\n",
       " 'ACCFVE93EZDA88V8': 659,\n",
       " 'ACCFVFC8BN9YP5HY': 660,\n",
       " 'ACCFVFQ59HDXZWCN': 661,\n",
       " 'ACCFVFQ5VMZUWTMF': 662,\n",
       " 'ACCFVGA5CH4YUGM6': 663,\n",
       " 'ACCFVGGZKCXAV2RH': 664,\n",
       " 'ACCFVGZJ4SQZDBCH': 665,\n",
       " 'ACCFVGZJHAMFHN9J': 666,\n",
       " 'ACCFVHBZSU2TVG2B': 667,\n",
       " 'ACCFVHBZWCS5UZZG': 668,\n",
       " 'ACCFVHGWUQAQF3KD': 669,\n",
       " 'ACCFVNF3QQHASCHK': 670,\n",
       " 'ACCFVNHGB8GPGFYT': 671,\n",
       " 'ACCFVNRZJWEY5UTD': 672,\n",
       " 'ACCFVPFMGETV4YKJ': 673,\n",
       " 'ACCFVPFYFBSHAMWV': 674,\n",
       " 'ACCFVPKVGWJS3XZ8': 675,\n",
       " 'ACCFVPKVHEENHJQZ': 676,\n",
       " 'ACCFVQQ6QXZZPFZG': 677,\n",
       " 'ACCFVST5YHQPHEF5': 678,\n",
       " 'ACCFVTAPHYZPTHRU': 679,\n",
       " 'ACCFVTBAR6FYGUJD': 680,\n",
       " 'ACCFVTBATVGWXXFQ': 681,\n",
       " 'ACCFVU2W6FFHNJE7': 682,\n",
       " 'ACCFVU3FMHDDAR9E': 683,\n",
       " 'ACCFVU945XZHURU7': 684,\n",
       " 'ACCFVU94EVHJTF3V': 685,\n",
       " 'ACCFVW3SWHFDQ4FH': 686,\n",
       " 'ACCFVWH3DDVGWN6B': 687,\n",
       " 'ACCFVWZ2SGGGMVY9': 688,\n",
       " 'ACCFVWZ2YTGQFXFA': 689,\n",
       " 'ACCFVXF6WWTXAYYW': 690,\n",
       " 'ACCFVZ7JTHGGGMDZ': 691,\n",
       " 'ACCFVZSSEFS9V3ZW': 692,\n",
       " 'ACCFVZST3D8QX7R7': 693,\n",
       " 'ACCFVZSTUCN7SVST': 694,\n",
       " 'ACCFVZZRGP83EVYY': 695,\n",
       " 'ACCFW2U3H5ZDRG2D': 696,\n",
       " 'ACCFW3BYZ5CSDHAK': 697,\n",
       " 'ACCFW55BZYMSQRW7': 698,\n",
       " 'ACCFW67BZGAVQVDH': 699,\n",
       " 'ACCFW6EESP8PGXGR': 700,\n",
       " 'ACCFW8MHTRKGAMZ8': 701,\n",
       " 'ACCFW9RQYGHB8HGQ': 702,\n",
       " 'ACCFWBVBYGBGT9KH': 703,\n",
       " 'ACCFWCFSGYQHZTVV': 704,\n",
       " 'ACCFWCWYESTZRVKT': 705,\n",
       " 'ACCFWEW4J4HPQ8DY': 706,\n",
       " 'ACCFWF8GMTKRG5GP': 707,\n",
       " 'ACCFWFFAMKDJX8FW': 708,\n",
       " 'ACCFWFFCD4QXFFKH': 709,\n",
       " 'ACCFWFFCKSG67EBZ': 710,\n",
       " 'ACCFWFFCXM3JKKKK': 711,\n",
       " 'ACCFWFFDGUGNZGNZ': 712,\n",
       " 'ACCFWFFG8PKCE6BN': 713,\n",
       " 'ACCFWFFGMQPND5VF': 714,\n",
       " 'ACCFWFFGXEYVRHFW': 715,\n",
       " 'ACCFWFFGXQBDXQZR': 716,\n",
       " 'ACCFWFFGYZGTEFVW': 717,\n",
       " 'ACCFWFFXMPQ62XQ4': 718,\n",
       " 'ACCFWFFYW8B8FCVW': 719,\n",
       " 'ACCFWFG3YQZNVZPP': 720,\n",
       " 'ACCFWFUZRVVAEGSG': 721,\n",
       " 'ACCFWG5CRZ7YTZZG': 722,\n",
       " 'ACCFWG5FSEHSHVW3': 723,\n",
       " 'ACCFWGERQYAT6YTU': 724,\n",
       " 'ACCFWGFFZG4MRMHA': 725,\n",
       " 'ACCFWGGSMHGDKRKQ': 726,\n",
       " 'ACCFWGGT7WQGZH4G': 727,\n",
       " 'ACCFWGGTMBYB7BXG': 728,\n",
       " 'ACCFWGGTZHZNA9FW': 729,\n",
       " 'ACCFWGNYUW7V9NN5': 730,\n",
       " 'ACCFWHG6DTBJUW8C': 731,\n",
       " 'ACCFWKUSZNV9QCCW': 732,\n",
       " 'ACCFWMFYNJUYBRF2': 733,\n",
       " 'ACCFWMMHQNY7KJ9W': 734,\n",
       " 'ACCFWNTYNHESGRHY': 735,\n",
       " 'ACCFWRCRRJGPUBRG': 736,\n",
       " 'ACCFWRCUMMRRPDBB': 737,\n",
       " 'ACCFWRGQHSDYZFBT': 738,\n",
       " 'ACCFWSKQJ8GS6DA7': 739,\n",
       " 'ACCFWUUTSHVBGSJX': 740,\n",
       " 'ACCFWUXKTMJMZ4AW': 741,\n",
       " 'ACCFWVXRZH5SAMDQ': 742,\n",
       " 'ACCFWWRF8RZXHHNF': 743,\n",
       " 'ACCFWX9TTYWH9GTC': 744,\n",
       " 'ACCFWXFDZHRDHVNH': 745,\n",
       " 'ACCFWXKPMRHHMSAN': 746,\n",
       " 'ACCFWZ6H5DRYAEZW': 747,\n",
       " 'ACCFWZFNMZCKSEZK': 748,\n",
       " 'ACCFWZHMKZUTUMSN': 749,\n",
       " 'ACCFX2TJUYZDGS7G': 750,\n",
       " 'ACCFX3FDDCQWFPUQ': 751,\n",
       " 'ACCFX3GFXVH2CBYY': 752,\n",
       " 'ACCFX6YZEVPRAGZZ': 753,\n",
       " 'ACCFX73QDCUVJZXC': 754,\n",
       " 'ACCFX8RVURGNWRBF': 755,\n",
       " 'ACCFX8ZYSEAMMWHH': 756,\n",
       " 'ACCFX93RCDDZ835U': 757,\n",
       " 'ACCFX9BWQPJYTBKU': 758,\n",
       " 'ACCFX9BYFPSKXVSX': 759,\n",
       " 'ACCFXBFRGZ2FGHYY': 760,\n",
       " 'ACCFXF3QWWDHKSUC': 761,\n",
       " 'ACCFXFEW8ZBTDCVU': 762,\n",
       " 'ACCFXG8GHSFF9HYM': 763,\n",
       " 'ACCFXG8GMXCTXK7S': 764,\n",
       " 'ACCFXG8HVHK5EGHW': 765,\n",
       " 'ACCFXHDADAFH4HW9': 766,\n",
       " 'ACCFXMB7HCYJXCNE': 767,\n",
       " 'ACCFXMVPD8RAJZYF': 768,\n",
       " 'ACCFXNGHHG629AQM': 769,\n",
       " 'ACCFXNGY9XTRPMCH': 770,\n",
       " 'ACCFXNGYHZZTGZPU': 771,\n",
       " 'ACCFXNGYPMBJZ8H8': 772,\n",
       " 'ACCFXNGYT6YJZVHZ': 773,\n",
       " 'ACCFXPQUUSWNNQXC': 774,\n",
       " 'ACCFXPUCYC5XAPFY': 775,\n",
       " 'ACCFXT4YTD9VJJRQ': 776,\n",
       " 'ACCFXVGQGP2ZXYYG': 777,\n",
       " 'ACCFXZTGVZ424ZPM': 778,\n",
       " 'ACCFY36DW9HQC7GA': 779,\n",
       " 'ACCFY4MJDTFYJX6P': 780,\n",
       " 'ACCFY5MUMBFFV47K': 781,\n",
       " 'ACCFY8U6YSM4JQCU': 782,\n",
       " 'ACCFY9Q2Z42K94KF': 783,\n",
       " 'ACCFY9SJ9AD7AEZ3': 784,\n",
       " 'ACCFY9SJFJARZSUP': 785,\n",
       " 'ACCFY9SKHDZGXB4Z': 786,\n",
       " 'ACCFY9SKMXPATURT': 787,\n",
       " 'ACCFY9VTNZDNAP8Z': 788,\n",
       " 'ACCFY9Z8FEDGUHVZ': 789,\n",
       " 'ACCFYA5XRPSUQKDY': 790,\n",
       " 'ACCFYAAGX6HYE7VC': 791,\n",
       " 'ACCFYAQ2TXVYFQPD': 792,\n",
       " 'ACCFYARKFFHYHFKK': 793,\n",
       " 'ACCFYATN6YAZ6GYB': 794,\n",
       " 'ACCFYAWHKV5KJBVK': 795,\n",
       " 'ACCFYAX8ZQD84CSP': 796,\n",
       " 'ACCFYB6AT46Y3YHP': 797,\n",
       " 'ACCFYC3PVZHVHDZC': 798,\n",
       " 'ACCFYD73EMBYPUXQ': 799,\n",
       " 'ACCFYEKGEDZGCNBV': 800,\n",
       " 'ACCFYF29YFPBYHKH': 801,\n",
       " 'ACCFYFZZZMNUQENJ': 802,\n",
       " 'ACCFYGB7JGGZMNJX': 803,\n",
       " 'ACCFYGVEEFPCFAH3': 804,\n",
       " 'ACCFYGZ5HYZDFNKG': 805,\n",
       " 'ACCFYNCZYGYHKFYZ': 806,\n",
       " 'ACCFYP6BBPUBRZVT': 807,\n",
       " 'ACCFYPBHGV8VUQEV': 808,\n",
       " 'ACCFYPHH5TGNJEAS': 809,\n",
       " 'ACCFYPJHUHFR3BAF': 810,\n",
       " 'ACCFYPKFNBXEM7PQ': 811,\n",
       " 'ACCFYPY2DZCDAG5M': 812,\n",
       " 'ACCFYQJ5VY2YGM5Y': 813,\n",
       " 'ACCFYQMT3ADGED8C': 814,\n",
       " 'ACCFYQNYFYTHFJDX': 815,\n",
       " 'ACCFYQR2FHMZYNWU': 816,\n",
       " 'ACCFYQSCG4SRWHZY': 817,\n",
       " 'ACCFYRJGTHEGDUJD': 818,\n",
       " 'ACCFYRQXGHAKDNZ7': 819,\n",
       " 'ACCFYTNBYVAXANEK': 820,\n",
       " 'ACCFYTTGYUH2CDGK': 821,\n",
       " 'ACCFYUX2FRK6QRYC': 822,\n",
       " 'ACCFYV8ZGVEM4DVE': 823,\n",
       " 'ACCFYY2HXGAZH8HD': 824,\n",
       " 'ACCFYY2VDQYJ4VMV': 825,\n",
       " 'ACCFYY59ZHDPZEH5': 826,\n",
       " 'ACCFYY62J72GZZCR': 827,\n",
       " 'ACCFYY62YZYPDTSC': 828,\n",
       " 'ACCFYY65F6JTJCBQ': 829,\n",
       " 'ACCFYZ29QTZSAG75': 830,\n",
       " 'ACCFYZ4A354KGZGG': 831,\n",
       " 'ACCFYZAFGHGVUXVA': 832,\n",
       " 'ACCFYZANVU3BWHUG': 833,\n",
       " 'ACCFYZEH2QPYMZBS': 834,\n",
       " 'ACCFYZEKGSAFTGDV': 835,\n",
       " 'ACCFYZEV4HPCADHH': 836,\n",
       " 'ACCFYZH28JVCVR8T': 837,\n",
       " 'ACCFYZH2XHZETUY4': 838,\n",
       " 'ACCFYZH2YJAUNX2G': 839,\n",
       " 'ACCFYZH8GKVRGP2Q': 840,\n",
       " 'ACCFYZMY5N7UAGJT': 841,\n",
       " 'ACCFZ32SWT444PUG': 842,\n",
       " 'ACCFZ45Y7HDSNCMK': 843,\n",
       " 'ACCFZ6ZXFQYB3EAR': 844,\n",
       " 'ACCFZ72FUYVZP2GG': 845,\n",
       " 'ACCFZ78BHTAQM4WD': 846,\n",
       " 'ACCFZ79EP8TDAUAR': 847,\n",
       " 'ACCFZ7F26ADKCC43': 848,\n",
       " 'ACCFZ7YZGVBVZQWF': 849,\n",
       " 'ACCFZ8ZAHZFW8JQC': 850,\n",
       " 'ACCFZ9GEGZTXRAPR': 851,\n",
       " 'ACCFZ9GQNCFGUH67': 852,\n",
       " 'ACCFZ9JRPXSVW75G': 853,\n",
       " 'ACCFZCUCQZGCPZBR': 854,\n",
       " 'ACCFZD4G2YYZKVRN': 855,\n",
       " 'ACCFZDKMHEUMKHDC': 856,\n",
       " 'ACCFZETB4FPTZDYG': 857,\n",
       " 'ACCFZEXWUAH583VC': 858,\n",
       " 'ACCFZF378UGVUY6R': 859,\n",
       " 'ACCFZF4XFWFYXNGW': 860,\n",
       " 'ACCFZF65XQAUZRGR': 861,\n",
       " 'ACCFZGKNWYWDGZUF': 862,\n",
       " 'ACCFZHGGH5Y32GRF': 863,\n",
       " 'ACCFZHUGXUYZVZUF': 864,\n",
       " 'ACCFZKH8K7TZBFKG': 865,\n",
       " 'ACCFZKRWHNS8WSY6': 866,\n",
       " 'ACCFZMHKTVHEJAYK': 867,\n",
       " 'ACCFZMQXEJVNHVWH': 868,\n",
       " 'ACCFZNZYHSAF8CFE': 869,\n",
       " 'ACCFZPFERYJN8ZY5': 870,\n",
       " 'ACCFZPG3ZGVQUUDZ': 871,\n",
       " 'ACCFZQ2RQHBHRD7A': 872,\n",
       " 'ACCFZQAFZVYHB4FV': 873,\n",
       " 'ACCFZQAYERP7T8DX': 874,\n",
       " 'ACCFZRBVFBAGZJHZ': 875,\n",
       " 'ACCFZSFGBZXAS744': 876,\n",
       " 'ACCFZSKJVAWZGKMD': 877,\n",
       " 'ACCFZSZEJSWBJ32W': 878,\n",
       " 'ACCFZTAPJYHHJFX8': 879,\n",
       " 'ACCFZU6HRFFPWJPF': 880,\n",
       " 'ACCFZUG7KF9ATX9H': 881,\n",
       " 'ACCFZUHMEZUP9JQZ': 882,\n",
       " 'ACCFZVAZ7GG9JZG2': 883,\n",
       " 'ACCFZVAZJZF4CYRC': 884,\n",
       " 'ACCFZVMBMVFQZUNS': 885,\n",
       " 'ACCFZVWEHBWUHYCH': 886,\n",
       " 'ACCFZWJ7HWYDFJZU': 887,\n",
       " 'ACCFZWXNGK4HE6GX': 888,\n",
       " 'ACCFZZ4NHTUVWUZG': 889,\n",
       " 'ACCG22J343HVDRHN': 890,\n",
       " 'ACCG23D3WNYHCCYZ': 891,\n",
       " 'ACCG23KPW7BYTYHQ': 892,\n",
       " 'ACCG23Q6TPPFGUKM': 893,\n",
       " 'ACCG23RDGFJQ3GQD': 894,\n",
       " 'ACCG23XUZYJHGGAW': 895,\n",
       " 'ACCG23YHNH7GQ8CR': 896,\n",
       " 'ACCG2523MHZJCYR7': 897,\n",
       " 'ACCG25SSZKG7ENCY': 898,\n",
       " 'ACCG27YUMKRBEXZW': 899,\n",
       " 'ACCG27YUTATMGMYW': 900,\n",
       " 'ACCG286Z2YYH5ZGZ': 901,\n",
       " 'ACCG287F8XNSDNUK': 902,\n",
       " 'ACCG28BKNJKH55FW': 903,\n",
       " 'ACCG28FAENYPEPJR': 904,\n",
       " 'ACCG2B8KEG7223GZ': 905,\n",
       " 'ACCG2BHNT6NHWJNG': 906,\n",
       " 'ACCG2C86XXWZFTYK': 907,\n",
       " 'ACCG2CF9HVETPZVS': 908,\n",
       " 'ACCG2CNN6KXZCGKZ': 909,\n",
       " 'ACCG2EZ2EWHDTKTG': 910,\n",
       " 'ACCG2EZ2NG3FFZAX': 911,\n",
       " 'ACCG2F4GEHYSGUTN': 912,\n",
       " 'ACCG2FW55UGXHDEB': 913,\n",
       " 'ACCG2G4XAAT4MYPG': 914,\n",
       " 'ACCG2G4XCTHA8UMZ': 915,\n",
       " 'ACCG2G4XSD8RYAZU': 916,\n",
       " 'ACCG2GAVHZ8Q3BDD': 917,\n",
       " 'ACCG2GX9EVHEQTJT': 918,\n",
       " 'ACCG2HPAAJP4MQYH': 919,\n",
       " 'ACCG2HPFMPNP9UMC': 920,\n",
       " 'ACCG2M65YD9AFCVF': 921,\n",
       " 'ACCG2MAJZ7TAGX6Z': 922,\n",
       " 'ACCG2MG7THAT4FGR': 923,\n",
       " 'ACCG2NDMBVHJSYN8': 924,\n",
       " 'ACCG2RXRSYGFARZR': 925,\n",
       " 'ACCG2RZWXZQGFTNE': 926,\n",
       " 'ACCG2U7FFAYHPKMC': 927,\n",
       " 'ACCG2U7FHZGFGFPW': 928,\n",
       " 'ACCG2VE3KHJ2FPVU': 929,\n",
       " 'ACCG2VEAQBRJHGSS': 930,\n",
       " 'ACCG2WZMHH4ZBRYN': 931,\n",
       " 'ACCG2WZNXR2SEWWN': 932,\n",
       " 'ACCG2XHY3ZHAYHEJ': 933,\n",
       " 'ACCG2XZ89KHFRSHH': 934,\n",
       " 'ACCG2Y4ZTMUPAGGD': 935,\n",
       " 'ACCG2Y5Y5WPZHSGC': 936,\n",
       " 'ACCG2YGGSYHQRVA3': 937,\n",
       " 'ACCG2YHVJCVVFYZX': 938,\n",
       " 'ACCG2YPYWMB7GKXG': 939,\n",
       " 'ACCG2YSWTYYYFQ6W': 940,\n",
       " 'ACCG2YYUAVQ88GXY': 941,\n",
       " 'ACCG2ZY3VGGRQY5F': 942,\n",
       " 'ACCG328WHFAHFYUP': 943,\n",
       " 'ACCG33EBN2S84VW5': 944,\n",
       " 'ACCG3487WFM5HRJB': 945,\n",
       " 'ACCG355FGCZVH8HZ': 946,\n",
       " 'ACCG37DFTAZZUHP2': 947,\n",
       " 'ACCG37GYXSYBGD3J': 948,\n",
       " 'ACCG38Q3N7AM4AES': 949,\n",
       " 'ACCG38UR34EHDZMZ': 950,\n",
       " 'ACCG39XGVSZJX8PH': 951,\n",
       " 'ACCG3BA8PZZHYA8H': 952,\n",
       " 'ACCG3C2DXZRVCYNM': 953,\n",
       " 'ACCG3CFWQGYQMW8S': 954,\n",
       " 'ACCG3E5ZCJ9823VJ': 955,\n",
       " 'ACCG3E9TUA3TMNGU': 956,\n",
       " 'ACCG3E9ZY8Z4ZW8H': 957,\n",
       " 'ACCG3ECZEECW6YHD': 958,\n",
       " 'ACCG3FGPZSZJHZFU': 959,\n",
       " 'ACCG3GKFD4VCGGV2': 960,\n",
       " 'ACCG3HRZESJGZYKU': 961,\n",
       " 'ACCG3HZ37GEHKGFD': 962,\n",
       " 'ACCG3HZEBNFBHDVE': 963,\n",
       " 'ACCG3JMXS472VTGB': 964,\n",
       " 'ACCG3M4AS3GRAX67': 965,\n",
       " 'ACCG3MBJNAGEHF6H': 966,\n",
       " 'ACCG3N5BXQ2ZQXRJ': 967,\n",
       " 'ACCG3PZJZEZH2BTZ': 968,\n",
       " 'ACCG3QGUNZ8D6WY5': 969,\n",
       " 'ACCG3QNJGU7YGGN4': 970,\n",
       " 'ACCG3QNWAXGESZPZ': 971,\n",
       " 'ACCG3QQVGHCV24JF': 972,\n",
       " 'ACCG3QQVHAPV8DJR': 973,\n",
       " 'ACCG3REKHWYDGRGG': 974,\n",
       " 'ACCG3SR3EVN6WY7F': 975,\n",
       " 'ACCG3W6PRUWVQ5ZX': 976,\n",
       " 'ACCG3W8TGHFHPMEF': 977,\n",
       " 'ACCG3WEQ3WC9NCGX': 978,\n",
       " 'ACCG3X8FFXNKXSYK': 979,\n",
       " 'ACCG3XA6MNZY3GYB': 980,\n",
       " 'ACCG3XD3RYYTYMHT': 981,\n",
       " 'ACCG3XFAFGR4RCYC': 982,\n",
       " 'ACCG3XGZHHPMYGV7': 983,\n",
       " 'ACCG3XYXNGYV3YWY': 984,\n",
       " 'ACCG3Y3YYNZEYEZE': 985,\n",
       " 'ACCG3YCH9DD2B6SJ': 986,\n",
       " 'ACCG3YFX4RXGTPBC': 987,\n",
       " 'ACCG3YFZZC6BRAK5': 988,\n",
       " 'ACCG3Z6KQYV6QZ6U': 989,\n",
       " 'ACCG3ZAYEAKNDHW6': 990,\n",
       " 'ACCG3ZV5TMRG3FX4': 991,\n",
       " 'ACCG42HNVKFBGPUR': 992,\n",
       " 'ACCG43Z7FGZC65TF': 993,\n",
       " 'ACCG448UEXCHHPHR': 994,\n",
       " 'ACCG448UNB6KMV9G': 995,\n",
       " 'ACCG448USRBKHRFX': 996,\n",
       " 'ACCG44ZFD77BBXAB': 997,\n",
       " 'ACCG45VGGWRCHZKM': 998,\n",
       " 'ACCG477TDBMTJMHW': 999,\n",
       " ...}"
      ]
     },
     "execution_count": 13,
     "metadata": {},
     "output_type": "execute_result"
    }
   ],
   "source": [
    "product_dict"
   ]
  },
  {
   "cell_type": "markdown",
   "metadata": {},
   "source": [
    "### Node features and Edge list"
   ]
  },
  {
   "cell_type": "code",
   "execution_count": 14,
   "metadata": {},
   "outputs": [],
   "source": [
    "## Maps for edges and id encoding\n",
    "s=[]\n",
    "t=[]\n",
    "e_wt=[]\n",
    "edge_list = [[], []]\n",
    "\n",
    "# create empty features 2d array of size (total_nodes, feature dim)\n",
    "for index,row in df3.iterrows():\n",
    "    prod_feat_len = len(df3.iloc[index].drop(['product_id','account_id_enc','count']).to_numpy())\n",
    "    break\n",
    "    \n",
    "user_nodes = len(user_dict)\n",
    "prod_nodes = len(product_dict)\n",
    "prod_feat_len = 64\n",
    "user_feat_len = 64\n",
    "\n",
    "user_features = np.empty(shape=(user_nodes,prod_feat_len))\n",
    "prod_features = np.empty(shape=(prod_nodes,prod_feat_len))\n",
    "\n",
    "for index,row in df3.iterrows():\n",
    "    prod_id=row['product_id']\n",
    "    user_id=row['account_id_enc']\n",
    "    e_wt.append([float(row['count'])])\n",
    "    user_index = user_dict[user_id]\n",
    "    prod_index = product_dict[prod_id]\n",
    "\n",
    "    s.append(user_dict[user_id])\n",
    "    t.append(product_dict[prod_id])\n",
    "    edge_list[0].append(user_index)\n",
    "    edge_list[1].append(prod_index)\n",
    "\n",
    "    # node_features[prod_index] = ohe.iloc[index].drop(['product_id','account_id_enc','count']).to_numpy()\n",
    "    u=np.array([mean_rating[user_id], num_rating[user_id]])\n",
    "    padded_u = np.pad(u, (0, 62), mode='constant')\n",
    "    p = df3.iloc[index].drop(['product_id','account_id_enc','count']).to_numpy()\n",
    "    padded_p = np.pad(p, (0, 62), mode='constant')\n",
    "    # padded_u = u\n",
    "    user_features[user_index] = padded_u\n",
    "    prod_features[prod_index] = padded_p"
   ]
  },
  {
   "cell_type": "code",
   "execution_count": 15,
   "metadata": {},
   "outputs": [],
   "source": [
    "edge_list = torch.tensor(edge_list, dtype=int)"
   ]
  },
  {
   "cell_type": "code",
   "execution_count": 16,
   "metadata": {},
   "outputs": [
    {
     "data": {
      "text/plain": [
       "torch.Size([2, 44113])"
      ]
     },
     "execution_count": 16,
     "metadata": {},
     "output_type": "execute_result"
    }
   ],
   "source": [
    "edge_list.shape"
   ]
  },
  {
   "cell_type": "code",
   "execution_count": 17,
   "metadata": {},
   "outputs": [
    {
     "data": {
      "text/plain": [
       "torch.Size([44113, 1])"
      ]
     },
     "execution_count": 17,
     "metadata": {},
     "output_type": "execute_result"
    }
   ],
   "source": [
    "e_wt = torch.tensor(e_wt, dtype=float).to(torch.double)\n",
    "e_wt.shape"
   ]
  },
  {
   "cell_type": "code",
   "execution_count": 18,
   "metadata": {},
   "outputs": [
    {
     "data": {
      "text/plain": [
       "torch.Size([19533, 64])"
      ]
     },
     "execution_count": 18,
     "metadata": {},
     "output_type": "execute_result"
    }
   ],
   "source": [
    "prod_features = torch.tensor(prod_features, dtype=float, requires_grad=True).to(torch.double)\n",
    "prod_features.shape"
   ]
  },
  {
   "cell_type": "code",
   "execution_count": 19,
   "metadata": {},
   "outputs": [
    {
     "data": {
      "text/plain": [
       "torch.Size([2973, 64])"
      ]
     },
     "execution_count": 19,
     "metadata": {},
     "output_type": "execute_result"
    }
   ],
   "source": [
    "user_features = torch.tensor(user_features, dtype=float, requires_grad=True).to(torch.double)\n",
    "user_features.shape"
   ]
  },
  {
   "cell_type": "code",
   "execution_count": 20,
   "metadata": {},
   "outputs": [
    {
     "name": "stdout",
     "output_type": "stream",
     "text": [
      "2973\n",
      "19533\n"
     ]
    }
   ],
   "source": [
    "print(user_nodes)\n",
    "print(prod_nodes)"
   ]
  },
  {
   "cell_type": "code",
   "execution_count": 21,
   "metadata": {},
   "outputs": [
    {
     "data": {
      "text/plain": [
       "torch.Size([44113, 1])"
      ]
     },
     "execution_count": 21,
     "metadata": {},
     "output_type": "execute_result"
    }
   ],
   "source": [
    "e_wt.shape"
   ]
  },
  {
   "cell_type": "markdown",
   "metadata": {},
   "source": [
    "### PyG hetergenous Dataset"
   ]
  },
  {
   "cell_type": "code",
   "execution_count": 22,
   "metadata": {
    "colab": {
     "base_uri": "https://localhost:8080/"
    },
    "id": "I_63--974srt",
    "outputId": "93743385-48fc-4192-f970-af443d589afc"
   },
   "outputs": [
    {
     "name": "stdout",
     "output_type": "stream",
     "text": [
      "HeteroData(\n",
      "  user={\n",
      "    node_id=[2973],\n",
      "    x=[2973, 64],\n",
      "  },\n",
      "  product={\n",
      "    node_id=[19533],\n",
      "    x=[19533, 64],\n",
      "  },\n",
      "  (user, views, product)={\n",
      "    edge_index=[2, 44113],\n",
      "    edge_attr=[44113, 1],\n",
      "  },\n",
      "  (product, rev_views, user)={\n",
      "    edge_index=[2, 44113],\n",
      "    edge_attr=[44113, 1],\n",
      "  }\n",
      ")\n"
     ]
    },
    {
     "ename": "AssertionError",
     "evalue": "",
     "output_type": "error",
     "traceback": [
      "\u001b[0;31m---------------------------------------------------------------------------\u001b[0m",
      "\u001b[0;31mAssertionError\u001b[0m                            Traceback (most recent call last)",
      "Cell \u001b[0;32mIn[22], line 26\u001b[0m\n\u001b[1;32m     23\u001b[0m \u001b[38;5;28;01massert\u001b[39;00m data\u001b[38;5;241m.\u001b[39mnode_types \u001b[38;5;241m==\u001b[39m [\u001b[38;5;124m\"\u001b[39m\u001b[38;5;124muser\u001b[39m\u001b[38;5;124m\"\u001b[39m, \u001b[38;5;124m\"\u001b[39m\u001b[38;5;124mproduct\u001b[39m\u001b[38;5;124m\"\u001b[39m]\n\u001b[1;32m     24\u001b[0m \u001b[38;5;28;01massert\u001b[39;00m data\u001b[38;5;241m.\u001b[39medge_types \u001b[38;5;241m==\u001b[39m [(\u001b[38;5;124m\"\u001b[39m\u001b[38;5;124muser\u001b[39m\u001b[38;5;124m\"\u001b[39m, \u001b[38;5;124m\"\u001b[39m\u001b[38;5;124mviews\u001b[39m\u001b[38;5;124m\"\u001b[39m, \u001b[38;5;124m\"\u001b[39m\u001b[38;5;124mproduct\u001b[39m\u001b[38;5;124m\"\u001b[39m),\n\u001b[1;32m     25\u001b[0m                            (\u001b[38;5;124m\"\u001b[39m\u001b[38;5;124mproduct\u001b[39m\u001b[38;5;124m\"\u001b[39m, \u001b[38;5;124m\"\u001b[39m\u001b[38;5;124mrev_views\u001b[39m\u001b[38;5;124m\"\u001b[39m, \u001b[38;5;124m\"\u001b[39m\u001b[38;5;124muser\u001b[39m\u001b[38;5;124m\"\u001b[39m)]\n\u001b[0;32m---> 26\u001b[0m \u001b[38;5;28;01massert\u001b[39;00m data[\u001b[38;5;124m\"\u001b[39m\u001b[38;5;124muser\u001b[39m\u001b[38;5;124m\"\u001b[39m]\u001b[38;5;241m.\u001b[39mnum_nodes \u001b[38;5;241m==\u001b[39m \u001b[38;5;241m15\u001b[39m\n\u001b[1;32m     27\u001b[0m \u001b[38;5;28;01massert\u001b[39;00m data[\u001b[38;5;124m\"\u001b[39m\u001b[38;5;124muser\u001b[39m\u001b[38;5;124m\"\u001b[39m]\u001b[38;5;241m.\u001b[39mnum_features \u001b[38;5;241m==\u001b[39m \u001b[38;5;241m64\u001b[39m\n\u001b[1;32m     28\u001b[0m \u001b[38;5;28;01massert\u001b[39;00m data[\u001b[38;5;124m\"\u001b[39m\u001b[38;5;124mproduct\u001b[39m\u001b[38;5;124m\"\u001b[39m]\u001b[38;5;241m.\u001b[39mnum_nodes \u001b[38;5;241m==\u001b[39m \u001b[38;5;241m471\u001b[39m\n",
      "\u001b[0;31mAssertionError\u001b[0m: "
     ]
    }
   ],
   "source": [
    "from torch_geometric.data import HeteroData\n",
    "import torch_geometric.transforms as T\n",
    "\n",
    "data = HeteroData()\n",
    "\n",
    "# Save node indices:\n",
    "data[\"user\"].node_id = torch.arange(len(user_ids), dtype=int)\n",
    "data[\"product\"].node_id = torch.arange(len(product_ids), dtype=int)\n",
    "\n",
    "# Add the node features and edge indices:\n",
    "data[\"product\"].x = prod_features.to(torch.double)\n",
    "data[\"user\"].x = user_features.to(torch.double)\n",
    "data[\"user\", \"views\", \"product\"].edge_index = edge_list.to(torch.long)\n",
    "data[\"user\", \"views\", \"product\"].edge_attr = e_wt.to(torch.double)\n",
    "\n",
    "# We also need to make sure to add the reverse edges from movies to users\n",
    "# in order to let a GNN be able to pass messages in both directions.\n",
    "# We can leverage the `T.ToUndirected()` transform for this from PyG:\n",
    "data = T.ToUndirected()(data)\n",
    "\n",
    "print(data)\n",
    "\n",
    "assert data.node_types == [\"user\", \"product\"]\n",
    "assert data.edge_types == [(\"user\", \"views\", \"product\"),\n",
    "                           (\"product\", \"rev_views\", \"user\")]\n",
    "assert data[\"user\"].num_nodes == 15\n",
    "assert data[\"user\"].num_features == 64\n",
    "assert data[\"product\"].num_nodes == 471\n",
    "assert data[\"product\"].num_features == 64\n",
    "data[\"user\", \"views\", \"product\"].num_edge_features == 1\n",
    "assert data[\"user\", \"views\", \"product\"].num_edges == 500\n",
    "assert data[\"product\", \"rev_views\", \"user\"].num_edges == 500"
   ]
  },
  {
   "cell_type": "code",
   "execution_count": 23,
   "metadata": {},
   "outputs": [
    {
     "data": {
      "text/plain": [
       "1"
      ]
     },
     "execution_count": 23,
     "metadata": {},
     "output_type": "execute_result"
    }
   ],
   "source": [
    "data[\"user\", \"views\", \"product\"].num_edge_features"
   ]
  },
  {
   "cell_type": "markdown",
   "metadata": {
    "id": "2QGdkLAurBq9"
   },
   "source": [
    "## Defining Edge-level Training Splits\n",
    "\n",
    "Since our data is now ready-to-be-used, we can split the ratings of users into training, validation, and test splits.\n",
    "This is needed in order to ensure that we leak no information about edges used during evaluation into the training phase.\n",
    "For this, we make use of the [`transforms.RandomLinkSplit`](https://pytorch-geometric.readthedocs.io/en/latest/modules/transforms.html#torch_geometric.transforms.RandomLinkSplit) transformation from PyG.\n",
    "This transforms randomly divides the edges in the `(\"user\", \"rates\", \"movie\")` into training, validation and test edges.\n",
    "The `disjoint_train_ratio` parameter further separates edges in the training split into edges used for message passing (`edge_index`) and edges used for supervision (`edge_label_index`).\n",
    "Note that we also need to specify the reverse edge type `(\"movie\", \"rev_rates\", \"user\")`.\n",
    "This allows the `RandomLinkSplit` transform to drop reverse edges accordingly to not leak any information into the training phase."
   ]
  },
  {
   "cell_type": "code",
   "execution_count": 24,
   "metadata": {
    "colab": {
     "base_uri": "https://localhost:8080/"
    },
    "id": "rwgNwoa26Eja",
    "outputId": "77471a87-6b54-4d38-c19a-43afcc26f2b7"
   },
   "outputs": [
    {
     "name": "stdout",
     "output_type": "stream",
     "text": [
      "Training data:\n",
      "==============\n",
      "HeteroData(\n",
      "  user={\n",
      "    node_id=[2973],\n",
      "    x=[2973, 64],\n",
      "  },\n",
      "  product={\n",
      "    node_id=[19533],\n",
      "    x=[19533, 64],\n",
      "  },\n",
      "  (user, views, product)={\n",
      "    edge_index=[2, 30262],\n",
      "    edge_attr=[30262, 1],\n",
      "    edge_label=[12969],\n",
      "    edge_label_index=[2, 12969],\n",
      "  },\n",
      "  (product, rev_views, user)={\n",
      "    edge_index=[2, 30262],\n",
      "    edge_attr=[30262, 1],\n",
      "  }\n",
      ")\n",
      "\n",
      "Validation data:\n",
      "================\n",
      "HeteroData(\n",
      "  user={\n",
      "    node_id=[2973],\n",
      "    x=[2973, 64],\n",
      "  },\n",
      "  product={\n",
      "    node_id=[19533],\n",
      "    x=[19533, 64],\n",
      "  },\n",
      "  (user, views, product)={\n",
      "    edge_index=[2, 43231],\n",
      "    edge_attr=[43231, 1],\n",
      "    edge_label=[1323],\n",
      "    edge_label_index=[2, 1323],\n",
      "  },\n",
      "  (product, rev_views, user)={\n",
      "    edge_index=[2, 43231],\n",
      "    edge_attr=[43231, 1],\n",
      "  }\n",
      ")\n",
      "Test data:\n",
      "================\n",
      "HeteroData(\n",
      "  user={\n",
      "    node_id=[2973],\n",
      "    x=[2973, 64],\n",
      "  },\n",
      "  product={\n",
      "    node_id=[19533],\n",
      "    x=[19533, 64],\n",
      "  },\n",
      "  (user, views, product)={\n",
      "    edge_index=[2, 43672],\n",
      "    edge_attr=[43672, 1],\n",
      "    edge_label=[1323],\n",
      "    edge_label_index=[2, 1323],\n",
      "  },\n",
      "  (product, rev_views, user)={\n",
      "    edge_index=[2, 43672],\n",
      "    edge_attr=[43672, 1],\n",
      "  }\n",
      ")\n"
     ]
    },
    {
     "ename": "AssertionError",
     "evalue": "",
     "output_type": "error",
     "traceback": [
      "\u001b[0;31m---------------------------------------------------------------------------\u001b[0m",
      "\u001b[0;31mAssertionError\u001b[0m                            Traceback (most recent call last)",
      "Cell \u001b[0;32mIn[24], line 31\u001b[0m\n\u001b[1;32m     28\u001b[0m \u001b[38;5;28mprint\u001b[39m(\u001b[38;5;124m\"\u001b[39m\u001b[38;5;124m================\u001b[39m\u001b[38;5;124m\"\u001b[39m)\n\u001b[1;32m     29\u001b[0m \u001b[38;5;28mprint\u001b[39m(test_data)\n\u001b[0;32m---> 31\u001b[0m \u001b[38;5;28;01massert\u001b[39;00m train_data[\u001b[38;5;124m\"\u001b[39m\u001b[38;5;124muser\u001b[39m\u001b[38;5;124m\"\u001b[39m, \u001b[38;5;124m\"\u001b[39m\u001b[38;5;124mviews\u001b[39m\u001b[38;5;124m\"\u001b[39m, \u001b[38;5;124m\"\u001b[39m\u001b[38;5;124mproduct\u001b[39m\u001b[38;5;124m\"\u001b[39m]\u001b[38;5;241m.\u001b[39mnum_edges \u001b[38;5;241m==\u001b[39m \u001b[38;5;241m56469\u001b[39m\n\u001b[1;32m     32\u001b[0m \u001b[38;5;28;01massert\u001b[39;00m train_data[\u001b[38;5;124m\"\u001b[39m\u001b[38;5;124muser\u001b[39m\u001b[38;5;124m\"\u001b[39m, \u001b[38;5;124m\"\u001b[39m\u001b[38;5;124mviews\u001b[39m\u001b[38;5;124m\"\u001b[39m, \u001b[38;5;124m\"\u001b[39m\u001b[38;5;124mproduct\u001b[39m\u001b[38;5;124m\"\u001b[39m]\u001b[38;5;241m.\u001b[39medge_label_index\u001b[38;5;241m.\u001b[39msize(\u001b[38;5;241m1\u001b[39m) \u001b[38;5;241m==\u001b[39m \u001b[38;5;241m24201\u001b[39m\n\u001b[1;32m     33\u001b[0m \u001b[38;5;28;01massert\u001b[39;00m train_data[\u001b[38;5;124m\"\u001b[39m\u001b[38;5;124mproduct\u001b[39m\u001b[38;5;124m\"\u001b[39m, \u001b[38;5;124m\"\u001b[39m\u001b[38;5;124mrev_views\u001b[39m\u001b[38;5;124m\"\u001b[39m, \u001b[38;5;124m\"\u001b[39m\u001b[38;5;124muser\u001b[39m\u001b[38;5;124m\"\u001b[39m]\u001b[38;5;241m.\u001b[39mnum_edges \u001b[38;5;241m==\u001b[39m \u001b[38;5;241m56469\u001b[39m\n",
      "\u001b[0;31mAssertionError\u001b[0m: "
     ]
    }
   ],
   "source": [
    "# For this, we first split the set of edges into\n",
    "# training (80%), validation (10%), and testing edges (10%).\n",
    "# Across the training edges, we use 70% of edges for message passing,\n",
    "# and 30% of edges for supervision.\n",
    "# We further want to generate fixed negative edges for evaluation with a ratio of 2:1.\n",
    "# Negative edges during training will be generated on-the-fly.\n",
    "# We can leverage the `RandomLinkSplit()` transform for this from PyG:\n",
    "transform = T.RandomLinkSplit(\n",
    "    num_val=0.01,\n",
    "    num_test=0.01,\n",
    "    disjoint_train_ratio=0.3,\n",
    "    neg_sampling_ratio=2.0,\n",
    "    add_negative_train_samples=False,\n",
    "    edge_types=(\"user\", \"views\", \"product\"),\n",
    "    rev_edge_types=(\"product\", \"rev_views\", \"user\"),\n",
    ")\n",
    "\n",
    "train_data, val_data, test_data = transform(data)\n",
    "print(\"Training data:\")\n",
    "print(\"==============\")\n",
    "print(train_data)\n",
    "print()\n",
    "print(\"Validation data:\")\n",
    "print(\"================\")\n",
    "print(val_data)\n",
    "\n",
    "print(\"Test data:\")\n",
    "print(\"================\")\n",
    "print(test_data)\n",
    "\n",
    "assert train_data[\"user\", \"views\", \"product\"].num_edges == 56469\n",
    "assert train_data[\"user\", \"views\", \"product\"].edge_label_index.size(1) == 24201\n",
    "assert train_data[\"product\", \"rev_views\", \"user\"].num_edges == 56469\n",
    "# No negative edges added:\n",
    "assert train_data[\"user\", \"views\", \"product\"].edge_label.min() == 1\n",
    "assert train_data[\"user\", \"views\", \"product\"].edge_label.max() == 1\n",
    "\n",
    "assert val_data[\"user\", \"views\", \"product\"].num_edges == 80670\n",
    "assert val_data[\"user\", \"views\", \"product\"].edge_label_index.size(1) == 30249\n",
    "assert val_data[\"product\", \"rev_views\", \"user\"].num_edges == 80670\n",
    "# Negative edges with ratio 2:1:\n",
    "assert val_data[\"user\", \"views\", \"proudct\"].edge_label.long().bincount().tolist() == [20166, 10083]"
   ]
  },
  {
   "cell_type": "code",
   "execution_count": 25,
   "metadata": {},
   "outputs": [
    {
     "data": {
      "text/plain": [
       "torch.Size([19533, 64])"
      ]
     },
     "execution_count": 25,
     "metadata": {},
     "output_type": "execute_result"
    }
   ],
   "source": [
    "train_data['product'].x.shape"
   ]
  },
  {
   "cell_type": "markdown",
   "metadata": {
    "id": "prKLwq6RsYoh"
   },
   "source": [
    "## Defining Mini-batch Loaders\n",
    "\n",
    "We are now ready to create a mini-batch loader that will generate subgraphs that can be used as input into our GNN.\n",
    "While this step is not strictly necessary for small-scale graphs, it is absolutely necessary to apply GNNs on larger graphs that do not fit onto GPU memory otherwise.\n",
    "Here, we make use of the [`loader.LinkNeighborLoader`](https://pytorch-geometric.readthedocs.io/en/latest/modules/loader.html#torch_geometric.loader.LinkNeighborLoader) which samples multiple hops from both ends of a link and creates a subgraph from it.\n",
    "Here, `edge_label_index` serves as the \"seed links\" to start sampling from."
   ]
  },
  {
   "cell_type": "code",
   "execution_count": 26,
   "metadata": {},
   "outputs": [
    {
     "data": {
      "text/plain": [
       "torch.Size([12969])"
      ]
     },
     "execution_count": 26,
     "metadata": {},
     "output_type": "execute_result"
    }
   ],
   "source": [
    "(train_data[\"user\", \"views\", \"product\"].edge_label.shape)"
   ]
  },
  {
   "cell_type": "code",
   "execution_count": 27,
   "metadata": {
    "colab": {
     "base_uri": "https://localhost:8080/"
    },
    "id": "Ogh615ka9I2c",
    "outputId": "522f070e-02f1-4d4f-f2e0-89d1dceea3ff"
   },
   "outputs": [
    {
     "name": "stdout",
     "output_type": "stream",
     "text": [
      "Sampled mini-batch:\n",
      "===================\n",
      "HeteroData(\n",
      "  user={\n",
      "    node_id=[2890],\n",
      "    x=[2890, 64],\n",
      "    n_id=[2890],\n",
      "  },\n",
      "  product={\n",
      "    node_id=[14545],\n",
      "    x=[14545, 64],\n",
      "    n_id=[14545],\n",
      "  },\n",
      "  (user, views, product)={\n",
      "    edge_index=[2, 26745],\n",
      "    edge_attr=[26745, 1],\n",
      "    edge_label=[6144],\n",
      "    edge_label_index=[2, 6144],\n",
      "    e_id=[26745],\n",
      "    input_id=[2048],\n",
      "  },\n",
      "  (product, rev_views, user)={\n",
      "    edge_index=[2, 21952],\n",
      "    edge_attr=[21952, 1],\n",
      "    e_id=[21952],\n",
      "  }\n",
      ")\n"
     ]
    },
    {
     "ename": "AssertionError",
     "evalue": "",
     "output_type": "error",
     "traceback": [
      "\u001b[0;31m---------------------------------------------------------------------------\u001b[0m",
      "\u001b[0;31mAssertionError\u001b[0m                            Traceback (most recent call last)",
      "Cell \u001b[0;32mIn[27], line 31\u001b[0m\n\u001b[1;32m     28\u001b[0m \u001b[38;5;28mprint\u001b[39m(\u001b[38;5;124m\"\u001b[39m\u001b[38;5;124m===================\u001b[39m\u001b[38;5;124m\"\u001b[39m)\n\u001b[1;32m     29\u001b[0m \u001b[38;5;28mprint\u001b[39m(sampled_data)\n\u001b[0;32m---> 31\u001b[0m \u001b[38;5;28;01massert\u001b[39;00m sampled_data[\u001b[38;5;124m\"\u001b[39m\u001b[38;5;124muser\u001b[39m\u001b[38;5;124m\"\u001b[39m, \u001b[38;5;124m\"\u001b[39m\u001b[38;5;124mviews\u001b[39m\u001b[38;5;124m\"\u001b[39m, \u001b[38;5;124m\"\u001b[39m\u001b[38;5;124mproduct\u001b[39m\u001b[38;5;124m\"\u001b[39m]\u001b[38;5;241m.\u001b[39medge_label_index\u001b[38;5;241m.\u001b[39msize(\u001b[38;5;241m1\u001b[39m) \u001b[38;5;241m==\u001b[39m \u001b[38;5;241m3\u001b[39m \u001b[38;5;241m*\u001b[39m \u001b[38;5;241m128\u001b[39m\n\u001b[1;32m     32\u001b[0m \u001b[38;5;28;01massert\u001b[39;00m sampled_data[\u001b[38;5;124m\"\u001b[39m\u001b[38;5;124muser\u001b[39m\u001b[38;5;124m\"\u001b[39m, \u001b[38;5;124m\"\u001b[39m\u001b[38;5;124mviews\u001b[39m\u001b[38;5;124m\"\u001b[39m, \u001b[38;5;124m\"\u001b[39m\u001b[38;5;124mproduct\u001b[39m\u001b[38;5;124m\"\u001b[39m]\u001b[38;5;241m.\u001b[39medge_label\u001b[38;5;241m.\u001b[39mmin() \u001b[38;5;241m==\u001b[39m \u001b[38;5;241m0\u001b[39m\n\u001b[1;32m     33\u001b[0m \u001b[38;5;28;01massert\u001b[39;00m sampled_data[\u001b[38;5;124m\"\u001b[39m\u001b[38;5;124muser\u001b[39m\u001b[38;5;124m\"\u001b[39m, \u001b[38;5;124m\"\u001b[39m\u001b[38;5;124mviews\u001b[39m\u001b[38;5;124m\"\u001b[39m, \u001b[38;5;124m\"\u001b[39m\u001b[38;5;124mproduct\u001b[39m\u001b[38;5;124m\"\u001b[39m]\u001b[38;5;241m.\u001b[39medge_label\u001b[38;5;241m.\u001b[39mmax() \u001b[38;5;241m==\u001b[39m \u001b[38;5;241m1\u001b[39m\n",
      "\u001b[0;31mAssertionError\u001b[0m: "
     ]
    }
   ],
   "source": [
    "# In the first hop, we sample at most 20 neighbors.\n",
    "# In the second hop, we sample at most 10 neighbors.\n",
    "# In addition, during training, we want to sample negative edges on-the-fly with\n",
    "# a ratio of 2:1.\n",
    "# We can make use of the `loader.LinkNeighborLoader` from PyG:\n",
    "from torch_geometric.loader import LinkNeighborLoader\n",
    "\n",
    "# Define seed edges:\n",
    "edge_label_index = train_data[\"user\", \"views\", \"product\"].edge_label_index\n",
    "edge_label = train_data[\"user\", \"views\", \"product\"].edge_label\n",
    "edge_attr = train_data[\"user\", \"views\", \"product\"].edge_attr\n",
    "\n",
    "train_loader = LinkNeighborLoader(\n",
    "    data=train_data,\n",
    "    num_neighbors=[20,10],\n",
    "    neg_sampling_ratio=2.0,\n",
    "    edge_label_index=((\"user\", \"views\", \"product\"), edge_label_index),\n",
    "    edge_label=edge_label,\n",
    "    # weight_attr=edge_attr,\n",
    "    batch_size=2048,\n",
    "    shuffle=True,\n",
    ")\n",
    "\n",
    "# Inspect a sample:\n",
    "sampled_data = next(iter(train_loader))\n",
    "\n",
    "print(\"Sampled mini-batch:\")\n",
    "print(\"===================\")\n",
    "print(sampled_data)\n",
    "\n",
    "assert sampled_data[\"user\", \"views\", \"product\"].edge_label_index.size(1) == 3 * 128\n",
    "assert sampled_data[\"user\", \"views\", \"product\"].edge_label.min() == 0\n",
    "assert sampled_data[\"user\", \"views\", \"product\"].edge_label.max() == 1"
   ]
  },
  {
   "cell_type": "markdown",
   "metadata": {
    "id": "uj7biOtatAmG"
   },
   "source": [
    "## Creating a Heterogeneous Link-level GNN\n",
    "\n",
    "We are now ready to create our heterogeneous GNN.\n",
    "The GNN is responsible for learning enriched node representations from the surrounding subgraphs, which can be then used to derive edge-level predictions.\n",
    "For defining our heterogenous GNN, we make use of [`nn.SAGEConv`](https://pytorch-geometric.readthedocs.io/en/latest/modules/nn.html#torch_geometric.nn.conv.SAGEConv) and the [`nn.to_hetero()`](https://pytorch-geometric.readthedocs.io/en/latest/modules/nn.html#torch_geometric.nn.to_hetero_transformer.to_hetero) function, which transforms a GNN defined on homogeneous graphs to be applied on heterogeneous ones.\n",
    "\n",
    "In addition, we define a final link-level classifier, which simply takes both node embeddings of the link we are trying to predict, and applies a dot-product on them.\n",
    "\n",
    "As users do not have any node-level information, we choose to learn their features jointly via a `torch.nn.Embedding` layer. In order to improve the expressiveness of movie features, we do the same for movie nodes, and simply add their shallow embeddings to the pre-defined genre features."
   ]
  },
  {
   "cell_type": "code",
   "execution_count": 28,
   "metadata": {},
   "outputs": [
    {
     "name": "stdout",
     "output_type": "stream",
     "text": [
      "Requirement already satisfied: torch-geometric in /Users/etiksha/miniconda3/lib/python3.11/site-packages (2.4.0)\n",
      "\u001b[33mWARNING: Retrying (Retry(total=4, connect=None, read=None, redirect=None, status=None)) after connection broken by 'ReadTimeoutError(\"HTTPSConnectionPool(host='pypi.org', port=443): Read timed out. (read timeout=15)\")': /simple/torch-geometric/\u001b[0m\u001b[33m\n",
      "\u001b[0m\u001b[33mWARNING: Retrying (Retry(total=3, connect=None, read=None, redirect=None, status=None)) after connection broken by 'ReadTimeoutError(\"HTTPSConnectionPool(host='pypi.org', port=443): Read timed out. (read timeout=15)\")': /simple/torch-geometric/\u001b[0m\u001b[33m\n",
      "\u001b[0mRequirement already satisfied: tqdm in /Users/etiksha/miniconda3/lib/python3.11/site-packages (from torch-geometric) (4.65.0)\n",
      "Requirement already satisfied: numpy in /Users/etiksha/miniconda3/lib/python3.11/site-packages (from torch-geometric) (1.24.3)\n",
      "Requirement already satisfied: scipy in /Users/etiksha/miniconda3/lib/python3.11/site-packages (from torch-geometric) (1.11.3)\n",
      "Requirement already satisfied: jinja2 in /Users/etiksha/miniconda3/lib/python3.11/site-packages (from torch-geometric) (3.1.2)\n",
      "Requirement already satisfied: requests in /Users/etiksha/miniconda3/lib/python3.11/site-packages (from torch-geometric) (2.29.0)\n",
      "Requirement already satisfied: pyparsing in /Users/etiksha/miniconda3/lib/python3.11/site-packages (from torch-geometric) (3.1.1)\n",
      "Requirement already satisfied: scikit-learn in /Users/etiksha/miniconda3/lib/python3.11/site-packages (from torch-geometric) (1.3.1)\n",
      "Requirement already satisfied: psutil>=5.8.0 in /Users/etiksha/miniconda3/lib/python3.11/site-packages (from torch-geometric) (5.9.6)\n",
      "Requirement already satisfied: MarkupSafe>=2.0 in /Users/etiksha/miniconda3/lib/python3.11/site-packages (from jinja2->torch-geometric) (2.1.3)\n",
      "Requirement already satisfied: charset-normalizer<4,>=2 in /Users/etiksha/miniconda3/lib/python3.11/site-packages (from requests->torch-geometric) (2.0.4)\n",
      "Requirement already satisfied: idna<4,>=2.5 in /Users/etiksha/miniconda3/lib/python3.11/site-packages (from requests->torch-geometric) (3.4)\n",
      "Requirement already satisfied: urllib3<1.27,>=1.21.1 in /Users/etiksha/miniconda3/lib/python3.11/site-packages (from requests->torch-geometric) (1.26.16)\n",
      "Requirement already satisfied: certifi>=2017.4.17 in /Users/etiksha/miniconda3/lib/python3.11/site-packages (from requests->torch-geometric) (2023.7.22)\n",
      "Requirement already satisfied: joblib>=1.1.1 in /Users/etiksha/miniconda3/lib/python3.11/site-packages (from scikit-learn->torch-geometric) (1.3.2)\n",
      "Requirement already satisfied: threadpoolctl>=2.0.0 in /Users/etiksha/miniconda3/lib/python3.11/site-packages (from scikit-learn->torch-geometric) (3.2.0)\n"
     ]
    }
   ],
   "source": [
    "!pip3 install --upgrade torch-geometric"
   ]
  },
  {
   "cell_type": "code",
   "execution_count": 29,
   "metadata": {},
   "outputs": [
    {
     "name": "stdout",
     "output_type": "stream",
     "text": [
      "Model(\n",
      "  (prod_lin): Linear(in_features=64, out_features=128, bias=True)\n",
      "  (user_lin): Linear(in_features=64, out_features=128, bias=True)\n",
      "  (user_emb): Embedding(2973, 128)\n",
      "  (prod_emb): Embedding(19533, 128)\n",
      "  (gnn): GraphModule(\n",
      "    (conv1): ModuleDict(\n",
      "      (user__views__product): GATConv(128, 128, heads=1)\n",
      "      (product__rev_views__user): GATConv(128, 128, heads=1)\n",
      "    )\n",
      "    (conv2): ModuleDict(\n",
      "      (user__views__product): GATConv(128, 128, heads=1)\n",
      "      (product__rev_views__user): GATConv(128, 128, heads=1)\n",
      "    )\n",
      "  )\n",
      "  (classifier): Classifier()\n",
      ")\n"
     ]
    }
   ],
   "source": [
    "from torch_geometric.nn import SAGEConv, to_hetero, GATConv\n",
    "import torch.nn.functional as F\n",
    "\n",
    "NUM_EDGE_FEATURES=1\n",
    "\n",
    "class GNN(torch.nn.Module):\n",
    "    def __init__(self, hidden_channels):\n",
    "        super().__init__()\n",
    "\n",
    "        self.conv1 = GATConv(hidden_channels, hidden_channels, edge_dim = NUM_EDGE_FEATURES, add_self_loops=False).to(torch.double)\n",
    "        self.conv2 = GATConv(hidden_channels, hidden_channels, edge_dim = NUM_EDGE_FEATURES, add_self_loops=False).to(torch.double)\n",
    "\n",
    "    def forward(self, x: Tensor, edge_index: Tensor, edge_attr: Tensor) -> Tensor:\n",
    "        x = F.relu(self.conv1(x, edge_index, edge_attr=edge_attr)).to(torch.double)\n",
    "        x = self.conv2(x, edge_index, edge_attr=edge_attr).to(torch.double)\n",
    "        return x\n",
    "\n",
    "# Our final classifier applies the dot-product between source and destination\n",
    "# node embeddings to derive edge-level predictions:\n",
    "class Classifier(torch.nn.Module):\n",
    "    def forward(self, x_user: Tensor, x_product: Tensor, edge_label_index: Tensor) -> Tensor:\n",
    "        # Convert node embeddings to edge-level representations:\n",
    "        edge_feat_user = x_user[edge_label_index[0]].to(torch.double)\n",
    "        edge_feat_prod = x_product[edge_label_index[1]].to(torch.double)\n",
    "\n",
    "        # Apply dot-product to get a prediction per supervision edge:\n",
    "        return (edge_feat_user * edge_feat_prod).sum(dim=-1).to(torch.double)\n",
    "\n",
    "\n",
    "class Model(torch.nn.Module):\n",
    "    def __init__(self, hidden_channels):\n",
    "        super().__init__()\n",
    "        # Learn two embedding matrices for users and products:\n",
    "        self.prod_lin = torch.nn.Linear(prod_feat_len, hidden_channels).to(torch.double)\n",
    "        self.user_lin = torch.nn.Linear(user_feat_len, hidden_channels).to(torch.double)\n",
    "        self.user_emb = torch.nn.Embedding(data[\"user\"].num_nodes, hidden_channels).to(torch.double)\n",
    "        self.prod_emb = torch.nn.Embedding(data[\"product\"].num_nodes, hidden_channels).to(torch.double)\n",
    "\n",
    "        # Instantiate homogeneous GNN:\n",
    "        self.gnn = GNN(hidden_channels).to(torch.double)\n",
    "\n",
    "        # Convert GNN model into a heterogeneous variant:\n",
    "        self.gnn = to_hetero(self.gnn, metadata=data.metadata()).to(torch.double)\n",
    "\n",
    "        self.classifier = Classifier().to(torch.double)\n",
    "\n",
    "    def forward(self, data: HeteroData) -> Tensor:\n",
    "        x_dict = {\n",
    "          \"user\": self.user_lin(data[\"user\"].x) + self.user_emb(data[\"user\"].node_id.to(torch.long)),\n",
    "          \"product\": self.prod_lin(data[\"product\"].x) + self.prod_emb(data[\"product\"].node_id.to(torch.long)),\n",
    "        }\n",
    "        # print(data[\"product\"].x.shape)\n",
    "        emb = x_dict\n",
    "\n",
    "        x_dict['user']=x_dict['user'].to(torch.double)\n",
    "        x_dict['product']=x_dict['product'].to(torch.double)\n",
    "        \n",
    "        # `x_dict` holds feature matrices of all node types\n",
    "        # `edge_index_dict` holds all edge indices of all edge types\n",
    "        x_dict_new = self.gnn(x_dict, data.edge_index_dict, data.edge_attr_dict)\n",
    "        pred = self.classifier(\n",
    "            x_dict_new[\"user\"],\n",
    "            x_dict_new[\"product\"],\n",
    "            data[\"user\", \"views\", \"product\"].edge_label_index,\n",
    "        )\n",
    "\n",
    "        return pred, emb, data\n",
    "\n",
    "\n",
    "model = Model(hidden_channels=128)\n",
    "print(model)"
   ]
  },
  {
   "cell_type": "markdown",
   "metadata": {
    "id": "05dfew-WuWHN"
   },
   "source": [
    "## Training a Heterogeneous Link-level GNN\n",
    "\n",
    "Training our GNN is then similar to training any PyTorch model.\n",
    "We move the model to the desired device, and initialize an optimizer that takes care of adjusting model parameters via stochastic gradient descent.\n",
    "\n",
    "The training loop then iterates over our mini-batches, applies the forward computation of the model, computes the loss from ground-truth labels and obtained predictions (here we make use of binary cross entropy), and adjusts model parameters via back-propagation and stochastic gradient descent."
   ]
  },
  {
   "cell_type": "code",
   "execution_count": 30,
   "metadata": {},
   "outputs": [],
   "source": [
    "from torch_geometric.utils import remove_self_loops\n",
    "data[\"user\", \"views\", \"product\"].edge_index, _ = remove_self_loops(data[\"user\", \"views\", \"product\"].edge_index)\n",
    "data[\"product\", \"rev_views\", \"user\"].edge_index, _ = remove_self_loops(data[\"product\", \"rev_views\", \"user\"].edge_index)"
   ]
  },
  {
   "cell_type": "code",
   "execution_count": 38,
   "metadata": {},
   "outputs": [],
   "source": [
    "epochs=150"
   ]
  },
  {
   "cell_type": "code",
   "execution_count": 39,
   "metadata": {
    "colab": {
     "base_uri": "https://localhost:8080/"
    },
    "id": "OqLuXEcrAMru",
    "outputId": "319eee17-7ef0-4359-8158-a4cec614a939"
   },
   "outputs": [
    {
     "name": "stdout",
     "output_type": "stream",
     "text": [
      "Device: 'cpu'\n"
     ]
    },
    {
     "name": "stderr",
     "output_type": "stream",
     "text": [
      "100%|█████████████████████████████████████████████| 7/7 [00:02<00:00,  3.44it/s]\n"
     ]
    },
    {
     "name": "stdout",
     "output_type": "stream",
     "text": [
      "Epoch: 000, Loss: 2.6677\n"
     ]
    },
    {
     "name": "stderr",
     "output_type": "stream",
     "text": [
      "100%|█████████████████████████████████████████████| 7/7 [00:01<00:00,  3.60it/s]\n"
     ]
    },
    {
     "name": "stdout",
     "output_type": "stream",
     "text": [
      "Epoch: 001, Loss: 1.5530\n"
     ]
    },
    {
     "name": "stderr",
     "output_type": "stream",
     "text": [
      "100%|█████████████████████████████████████████████| 7/7 [00:01<00:00,  3.62it/s]\n"
     ]
    },
    {
     "name": "stdout",
     "output_type": "stream",
     "text": [
      "Epoch: 002, Loss: 1.0434\n"
     ]
    },
    {
     "name": "stderr",
     "output_type": "stream",
     "text": [
      "100%|█████████████████████████████████████████████| 7/7 [00:01<00:00,  3.75it/s]\n"
     ]
    },
    {
     "name": "stdout",
     "output_type": "stream",
     "text": [
      "Epoch: 003, Loss: 0.8888\n"
     ]
    },
    {
     "name": "stderr",
     "output_type": "stream",
     "text": [
      "100%|█████████████████████████████████████████████| 7/7 [00:01<00:00,  3.50it/s]\n"
     ]
    },
    {
     "name": "stdout",
     "output_type": "stream",
     "text": [
      "Epoch: 004, Loss: 0.8049\n"
     ]
    },
    {
     "name": "stderr",
     "output_type": "stream",
     "text": [
      "100%|█████████████████████████████████████████████| 7/7 [00:01<00:00,  3.60it/s]\n"
     ]
    },
    {
     "name": "stdout",
     "output_type": "stream",
     "text": [
      "Epoch: 005, Loss: 0.7683\n"
     ]
    },
    {
     "name": "stderr",
     "output_type": "stream",
     "text": [
      "100%|█████████████████████████████████████████████| 7/7 [00:01<00:00,  3.59it/s]\n"
     ]
    },
    {
     "name": "stdout",
     "output_type": "stream",
     "text": [
      "Epoch: 006, Loss: 0.7319\n"
     ]
    },
    {
     "name": "stderr",
     "output_type": "stream",
     "text": [
      "100%|█████████████████████████████████████████████| 7/7 [00:01<00:00,  3.73it/s]\n"
     ]
    },
    {
     "name": "stdout",
     "output_type": "stream",
     "text": [
      "Epoch: 007, Loss: 0.7117\n"
     ]
    },
    {
     "name": "stderr",
     "output_type": "stream",
     "text": [
      "100%|█████████████████████████████████████████████| 7/7 [00:01<00:00,  3.80it/s]\n"
     ]
    },
    {
     "name": "stdout",
     "output_type": "stream",
     "text": [
      "Epoch: 008, Loss: 0.6901\n"
     ]
    },
    {
     "name": "stderr",
     "output_type": "stream",
     "text": [
      "100%|█████████████████████████████████████████████| 7/7 [00:01<00:00,  3.69it/s]\n"
     ]
    },
    {
     "name": "stdout",
     "output_type": "stream",
     "text": [
      "Epoch: 009, Loss: 0.6771\n"
     ]
    },
    {
     "name": "stderr",
     "output_type": "stream",
     "text": [
      "100%|█████████████████████████████████████████████| 7/7 [00:01<00:00,  3.70it/s]\n"
     ]
    },
    {
     "name": "stdout",
     "output_type": "stream",
     "text": [
      "Epoch: 010, Loss: 0.6481\n"
     ]
    },
    {
     "name": "stderr",
     "output_type": "stream",
     "text": [
      "100%|█████████████████████████████████████████████| 7/7 [00:01<00:00,  3.52it/s]\n"
     ]
    },
    {
     "name": "stdout",
     "output_type": "stream",
     "text": [
      "Epoch: 011, Loss: 0.6236\n"
     ]
    },
    {
     "name": "stderr",
     "output_type": "stream",
     "text": [
      "100%|█████████████████████████████████████████████| 7/7 [00:01<00:00,  3.61it/s]\n"
     ]
    },
    {
     "name": "stdout",
     "output_type": "stream",
     "text": [
      "Epoch: 012, Loss: 0.5957\n"
     ]
    },
    {
     "name": "stderr",
     "output_type": "stream",
     "text": [
      "100%|█████████████████████████████████████████████| 7/7 [00:01<00:00,  3.76it/s]\n"
     ]
    },
    {
     "name": "stdout",
     "output_type": "stream",
     "text": [
      "Epoch: 013, Loss: 0.5850\n"
     ]
    },
    {
     "name": "stderr",
     "output_type": "stream",
     "text": [
      "100%|█████████████████████████████████████████████| 7/7 [00:02<00:00,  3.49it/s]\n"
     ]
    },
    {
     "name": "stdout",
     "output_type": "stream",
     "text": [
      "Epoch: 014, Loss: 0.5741\n"
     ]
    },
    {
     "name": "stderr",
     "output_type": "stream",
     "text": [
      "100%|█████████████████████████████████████████████| 7/7 [00:01<00:00,  3.64it/s]\n"
     ]
    },
    {
     "name": "stdout",
     "output_type": "stream",
     "text": [
      "Epoch: 015, Loss: 0.5660\n"
     ]
    },
    {
     "name": "stderr",
     "output_type": "stream",
     "text": [
      "100%|█████████████████████████████████████████████| 7/7 [00:01<00:00,  3.82it/s]\n"
     ]
    },
    {
     "name": "stdout",
     "output_type": "stream",
     "text": [
      "Epoch: 016, Loss: 0.5630\n"
     ]
    },
    {
     "name": "stderr",
     "output_type": "stream",
     "text": [
      "100%|█████████████████████████████████████████████| 7/7 [00:01<00:00,  3.54it/s]\n"
     ]
    },
    {
     "name": "stdout",
     "output_type": "stream",
     "text": [
      "Epoch: 017, Loss: 0.5596\n"
     ]
    },
    {
     "name": "stderr",
     "output_type": "stream",
     "text": [
      "100%|█████████████████████████████████████████████| 7/7 [00:01<00:00,  3.71it/s]\n"
     ]
    },
    {
     "name": "stdout",
     "output_type": "stream",
     "text": [
      "Epoch: 018, Loss: 0.5545\n"
     ]
    },
    {
     "name": "stderr",
     "output_type": "stream",
     "text": [
      "100%|█████████████████████████████████████████████| 7/7 [00:01<00:00,  3.71it/s]\n"
     ]
    },
    {
     "name": "stdout",
     "output_type": "stream",
     "text": [
      "Epoch: 019, Loss: 0.5473\n"
     ]
    },
    {
     "name": "stderr",
     "output_type": "stream",
     "text": [
      "100%|█████████████████████████████████████████████| 7/7 [00:01<00:00,  3.80it/s]\n"
     ]
    },
    {
     "name": "stdout",
     "output_type": "stream",
     "text": [
      "Epoch: 020, Loss: 0.5464\n"
     ]
    },
    {
     "name": "stderr",
     "output_type": "stream",
     "text": [
      "100%|█████████████████████████████████████████████| 7/7 [00:01<00:00,  3.75it/s]\n"
     ]
    },
    {
     "name": "stdout",
     "output_type": "stream",
     "text": [
      "Epoch: 021, Loss: 0.5447\n"
     ]
    },
    {
     "name": "stderr",
     "output_type": "stream",
     "text": [
      "100%|█████████████████████████████████████████████| 7/7 [00:01<00:00,  3.62it/s]\n"
     ]
    },
    {
     "name": "stdout",
     "output_type": "stream",
     "text": [
      "Epoch: 022, Loss: 0.5414\n"
     ]
    },
    {
     "name": "stderr",
     "output_type": "stream",
     "text": [
      "100%|█████████████████████████████████████████████| 7/7 [00:01<00:00,  3.83it/s]\n"
     ]
    },
    {
     "name": "stdout",
     "output_type": "stream",
     "text": [
      "Epoch: 023, Loss: 0.5384\n"
     ]
    },
    {
     "name": "stderr",
     "output_type": "stream",
     "text": [
      "100%|█████████████████████████████████████████████| 7/7 [00:01<00:00,  3.93it/s]\n"
     ]
    },
    {
     "name": "stdout",
     "output_type": "stream",
     "text": [
      "Epoch: 024, Loss: 0.5349\n"
     ]
    },
    {
     "name": "stderr",
     "output_type": "stream",
     "text": [
      "100%|█████████████████████████████████████████████| 7/7 [00:02<00:00,  3.25it/s]\n"
     ]
    },
    {
     "name": "stdout",
     "output_type": "stream",
     "text": [
      "Epoch: 025, Loss: 0.5315\n"
     ]
    },
    {
     "name": "stderr",
     "output_type": "stream",
     "text": [
      "100%|█████████████████████████████████████████████| 7/7 [00:02<00:00,  3.36it/s]\n"
     ]
    },
    {
     "name": "stdout",
     "output_type": "stream",
     "text": [
      "Epoch: 026, Loss: 0.5263\n"
     ]
    },
    {
     "name": "stderr",
     "output_type": "stream",
     "text": [
      "100%|█████████████████████████████████████████████| 7/7 [00:02<00:00,  3.07it/s]\n"
     ]
    },
    {
     "name": "stdout",
     "output_type": "stream",
     "text": [
      "Epoch: 027, Loss: 0.5261\n"
     ]
    },
    {
     "name": "stderr",
     "output_type": "stream",
     "text": [
      "100%|█████████████████████████████████████████████| 7/7 [00:01<00:00,  3.57it/s]\n"
     ]
    },
    {
     "name": "stdout",
     "output_type": "stream",
     "text": [
      "Epoch: 028, Loss: 0.5217\n"
     ]
    },
    {
     "name": "stderr",
     "output_type": "stream",
     "text": [
      "100%|█████████████████████████████████████████████| 7/7 [00:01<00:00,  3.70it/s]\n"
     ]
    },
    {
     "name": "stdout",
     "output_type": "stream",
     "text": [
      "Epoch: 029, Loss: 0.5189\n"
     ]
    },
    {
     "name": "stderr",
     "output_type": "stream",
     "text": [
      "100%|█████████████████████████████████████████████| 7/7 [00:01<00:00,  3.73it/s]\n"
     ]
    },
    {
     "name": "stdout",
     "output_type": "stream",
     "text": [
      "Epoch: 030, Loss: 0.5202\n"
     ]
    },
    {
     "name": "stderr",
     "output_type": "stream",
     "text": [
      "100%|█████████████████████████████████████████████| 7/7 [00:01<00:00,  3.66it/s]\n"
     ]
    },
    {
     "name": "stdout",
     "output_type": "stream",
     "text": [
      "Epoch: 031, Loss: 0.5210\n"
     ]
    },
    {
     "name": "stderr",
     "output_type": "stream",
     "text": [
      "100%|█████████████████████████████████████████████| 7/7 [00:02<00:00,  3.48it/s]\n"
     ]
    },
    {
     "name": "stdout",
     "output_type": "stream",
     "text": [
      "Epoch: 032, Loss: 0.5140\n"
     ]
    },
    {
     "name": "stderr",
     "output_type": "stream",
     "text": [
      "100%|█████████████████████████████████████████████| 7/7 [00:02<00:00,  3.41it/s]\n"
     ]
    },
    {
     "name": "stdout",
     "output_type": "stream",
     "text": [
      "Epoch: 033, Loss: 0.5142\n"
     ]
    },
    {
     "name": "stderr",
     "output_type": "stream",
     "text": [
      "100%|█████████████████████████████████████████████| 7/7 [00:02<00:00,  3.34it/s]\n"
     ]
    },
    {
     "name": "stdout",
     "output_type": "stream",
     "text": [
      "Epoch: 034, Loss: 0.5101\n"
     ]
    },
    {
     "name": "stderr",
     "output_type": "stream",
     "text": [
      "100%|█████████████████████████████████████████████| 7/7 [00:02<00:00,  3.38it/s]\n"
     ]
    },
    {
     "name": "stdout",
     "output_type": "stream",
     "text": [
      "Epoch: 035, Loss: 0.5075\n"
     ]
    },
    {
     "name": "stderr",
     "output_type": "stream",
     "text": [
      "100%|█████████████████████████████████████████████| 7/7 [00:02<00:00,  3.49it/s]\n"
     ]
    },
    {
     "name": "stdout",
     "output_type": "stream",
     "text": [
      "Epoch: 036, Loss: 0.5055\n"
     ]
    },
    {
     "name": "stderr",
     "output_type": "stream",
     "text": [
      "100%|█████████████████████████████████████████████| 7/7 [00:01<00:00,  3.54it/s]\n"
     ]
    },
    {
     "name": "stdout",
     "output_type": "stream",
     "text": [
      "Epoch: 037, Loss: 0.5061\n"
     ]
    },
    {
     "name": "stderr",
     "output_type": "stream",
     "text": [
      "100%|█████████████████████████████████████████████| 7/7 [00:01<00:00,  3.64it/s]\n"
     ]
    },
    {
     "name": "stdout",
     "output_type": "stream",
     "text": [
      "Epoch: 038, Loss: 0.4991\n"
     ]
    },
    {
     "name": "stderr",
     "output_type": "stream",
     "text": [
      "100%|█████████████████████████████████████████████| 7/7 [00:01<00:00,  3.68it/s]\n"
     ]
    },
    {
     "name": "stdout",
     "output_type": "stream",
     "text": [
      "Epoch: 039, Loss: 0.4984\n"
     ]
    },
    {
     "name": "stderr",
     "output_type": "stream",
     "text": [
      "100%|█████████████████████████████████████████████| 7/7 [00:01<00:00,  3.51it/s]\n"
     ]
    },
    {
     "name": "stdout",
     "output_type": "stream",
     "text": [
      "Epoch: 040, Loss: 0.4959\n"
     ]
    },
    {
     "name": "stderr",
     "output_type": "stream",
     "text": [
      "100%|█████████████████████████████████████████████| 7/7 [00:01<00:00,  3.55it/s]\n"
     ]
    },
    {
     "name": "stdout",
     "output_type": "stream",
     "text": [
      "Epoch: 041, Loss: 0.4984\n"
     ]
    },
    {
     "name": "stderr",
     "output_type": "stream",
     "text": [
      "100%|█████████████████████████████████████████████| 7/7 [00:01<00:00,  3.51it/s]\n"
     ]
    },
    {
     "name": "stdout",
     "output_type": "stream",
     "text": [
      "Epoch: 042, Loss: 0.4980\n"
     ]
    },
    {
     "name": "stderr",
     "output_type": "stream",
     "text": [
      "100%|█████████████████████████████████████████████| 7/7 [00:01<00:00,  3.66it/s]\n"
     ]
    },
    {
     "name": "stdout",
     "output_type": "stream",
     "text": [
      "Epoch: 043, Loss: 0.4931\n"
     ]
    },
    {
     "name": "stderr",
     "output_type": "stream",
     "text": [
      "100%|█████████████████████████████████████████████| 7/7 [00:01<00:00,  3.76it/s]\n"
     ]
    },
    {
     "name": "stdout",
     "output_type": "stream",
     "text": [
      "Epoch: 044, Loss: 0.4962\n"
     ]
    },
    {
     "name": "stderr",
     "output_type": "stream",
     "text": [
      "100%|█████████████████████████████████████████████| 7/7 [00:01<00:00,  3.78it/s]\n"
     ]
    },
    {
     "name": "stdout",
     "output_type": "stream",
     "text": [
      "Epoch: 045, Loss: 0.4890\n"
     ]
    },
    {
     "name": "stderr",
     "output_type": "stream",
     "text": [
      "100%|█████████████████████████████████████████████| 7/7 [00:01<00:00,  3.85it/s]\n"
     ]
    },
    {
     "name": "stdout",
     "output_type": "stream",
     "text": [
      "Epoch: 046, Loss: 0.4875\n"
     ]
    },
    {
     "name": "stderr",
     "output_type": "stream",
     "text": [
      "100%|█████████████████████████████████████████████| 7/7 [00:02<00:00,  2.83it/s]\n"
     ]
    },
    {
     "name": "stdout",
     "output_type": "stream",
     "text": [
      "Epoch: 047, Loss: 0.4902\n"
     ]
    },
    {
     "name": "stderr",
     "output_type": "stream",
     "text": [
      "100%|█████████████████████████████████████████████| 7/7 [00:03<00:00,  2.29it/s]\n"
     ]
    },
    {
     "name": "stdout",
     "output_type": "stream",
     "text": [
      "Epoch: 048, Loss: 0.4883\n"
     ]
    },
    {
     "name": "stderr",
     "output_type": "stream",
     "text": [
      "100%|█████████████████████████████████████████████| 7/7 [00:01<00:00,  3.72it/s]\n"
     ]
    },
    {
     "name": "stdout",
     "output_type": "stream",
     "text": [
      "Epoch: 049, Loss: 0.4875\n"
     ]
    },
    {
     "name": "stderr",
     "output_type": "stream",
     "text": [
      "100%|█████████████████████████████████████████████| 7/7 [00:01<00:00,  3.78it/s]\n"
     ]
    },
    {
     "name": "stdout",
     "output_type": "stream",
     "text": [
      "Epoch: 050, Loss: 0.4892\n"
     ]
    },
    {
     "name": "stderr",
     "output_type": "stream",
     "text": [
      "100%|█████████████████████████████████████████████| 7/7 [00:01<00:00,  3.72it/s]\n"
     ]
    },
    {
     "name": "stdout",
     "output_type": "stream",
     "text": [
      "Epoch: 051, Loss: 0.4811\n"
     ]
    },
    {
     "name": "stderr",
     "output_type": "stream",
     "text": [
      "100%|█████████████████████████████████████████████| 7/7 [00:01<00:00,  3.57it/s]\n"
     ]
    },
    {
     "name": "stdout",
     "output_type": "stream",
     "text": [
      "Epoch: 052, Loss: 0.4809\n"
     ]
    },
    {
     "name": "stderr",
     "output_type": "stream",
     "text": [
      "100%|█████████████████████████████████████████████| 7/7 [00:01<00:00,  3.64it/s]\n"
     ]
    },
    {
     "name": "stdout",
     "output_type": "stream",
     "text": [
      "Epoch: 053, Loss: 0.4769\n"
     ]
    },
    {
     "name": "stderr",
     "output_type": "stream",
     "text": [
      "100%|█████████████████████████████████████████████| 7/7 [00:01<00:00,  3.82it/s]\n"
     ]
    },
    {
     "name": "stdout",
     "output_type": "stream",
     "text": [
      "Epoch: 054, Loss: 0.4911\n"
     ]
    },
    {
     "name": "stderr",
     "output_type": "stream",
     "text": [
      "100%|█████████████████████████████████████████████| 7/7 [00:01<00:00,  3.75it/s]\n"
     ]
    },
    {
     "name": "stdout",
     "output_type": "stream",
     "text": [
      "Epoch: 055, Loss: 0.4819\n"
     ]
    },
    {
     "name": "stderr",
     "output_type": "stream",
     "text": [
      "100%|█████████████████████████████████████████████| 7/7 [00:01<00:00,  3.57it/s]\n"
     ]
    },
    {
     "name": "stdout",
     "output_type": "stream",
     "text": [
      "Epoch: 056, Loss: 0.4853\n"
     ]
    },
    {
     "name": "stderr",
     "output_type": "stream",
     "text": [
      "100%|█████████████████████████████████████████████| 7/7 [00:01<00:00,  3.53it/s]\n"
     ]
    },
    {
     "name": "stdout",
     "output_type": "stream",
     "text": [
      "Epoch: 057, Loss: 0.4832\n"
     ]
    },
    {
     "name": "stderr",
     "output_type": "stream",
     "text": [
      "100%|█████████████████████████████████████████████| 7/7 [00:01<00:00,  3.60it/s]\n"
     ]
    },
    {
     "name": "stdout",
     "output_type": "stream",
     "text": [
      "Epoch: 058, Loss: 0.4838\n"
     ]
    },
    {
     "name": "stderr",
     "output_type": "stream",
     "text": [
      "100%|█████████████████████████████████████████████| 7/7 [00:02<00:00,  3.38it/s]\n"
     ]
    },
    {
     "name": "stdout",
     "output_type": "stream",
     "text": [
      "Epoch: 059, Loss: 0.4803\n"
     ]
    },
    {
     "name": "stderr",
     "output_type": "stream",
     "text": [
      "100%|█████████████████████████████████████████████| 7/7 [00:01<00:00,  3.65it/s]\n"
     ]
    },
    {
     "name": "stdout",
     "output_type": "stream",
     "text": [
      "Epoch: 060, Loss: 0.4691\n"
     ]
    },
    {
     "name": "stderr",
     "output_type": "stream",
     "text": [
      "100%|█████████████████████████████████████████████| 7/7 [00:01<00:00,  3.61it/s]\n"
     ]
    },
    {
     "name": "stdout",
     "output_type": "stream",
     "text": [
      "Epoch: 061, Loss: 0.4702\n"
     ]
    },
    {
     "name": "stderr",
     "output_type": "stream",
     "text": [
      "100%|█████████████████████████████████████████████| 7/7 [00:01<00:00,  3.66it/s]\n"
     ]
    },
    {
     "name": "stdout",
     "output_type": "stream",
     "text": [
      "Epoch: 062, Loss: 0.4670\n"
     ]
    },
    {
     "name": "stderr",
     "output_type": "stream",
     "text": [
      "100%|█████████████████████████████████████████████| 7/7 [00:02<00:00,  3.08it/s]\n"
     ]
    },
    {
     "name": "stdout",
     "output_type": "stream",
     "text": [
      "Epoch: 063, Loss: 0.4687\n"
     ]
    },
    {
     "name": "stderr",
     "output_type": "stream",
     "text": [
      "100%|█████████████████████████████████████████████| 7/7 [00:03<00:00,  2.01it/s]\n"
     ]
    },
    {
     "name": "stdout",
     "output_type": "stream",
     "text": [
      "Epoch: 064, Loss: 0.4646\n"
     ]
    },
    {
     "name": "stderr",
     "output_type": "stream",
     "text": [
      "100%|█████████████████████████████████████████████| 7/7 [00:02<00:00,  2.71it/s]\n"
     ]
    },
    {
     "name": "stdout",
     "output_type": "stream",
     "text": [
      "Epoch: 065, Loss: 0.4633\n"
     ]
    },
    {
     "name": "stderr",
     "output_type": "stream",
     "text": [
      "100%|█████████████████████████████████████████████| 7/7 [00:02<00:00,  2.94it/s]\n"
     ]
    },
    {
     "name": "stdout",
     "output_type": "stream",
     "text": [
      "Epoch: 066, Loss: 0.4573\n"
     ]
    },
    {
     "name": "stderr",
     "output_type": "stream",
     "text": [
      "100%|█████████████████████████████████████████████| 7/7 [00:02<00:00,  3.38it/s]\n"
     ]
    },
    {
     "name": "stdout",
     "output_type": "stream",
     "text": [
      "Epoch: 067, Loss: 0.4558\n"
     ]
    },
    {
     "name": "stderr",
     "output_type": "stream",
     "text": [
      "100%|█████████████████████████████████████████████| 7/7 [00:02<00:00,  3.48it/s]\n"
     ]
    },
    {
     "name": "stdout",
     "output_type": "stream",
     "text": [
      "Epoch: 068, Loss: 0.4588\n"
     ]
    },
    {
     "name": "stderr",
     "output_type": "stream",
     "text": [
      "100%|█████████████████████████████████████████████| 7/7 [00:02<00:00,  3.20it/s]\n"
     ]
    },
    {
     "name": "stdout",
     "output_type": "stream",
     "text": [
      "Epoch: 069, Loss: 0.4608\n"
     ]
    },
    {
     "name": "stderr",
     "output_type": "stream",
     "text": [
      "100%|█████████████████████████████████████████████| 7/7 [00:02<00:00,  3.41it/s]\n"
     ]
    },
    {
     "name": "stdout",
     "output_type": "stream",
     "text": [
      "Epoch: 070, Loss: 0.4592\n"
     ]
    },
    {
     "name": "stderr",
     "output_type": "stream",
     "text": [
      "100%|█████████████████████████████████████████████| 7/7 [00:02<00:00,  3.37it/s]\n"
     ]
    },
    {
     "name": "stdout",
     "output_type": "stream",
     "text": [
      "Epoch: 071, Loss: 0.4566\n"
     ]
    },
    {
     "name": "stderr",
     "output_type": "stream",
     "text": [
      "100%|█████████████████████████████████████████████| 7/7 [00:01<00:00,  3.51it/s]\n"
     ]
    },
    {
     "name": "stdout",
     "output_type": "stream",
     "text": [
      "Epoch: 072, Loss: 0.4544\n"
     ]
    },
    {
     "name": "stderr",
     "output_type": "stream",
     "text": [
      "100%|█████████████████████████████████████████████| 7/7 [00:01<00:00,  3.50it/s]\n"
     ]
    },
    {
     "name": "stdout",
     "output_type": "stream",
     "text": [
      "Epoch: 073, Loss: 0.4493\n"
     ]
    },
    {
     "name": "stderr",
     "output_type": "stream",
     "text": [
      "100%|█████████████████████████████████████████████| 7/7 [00:01<00:00,  3.62it/s]\n"
     ]
    },
    {
     "name": "stdout",
     "output_type": "stream",
     "text": [
      "Epoch: 074, Loss: 0.4534\n"
     ]
    },
    {
     "name": "stderr",
     "output_type": "stream",
     "text": [
      "100%|█████████████████████████████████████████████| 7/7 [00:01<00:00,  3.72it/s]\n"
     ]
    },
    {
     "name": "stdout",
     "output_type": "stream",
     "text": [
      "Epoch: 075, Loss: 0.4548\n"
     ]
    },
    {
     "name": "stderr",
     "output_type": "stream",
     "text": [
      "100%|█████████████████████████████████████████████| 7/7 [00:01<00:00,  3.82it/s]\n"
     ]
    },
    {
     "name": "stdout",
     "output_type": "stream",
     "text": [
      "Epoch: 076, Loss: 0.4557\n"
     ]
    },
    {
     "name": "stderr",
     "output_type": "stream",
     "text": [
      "100%|█████████████████████████████████████████████| 7/7 [00:01<00:00,  3.75it/s]\n"
     ]
    },
    {
     "name": "stdout",
     "output_type": "stream",
     "text": [
      "Epoch: 077, Loss: 0.4497\n"
     ]
    },
    {
     "name": "stderr",
     "output_type": "stream",
     "text": [
      "100%|█████████████████████████████████████████████| 7/7 [00:01<00:00,  3.72it/s]\n"
     ]
    },
    {
     "name": "stdout",
     "output_type": "stream",
     "text": [
      "Epoch: 078, Loss: 0.4470\n"
     ]
    },
    {
     "name": "stderr",
     "output_type": "stream",
     "text": [
      "100%|█████████████████████████████████████████████| 7/7 [00:01<00:00,  3.81it/s]\n"
     ]
    },
    {
     "name": "stdout",
     "output_type": "stream",
     "text": [
      "Epoch: 079, Loss: 0.4495\n"
     ]
    },
    {
     "name": "stderr",
     "output_type": "stream",
     "text": [
      "100%|█████████████████████████████████████████████| 7/7 [00:01<00:00,  3.65it/s]\n"
     ]
    },
    {
     "name": "stdout",
     "output_type": "stream",
     "text": [
      "Epoch: 080, Loss: 0.4513\n"
     ]
    },
    {
     "name": "stderr",
     "output_type": "stream",
     "text": [
      "100%|█████████████████████████████████████████████| 7/7 [00:01<00:00,  3.67it/s]\n"
     ]
    },
    {
     "name": "stdout",
     "output_type": "stream",
     "text": [
      "Epoch: 081, Loss: 0.4784\n"
     ]
    },
    {
     "name": "stderr",
     "output_type": "stream",
     "text": [
      "100%|█████████████████████████████████████████████| 7/7 [00:01<00:00,  3.54it/s]\n"
     ]
    },
    {
     "name": "stdout",
     "output_type": "stream",
     "text": [
      "Epoch: 082, Loss: 0.4742\n"
     ]
    },
    {
     "name": "stderr",
     "output_type": "stream",
     "text": [
      "100%|█████████████████████████████████████████████| 7/7 [00:01<00:00,  3.61it/s]\n"
     ]
    },
    {
     "name": "stdout",
     "output_type": "stream",
     "text": [
      "Epoch: 083, Loss: 0.4548\n"
     ]
    },
    {
     "name": "stderr",
     "output_type": "stream",
     "text": [
      "100%|█████████████████████████████████████████████| 7/7 [00:02<00:00,  2.77it/s]\n"
     ]
    },
    {
     "name": "stdout",
     "output_type": "stream",
     "text": [
      "Epoch: 084, Loss: 0.4432\n"
     ]
    },
    {
     "name": "stderr",
     "output_type": "stream",
     "text": [
      "100%|█████████████████████████████████████████████| 7/7 [00:02<00:00,  3.48it/s]\n"
     ]
    },
    {
     "name": "stdout",
     "output_type": "stream",
     "text": [
      "Epoch: 085, Loss: 0.4547\n"
     ]
    },
    {
     "name": "stderr",
     "output_type": "stream",
     "text": [
      "100%|█████████████████████████████████████████████| 7/7 [00:02<00:00,  3.31it/s]\n"
     ]
    },
    {
     "name": "stdout",
     "output_type": "stream",
     "text": [
      "Epoch: 086, Loss: 0.4720\n"
     ]
    },
    {
     "name": "stderr",
     "output_type": "stream",
     "text": [
      "100%|█████████████████████████████████████████████| 7/7 [00:01<00:00,  3.70it/s]\n"
     ]
    },
    {
     "name": "stdout",
     "output_type": "stream",
     "text": [
      "Epoch: 087, Loss: 0.4631\n"
     ]
    },
    {
     "name": "stderr",
     "output_type": "stream",
     "text": [
      "100%|█████████████████████████████████████████████| 7/7 [00:01<00:00,  3.60it/s]\n"
     ]
    },
    {
     "name": "stdout",
     "output_type": "stream",
     "text": [
      "Epoch: 088, Loss: 0.4479\n"
     ]
    },
    {
     "name": "stderr",
     "output_type": "stream",
     "text": [
      "100%|█████████████████████████████████████████████| 7/7 [00:02<00:00,  3.49it/s]\n"
     ]
    },
    {
     "name": "stdout",
     "output_type": "stream",
     "text": [
      "Epoch: 089, Loss: 0.4608\n"
     ]
    },
    {
     "name": "stderr",
     "output_type": "stream",
     "text": [
      "100%|█████████████████████████████████████████████| 7/7 [00:02<00:00,  3.40it/s]\n"
     ]
    },
    {
     "name": "stdout",
     "output_type": "stream",
     "text": [
      "Epoch: 090, Loss: 0.4486\n"
     ]
    },
    {
     "name": "stderr",
     "output_type": "stream",
     "text": [
      "100%|█████████████████████████████████████████████| 7/7 [00:02<00:00,  3.22it/s]\n"
     ]
    },
    {
     "name": "stdout",
     "output_type": "stream",
     "text": [
      "Epoch: 091, Loss: 0.4365\n"
     ]
    },
    {
     "name": "stderr",
     "output_type": "stream",
     "text": [
      "100%|█████████████████████████████████████████████| 7/7 [00:02<00:00,  3.45it/s]\n"
     ]
    },
    {
     "name": "stdout",
     "output_type": "stream",
     "text": [
      "Epoch: 092, Loss: 0.4282\n"
     ]
    },
    {
     "name": "stderr",
     "output_type": "stream",
     "text": [
      "100%|█████████████████████████████████████████████| 7/7 [00:01<00:00,  3.66it/s]\n"
     ]
    },
    {
     "name": "stdout",
     "output_type": "stream",
     "text": [
      "Epoch: 093, Loss: 0.4405\n"
     ]
    },
    {
     "name": "stderr",
     "output_type": "stream",
     "text": [
      "100%|█████████████████████████████████████████████| 7/7 [00:02<00:00,  3.31it/s]\n"
     ]
    },
    {
     "name": "stdout",
     "output_type": "stream",
     "text": [
      "Epoch: 094, Loss: 0.4314\n"
     ]
    },
    {
     "name": "stderr",
     "output_type": "stream",
     "text": [
      "100%|█████████████████████████████████████████████| 7/7 [00:02<00:00,  3.30it/s]\n"
     ]
    },
    {
     "name": "stdout",
     "output_type": "stream",
     "text": [
      "Epoch: 095, Loss: 0.4349\n"
     ]
    },
    {
     "name": "stderr",
     "output_type": "stream",
     "text": [
      "100%|█████████████████████████████████████████████| 7/7 [00:02<00:00,  3.48it/s]\n"
     ]
    },
    {
     "name": "stdout",
     "output_type": "stream",
     "text": [
      "Epoch: 096, Loss: 0.4324\n"
     ]
    },
    {
     "name": "stderr",
     "output_type": "stream",
     "text": [
      "100%|█████████████████████████████████████████████| 7/7 [00:01<00:00,  3.62it/s]\n"
     ]
    },
    {
     "name": "stdout",
     "output_type": "stream",
     "text": [
      "Epoch: 097, Loss: 0.4302\n"
     ]
    },
    {
     "name": "stderr",
     "output_type": "stream",
     "text": [
      "100%|█████████████████████████████████████████████| 7/7 [00:02<00:00,  3.39it/s]\n"
     ]
    },
    {
     "name": "stdout",
     "output_type": "stream",
     "text": [
      "Epoch: 098, Loss: 0.4276\n"
     ]
    },
    {
     "name": "stderr",
     "output_type": "stream",
     "text": [
      "100%|█████████████████████████████████████████████| 7/7 [00:02<00:00,  3.14it/s]\n"
     ]
    },
    {
     "name": "stdout",
     "output_type": "stream",
     "text": [
      "Epoch: 099, Loss: 0.4208\n"
     ]
    },
    {
     "name": "stderr",
     "output_type": "stream",
     "text": [
      "100%|█████████████████████████████████████████████| 7/7 [00:02<00:00,  3.47it/s]\n"
     ]
    },
    {
     "name": "stdout",
     "output_type": "stream",
     "text": [
      "Epoch: 100, Loss: 0.4207\n"
     ]
    },
    {
     "name": "stderr",
     "output_type": "stream",
     "text": [
      "100%|█████████████████████████████████████████████| 7/7 [00:02<00:00,  3.24it/s]\n"
     ]
    },
    {
     "name": "stdout",
     "output_type": "stream",
     "text": [
      "Epoch: 101, Loss: 0.4192\n"
     ]
    },
    {
     "name": "stderr",
     "output_type": "stream",
     "text": [
      "100%|█████████████████████████████████████████████| 7/7 [00:02<00:00,  3.41it/s]\n"
     ]
    },
    {
     "name": "stdout",
     "output_type": "stream",
     "text": [
      "Epoch: 102, Loss: 0.4216\n"
     ]
    },
    {
     "name": "stderr",
     "output_type": "stream",
     "text": [
      "100%|█████████████████████████████████████████████| 7/7 [00:02<00:00,  3.45it/s]\n"
     ]
    },
    {
     "name": "stdout",
     "output_type": "stream",
     "text": [
      "Epoch: 103, Loss: 0.4207\n"
     ]
    },
    {
     "name": "stderr",
     "output_type": "stream",
     "text": [
      "100%|█████████████████████████████████████████████| 7/7 [00:02<00:00,  3.36it/s]\n"
     ]
    },
    {
     "name": "stdout",
     "output_type": "stream",
     "text": [
      "Epoch: 104, Loss: 0.4293\n"
     ]
    },
    {
     "name": "stderr",
     "output_type": "stream",
     "text": [
      "100%|█████████████████████████████████████████████| 7/7 [00:02<00:00,  3.47it/s]\n"
     ]
    },
    {
     "name": "stdout",
     "output_type": "stream",
     "text": [
      "Epoch: 105, Loss: 0.4227\n"
     ]
    },
    {
     "name": "stderr",
     "output_type": "stream",
     "text": [
      "100%|█████████████████████████████████████████████| 7/7 [00:02<00:00,  2.96it/s]\n"
     ]
    },
    {
     "name": "stdout",
     "output_type": "stream",
     "text": [
      "Epoch: 106, Loss: 0.4250\n"
     ]
    },
    {
     "name": "stderr",
     "output_type": "stream",
     "text": [
      "100%|█████████████████████████████████████████████| 7/7 [00:01<00:00,  3.51it/s]\n"
     ]
    },
    {
     "name": "stdout",
     "output_type": "stream",
     "text": [
      "Epoch: 107, Loss: 0.4183\n"
     ]
    },
    {
     "name": "stderr",
     "output_type": "stream",
     "text": [
      "100%|█████████████████████████████████████████████| 7/7 [00:02<00:00,  3.44it/s]\n"
     ]
    },
    {
     "name": "stdout",
     "output_type": "stream",
     "text": [
      "Epoch: 108, Loss: 0.4161\n"
     ]
    },
    {
     "name": "stderr",
     "output_type": "stream",
     "text": [
      "100%|█████████████████████████████████████████████| 7/7 [00:02<00:00,  3.41it/s]\n"
     ]
    },
    {
     "name": "stdout",
     "output_type": "stream",
     "text": [
      "Epoch: 109, Loss: 0.4085\n"
     ]
    },
    {
     "name": "stderr",
     "output_type": "stream",
     "text": [
      "100%|█████████████████████████████████████████████| 7/7 [00:01<00:00,  3.54it/s]\n"
     ]
    },
    {
     "name": "stdout",
     "output_type": "stream",
     "text": [
      "Epoch: 110, Loss: 0.4134\n"
     ]
    },
    {
     "name": "stderr",
     "output_type": "stream",
     "text": [
      "100%|█████████████████████████████████████████████| 7/7 [00:01<00:00,  3.55it/s]\n"
     ]
    },
    {
     "name": "stdout",
     "output_type": "stream",
     "text": [
      "Epoch: 111, Loss: 0.4129\n"
     ]
    },
    {
     "name": "stderr",
     "output_type": "stream",
     "text": [
      "100%|█████████████████████████████████████████████| 7/7 [00:01<00:00,  3.67it/s]\n"
     ]
    },
    {
     "name": "stdout",
     "output_type": "stream",
     "text": [
      "Epoch: 112, Loss: 0.4158\n"
     ]
    },
    {
     "name": "stderr",
     "output_type": "stream",
     "text": [
      "100%|█████████████████████████████████████████████| 7/7 [00:01<00:00,  3.65it/s]\n"
     ]
    },
    {
     "name": "stdout",
     "output_type": "stream",
     "text": [
      "Epoch: 113, Loss: 0.4279\n"
     ]
    },
    {
     "name": "stderr",
     "output_type": "stream",
     "text": [
      "100%|█████████████████████████████████████████████| 7/7 [00:02<00:00,  3.15it/s]\n"
     ]
    },
    {
     "name": "stdout",
     "output_type": "stream",
     "text": [
      "Epoch: 114, Loss: 0.4222\n"
     ]
    },
    {
     "name": "stderr",
     "output_type": "stream",
     "text": [
      "100%|█████████████████████████████████████████████| 7/7 [00:02<00:00,  3.41it/s]\n"
     ]
    },
    {
     "name": "stdout",
     "output_type": "stream",
     "text": [
      "Epoch: 115, Loss: 0.4106\n"
     ]
    },
    {
     "name": "stderr",
     "output_type": "stream",
     "text": [
      "100%|█████████████████████████████████████████████| 7/7 [00:01<00:00,  3.64it/s]\n"
     ]
    },
    {
     "name": "stdout",
     "output_type": "stream",
     "text": [
      "Epoch: 116, Loss: 0.4149\n"
     ]
    },
    {
     "name": "stderr",
     "output_type": "stream",
     "text": [
      "100%|█████████████████████████████████████████████| 7/7 [00:01<00:00,  3.58it/s]\n"
     ]
    },
    {
     "name": "stdout",
     "output_type": "stream",
     "text": [
      "Epoch: 117, Loss: 0.4306\n"
     ]
    },
    {
     "name": "stderr",
     "output_type": "stream",
     "text": [
      "100%|█████████████████████████████████████████████| 7/7 [00:01<00:00,  3.52it/s]\n"
     ]
    },
    {
     "name": "stdout",
     "output_type": "stream",
     "text": [
      "Epoch: 118, Loss: 0.4139\n"
     ]
    },
    {
     "name": "stderr",
     "output_type": "stream",
     "text": [
      "100%|█████████████████████████████████████████████| 7/7 [00:01<00:00,  3.54it/s]\n"
     ]
    },
    {
     "name": "stdout",
     "output_type": "stream",
     "text": [
      "Epoch: 119, Loss: 0.4054\n"
     ]
    },
    {
     "name": "stderr",
     "output_type": "stream",
     "text": [
      "100%|█████████████████████████████████████████████| 7/7 [00:02<00:00,  3.47it/s]\n"
     ]
    },
    {
     "name": "stdout",
     "output_type": "stream",
     "text": [
      "Epoch: 120, Loss: 0.4339\n"
     ]
    },
    {
     "name": "stderr",
     "output_type": "stream",
     "text": [
      "100%|█████████████████████████████████████████████| 7/7 [00:02<00:00,  3.33it/s]\n"
     ]
    },
    {
     "name": "stdout",
     "output_type": "stream",
     "text": [
      "Epoch: 121, Loss: 0.4379\n"
     ]
    },
    {
     "name": "stderr",
     "output_type": "stream",
     "text": [
      "100%|█████████████████████████████████████████████| 7/7 [00:01<00:00,  3.57it/s]\n"
     ]
    },
    {
     "name": "stdout",
     "output_type": "stream",
     "text": [
      "Epoch: 122, Loss: 0.4167\n"
     ]
    },
    {
     "name": "stderr",
     "output_type": "stream",
     "text": [
      "100%|█████████████████████████████████████████████| 7/7 [00:01<00:00,  3.62it/s]\n"
     ]
    },
    {
     "name": "stdout",
     "output_type": "stream",
     "text": [
      "Epoch: 123, Loss: 0.4103\n"
     ]
    },
    {
     "name": "stderr",
     "output_type": "stream",
     "text": [
      "100%|█████████████████████████████████████████████| 7/7 [00:01<00:00,  3.51it/s]\n"
     ]
    },
    {
     "name": "stdout",
     "output_type": "stream",
     "text": [
      "Epoch: 124, Loss: 0.4025\n"
     ]
    },
    {
     "name": "stderr",
     "output_type": "stream",
     "text": [
      "100%|█████████████████████████████████████████████| 7/7 [00:02<00:00,  2.55it/s]\n"
     ]
    },
    {
     "name": "stdout",
     "output_type": "stream",
     "text": [
      "Epoch: 125, Loss: 0.4012\n"
     ]
    },
    {
     "name": "stderr",
     "output_type": "stream",
     "text": [
      "100%|█████████████████████████████████████████████| 7/7 [00:02<00:00,  3.36it/s]\n"
     ]
    },
    {
     "name": "stdout",
     "output_type": "stream",
     "text": [
      "Epoch: 126, Loss: 0.3982\n"
     ]
    },
    {
     "name": "stderr",
     "output_type": "stream",
     "text": [
      "100%|█████████████████████████████████████████████| 7/7 [00:02<00:00,  3.39it/s]\n"
     ]
    },
    {
     "name": "stdout",
     "output_type": "stream",
     "text": [
      "Epoch: 127, Loss: 0.3953\n"
     ]
    },
    {
     "name": "stderr",
     "output_type": "stream",
     "text": [
      "100%|█████████████████████████████████████████████| 7/7 [00:01<00:00,  3.58it/s]\n"
     ]
    },
    {
     "name": "stdout",
     "output_type": "stream",
     "text": [
      "Epoch: 128, Loss: 0.3922\n"
     ]
    },
    {
     "name": "stderr",
     "output_type": "stream",
     "text": [
      "100%|█████████████████████████████████████████████| 7/7 [00:02<00:00,  2.63it/s]\n"
     ]
    },
    {
     "name": "stdout",
     "output_type": "stream",
     "text": [
      "Epoch: 129, Loss: 0.3939\n"
     ]
    },
    {
     "name": "stderr",
     "output_type": "stream",
     "text": [
      "100%|█████████████████████████████████████████████| 7/7 [00:02<00:00,  3.09it/s]\n"
     ]
    },
    {
     "name": "stdout",
     "output_type": "stream",
     "text": [
      "Epoch: 130, Loss: 0.3944\n"
     ]
    },
    {
     "name": "stderr",
     "output_type": "stream",
     "text": [
      "100%|█████████████████████████████████████████████| 7/7 [00:02<00:00,  3.20it/s]\n"
     ]
    },
    {
     "name": "stdout",
     "output_type": "stream",
     "text": [
      "Epoch: 131, Loss: 0.3883\n"
     ]
    },
    {
     "name": "stderr",
     "output_type": "stream",
     "text": [
      "100%|█████████████████████████████████████████████| 7/7 [00:02<00:00,  3.37it/s]\n"
     ]
    },
    {
     "name": "stdout",
     "output_type": "stream",
     "text": [
      "Epoch: 132, Loss: 0.3859\n"
     ]
    },
    {
     "name": "stderr",
     "output_type": "stream",
     "text": [
      "100%|█████████████████████████████████████████████| 7/7 [00:02<00:00,  3.30it/s]\n"
     ]
    },
    {
     "name": "stdout",
     "output_type": "stream",
     "text": [
      "Epoch: 133, Loss: 0.3845\n"
     ]
    },
    {
     "name": "stderr",
     "output_type": "stream",
     "text": [
      "100%|█████████████████████████████████████████████| 7/7 [00:02<00:00,  3.25it/s]\n"
     ]
    },
    {
     "name": "stdout",
     "output_type": "stream",
     "text": [
      "Epoch: 134, Loss: 0.3832\n"
     ]
    },
    {
     "name": "stderr",
     "output_type": "stream",
     "text": [
      "100%|█████████████████████████████████████████████| 7/7 [00:02<00:00,  3.40it/s]\n"
     ]
    },
    {
     "name": "stdout",
     "output_type": "stream",
     "text": [
      "Epoch: 135, Loss: 0.3801\n"
     ]
    },
    {
     "name": "stderr",
     "output_type": "stream",
     "text": [
      "100%|█████████████████████████████████████████████| 7/7 [00:02<00:00,  3.49it/s]\n"
     ]
    },
    {
     "name": "stdout",
     "output_type": "stream",
     "text": [
      "Epoch: 136, Loss: 0.3789\n"
     ]
    },
    {
     "name": "stderr",
     "output_type": "stream",
     "text": [
      "100%|█████████████████████████████████████████████| 7/7 [00:02<00:00,  3.47it/s]\n"
     ]
    },
    {
     "name": "stdout",
     "output_type": "stream",
     "text": [
      "Epoch: 137, Loss: 0.3785\n"
     ]
    },
    {
     "name": "stderr",
     "output_type": "stream",
     "text": [
      "100%|█████████████████████████████████████████████| 7/7 [00:01<00:00,  3.67it/s]\n"
     ]
    },
    {
     "name": "stdout",
     "output_type": "stream",
     "text": [
      "Epoch: 138, Loss: 0.3752\n"
     ]
    },
    {
     "name": "stderr",
     "output_type": "stream",
     "text": [
      "100%|█████████████████████████████████████████████| 7/7 [00:01<00:00,  3.68it/s]\n"
     ]
    },
    {
     "name": "stdout",
     "output_type": "stream",
     "text": [
      "Epoch: 139, Loss: 0.3741\n"
     ]
    },
    {
     "name": "stderr",
     "output_type": "stream",
     "text": [
      "100%|█████████████████████████████████████████████| 7/7 [00:01<00:00,  3.67it/s]\n"
     ]
    },
    {
     "name": "stdout",
     "output_type": "stream",
     "text": [
      "Epoch: 140, Loss: 0.3838\n"
     ]
    },
    {
     "name": "stderr",
     "output_type": "stream",
     "text": [
      "100%|█████████████████████████████████████████████| 7/7 [00:02<00:00,  3.31it/s]\n"
     ]
    },
    {
     "name": "stdout",
     "output_type": "stream",
     "text": [
      "Epoch: 141, Loss: 0.3778\n"
     ]
    },
    {
     "name": "stderr",
     "output_type": "stream",
     "text": [
      "100%|█████████████████████████████████████████████| 7/7 [00:02<00:00,  3.19it/s]\n"
     ]
    },
    {
     "name": "stdout",
     "output_type": "stream",
     "text": [
      "Epoch: 142, Loss: 0.3748\n"
     ]
    },
    {
     "name": "stderr",
     "output_type": "stream",
     "text": [
      "100%|█████████████████████████████████████████████| 7/7 [00:01<00:00,  3.53it/s]\n"
     ]
    },
    {
     "name": "stdout",
     "output_type": "stream",
     "text": [
      "Epoch: 143, Loss: 0.3727\n"
     ]
    },
    {
     "name": "stderr",
     "output_type": "stream",
     "text": [
      "100%|█████████████████████████████████████████████| 7/7 [00:01<00:00,  3.60it/s]\n"
     ]
    },
    {
     "name": "stdout",
     "output_type": "stream",
     "text": [
      "Epoch: 144, Loss: 0.3743\n"
     ]
    },
    {
     "name": "stderr",
     "output_type": "stream",
     "text": [
      "100%|█████████████████████████████████████████████| 7/7 [00:02<00:00,  3.48it/s]\n"
     ]
    },
    {
     "name": "stdout",
     "output_type": "stream",
     "text": [
      "Epoch: 145, Loss: 0.3674\n"
     ]
    },
    {
     "name": "stderr",
     "output_type": "stream",
     "text": [
      "100%|█████████████████████████████████████████████| 7/7 [00:02<00:00,  3.34it/s]\n"
     ]
    },
    {
     "name": "stdout",
     "output_type": "stream",
     "text": [
      "Epoch: 146, Loss: 0.3716\n"
     ]
    },
    {
     "name": "stderr",
     "output_type": "stream",
     "text": [
      "100%|█████████████████████████████████████████████| 7/7 [00:01<00:00,  3.60it/s]\n"
     ]
    },
    {
     "name": "stdout",
     "output_type": "stream",
     "text": [
      "Epoch: 147, Loss: 0.3681\n"
     ]
    },
    {
     "name": "stderr",
     "output_type": "stream",
     "text": [
      "100%|█████████████████████████████████████████████| 7/7 [00:01<00:00,  3.73it/s]\n"
     ]
    },
    {
     "name": "stdout",
     "output_type": "stream",
     "text": [
      "Epoch: 148, Loss: 0.3616\n"
     ]
    },
    {
     "name": "stderr",
     "output_type": "stream",
     "text": [
      "100%|█████████████████████████████████████████████| 7/7 [00:02<00:00,  3.23it/s]"
     ]
    },
    {
     "name": "stdout",
     "output_type": "stream",
     "text": [
      "Epoch: 149, Loss: 0.3834\n"
     ]
    },
    {
     "name": "stderr",
     "output_type": "stream",
     "text": [
      "\n"
     ]
    }
   ],
   "source": [
    "import tqdm\n",
    "import torch.nn.functional as F\n",
    "from sklearn.metrics import roc_auc_score\n",
    "\n",
    "device = torch.device('cuda' if torch.cuda.is_available() else 'cpu')\n",
    "print(f\"Device: '{device}'\")\n",
    "\n",
    "loss_arr = []\n",
    "auc_arr = []\n",
    "\n",
    "model = model.to(device)\n",
    "optimizer = torch.optim.Adam(model.parameters(), lr=0.001)\n",
    "final_emb = {}\n",
    "final_data = {}\n",
    "for epoch in range(0, epochs):\n",
    "    total_loss = total_examples = 0\n",
    "    total_auc = 0\n",
    "    for sampled_data in tqdm.tqdm(train_loader):\n",
    "        optimizer.zero_grad()\n",
    "\n",
    "        sampled_data.to(device)\n",
    "        pred, final_emb, final_data = model(sampled_data)\n",
    "\n",
    "        ground_truth = sampled_data[\"user\", \"views\", \"product\"].edge_label\n",
    "        loss = F.binary_cross_entropy_with_logits(pred, ground_truth)\n",
    "        auc = roc_auc_score(ground_truth.detach().numpy(), pred.detach().numpy())\n",
    "\n",
    "        loss.backward()\n",
    "        optimizer.step()\n",
    "        total_loss += float(loss) * pred.numel()\n",
    "        total_auc += float(auc) * pred.numel()\n",
    "        total_examples += pred.numel()\n",
    "    loss_arr.append(float(total_loss / total_examples))\n",
    "    auc_arr.append(float(total_auc / total_examples))\n",
    "    print(f\"Epoch: {epoch:03d}, Loss: {total_loss / total_examples:.4f}\")"
   ]
  },
  {
   "cell_type": "code",
   "execution_count": 40,
   "metadata": {},
   "outputs": [
    {
     "data": {
      "text/plain": [
       "torch.Size([11661, 128])"
      ]
     },
     "execution_count": 40,
     "metadata": {},
     "output_type": "execute_result"
    }
   ],
   "source": [
    "final_emb['product'].shape"
   ]
  },
  {
   "cell_type": "code",
   "execution_count": 41,
   "metadata": {},
   "outputs": [],
   "source": [
    "import matplotlib.pyplot as plt\n",
    "def plot(arr, name):\n",
    "    epochs_arr = np.arange(0, epochs)\n",
    "    x = np.asarray(epochs_arr)\n",
    "    ypoints = np.asarray(arr)\n",
    "    plt.plot(x, ypoints)\n",
    "    plt.xlabel(\"Epochs\")\n",
    "    plt.ylabel(name)\n",
    "    plt.legend()\n",
    "    plt.show()"
   ]
  },
  {
   "cell_type": "code",
   "execution_count": 42,
   "metadata": {},
   "outputs": [
    {
     "data": {
      "text/plain": [
       "float"
      ]
     },
     "execution_count": 42,
     "metadata": {},
     "output_type": "execute_result"
    }
   ],
   "source": [
    "type(loss_arr[0])"
   ]
  },
  {
   "cell_type": "code",
   "execution_count": 43,
   "metadata": {},
   "outputs": [
    {
     "name": "stderr",
     "output_type": "stream",
     "text": [
      "WARNING:matplotlib.legend:No artists with labels found to put in legend.  Note that artists whose label start with an underscore are ignored when legend() is called with no argument.\n"
     ]
    },
    {
     "data": {
      "image/png": "[encoded data removed]",
      "text/plain": [
       "<Figure size 640x480 with 1 Axes>"
      ]
     },
     "metadata": {},
     "output_type": "display_data"
    }
   ],
   "source": [
    "plot(loss_arr, 'Training Loss')"
   ]
  },
  {
   "cell_type": "code",
   "execution_count": 44,
   "metadata": {},
   "outputs": [
    {
     "name": "stderr",
     "output_type": "stream",
     "text": [
      "WARNING:matplotlib.legend:No artists with labels found to put in legend.  Note that artists whose label start with an underscore are ignored when legend() is called with no argument.\n"
     ]
    },
    {
     "data": {
      "image/png": "[encoded data removed]",
      "text/plain": [
       "<Figure size 640x480 with 1 Axes>"
      ]
     },
     "metadata": {},
     "output_type": "display_data"
    }
   ],
   "source": [
    "plot(auc_arr, 'ROC')"
   ]
  },
  {
   "cell_type": "markdown",
   "metadata": {
    "id": "Yq-I2xaYueF0"
   },
   "source": [
    "## Evaluating a Heterogeneous Link-level GNN\n",
    "\n",
    "After training, we evaluate our model on useen data coming from the validation set.\n",
    "For this, we define a new `LinkNeighborLoader` (which now iterates over the edges in the validation set), obtain the predictions on validation edges by running the model, and finally evaluate the performance of the model by computing the AUC score over the set of predictions and their corresponding ground-truth edges (including both positive and negative edges)."
   ]
  },
  {
   "cell_type": "code",
   "execution_count": 47,
   "metadata": {
    "colab": {
     "base_uri": "https://localhost:8080/"
    },
    "id": "ZIrRn9YoNllj",
    "outputId": "d665a0c0-dd63-4973-db28-901e150e0857"
   },
   "outputs": [
    {
     "name": "stdout",
     "output_type": "stream",
     "text": [
      "Sampled mini-batch:\n",
      "===================\n",
      "HeteroData(\n",
      "  user={\n",
      "    node_id=[2280],\n",
      "    x=[2280, 64],\n",
      "    n_id=[2280],\n",
      "  },\n",
      "  product={\n",
      "    node_id=[7706],\n",
      "    x=[7706, 64],\n",
      "    n_id=[7706],\n",
      "  },\n",
      "  (user, views, product)={\n",
      "    edge_index=[2, 15766],\n",
      "    edge_attr=[15766, 1],\n",
      "    edge_label=[384],\n",
      "    edge_label_index=[2, 384],\n",
      "    e_id=[15766],\n",
      "    input_id=[384],\n",
      "  },\n",
      "  (product, rev_views, user)={\n",
      "    edge_index=[2, 11035],\n",
      "    edge_attr=[11035, 1],\n",
      "    e_id=[11035],\n",
      "  }\n",
      ")\n"
     ]
    }
   ],
   "source": [
    "# Define the validation seed edges:\n",
    "edge_label_index = val_data[\"user\", \"views\", \"product\"].edge_label_index\n",
    "edge_label = val_data[\"user\", \"views\", \"product\"].edge_label\n",
    "\n",
    "val_loader = LinkNeighborLoader(\n",
    "    data=val_data,\n",
    "    num_neighbors=[20, 10],\n",
    "    edge_label_index=((\"user\", \"views\", \"product\"), edge_label_index),\n",
    "    edge_label=edge_label,\n",
    "    batch_size=3 * 128,\n",
    "    shuffle=False,\n",
    ")\n",
    "\n",
    "sampled_data = next(iter(val_loader))\n",
    "\n",
    "print(\"Sampled mini-batch:\")\n",
    "print(\"===================\")\n",
    "print(sampled_data)\n",
    "\n",
    "assert sampled_data[\"user\", \"views\", \"product\"].edge_label_index.size(1) == 3 * 128\n",
    "assert sampled_data[\"user\", \"views\", \"product\"].edge_label.min() >= 0\n",
    "assert sampled_data[\"user\", \"views\", \"product\"].edge_label.max() <= 1"
   ]
  },
  {
   "cell_type": "code",
   "execution_count": 156,
   "metadata": {},
   "outputs": [
    {
     "data": {
      "text/plain": [
       "tensor([  0.2057, 188.0000,   0.0000,   0.0000,   0.0000,   0.0000,   0.0000,\n",
       "          0.0000,   0.0000,   0.0000,   0.0000,   0.0000,   0.0000,   0.0000,\n",
       "          0.0000,   0.0000,   0.0000,   0.0000,   0.0000,   0.0000,   0.0000,\n",
       "          0.0000,   0.0000,   0.0000,   0.0000,   0.0000,   0.0000,   0.0000,\n",
       "          0.0000,   0.0000,   0.0000,   0.0000,   0.0000,   0.0000,   0.0000,\n",
       "          0.0000,   0.0000,   0.0000,   0.0000,   0.0000,   0.0000,   0.0000,\n",
       "          0.0000,   0.0000,   0.0000,   0.0000,   0.0000,   0.0000,   0.0000,\n",
       "          0.0000,   0.0000,   0.0000,   0.0000,   0.0000,   0.0000,   0.0000,\n",
       "          0.0000,   0.0000,   0.0000,   0.0000,   0.0000,   0.0000,   0.0000,\n",
       "          0.0000], dtype=torch.float64, grad_fn=<SelectBackward0>)"
      ]
     },
     "execution_count": 156,
     "metadata": {},
     "output_type": "execute_result"
    }
   ],
   "source": [
    "final_data['product'].x[0]"
   ]
  },
  {
   "cell_type": "code",
   "execution_count": 77,
   "metadata": {},
   "outputs": [
    {
     "data": {
      "text/plain": [
       "torch.Size([1933, 128])"
      ]
     },
     "execution_count": 77,
     "metadata": {},
     "output_type": "execute_result"
    }
   ],
   "source": [
    "final_emb['product'].shape"
   ]
  },
  {
   "cell_type": "markdown",
   "metadata": {},
   "source": [
    "### ROC score"
   ]
  },
  {
   "cell_type": "code",
   "execution_count": 48,
   "metadata": {
    "colab": {
     "base_uri": "https://localhost:8080/"
    },
    "id": "Vi25Z7lFPPjc",
    "outputId": "761e48cd-6b1d-4cc3-e92a-4795d0a93de1"
   },
   "outputs": [
    {
     "name": "stderr",
     "output_type": "stream",
     "text": [
      "100%|█████████████████████████████████████████████| 4/4 [00:00<00:00, 16.52it/s]"
     ]
    },
    {
     "name": "stdout",
     "output_type": "stream",
     "text": [
      "\n",
      "Validation AUC: 0.8099\n"
     ]
    },
    {
     "name": "stderr",
     "output_type": "stream",
     "text": [
      "\n"
     ]
    }
   ],
   "source": [
    "from sklearn.metrics import roc_auc_score\n",
    "\n",
    "preds = []\n",
    "ground_truths = []\n",
    "for sampled_data in tqdm.tqdm(val_loader):\n",
    "    with torch.no_grad():\n",
    "        sampled_data.to(device)\n",
    "        pred, emb, dataa = model(sampled_data)\n",
    "        preds.append(pred)\n",
    "        ground_truths.append(sampled_data[\"user\", \"views\", \"product\"].edge_label)\n",
    "\n",
    "pred = torch.cat(preds, dim=0).cpu().numpy()\n",
    "ground_truth = torch.cat(ground_truths, dim=0).cpu().numpy()\n",
    "auc = roc_auc_score(ground_truth, pred)\n",
    "print()\n",
    "print(f\"Validation AUC: {auc:.4f}\")"
   ]
  },
  {
   "cell_type": "code",
   "execution_count": 205,
   "metadata": {},
   "outputs": [
    {
     "data": {
      "text/plain": [
       "torch.Size([8345, 128])"
      ]
     },
     "execution_count": 205,
     "metadata": {},
     "output_type": "execute_result"
    }
   ],
   "source": [
    "final_emb['product'].shape"
   ]
  },
  {
   "cell_type": "markdown",
   "metadata": {},
   "source": [
    "### KMeans"
   ]
  },
  {
   "cell_type": "code",
   "execution_count": 49,
   "metadata": {},
   "outputs": [],
   "source": [
    "import numpy as np\n",
    "from sklearn.cluster import KMeans\n",
    "import matplotlib.pyplot as plt"
   ]
  },
  {
   "cell_type": "code",
   "execution_count": 52,
   "metadata": {},
   "outputs": [
    {
     "name": "stderr",
     "output_type": "stream",
     "text": [
      "/Library/Frameworks/Python.framework/Versions/3.11/lib/python3.11/site-packages/sklearn/cluster/_kmeans.py:1416: FutureWarning: The default value of `n_init` will change from 10 to 'auto' in 1.4. Set the value of `n_init` explicitly to suppress the warning\n",
      "  super()._check_params_vs_input(X, default_n_init=10)\n"
     ]
    },
    {
     "data": {
      "image/png": "[encoded data removed]",
      "text/plain": [
       "<Figure size 640x480 with 1 Axes>"
      ]
     },
     "metadata": {},
     "output_type": "display_data"
    }
   ],
   "source": [
    "# Define the number of clusters (k) you want to find\n",
    "k = 5\n",
    "\n",
    "node_features = prod_features.detach().numpy()\n",
    "\n",
    "# Apply K-Means clustering\n",
    "kmeans = KMeans(n_clusters=k)\n",
    "clusters = kmeans.fit_predict(node_features)\n",
    "\n",
    "# Scatter plot the results\n",
    "for cluster_id in range(k):\n",
    "    plt.scatter(node_features[clusters == cluster_id, 0], node_features[clusters == cluster_id, 1], label=f'Cluster {cluster_id + 1}')\n",
    "\n",
    "# Plot the cluster centers\n",
    "cluster_centers = kmeans.cluster_centers_\n",
    "plt.scatter(cluster_centers[:, 0], cluster_centers[:, 1], marker='x', color='black', s=100, label='Cluster Centers')\n",
    "\n",
    "plt.title(f'K-Means Clustering (k={k}) of raw features')\n",
    "plt.legend()\n",
    "plt.show()"
   ]
  },
  {
   "cell_type": "code",
   "execution_count": 54,
   "metadata": {},
   "outputs": [
    {
     "name": "stderr",
     "output_type": "stream",
     "text": [
      "/Library/Frameworks/Python.framework/Versions/3.11/lib/python3.11/site-packages/sklearn/cluster/_kmeans.py:1416: FutureWarning: The default value of `n_init` will change from 10 to 'auto' in 1.4. Set the value of `n_init` explicitly to suppress the warning\n",
      "  super()._check_params_vs_input(X, default_n_init=10)\n"
     ]
    },
    {
     "data": {
      "image/png": "[encoded data removed]",
      "text/plain": [
       "<Figure size 640x480 with 1 Axes>"
      ]
     },
     "metadata": {},
     "output_type": "display_data"
    }
   ],
   "source": [
    "# Define the number of clusters (k) you want to find\n",
    "k = 5\n",
    "\n",
    "node_features = final_emb['product'].detach().numpy()\n",
    "\n",
    "# Apply K-Means clustering\n",
    "kmeans = KMeans(n_clusters=k)\n",
    "clusters = kmeans.fit_predict(node_features)\n",
    "\n",
    "# Scatter plot the results\n",
    "for cluster_id in range(k):\n",
    "    plt.scatter(node_features[clusters == cluster_id, 0], node_features[clusters == cluster_id, 1], label=f'Cluster {cluster_id + 1}')\n",
    "\n",
    "# Plot the cluster centers\n",
    "cluster_centers = kmeans.cluster_centers_\n",
    "plt.scatter(cluster_centers[:, 0], cluster_centers[:, 1], marker='x', color='black', s=100, label='Cluster Centers')\n",
    "\n",
    "plt.title(f'K-Means Clustering (k={k}) of raw features')\n",
    "plt.legend()\n",
    "plt.show()"
   ]
  },
  {
   "cell_type": "code",
   "execution_count": 55,
   "metadata": {
    "id": "fcrCLc0vE3d3"
   },
   "outputs": [
    {
     "data": {
      "image/png": "[encoded data removed]",
      "text/plain": [
       "<Figure size 640x480 with 1 Axes>"
      ]
     },
     "metadata": {},
     "output_type": "display_data"
    }
   ],
   "source": [
    "import matplotlib.pyplot as plt\n",
    "\n",
    "# Perform dimensionality reduction using t-SNE\n",
    "from sklearn.manifold import TSNE\n",
    "tsne = TSNE(n_components=2, perplexity=30, n_iter=300)\n",
    "embeddings_2d = tsne.fit_transform(prod_features.detach().numpy())\n",
    "\n",
    "color = prod_features[:,1].detach().numpy()\n",
    "\n",
    "plt.scatter(embeddings_2d[:, 0], embeddings_2d[:, 1], s=70, c=color)\n",
    "plt.title('t-SNE Visualization of product features')\n",
    "plt.show()"
   ]
  },
  {
   "cell_type": "code",
   "execution_count": 66,
   "metadata": {},
   "outputs": [
    {
     "data": {
      "image/png": "[encoded data removed]",
      "text/plain": [
       "<Figure size 640x480 with 1 Axes>"
      ]
     },
     "metadata": {},
     "output_type": "display_data"
    }
   ],
   "source": [
    "import matplotlib.pyplot as plt\n",
    "\n",
    "# Perform dimensionality reduction using t-SNE\n",
    "from sklearn.manifold import TSNE\n",
    "tsne = TSNE(n_components=2, perplexity=30, n_iter=300)\n",
    "embeddings_2d = tsne.fit_transform(final_emb['product'].detach().numpy())\n",
    "\n",
    "color = final_data['product'].x[:,1].detach().numpy()\n",
    "\n",
    "plt.scatter(embeddings_2d[:, 0], embeddings_2d[:, 1], s=70, c=color)\n",
    "plt.title('t-SNE Visualization of prod embeddings')\n",
    "plt.show()"
   ]
  },
  {
   "cell_type": "code",
   "execution_count": 61,
   "metadata": {},
   "outputs": [
    {
     "data": {
      "image/png": "[encoded data removed]",
      "text/plain": [
       "<Figure size 800x600 with 1 Axes>"
      ]
     },
     "metadata": {},
     "output_type": "display_data"
    }
   ],
   "source": [
    "from sklearn.cluster import DBSCAN\n",
    "\n",
    "# Create a DBSCAN model\n",
    "dbscan = DBSCAN(eps=1.8, min_samples=50)\n",
    "clusters = dbscan.fit_predict(prod_features.detach().numpy())\n",
    "\n",
    "# Create a scatter plot for the clusters\n",
    "plt.figure(figsize=(8, 6))\n",
    "plt.scatter(prod_features[:,0].detach().numpy(), prod_features[:,1].detach().numpy(), c=clusters, cmap='rainbow')\n",
    "plt.xlabel('Price')\n",
    "plt.ylabel('Vertical')\n",
    "plt.title('DBscan Clustering Results eps=10 min_samples=50')\n",
    "plt.show()"
   ]
  },
  {
   "cell_type": "code",
   "execution_count": 69,
   "metadata": {},
   "outputs": [
    {
     "data": {
      "image/png": "[encoded data removed]",
      "text/plain": [
       "<Figure size 800x600 with 1 Axes>"
      ]
     },
     "metadata": {},
     "output_type": "display_data"
    }
   ],
   "source": [
    "from sklearn.cluster import DBSCAN\n",
    "\n",
    "# Create a DBSCAN model\n",
    "dbscan = DBSCAN(eps=100, min_samples=200)\n",
    "clusters = dbscan.fit_predict(final_emb['product'].detach().numpy())\n",
    "\n",
    "# Create a scatter plot for the clusters\n",
    "plt.figure(figsize=(8, 6))\n",
    "plt.scatter(final_data['product'].x[:,0].detach().numpy(), final_data['product'].x[:,1].detach().numpy(), c=clusters, cmap='rainbow')\n",
    "plt.xlabel('Price')\n",
    "plt.ylabel('Vertical')\n",
    "plt.title('DBscan Clustering Results eps=10 min_samples=50')\n",
    "plt.show()"
   ]
  },
  {
   "cell_type": "code",
   "execution_count": null,
   "metadata": {},
   "outputs": [],
   "source": []
  }
 ],
 "metadata": {
  "colab": {
   "provenance": []
  },
  "kernelspec": {
   "display_name": "Python 3 (ipykernel)",
   "language": "python",
   "name": "python3"
  },
  "language_info": {
   "codemirror_mode": {
    "name": "ipython",
    "version": 3
   },
   "file_extension": ".py",
   "mimetype": "text/x-python",
   "name": "python",
   "nbconvert_exporter": "python",
   "pygments_lexer": "ipython3",
   "version": "3.11.5"
  }
 },
 "nbformat": 4,
 "nbformat_minor": 4
}
