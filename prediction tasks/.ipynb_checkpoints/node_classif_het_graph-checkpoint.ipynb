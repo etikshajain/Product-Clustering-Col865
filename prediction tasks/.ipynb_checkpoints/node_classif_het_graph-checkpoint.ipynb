{
 "cells": [
  {
   "cell_type": "code",
   "execution_count": 1,
   "metadata": {
    "colab": {
     "base_uri": "https://localhost:8080/"
    },
    "id": "uh7LaSzfwcj2",
    "outputId": "51a66311-7273-4811-8c53-a36a4dde4a3c"
   },
   "outputs": [
    {
     "name": "stdout",
     "output_type": "stream",
     "text": [
      "2.0.1\n"
     ]
    }
   ],
   "source": [
    "import torch\n",
    "from torch import Tensor\n",
    "print(torch.__version__)"
   ]
  },
  {
   "cell_type": "code",
   "execution_count": 2,
   "metadata": {
    "colab": {
     "base_uri": "https://localhost:8080/"
    },
    "id": "AsWUrVh7vZtM",
    "outputId": "48f64826-08b4-4884-8bb9-2f09e160912b"
   },
   "outputs": [
    {
     "name": "stdout",
     "output_type": "stream",
     "text": [
      "\u001b[33mDEPRECATION: Loading egg at /Library/Frameworks/Python.framework/Versions/3.11/lib/python3.11/site-packages/gae-0.0.1-py3.11.egg is deprecated. pip 23.3 will enforce this behaviour change. A possible replacement is to use pip for package installation..\u001b[0m\u001b[33m\n",
      "\u001b[0mLooking in links: https://data.pyg.org/whl/torch-2.0.1.html\n",
      "Requirement already satisfied: torch-scatter in /Library/Frameworks/Python.framework/Versions/3.11/lib/python3.11/site-packages (2.1.2)\n",
      "\u001b[33mDEPRECATION: Loading egg at /Library/Frameworks/Python.framework/Versions/3.11/lib/python3.11/site-packages/gae-0.0.1-py3.11.egg is deprecated. pip 23.3 will enforce this behaviour change. A possible replacement is to use pip for package installation..\u001b[0m\u001b[33m\n",
      "\u001b[0mLooking in links: https://data.pyg.org/whl/torch-2.0.1.html\n",
      "Requirement already satisfied: torch-sparse in /Library/Frameworks/Python.framework/Versions/3.11/lib/python3.11/site-packages (0.6.18)\n",
      "Requirement already satisfied: scipy in /Library/Frameworks/Python.framework/Versions/3.11/lib/python3.11/site-packages (from torch-sparse) (1.11.2)\n",
      "Requirement already satisfied: numpy<1.28.0,>=1.21.6 in /Library/Frameworks/Python.framework/Versions/3.11/lib/python3.11/site-packages (from scipy->torch-sparse) (1.24.3)\n",
      "\u001b[33mDEPRECATION: Loading egg at /Library/Frameworks/Python.framework/Versions/3.11/lib/python3.11/site-packages/gae-0.0.1-py3.11.egg is deprecated. pip 23.3 will enforce this behaviour change. A possible replacement is to use pip for package installation..\u001b[0m\u001b[33m\n",
      "\u001b[0mLooking in links: https://data.pyg.org/whl/nightly/torch-2.0.1.html\n",
      "\u001b[31mERROR: Could not find a version that satisfies the requirement pyg-lib (from versions: none)\u001b[0m\u001b[31m\n",
      "\u001b[0m\u001b[31mERROR: No matching distribution found for pyg-lib\u001b[0m\u001b[31m\n",
      "\u001b[0m\u001b[33mDEPRECATION: Loading egg at /Library/Frameworks/Python.framework/Versions/3.11/lib/python3.11/site-packages/gae-0.0.1-py3.11.egg is deprecated. pip 23.3 will enforce this behaviour change. A possible replacement is to use pip for package installation..\u001b[0m\u001b[33m\n",
      "\u001b[0mCollecting git+https://github.com/pyg-team/pytorch_geometric.git\n",
      "  Cloning https://github.com/pyg-team/pytorch_geometric.git to /private/var/folders/nz/0trbh9kx61d_rsf7yfgbt3gc0000gn/T/pip-req-build-di2qggm1\n",
      "  Running command git clone --filter=blob:none --quiet https://github.com/pyg-team/pytorch_geometric.git /private/var/folders/nz/0trbh9kx61d_rsf7yfgbt3gc0000gn/T/pip-req-build-di2qggm1\n",
      "  Resolved https://github.com/pyg-team/pytorch_geometric.git to commit 62599d19811b0e41af9f81476ca4ef3e7e2d92e7\n",
      "  Installing build dependencies ... \u001b[?25ldone\n",
      "\u001b[?25h  Getting requirements to build wheel ... \u001b[?25ldone\n",
      "\u001b[?25h  Preparing metadata (pyproject.toml) ... \u001b[?25ldone\n",
      "\u001b[?25hRequirement already satisfied: tqdm in /Library/Frameworks/Python.framework/Versions/3.11/lib/python3.11/site-packages (from torch_geometric==2.4.0) (4.66.1)\n",
      "Requirement already satisfied: numpy in /Library/Frameworks/Python.framework/Versions/3.11/lib/python3.11/site-packages (from torch_geometric==2.4.0) (1.24.3)\n",
      "Requirement already satisfied: scipy in /Library/Frameworks/Python.framework/Versions/3.11/lib/python3.11/site-packages (from torch_geometric==2.4.0) (1.11.2)\n",
      "Requirement already satisfied: jinja2 in /Library/Frameworks/Python.framework/Versions/3.11/lib/python3.11/site-packages (from torch_geometric==2.4.0) (3.1.2)\n",
      "Requirement already satisfied: requests in /Library/Frameworks/Python.framework/Versions/3.11/lib/python3.11/site-packages (from torch_geometric==2.4.0) (2.31.0)\n",
      "Requirement already satisfied: pyparsing in /Library/Frameworks/Python.framework/Versions/3.11/lib/python3.11/site-packages (from torch_geometric==2.4.0) (3.1.1)\n",
      "Requirement already satisfied: scikit-learn in /Library/Frameworks/Python.framework/Versions/3.11/lib/python3.11/site-packages (from torch_geometric==2.4.0) (1.3.1)\n",
      "Requirement already satisfied: psutil>=5.8.0 in /Library/Frameworks/Python.framework/Versions/3.11/lib/python3.11/site-packages (from torch_geometric==2.4.0) (5.9.5)\n",
      "Requirement already satisfied: MarkupSafe>=2.0 in /Library/Frameworks/Python.framework/Versions/3.11/lib/python3.11/site-packages (from jinja2->torch_geometric==2.4.0) (2.1.3)\n",
      "Requirement already satisfied: charset-normalizer<4,>=2 in /Library/Frameworks/Python.framework/Versions/3.11/lib/python3.11/site-packages (from requests->torch_geometric==2.4.0) (3.2.0)\n",
      "Requirement already satisfied: idna<4,>=2.5 in /Library/Frameworks/Python.framework/Versions/3.11/lib/python3.11/site-packages (from requests->torch_geometric==2.4.0) (3.4)\n",
      "Requirement already satisfied: urllib3<3,>=1.21.1 in /Library/Frameworks/Python.framework/Versions/3.11/lib/python3.11/site-packages (from requests->torch_geometric==2.4.0) (1.26.16)\n",
      "Requirement already satisfied: certifi>=2017.4.17 in /Library/Frameworks/Python.framework/Versions/3.11/lib/python3.11/site-packages (from requests->torch_geometric==2.4.0) (2023.7.22)\n",
      "Requirement already satisfied: joblib>=1.1.1 in /Library/Frameworks/Python.framework/Versions/3.11/lib/python3.11/site-packages (from scikit-learn->torch_geometric==2.4.0) (1.3.2)\n",
      "Requirement already satisfied: threadpoolctl>=2.0.0 in /Library/Frameworks/Python.framework/Versions/3.11/lib/python3.11/site-packages (from scikit-learn->torch_geometric==2.4.0) (3.2.0)\n"
     ]
    }
   ],
   "source": [
    "# Install required packages.\n",
    "import os\n",
    "os.environ['TORCH'] = torch.__version__\n",
    "\n",
    "!pip3 install torch-scatter -f https://data.pyg.org/whl/torch-${TORCH}.html\n",
    "!pip3 install torch-sparse -f https://data.pyg.org/whl/torch-${TORCH}.html\n",
    "!pip3 install pyg-lib -f https://data.pyg.org/whl/nightly/torch-${TORCH}.html\n",
    "!pip3 install git+https://github.com/pyg-team/pytorch_geometric.git"
   ]
  },
  {
   "cell_type": "markdown",
   "metadata": {
    "id": "N_pshZh8Y3dw"
   },
   "source": [
    "## Heterogeneous Graph Creation\n",
    "\n",
    "First, we download the dataset to an arbitrary folder (in this case, the current directory):"
   ]
  },
  {
   "cell_type": "markdown",
   "metadata": {
    "id": "B89RD_evY7uu"
   },
   "source": [
    "### Data"
   ]
  },
  {
   "cell_type": "code",
   "execution_count": 3,
   "metadata": {
    "colab": {
     "base_uri": "https://localhost:8080/"
    },
    "id": "D6ixkcCOwCDi",
    "outputId": "7a5904e6-7fe8-41f6-ced6-3eb41701d016"
   },
   "outputs": [
    {
     "name": "stdout",
     "output_type": "stream",
     "text": [
      "products.csv:\n",
      "===========\n",
      "      product_id        price cms_vertical\n",
      "0  9780000018885   690.000000         book\n",
      "1  9780002245708  2665.000000         book\n",
      "2  9780007154692   333.000000         book\n",
      "3  9780007175185   192.222222         book\n",
      "4  9780007216161   395.000000         book\n",
      "\n",
      "count.csv:\n",
      "============\n",
      "         product_id  count                    account_id_enc\n",
      "0  ACCG2DHTPQRPV4ZP      3  36ee6d3cd4e30b41e7b6aba58641e09a\n",
      "1  ACCG57P5RGWJZARH     13  36ee6d3cd4e30b41e7b6aba58641e09a\n",
      "2  MOBFUSBNAZGY7HQU     16  36ee6d3cd4e30b41e7b6aba58641e09a\n",
      "3  ACCFHYJ8ZU9WDHDW      1  36ee6d3cd4e30b41e7b6aba58641e09a\n",
      "4  ACNGFVMJ5ZKZVFDS      2  36ee6d3cd4e30b41e7b6aba58641e09a\n"
     ]
    }
   ],
   "source": [
    "import pandas as pd\n",
    "\n",
    "df1=pd.read_csv('./data/product_detail_fin.csv')\n",
    "df2=pd.read_csv('./data/ppv_encrypted-001.csv', nrows=500)\n",
    "\n",
    "print('products.csv:')\n",
    "print('===========')\n",
    "print(df1.head())\n",
    "print()\n",
    "print('count.csv:')\n",
    "print('============')\n",
    "print(df2.head())"
   ]
  },
  {
   "cell_type": "code",
   "execution_count": 4,
   "metadata": {},
   "outputs": [],
   "source": [
    "df3=df1.merge(df2,how='inner',on='product_id')"
   ]
  },
  {
   "cell_type": "markdown",
   "metadata": {},
   "source": [
    "### Normalise and freq encoding"
   ]
  },
  {
   "cell_type": "code",
   "execution_count": 5,
   "metadata": {},
   "outputs": [],
   "source": [
    "min_val = df3['count'].min()\n",
    "max_val = df3['count'].max()\n",
    "df3['count'] = (df3['count'] - min_val) / (max_val - min_val)\n",
    "min_val = df3['price'].min()\n",
    "max_val = df3['price'].max()\n",
    "df3['price'] = (df3['price'] - min_val) / (max_val - min_val)"
   ]
  },
  {
   "cell_type": "code",
   "execution_count": 6,
   "metadata": {},
   "outputs": [],
   "source": [
    "frequency_map = df3['cms_vertical'].value_counts().to_dict()\n",
    "# Map the frequency values to the original column\n",
    "df3['cms_vertical'] = df3['cms_vertical'].map(frequency_map)"
   ]
  },
  {
   "cell_type": "code",
   "execution_count": 7,
   "metadata": {},
   "outputs": [],
   "source": [
    "# User features\n",
    "mean_rating = df2.groupby(\"account_id_enc\")[\"count\"].mean().rename(\"mean\")\n",
    "num_rating = df2.groupby(\"account_id_enc\")[\"product_id\"].count().rename(\"total\")"
   ]
  },
  {
   "cell_type": "code",
   "execution_count": 8,
   "metadata": {},
   "outputs": [
    {
     "data": {
      "text/html": [
       "<div>\n",
       "<style scoped>\n",
       "    .dataframe tbody tr th:only-of-type {\n",
       "        vertical-align: middle;\n",
       "    }\n",
       "\n",
       "    .dataframe tbody tr th {\n",
       "        vertical-align: top;\n",
       "    }\n",
       "\n",
       "    .dataframe thead th {\n",
       "        text-align: right;\n",
       "    }\n",
       "</style>\n",
       "<table border=\"1\" class=\"dataframe\">\n",
       "  <thead>\n",
       "    <tr style=\"text-align: right;\">\n",
       "      <th></th>\n",
       "      <th>product_id</th>\n",
       "      <th>price</th>\n",
       "      <th>cms_vertical</th>\n",
       "      <th>count</th>\n",
       "      <th>account_id_enc</th>\n",
       "    </tr>\n",
       "  </thead>\n",
       "  <tbody>\n",
       "    <tr>\n",
       "      <th>0</th>\n",
       "      <td>BDSG337RX24VXKVJ</td>\n",
       "      <td>0.003481</td>\n",
       "      <td>10</td>\n",
       "      <td>0.000000</td>\n",
       "      <td>d8433504430f2be3fdef7883a42a684a</td>\n",
       "    </tr>\n",
       "    <tr>\n",
       "      <th>1</th>\n",
       "      <td>BOTF7QC7BJCGBZP3</td>\n",
       "      <td>0.011208</td>\n",
       "      <td>14</td>\n",
       "      <td>0.044776</td>\n",
       "      <td>88af7b587b8c3cb79f515d69c02912cd</td>\n",
       "    </tr>\n",
       "    <tr>\n",
       "      <th>2</th>\n",
       "      <td>CPUFXESGSFDQFG5M</td>\n",
       "      <td>0.915324</td>\n",
       "      <td>1</td>\n",
       "      <td>0.597015</td>\n",
       "      <td>a47866f7e66449fc44d172fa4e3f37bb</td>\n",
       "    </tr>\n",
       "    <tr>\n",
       "      <th>3</th>\n",
       "      <td>MOBFYZ94UWPWQRNF</td>\n",
       "      <td>0.161034</td>\n",
       "      <td>56</td>\n",
       "      <td>0.000000</td>\n",
       "      <td>deb7c597bdec1f8a7eeef83b0edb0e13</td>\n",
       "    </tr>\n",
       "    <tr>\n",
       "      <th>4</th>\n",
       "      <td>STFESATFGH4FFZNE</td>\n",
       "      <td>0.002536</td>\n",
       "      <td>1</td>\n",
       "      <td>0.000000</td>\n",
       "      <td>6cb9f7e7882aed13a04f5f50ffd4eee1</td>\n",
       "    </tr>\n",
       "    <tr>\n",
       "      <th>...</th>\n",
       "      <td>...</td>\n",
       "      <td>...</td>\n",
       "      <td>...</td>\n",
       "      <td>...</td>\n",
       "      <td>...</td>\n",
       "    </tr>\n",
       "    <tr>\n",
       "      <th>495</th>\n",
       "      <td>MDMGFZWKG4BQMHBY</td>\n",
       "      <td>0.003525</td>\n",
       "      <td>1</td>\n",
       "      <td>0.000000</td>\n",
       "      <td>08488bbdee624eb956183e62595b7f17</td>\n",
       "    </tr>\n",
       "    <tr>\n",
       "      <th>496</th>\n",
       "      <td>TSPFHM54BJAXRP4Q</td>\n",
       "      <td>0.003686</td>\n",
       "      <td>1</td>\n",
       "      <td>0.000000</td>\n",
       "      <td>de667a27201e8ff00d248f085a18304e</td>\n",
       "    </tr>\n",
       "    <tr>\n",
       "      <th>497</th>\n",
       "      <td>FANE56KYGT8ZJEWR</td>\n",
       "      <td>0.039547</td>\n",
       "      <td>2</td>\n",
       "      <td>0.014925</td>\n",
       "      <td>a47866f7e66449fc44d172fa4e3f37bb</td>\n",
       "    </tr>\n",
       "    <tr>\n",
       "      <th>498</th>\n",
       "      <td>BOTFWWSKWGGCMHJC</td>\n",
       "      <td>0.010119</td>\n",
       "      <td>14</td>\n",
       "      <td>0.014925</td>\n",
       "      <td>88af7b587b8c3cb79f515d69c02912cd</td>\n",
       "    </tr>\n",
       "    <tr>\n",
       "      <th>499</th>\n",
       "      <td>NDFFUVHZ9VDBCS7F</td>\n",
       "      <td>0.010672</td>\n",
       "      <td>1</td>\n",
       "      <td>0.014925</td>\n",
       "      <td>deb7c597bdec1f8a7eeef83b0edb0e13</td>\n",
       "    </tr>\n",
       "  </tbody>\n",
       "</table>\n",
       "<p>500 rows × 5 columns</p>\n",
       "</div>"
      ],
      "text/plain": [
       "           product_id     price  cms_vertical     count  \\\n",
       "0    BDSG337RX24VXKVJ  0.003481            10  0.000000   \n",
       "1    BOTF7QC7BJCGBZP3  0.011208            14  0.044776   \n",
       "2    CPUFXESGSFDQFG5M  0.915324             1  0.597015   \n",
       "3    MOBFYZ94UWPWQRNF  0.161034            56  0.000000   \n",
       "4    STFESATFGH4FFZNE  0.002536             1  0.000000   \n",
       "..                ...       ...           ...       ...   \n",
       "495  MDMGFZWKG4BQMHBY  0.003525             1  0.000000   \n",
       "496  TSPFHM54BJAXRP4Q  0.003686             1  0.000000   \n",
       "497  FANE56KYGT8ZJEWR  0.039547             2  0.014925   \n",
       "498  BOTFWWSKWGGCMHJC  0.010119            14  0.014925   \n",
       "499  NDFFUVHZ9VDBCS7F  0.010672             1  0.014925   \n",
       "\n",
       "                       account_id_enc  \n",
       "0    d8433504430f2be3fdef7883a42a684a  \n",
       "1    88af7b587b8c3cb79f515d69c02912cd  \n",
       "2    a47866f7e66449fc44d172fa4e3f37bb  \n",
       "3    deb7c597bdec1f8a7eeef83b0edb0e13  \n",
       "4    6cb9f7e7882aed13a04f5f50ffd4eee1  \n",
       "..                                ...  \n",
       "495  08488bbdee624eb956183e62595b7f17  \n",
       "496  de667a27201e8ff00d248f085a18304e  \n",
       "497  a47866f7e66449fc44d172fa4e3f37bb  \n",
       "498  88af7b587b8c3cb79f515d69c02912cd  \n",
       "499  deb7c597bdec1f8a7eeef83b0edb0e13  \n",
       "\n",
       "[500 rows x 5 columns]"
      ]
     },
     "execution_count": 8,
     "metadata": {},
     "output_type": "execute_result"
    }
   ],
   "source": [
    "df3"
   ]
  },
  {
   "cell_type": "markdown",
   "metadata": {},
   "source": [
    "### Dicts and ids"
   ]
  },
  {
   "cell_type": "code",
   "execution_count": 9,
   "metadata": {},
   "outputs": [],
   "source": [
    "import numpy as np\n",
    "product_ids = np.unique(df3['product_id'])\n",
    "user_ids = np.unique(df3['account_id_enc'])\n",
    "product_dict = {}\n",
    "user_dict = {}\n",
    "for i in range(len(product_ids)):\n",
    "    product_dict[product_ids[i]] = i \n",
    "for i in range(len(user_ids)):\n",
    "    user_dict[user_ids[i]] = i"
   ]
  },
  {
   "cell_type": "code",
   "execution_count": 10,
   "metadata": {},
   "outputs": [
    {
     "data": {
      "text/plain": [
       "{'08488bbdee624eb956183e62595b7f17': 0,\n",
       " '1d42e96c40280348f55b463295b05fbb': 1,\n",
       " '36ee6d3cd4e30b41e7b6aba58641e09a': 2,\n",
       " '548cb0e0502842e009a52018738a428f': 3,\n",
       " '6cb9f7e7882aed13a04f5f50ffd4eee1': 4,\n",
       " '78508278afa0f28e2d32ad89158632e9': 5,\n",
       " '88af7b587b8c3cb79f515d69c02912cd': 6,\n",
       " 'a47866f7e66449fc44d172fa4e3f37bb': 7,\n",
       " 'bb01de642326b814b9f07d688a859463': 8,\n",
       " 'c3c6ea977e192b9152d361ff3eb21df8': 9,\n",
       " 'd8433504430f2be3fdef7883a42a684a': 10,\n",
       " 'de667a27201e8ff00d248f085a18304e': 11,\n",
       " 'deb7c597bdec1f8a7eeef83b0edb0e13': 12,\n",
       " 'edcb12c5498dbe2315f793c63db32e12': 13,\n",
       " 'fa03fe8aa6703c6a0586d2e6b66c2930': 14}"
      ]
     },
     "execution_count": 10,
     "metadata": {},
     "output_type": "execute_result"
    }
   ],
   "source": [
    "user_dict"
   ]
  },
  {
   "cell_type": "code",
   "execution_count": 11,
   "metadata": {},
   "outputs": [
    {
     "data": {
      "text/plain": [
       "{'ACCEGVTXGKZDXFRX': 0,\n",
       " 'ACCEHSEZESFHWBSD': 1,\n",
       " 'ACCEPB2FWAVBFTEX': 2,\n",
       " 'ACCEX3U2RXJFUGWG': 3,\n",
       " 'ACCF6SZ8EFWFEPZ6': 4,\n",
       " 'ACCF7TH2YBDTX6FB': 5,\n",
       " 'ACCFBZCZF8HVEQYX': 6,\n",
       " 'ACCFEE49UPHSQHGX': 7,\n",
       " 'ACCFF2R85H8YG4WH': 8,\n",
       " 'ACCFFMC7DN6GZ9SH': 9,\n",
       " 'ACCFGWFGN3XYSYHF': 10,\n",
       " 'ACCFH425PNGFUHAU': 11,\n",
       " 'ACCFHBKTBBTZSNHF': 12,\n",
       " 'ACCFHYJ8ZU9WDHDW': 13,\n",
       " 'ACCFJEFARGKKH6RG': 14,\n",
       " 'ACCFKFUNDRYVGDQE': 15,\n",
       " 'ACCFN6887NJPGZGT': 16,\n",
       " 'ACCFNDTWZD3UZGTH': 17,\n",
       " 'ACCFNH2GZG7AGUTM': 18,\n",
       " 'ACCFNT7RSK6DFGP9': 19,\n",
       " 'ACCFQB2JFUAZNDXH': 20,\n",
       " 'ACCFS66EEDXYNYVW': 21,\n",
       " 'ACCFSDGX68PUKJYE': 22,\n",
       " 'ACCFSDGXT4HZXY4J': 23,\n",
       " 'ACCFSDGXX3S6DVBG': 24,\n",
       " 'ACCFVA3GDUUVTXXJ': 25,\n",
       " 'ACCFVA3KZ2EYMYX3': 26,\n",
       " 'ACCFVEGCM57JTUNV': 27,\n",
       " 'ACCFVGUUCYC4JU5F': 28,\n",
       " 'ACCFWKUSZNV9QCCW': 29,\n",
       " 'ACCFWQ92YESUPVQZ': 30,\n",
       " 'ACCFZ95MY8SGZQRT': 31,\n",
       " 'ACCFZCSJYCVKSDYG': 32,\n",
       " 'ACCFZGAQJGYCYDCM': 33,\n",
       " 'ACCFZPFERYJN8ZY5': 34,\n",
       " 'ACCFZRBVFBAGZJHZ': 35,\n",
       " 'ACCG25SFFYDHXF67': 36,\n",
       " 'ACCG25TDZ2TXB4WT': 37,\n",
       " 'ACCG2DHTPQRPV4ZP': 38,\n",
       " 'ACCG36FHAZFMZ8PK': 39,\n",
       " 'ACCG37GRY5R393UF': 40,\n",
       " 'ACCG38Q3N7AM4AES': 41,\n",
       " 'ACCG3ECZEECW6YHD': 42,\n",
       " 'ACCG3FE473KV5DYT': 43,\n",
       " 'ACCG3QT2QWDGGVG7': 44,\n",
       " 'ACCG3UQN5XJHZG4H': 45,\n",
       " 'ACCG45FPAVSTFZFW': 46,\n",
       " 'ACCG45FPRKHNVYHM': 47,\n",
       " 'ACCG4HYUGZ8HHXND': 48,\n",
       " 'ACCG57P5RGWJZARH': 49,\n",
       " 'ACCGFGJTGWRHZUAF': 50,\n",
       " 'ACCGFQ24HZK8Y7NY': 51,\n",
       " 'ACCGFQF9GZ6TXEZ9': 52,\n",
       " 'ACCGFXEJAPG7GGRG': 53,\n",
       " 'ACKFJ24GRDSPXGS2': 54,\n",
       " 'ACNGFVMJ5ZKZVFDS': 55,\n",
       " 'AFGFZH3GXSX4CCST': 56,\n",
       " 'ALCFZ54FNCHYHNXW': 57,\n",
       " 'AMEFWH6XXWFSTQE6': 58,\n",
       " 'BAGFFZ5N5XQDGRUG': 59,\n",
       " 'BAGFNUXRXJYRGG62': 60,\n",
       " 'BAGFYFPEEJPZSMDD': 61,\n",
       " 'BCRGY4GSNBGF7DNV': 62,\n",
       " 'BDDFHB352KARHSCP': 63,\n",
       " 'BDDFN746YCZVRRUM': 64,\n",
       " 'BDDFNHSHGHNG2PZG': 65,\n",
       " 'BDSEF4MH6ZU324JZ': 66,\n",
       " 'BDSF4SK9J6MZRKDT': 67,\n",
       " 'BDSFJW2AQAH83GHH': 68,\n",
       " 'BDSFNXNYWZQB92AT': 69,\n",
       " 'BDSG2GGZCYDQJYJH': 70,\n",
       " 'BDSG337RX24VXKVJ': 71,\n",
       " 'BDSG4GHM366FSFBT': 72,\n",
       " 'BDSGFRZWMXDRATBB': 73,\n",
       " 'BDSGFZ8A6FYZGHPD': 74,\n",
       " 'BDSGYU5GRA5RUDEG': 75,\n",
       " 'BEMFJKZJHB8KHBYR': 76,\n",
       " 'BKPFMZFV2NFAK7FZ': 77,\n",
       " 'BKPFXY54FQ5FHEFG': 78,\n",
       " 'BKPFXYYQTUSR8QCG': 79,\n",
       " 'BKPFYTHVEPVB5GCH': 80,\n",
       " 'BKPFZHHBDPQZFWDR': 81,\n",
       " 'BKPGYA36QHDCEF4R': 82,\n",
       " 'BKPGYXJFFGJUTYVC': 83,\n",
       " 'BOTE6PUVBZMBZFSG': 84,\n",
       " 'BOTEY7GP2KG7YQTG': 85,\n",
       " 'BOTF62AAYSDXEUNM': 86,\n",
       " 'BOTF7QC7BJCGBZP3': 87,\n",
       " 'BOTFDFRTKJHCDXAF': 88,\n",
       " 'BOTFFUKJGZS88KBA': 89,\n",
       " 'BOTFGXGUZXC8DZYQ': 90,\n",
       " 'BOTFH3R2GZ4YBMFX': 91,\n",
       " 'BOTFJZRYXZVT5GSR': 92,\n",
       " 'BOTFNGY8Z5WMXVYA': 93,\n",
       " 'BOTFPUTW5MXBGZB2': 94,\n",
       " 'BOTFUQAAXNNH8YDY': 95,\n",
       " 'BOTFWWSKWGGCMHJC': 96,\n",
       " 'BPMEEFJ9RVNNNZPP': 97,\n",
       " 'BPMERAHXYSHY6KHZ': 98,\n",
       " 'BPMG2PNZWGPD85FX': 99,\n",
       " 'BRPFH7T3VANJEKYN': 100,\n",
       " 'BSTFUFU62GSFNG5E': 101,\n",
       " 'CAFF5FY5TPUZR7YA': 102,\n",
       " 'CAFF7THHYGH5DKVD': 103,\n",
       " 'CASEQTZYF8NTQHFU': 104,\n",
       " 'CASERZVE4RFEG5JZ': 105,\n",
       " 'CASFUVCYFB2RHPZT': 106,\n",
       " 'CCPFYFZPKPK5AR3F': 107,\n",
       " 'CDMFWE4RYHVNJWDQ': 108,\n",
       " 'CDMFYJF3FQGHAYZW': 109,\n",
       " 'CFEFNJ85G2QQBHKG': 110,\n",
       " 'CHCFTFR2XHW8XGJM': 111,\n",
       " 'CHDF5DSFNZXV8P3Y': 112,\n",
       " 'CHYEQ5YFHC9EQTD9': 113,\n",
       " 'CHYFFHSFZRY9DGCZ': 114,\n",
       " 'CHYFJK3YFMCGTREY': 115,\n",
       " 'CNSFPHZKJPVEPDZT': 116,\n",
       " 'CNSFSKNABAZMT7ZR': 117,\n",
       " 'CNSFZJ6HBZ8G7ADH': 118,\n",
       " 'CNTFBG5HA6DBDQGK': 119,\n",
       " 'CNTFJB3DBSVAPGS5': 120,\n",
       " 'CNTFQ2AYGEWVHGZB': 121,\n",
       " 'CNTFQRMTGPMTYRKE': 122,\n",
       " 'CNTFXTGVVJMC3QXN': 123,\n",
       " 'CNTG46BXR9GXGUKR': 124,\n",
       " 'COMFT8GXGSJZKAAE': 125,\n",
       " 'COMFZHFWBE7APPH2': 126,\n",
       " 'COMG49CZDAJFHBZG': 127,\n",
       " 'COMG49CZGUZZH6XT': 128,\n",
       " 'COMG49CZHJZVU8WH': 129,\n",
       " 'COMGFZXGYZSFCFQD': 130,\n",
       " 'COMGY8RDNJX8FWGH': 131,\n",
       " 'CPCF8TZZZYTQ2UR5': 132,\n",
       " 'CPCF9RUK83KVXEMC': 133,\n",
       " 'CPCF9VDHHJNH4Z8N': 134,\n",
       " 'CPCFGVEFGNUEUDTH': 135,\n",
       " 'CPCFPEWFHYGDUKMX': 136,\n",
       " 'CPHE9NNAZGKA8GHT': 137,\n",
       " 'CPHEGYMZEBVB8HHY': 138,\n",
       " 'CPHF9FUDAXZ8WYYP': 139,\n",
       " 'CPHFUZJNHNJVYMYV': 140,\n",
       " 'CPHFZ5D82M9RJGYJ': 141,\n",
       " 'CPHFZRAAXSZ3ZGXG': 142,\n",
       " 'CPHGYKZC4E5JHSF2': 143,\n",
       " 'CPHGYYZPAEKH5EC5': 144,\n",
       " 'CPHGYYZPSRYYAT52': 145,\n",
       " 'CPREMRHJGJUZJPUK': 146,\n",
       " 'CPRFVHUTGKPEHHSZ': 147,\n",
       " 'CPRGYFF2UK2JG7SR': 148,\n",
       " 'CPUFXESGSFDQFG5M': 149,\n",
       " 'CRLF6V43GUUYSQ4M': 150,\n",
       " 'CRLFJX2URV39YVSE': 151,\n",
       " 'CRLFNFGJCGUUZZZX': 152,\n",
       " 'CRLFY3WRTZZBGBFP': 153,\n",
       " 'CRLFY8UGAH54GA3Z': 154,\n",
       " 'CRMFKQVSYXAK4EGU': 155,\n",
       " 'CRNEGYF2ZZDHNBDF': 156,\n",
       " 'CRNEUA8ZBMHFZWJF': 157,\n",
       " 'CRNF4FTF6HHZEQ5G': 158,\n",
       " 'CRNFP75YX2SPE66R': 159,\n",
       " 'CRNFP75YZZS836EE': 160,\n",
       " 'CRNFPNUDHHB9YJK3': 161,\n",
       " 'CRNFRTGGXDJQWQZG': 162,\n",
       " 'CRNFZ573G2ESTED6': 163,\n",
       " 'CRNGFZ5HJG3FGCZW': 164,\n",
       " 'CWDF48GUHHNGV6CC': 165,\n",
       " 'DEOFSD9N7FGRXTKQ': 166,\n",
       " 'DPREN7KDQNRDYWPS': 167,\n",
       " 'DPRF5RYGJVQQXXY7': 168,\n",
       " 'DREF32JGJ7KZQRAA': 169,\n",
       " 'DREFBYMF2AG9FRNR': 170,\n",
       " 'DREFV6GSSRGZKA3D': 171,\n",
       " 'DREFZXPCMZZSK7TR': 172,\n",
       " 'DREGF7GWJWHEFHZF': 173,\n",
       " 'DUPFXB8FPTZKPAYB': 174,\n",
       " 'EDOESRDA7YABCREE': 175,\n",
       " 'EDOET83C9UHNFETC': 176,\n",
       " 'EKTEASGCGV6GYP6S': 177,\n",
       " 'EKTFJP94HGT3MGTD': 178,\n",
       " 'EKTFQZGZVHDXMWCS': 179,\n",
       " 'ESRFKEP8N2YH7Y57': 180,\n",
       " 'ESRG4VKXXCHPUJWM': 181,\n",
       " 'ETHFPYJP7UZ9ZZYA': 182,\n",
       " 'ETHFTFYTKEFH7BHV': 183,\n",
       " 'ETHFYFSZPTPK4BKH': 184,\n",
       " 'ETHFYFSZQZZSAZBD': 185,\n",
       " 'ETHG36S2VFDHAJMM': 186,\n",
       " 'ETHG3VU96GGHRKVF': 187,\n",
       " 'ETHGFQH4YUCZZEKW': 188,\n",
       " 'ETHGYJZCJHREHVSF': 189,\n",
       " 'FABFKDUAHTCFCS3H': 190,\n",
       " 'FANE56KYGT8ZJEWR': 191,\n",
       " 'FANFGXJEKHSE59ZT': 192,\n",
       " 'FMCFTUJBJXKXTABQ': 193,\n",
       " 'FRAF6GGRAVAKCV7R': 194,\n",
       " 'FRAFRZVTHARQXHZY': 195,\n",
       " 'FRAGF669QZHH7GTQ': 196,\n",
       " 'GLGFYYZHZ7FJQVK3': 197,\n",
       " 'GSTFTU6HHXGURFAK': 198,\n",
       " 'GSTFTU7URMKUAGEY': 199,\n",
       " 'GWNGYPCXZWFJBGEM': 200,\n",
       " 'HACFVYC2SHFCWA9W': 201,\n",
       " 'HACFXHCBU3QYHRWY': 202,\n",
       " 'HACG4B9UHTCTGGJV': 203,\n",
       " 'HACGYBAYVG82ZHX3': 204,\n",
       " 'HBLF8FKEYG3YXNGF': 205,\n",
       " 'HBLFWZ6SDFHHPUCM': 206,\n",
       " 'HKHFJM2X5KF2MYNZ': 207,\n",
       " 'HKHFJM2YHM8JUHEG': 208,\n",
       " 'HKHFWHGC7DAMQ2MF': 209,\n",
       " 'HKHFWYKAGZSBPXKX': 210,\n",
       " 'HKHFXA56QKHYTFSH': 211,\n",
       " 'HKHFXQNDPQYGMAGP': 212,\n",
       " 'HKHG2WSSWFX6QUQ3': 213,\n",
       " 'HKHG4HYBBRRRTWH6': 214,\n",
       " 'HKHG5QTUSFTXUN59': 215,\n",
       " 'HKHG5SE4ARUNVHTS': 216,\n",
       " 'HKHGFDVBDZEXBBEY': 217,\n",
       " 'HKHGFYZCN6G88SWJ': 218,\n",
       " 'HKHGYB6MUTDYJHK8': 219,\n",
       " 'HKHGYMFHTR44YZFF': 220,\n",
       " 'HKSFWZE9YWSRYSEN': 221,\n",
       " 'HMBFDFWKHTXFBUVR': 222,\n",
       " 'HMEFV7XVHHZFAGVN': 223,\n",
       " 'HMEFVHHJGYZ9YYBX': 224,\n",
       " 'HOLFTVV6FPABJQ3V': 225,\n",
       " 'HOLFY2WFAVFXYKSC': 226,\n",
       " 'HOLG53266BZFBHYQ': 227,\n",
       " 'HSPFZNGJEFPMFEEH': 228,\n",
       " 'HSTG3D7VGD9XSPGH': 229,\n",
       " 'HWSETCJ8ZHZ5YHUA': 230,\n",
       " 'HWSFMKG9KBVF9ZCQ': 231,\n",
       " 'IHDFF8WMTG7K3D93': 232,\n",
       " 'IHDFFZE89NNKHCZS': 233,\n",
       " 'INTFZEV7TBMGTMTH': 234,\n",
       " 'INVF9FGDDTVNDAKW': 235,\n",
       " 'JUGE8QA5B7MD2WTW': 236,\n",
       " 'JWSF82H6F49ZKS69': 237,\n",
       " 'JWSFKH3EJHSPUSVP': 238,\n",
       " 'JWSFN9GPHFJ2KUHG': 239,\n",
       " 'JWSFNVDHBJCA9CQM': 240,\n",
       " 'KRTFZ8GZTRTTGXWZ': 241,\n",
       " 'KTAFGJYKKJGSCRN8': 242,\n",
       " 'KTAFPHEGZJFGBQ3X': 243,\n",
       " 'KTAFQXBJ3PJBNR9G': 244,\n",
       " 'KTAFTFA9PECAKZTN': 245,\n",
       " 'KTAFTFAJZXAG75QG': 246,\n",
       " 'KTAFTM6RKQTKKFB8': 247,\n",
       " 'KTAFW7HRWZWWANFX': 248,\n",
       " 'KTAFWSEXDRZHQ3HZ': 249,\n",
       " 'KTAFZFCHREHHEXXZ': 250,\n",
       " 'KTAFZVKGS4VUKQ9H': 251,\n",
       " 'KTAFZXUXQNKKGMHP': 252,\n",
       " 'KTAG2ZNRVJTR7HRH': 253,\n",
       " 'KTAG3YZ45MG5SYC6': 254,\n",
       " 'KTAGFFKYHYXGY862': 255,\n",
       " 'LBXEGEGYXFNQGF4E': 256,\n",
       " 'LBXEKZSB2GYM6U8J': 257,\n",
       " 'LBXFUG23ZACXH47A': 258,\n",
       " 'MASFWYW49FYCBDJ6': 259,\n",
       " 'MCRDE69CZZACKY4F': 260,\n",
       " 'MCWFFVTEKGU4NUPX': 261,\n",
       " 'MCWFZ22G2F6EBFSH': 262,\n",
       " 'MDMGFZWKG4BQMHBY': 263,\n",
       " 'MIXFV7M9UZYFGFRZ': 264,\n",
       " 'MLDFUCJCGX5KWPGW': 265,\n",
       " 'MNGFHZ3WXWWGVCPU': 266,\n",
       " 'MNTFSEVZXE98CNZ3': 267,\n",
       " 'MOBFSDDJUUE7MQGG': 268,\n",
       " 'MOBFUSBNAZGY7HQU': 269,\n",
       " 'MOBFUSEP5YQJK4RE': 270,\n",
       " 'MOBFUT9M84NDDYQN': 271,\n",
       " 'MOBFUTBVDZHZSG2P': 272,\n",
       " 'MOBFV8RYKWQ3HACE': 273,\n",
       " 'MOBFVQJ5KGSJXCKG': 274,\n",
       " 'MOBFVQJ5PMVMSJHT': 275,\n",
       " 'MOBFVQJ5YCRFFXPB': 276,\n",
       " 'MOBFWCFDEHTZVQMZ': 277,\n",
       " 'MOBFWQBWVGZYRGSR': 278,\n",
       " 'MOBFXEPZM4DX89AQ': 279,\n",
       " 'MOBFYZ7HHGJUATYD': 280,\n",
       " 'MOBFYZ94UWPWQRNF': 281,\n",
       " 'MOBFZTCUDDCTDN3G': 282,\n",
       " 'MOBFZTCUPAHJVA94': 283,\n",
       " 'MOBFZTCUTAYPJHHR': 284,\n",
       " 'MOBG24GTQTFDXBBY': 285,\n",
       " 'MOBG39HUHPSJGHRK': 286,\n",
       " 'MOBG39HUJTFZJXJ8': 287,\n",
       " 'MOBG39HUYERMXR2C': 288,\n",
       " 'MOBG3P4Z3ZQSVWZZ': 289,\n",
       " 'MOBG43UGC3PYCBZF': 290,\n",
       " 'MOBG4CGFRMX2AKFD': 291,\n",
       " 'MOBG4GFGHHZYUZW8': 292,\n",
       " 'MOBG4GFGZMU5HEUK': 293,\n",
       " 'MOBG4GGZZDPB2RP5': 294,\n",
       " 'MOBG4ZY7HG7CKSM4': 295,\n",
       " 'MOBG58UGFUQSGEG5': 296,\n",
       " 'MOBG5JPXRXNKKAYN': 297,\n",
       " 'MOBG5ZGKG2HRSQB8': 298,\n",
       " 'MOBG5ZGKRUBBZFBR': 299,\n",
       " 'MOBG5ZGKXCGFB9HP': 300,\n",
       " 'MOBGF4894MEWZJGV': 301,\n",
       " 'MOBGF489SQZCFHYA': 302,\n",
       " 'MOBGFG79BPTJWHKS': 303,\n",
       " 'MOBGFH8TNGEKSCTY': 304,\n",
       " 'MOBGYK55KQWBAM7G': 305,\n",
       " 'MOBGYV98456KWXBC': 306,\n",
       " 'MOBGYV98TGYMRSVQ': 307,\n",
       " 'MOHFWWWM3E6FGAQM': 308,\n",
       " 'MONEXFVGBMHHDTPG': 309,\n",
       " 'MRPFB9ZPRPA3ZQYD': 310,\n",
       " 'MRPFKFPYBV8C6PM3': 311,\n",
       " 'MRPFKFPYWFWDJQZG': 312,\n",
       " 'MRPFY7KQFZKTYAH7': 313,\n",
       " 'MRPG4G46MCEQXCB8': 314,\n",
       " 'MSCD93YTEMSXEYBZ': 315,\n",
       " 'MSCD93YTGAWF42KQ': 316,\n",
       " 'MUGENTZSMMQ9DMRY': 317,\n",
       " 'MUGFWWR4B9KZRZZA': 318,\n",
       " 'NDFFUVHZ9VDBCS7F': 319,\n",
       " 'NDLF7NQ7UVSGBABS': 320,\n",
       " 'NDLFPR53ZNFZHZZF': 321,\n",
       " 'NDLFVEZW2QZFYFSM': 322,\n",
       " 'NDLFWZYNG7UHHXQY': 323,\n",
       " 'OTNFEQJXAQPRBHBE': 324,\n",
       " 'PBXFKCMXEJA2Z9VB': 325,\n",
       " 'PCSFYVZ5X9RFXH2Y': 326,\n",
       " 'PCSFZC753N7XK4ZY': 327,\n",
       " 'PCSG53HG9HUV8XZG': 328,\n",
       " 'PCSGYZJV3QWVC9YY': 329,\n",
       " 'PCVFNCPEBVTUZE3W': 330,\n",
       " 'PHTDTWYYQPQHSVVG': 331,\n",
       " 'PHTE8UQ9GXNNZZHB': 332,\n",
       " 'PLLFXWGWZDGPF3H5': 333,\n",
       " 'PLRGFBMNFF7JPS9S': 334,\n",
       " 'PLWEPBTF96ZNETHZ': 335,\n",
       " 'PLWGFDX2Q5HDMJJQ': 336,\n",
       " 'PODEZ6FTJD4XZJAS': 337,\n",
       " 'PRCF54FXSBXYU4SW': 338,\n",
       " 'PRMEJ8W3GKJ653SB': 339,\n",
       " 'RCTFG4VAKGHX3PTE': 340,\n",
       " 'RFRFGYGHU7AJETNZ': 341,\n",
       " 'RFRFZ928SXZVVCDJ': 342,\n",
       " 'RFRFZKEUBYTE2MWG': 343,\n",
       " 'RFRG4XR6QNSM6X5H': 344,\n",
       " 'RFRGYRZDBHUEFEFW': 345,\n",
       " 'SAMETFSR8ZUDQBGH': 346,\n",
       " 'SAREUQ8WPAT244P2': 347,\n",
       " 'SARFQF6GW3FW6ZHF': 348,\n",
       " 'SARFYC2SSHB8KFQG': 349,\n",
       " 'SARGF88KAMHZDZZU': 350,\n",
       " 'SCSEE8FWZQMBQKQU': 351,\n",
       " 'SELFU4U5PF7TEBBV': 352,\n",
       " 'SFFGFSW2RUCGGQMH': 353,\n",
       " 'SGLES2WMF6CH5GYF': 354,\n",
       " 'SGLEUSYZTH9NQGDS': 355,\n",
       " 'SGLFPFD7WRNASWSV': 356,\n",
       " 'SHOEGWUDCCGAEQGZ': 357,\n",
       " 'SHOFZ9YT86XTZSXZ': 358,\n",
       " 'SHOG3WCPK5G5ZSGT': 359,\n",
       " 'SHOG56XZNZHF56UZ': 360,\n",
       " 'SHOGYEM2XYSZHZ2N': 361,\n",
       " 'SHOGYPM66QZVFZCH': 362,\n",
       " 'SMCFWFTVQHVFXN59': 363,\n",
       " 'SMPEXSB5WUH5DRDB': 364,\n",
       " 'SMWFW8HFZGQRNK3H': 365,\n",
       " 'SMWFXYG323FZVRQP': 366,\n",
       " 'SMWFY7PPGQTEH2BZ': 367,\n",
       " 'SMWFYCZGQAPSXJZH': 368,\n",
       " 'SMWFZR2PMHK6VSUM': 369,\n",
       " 'SMWG2ZX6AC4ZSCPC': 370,\n",
       " 'SMWG36AJCNCCJTMN': 371,\n",
       " 'SMWG3EC4YGGEKAMG': 372,\n",
       " 'SMWG4FG5ZYCGY3EZ': 373,\n",
       " 'SNDFA9QQZ3V289FH': 374,\n",
       " 'SNDFBGXYHPFZKCHA': 375,\n",
       " 'SNDFBGYGWFYR3CNU': 376,\n",
       " 'SNDFCQHYRZSG7RMD': 377,\n",
       " 'SNDFGAZCYZHYT9D9': 378,\n",
       " 'SNDFK79DF9KJPZTN': 379,\n",
       " 'SNDFNWK5VH8G6GB7': 380,\n",
       " 'SNDFT9HHXG346Y26': 381,\n",
       " 'SNDFWH8XRXEY98FK': 382,\n",
       " 'SNDGFCWFPACXE8ZM': 383,\n",
       " 'SNDGFWY5YF2SZMBW': 384,\n",
       " 'SOPFZ2G8XGGH8JFF': 385,\n",
       " 'SRMFUFQGY2XKVDHZ': 386,\n",
       " 'SRMFUFQJYSM5V9NE': 387,\n",
       " 'SRPEUDGGPWN7GWVG': 388,\n",
       " 'SRPFWHGSZHCHZHFF': 389,\n",
       " 'SSSFFAJKRNWSFQMW': 390,\n",
       " 'SSSFYZ784UJJBTJU': 391,\n",
       " 'STFESATFGH4FFZNE': 392,\n",
       " 'STIFRMPGAJCHX9DV': 393,\n",
       " 'STIGF688NSMF7WED': 394,\n",
       " 'STIGFAS9KAYREM5A': 395,\n",
       " 'SVTFWP5SNJZGRXGF': 396,\n",
       " 'SWMFB5DHHDZ6QZ9F': 397,\n",
       " 'SWMFH2CU6FUPNTAT': 398,\n",
       " 'SWMFZHEWGFPBEPNN': 399,\n",
       " 'SWMG3U84CJSJHJBJ': 400,\n",
       " 'SWMGF7SDJGCBAWZZ': 401,\n",
       " 'SYCEUFRNGQBRRFDT': 402,\n",
       " 'TEAETM5TCX2WXST8': 403,\n",
       " 'TEAFGPRQHGKWH9JN': 404,\n",
       " 'THBFFUH3FWZGY7SQ': 405,\n",
       " 'TMREW2GVGCGNSB73': 406,\n",
       " 'TMRF52GYJ5HQF6H7': 407,\n",
       " 'TMRFGDD3G2C7JPG3': 408,\n",
       " 'TMRFGZK4FBEACSSQ': 409,\n",
       " 'TMRFSH4F7QKQZHQK': 410,\n",
       " 'TMRFZ62KV9WFYEV5': 411,\n",
       " 'TMRGY6NWKMAVRFFG': 412,\n",
       " 'TMRGY6NWTBZNWYN8': 413,\n",
       " 'TOPFYGR4GY3ZHVCW': 414,\n",
       " 'TOPFZBHZWXY5EHGY': 415,\n",
       " 'TPSG3QG8ADQZXGQ3': 416,\n",
       " 'TROFSPW3ZVDJCJ9G': 417,\n",
       " 'TROGFY4XVFCWSX4K': 418,\n",
       " 'TSHEVPYJ9TWTJKW6': 419,\n",
       " 'TSHEVPYJTAGYCMQN': 420,\n",
       " 'TSHF2NYWEPHG6SZC': 421,\n",
       " 'TSPFHM54BJAXRP4Q': 422,\n",
       " 'TTCFB93AGHFAM9GF': 423,\n",
       " 'TUNFP4QH8YHGRFY5': 424,\n",
       " 'TVSFRMY2HHNZAUQF': 425,\n",
       " 'TVSFRZ43WYHQE2FS': 426,\n",
       " 'TVSFT4FJABVZFRHT': 427,\n",
       " 'TVSFT4FJQ4YYXTKY': 428,\n",
       " 'TVSFVWD2ENXYGEJY': 429,\n",
       " 'TVSFXZX7XRZASJYM': 430,\n",
       " 'TVSFZARWPZGMHZKE': 431,\n",
       " 'TVSG22C46SKHXTH8': 432,\n",
       " 'TVSG22C4DXQRVSTT': 433,\n",
       " 'TVSG4YW7DCC9H4NF': 434,\n",
       " 'TVSG5C34QGYJVFUE': 435,\n",
       " 'TWPET5XXDFDSGMRY': 436,\n",
       " 'TWPEURKP4SMQFAVY': 437,\n",
       " 'TWPEW95YPGKYCFXH': 438,\n",
       " 'TWPFFJEJNNB9HY9T': 439,\n",
       " 'VCLF5XRAGYZ5D8TF': 440,\n",
       " 'VSTDAH3Q6HFCHNGB': 441,\n",
       " 'VSTET8YUHZTGXHHH': 442,\n",
       " 'WAPFJZFCBY9HCPBW': 443,\n",
       " 'WATF99TMWKGVK2V2': 444,\n",
       " 'WATFFDSNVKHQ2FCZ': 445,\n",
       " 'WATFGRYZMFHGKYZN': 446,\n",
       " 'WATFN6WM6HHKUKVF': 447,\n",
       " 'WATFPK8FZU8VVDVC': 448,\n",
       " 'WATFWHPJBYY8A3AA': 449,\n",
       " 'WATFXVG2Q4WCSYNC': 450,\n",
       " 'WATFYH6Y8YJVX3X8': 451,\n",
       " 'WIPDGPJUGKKHSYHG': 452,\n",
       " 'WIPEMJVPDQ78BKFS': 453,\n",
       " 'WIPF3F663EHYAJQC': 454,\n",
       " 'WIPF5H3YY9A7GGGC': 455,\n",
       " 'WMNEHPCR5BJHXPRT': 456,\n",
       " 'WMNEWFS4SHWDPGEA': 457,\n",
       " 'WMNF2P7YGZMXEFVK': 458,\n",
       " 'WMNFGU8VPXNRCU6H': 459,\n",
       " 'WMNFP6FWBB4AMHYJ': 460,\n",
       " 'WMNFPVW74ZSHUT5F': 461,\n",
       " 'WMNFTPBYGZDWXGQX': 462,\n",
       " 'WMNFU5XFAYQANNBZ': 463,\n",
       " 'WMNFV6ZYDFQFJGT5': 464,\n",
       " 'WMNFVFQF4CD2HFYR': 465,\n",
       " 'WMNFZBM8FECBGVZU': 466,\n",
       " 'WMNFZWDHZY4SZWQH': 467,\n",
       " 'WMNG4RYZ5FVFQEGZ': 468,\n",
       " 'WSKDYHV3XCFGTZXM': 469,\n",
       " 'WSPFHPGEYNCVUPVQ': 470}"
      ]
     },
     "execution_count": 11,
     "metadata": {},
     "output_type": "execute_result"
    }
   ],
   "source": [
    "product_dict"
   ]
  },
  {
   "cell_type": "markdown",
   "metadata": {},
   "source": [
    "### Node features and Edge list"
   ]
  },
  {
   "cell_type": "code",
   "execution_count": 53,
   "metadata": {},
   "outputs": [],
   "source": [
    "## Maps for edges and id encoding\n",
    "s=[]\n",
    "t=[]\n",
    "e_wt=[]\n",
    "edge_list = [[], []]\n",
    "\n",
    "# create empty features 2d array of size (total_nodes, feature dim)\n",
    "for index,row in df3.iterrows():\n",
    "    prod_feat_len = len(df3.iloc[index].drop(['product_id','account_id_enc','count']).to_numpy())\n",
    "    break\n",
    "    \n",
    "user_nodes = len(user_dict)\n",
    "prod_nodes = len(product_dict)\n",
    "prod_feat_len = 64\n",
    "user_feat_len = 64\n",
    "\n",
    "user_features = np.empty(shape=(user_nodes,prod_feat_len))\n",
    "prod_features = np.empty(shape=(prod_nodes,prod_feat_len))\n",
    "\n",
    "for index,row in df3.iterrows():\n",
    "    prod_id=row['product_id']\n",
    "    user_id=row['account_id_enc']\n",
    "    # e_wt.append(row['count'])\n",
    "    # e_wt.append(0)\n",
    "    user_index = user_dict[user_id]\n",
    "    prod_index = product_dict[prod_id]\n",
    "\n",
    "    s.append(user_dict[user_id])\n",
    "    t.append(product_dict[prod_id])\n",
    "    edge_list[0].append(user_index)\n",
    "    edge_list[1].append(prod_index)\n",
    "\n",
    "    # node_features[prod_index] = ohe.iloc[index].drop(['product_id','account_id_enc','count']).to_numpy()\n",
    "    u=np.array([mean_rating[user_id], num_rating[user_id]])\n",
    "    padded_u = np.pad(u, (0, 62), mode='constant')\n",
    "    p = df3.iloc[index].drop(['product_id','account_id_enc','count']).to_numpy()\n",
    "    padded_p = np.pad(p, (0, 62), mode='constant')\n",
    "    # padded_u = u\n",
    "    user_features[user_index] = padded_u\n",
    "    prod_features[prod_index] = padded_p"
   ]
  },
  {
   "cell_type": "code",
   "execution_count": 54,
   "metadata": {},
   "outputs": [],
   "source": [
    "edge_list = torch.tensor(edge_list, dtype=int)"
   ]
  },
  {
   "cell_type": "code",
   "execution_count": 55,
   "metadata": {},
   "outputs": [
    {
     "data": {
      "text/plain": [
       "torch.Size([2, 500])"
      ]
     },
     "execution_count": 55,
     "metadata": {},
     "output_type": "execute_result"
    }
   ],
   "source": [
    "edge_list.shape"
   ]
  },
  {
   "cell_type": "code",
   "execution_count": 56,
   "metadata": {},
   "outputs": [
    {
     "data": {
      "text/plain": [
       "torch.Size([471, 64])"
      ]
     },
     "execution_count": 56,
     "metadata": {},
     "output_type": "execute_result"
    }
   ],
   "source": [
    "prod_features = torch.tensor(prod_features, dtype=float, requires_grad=True)\n",
    "prod_features.shape"
   ]
  },
  {
   "cell_type": "code",
   "execution_count": 57,
   "metadata": {},
   "outputs": [
    {
     "data": {
      "text/plain": [
       "torch.Size([15, 64])"
      ]
     },
     "execution_count": 57,
     "metadata": {},
     "output_type": "execute_result"
    }
   ],
   "source": [
    "user_features = torch.tensor(user_features, dtype=float, requires_grad=True)\n",
    "user_features.shape"
   ]
  },
  {
   "cell_type": "code",
   "execution_count": 58,
   "metadata": {},
   "outputs": [
    {
     "name": "stdout",
     "output_type": "stream",
     "text": [
      "15\n",
      "471\n"
     ]
    }
   ],
   "source": [
    "print(user_nodes)\n",
    "print(prod_nodes)"
   ]
  },
  {
   "cell_type": "markdown",
   "metadata": {},
   "source": [
    "### PyG hetergenous Dataset"
   ]
  },
  {
   "cell_type": "code",
   "execution_count": 77,
   "metadata": {
    "colab": {
     "base_uri": "https://localhost:8080/"
    },
    "id": "I_63--974srt",
    "outputId": "93743385-48fc-4192-f970-af443d589afc"
   },
   "outputs": [
    {
     "name": "stdout",
     "output_type": "stream",
     "text": [
      "HeteroData(\n",
      "  user={\n",
      "    node_id=[15],\n",
      "    x=[15, 64],\n",
      "  },\n",
      "  product={\n",
      "    node_id=[471],\n",
      "    x=[471, 64],\n",
      "  },\n",
      "  (user, views, product)={ edge_index=[2, 500] },\n",
      "  (product, rev_views, user)={ edge_index=[2, 500] }\n",
      ")\n"
     ]
    }
   ],
   "source": [
    "from torch_geometric.data import HeteroData\n",
    "import torch_geometric.transforms as T\n",
    "\n",
    "data = HeteroData()\n",
    "\n",
    "# Save node indices:\n",
    "data[\"user\"].node_id = torch.arange(len(user_ids), dtype=float)\n",
    "data[\"product\"].node_id = torch.arange(len(product_ids), dtype=float)\n",
    "\n",
    "# Add the node features and edge indices:\n",
    "data[\"product\"].x = prod_features.to(torch.float32)\n",
    "data[\"user\"].x = user_features.to(torch.float32)\n",
    "data[\"user\", \"views\", \"product\"].edge_index = edge_list\n",
    "\n",
    "# We also need to make sure to add the reverse edges from movies to users\n",
    "# in order to let a GNN be able to pass messages in both directions.\n",
    "# We can leverage the `T.ToUndirected()` transform for this from PyG:\n",
    "data = T.ToUndirected()(data)\n",
    "\n",
    "print(data)\n",
    "\n",
    "assert data.node_types == [\"user\", \"product\"]\n",
    "assert data.edge_types == [(\"user\", \"views\", \"product\"),\n",
    "                           (\"product\", \"rev_views\", \"user\")]\n",
    "assert data[\"user\"].num_nodes == 15\n",
    "assert data[\"user\"].num_features == 64\n",
    "assert data[\"product\"].num_nodes == 471\n",
    "assert data[\"product\"].num_features == 64\n",
    "assert data[\"user\", \"views\", \"product\"].num_edges == 500\n",
    "assert data[\"product\", \"rev_views\", \"user\"].num_edges == 500"
   ]
  },
  {
   "cell_type": "markdown",
   "metadata": {
    "id": "2QGdkLAurBq9"
   },
   "source": [
    "## Defining Edge-level Training Splits\n",
    "\n",
    "Since our data is now ready-to-be-used, we can split the ratings of users into training, validation, and test splits.\n",
    "This is needed in order to ensure that we leak no information about edges used during evaluation into the training phase.\n",
    "For this, we make use of the [`transforms.RandomLinkSplit`](https://pytorch-geometric.readthedocs.io/en/latest/modules/transforms.html#torch_geometric.transforms.RandomLinkSplit) transformation from PyG.\n",
    "This transforms randomly divides the edges in the `(\"user\", \"rates\", \"movie\")` into training, validation and test edges.\n",
    "The `disjoint_train_ratio` parameter further separates edges in the training split into edges used for message passing (`edge_index`) and edges used for supervision (`edge_label_index`).\n",
    "Note that we also need to specify the reverse edge type `(\"movie\", \"rev_rates\", \"user\")`.\n",
    "This allows the `RandomLinkSplit` transform to drop reverse edges accordingly to not leak any information into the training phase."
   ]
  },
  {
   "cell_type": "code",
   "execution_count": 78,
   "metadata": {
    "colab": {
     "base_uri": "https://localhost:8080/"
    },
    "id": "rwgNwoa26Eja",
    "outputId": "77471a87-6b54-4d38-c19a-43afcc26f2b7"
   },
   "outputs": [
    {
     "name": "stdout",
     "output_type": "stream",
     "text": [
      "Training data:\n",
      "==============\n",
      "HeteroData(\n",
      "  user={\n",
      "    node_id=[15],\n",
      "    x=[15, 64],\n",
      "  },\n",
      "  product={\n",
      "    node_id=[471],\n",
      "    x=[471, 64],\n",
      "  },\n",
      "  (user, views, product)={\n",
      "    edge_index=[2, 280],\n",
      "    edge_label=[120],\n",
      "    edge_label_index=[2, 120],\n",
      "  },\n",
      "  (product, rev_views, user)={ edge_index=[2, 280] }\n",
      ")\n",
      "\n",
      "Validation data:\n",
      "================\n",
      "HeteroData(\n",
      "  user={\n",
      "    node_id=[15],\n",
      "    x=[15, 64],\n",
      "  },\n",
      "  product={\n",
      "    node_id=[471],\n",
      "    x=[471, 64],\n",
      "  },\n",
      "  (user, views, product)={\n",
      "    edge_index=[2, 400],\n",
      "    edge_label=[150],\n",
      "    edge_label_index=[2, 150],\n",
      "  },\n",
      "  (product, rev_views, user)={ edge_index=[2, 400] }\n",
      ")\n"
     ]
    },
    {
     "ename": "AssertionError",
     "evalue": "",
     "output_type": "error",
     "traceback": [
      "\u001b[0;31m---------------------------------------------------------------------------\u001b[0m",
      "\u001b[0;31mAssertionError\u001b[0m                            Traceback (most recent call last)",
      "Cell \u001b[0;32mIn[78], line 27\u001b[0m\n\u001b[1;32m     24\u001b[0m \u001b[38;5;28mprint\u001b[39m(\u001b[38;5;124m\"\u001b[39m\u001b[38;5;124m================\u001b[39m\u001b[38;5;124m\"\u001b[39m)\n\u001b[1;32m     25\u001b[0m \u001b[38;5;28mprint\u001b[39m(val_data)\n\u001b[0;32m---> 27\u001b[0m \u001b[38;5;28;01massert\u001b[39;00m train_data[\u001b[38;5;124m\"\u001b[39m\u001b[38;5;124muser\u001b[39m\u001b[38;5;124m\"\u001b[39m, \u001b[38;5;124m\"\u001b[39m\u001b[38;5;124mviews\u001b[39m\u001b[38;5;124m\"\u001b[39m, \u001b[38;5;124m\"\u001b[39m\u001b[38;5;124mproduct\u001b[39m\u001b[38;5;124m\"\u001b[39m]\u001b[38;5;241m.\u001b[39mnum_edges \u001b[38;5;241m==\u001b[39m \u001b[38;5;241m56469\u001b[39m\n\u001b[1;32m     28\u001b[0m \u001b[38;5;28;01massert\u001b[39;00m train_data[\u001b[38;5;124m\"\u001b[39m\u001b[38;5;124muser\u001b[39m\u001b[38;5;124m\"\u001b[39m, \u001b[38;5;124m\"\u001b[39m\u001b[38;5;124mviews\u001b[39m\u001b[38;5;124m\"\u001b[39m, \u001b[38;5;124m\"\u001b[39m\u001b[38;5;124mproduct\u001b[39m\u001b[38;5;124m\"\u001b[39m]\u001b[38;5;241m.\u001b[39medge_label_index\u001b[38;5;241m.\u001b[39msize(\u001b[38;5;241m1\u001b[39m) \u001b[38;5;241m==\u001b[39m \u001b[38;5;241m24201\u001b[39m\n\u001b[1;32m     29\u001b[0m \u001b[38;5;28;01massert\u001b[39;00m train_data[\u001b[38;5;124m\"\u001b[39m\u001b[38;5;124mproduct\u001b[39m\u001b[38;5;124m\"\u001b[39m, \u001b[38;5;124m\"\u001b[39m\u001b[38;5;124mrev_views\u001b[39m\u001b[38;5;124m\"\u001b[39m, \u001b[38;5;124m\"\u001b[39m\u001b[38;5;124muser\u001b[39m\u001b[38;5;124m\"\u001b[39m]\u001b[38;5;241m.\u001b[39mnum_edges \u001b[38;5;241m==\u001b[39m \u001b[38;5;241m56469\u001b[39m\n",
      "\u001b[0;31mAssertionError\u001b[0m: "
     ]
    }
   ],
   "source": [
    "# For this, we first split the set of edges into\n",
    "# training (80%), validation (10%), and testing edges (10%).\n",
    "# Across the training edges, we use 70% of edges for message passing,\n",
    "# and 30% of edges for supervision.\n",
    "# We further want to generate fixed negative edges for evaluation with a ratio of 2:1.\n",
    "# Negative edges during training will be generated on-the-fly.\n",
    "# We can leverage the `RandomLinkSplit()` transform for this from PyG:\n",
    "transform = T.RandomLinkSplit(\n",
    "    num_val=0.1,\n",
    "    num_test=0.1,\n",
    "    disjoint_train_ratio=0.3,\n",
    "    neg_sampling_ratio=2.0,\n",
    "    add_negative_train_samples=False,\n",
    "    edge_types=(\"user\", \"views\", \"product\"),\n",
    "    rev_edge_types=(\"product\", \"rev_views\", \"user\"),\n",
    ")\n",
    "\n",
    "train_data, val_data, test_data = transform(data)\n",
    "print(\"Training data:\")\n",
    "print(\"==============\")\n",
    "print(train_data)\n",
    "print()\n",
    "print(\"Validation data:\")\n",
    "print(\"================\")\n",
    "print(val_data)\n",
    "\n",
    "assert train_data[\"user\", \"views\", \"product\"].num_edges == 56469\n",
    "assert train_data[\"user\", \"views\", \"product\"].edge_label_index.size(1) == 24201\n",
    "assert train_data[\"product\", \"rev_views\", \"user\"].num_edges == 56469\n",
    "# No negative edges added:\n",
    "assert train_data[\"user\", \"views\", \"product\"].edge_label.min() == 1\n",
    "assert train_data[\"user\", \"views\", \"product\"].edge_label.max() == 1\n",
    "\n",
    "assert val_data[\"user\", \"views\", \"product\"].num_edges == 80670\n",
    "assert val_data[\"user\", \"views\", \"product\"].edge_label_index.size(1) == 30249\n",
    "assert val_data[\"product\", \"rev_views\", \"user\"].num_edges == 80670\n",
    "# Negative edges with ratio 2:1:\n",
    "assert val_data[\"user\", \"views\", \"proudct\"].edge_label.long().bincount().tolist() == [20166, 10083]"
   ]
  },
  {
   "cell_type": "markdown",
   "metadata": {
    "id": "prKLwq6RsYoh"
   },
   "source": [
    "## Defining Mini-batch Loaders\n",
    "\n",
    "We are now ready to create a mini-batch loader that will generate subgraphs that can be used as input into our GNN.\n",
    "While this step is not strictly necessary for small-scale graphs, it is absolutely necessary to apply GNNs on larger graphs that do not fit onto GPU memory otherwise.\n",
    "Here, we make use of the [`loader.LinkNeighborLoader`](https://pytorch-geometric.readthedocs.io/en/latest/modules/loader.html#torch_geometric.loader.LinkNeighborLoader) which samples multiple hops from both ends of a link and creates a subgraph from it.\n",
    "Here, `edge_label_index` serves as the \"seed links\" to start sampling from."
   ]
  },
  {
   "cell_type": "code",
   "execution_count": 79,
   "metadata": {
    "colab": {
     "base_uri": "https://localhost:8080/"
    },
    "id": "Ogh615ka9I2c",
    "outputId": "522f070e-02f1-4d4f-f2e0-89d1dceea3ff"
   },
   "outputs": [
    {
     "name": "stdout",
     "output_type": "stream",
     "text": [
      "Sampled mini-batch:\n",
      "===================\n",
      "HeteroData(\n",
      "  user={\n",
      "    node_id=[15],\n",
      "    x=[15, 64],\n",
      "    n_id=[15],\n",
      "  },\n",
      "  product={\n",
      "    node_id=[245],\n",
      "    x=[245, 64],\n",
      "    n_id=[245],\n",
      "  },\n",
      "  (user, views, product)={\n",
      "    edge_index=[2, 208],\n",
      "    edge_label=[96],\n",
      "    edge_label_index=[2, 96],\n",
      "    e_id=[208],\n",
      "    input_id=[32],\n",
      "  },\n",
      "  (product, rev_views, user)={\n",
      "    edge_index=[2, 189],\n",
      "    e_id=[189],\n",
      "  }\n",
      ")\n"
     ]
    },
    {
     "ename": "AssertionError",
     "evalue": "",
     "output_type": "error",
     "traceback": [
      "\u001b[0;31m---------------------------------------------------------------------------\u001b[0m",
      "\u001b[0;31mAssertionError\u001b[0m                            Traceback (most recent call last)",
      "Cell \u001b[0;32mIn[79], line 29\u001b[0m\n\u001b[1;32m     26\u001b[0m \u001b[38;5;28mprint\u001b[39m(\u001b[38;5;124m\"\u001b[39m\u001b[38;5;124m===================\u001b[39m\u001b[38;5;124m\"\u001b[39m)\n\u001b[1;32m     27\u001b[0m \u001b[38;5;28mprint\u001b[39m(sampled_data)\n\u001b[0;32m---> 29\u001b[0m \u001b[38;5;28;01massert\u001b[39;00m sampled_data[\u001b[38;5;124m\"\u001b[39m\u001b[38;5;124muser\u001b[39m\u001b[38;5;124m\"\u001b[39m, \u001b[38;5;124m\"\u001b[39m\u001b[38;5;124mviews\u001b[39m\u001b[38;5;124m\"\u001b[39m, \u001b[38;5;124m\"\u001b[39m\u001b[38;5;124mproduct\u001b[39m\u001b[38;5;124m\"\u001b[39m]\u001b[38;5;241m.\u001b[39medge_label_index\u001b[38;5;241m.\u001b[39msize(\u001b[38;5;241m1\u001b[39m) \u001b[38;5;241m==\u001b[39m \u001b[38;5;241m3\u001b[39m \u001b[38;5;241m*\u001b[39m \u001b[38;5;241m128\u001b[39m\n\u001b[1;32m     30\u001b[0m \u001b[38;5;28;01massert\u001b[39;00m sampled_data[\u001b[38;5;124m\"\u001b[39m\u001b[38;5;124muser\u001b[39m\u001b[38;5;124m\"\u001b[39m, \u001b[38;5;124m\"\u001b[39m\u001b[38;5;124mviews\u001b[39m\u001b[38;5;124m\"\u001b[39m, \u001b[38;5;124m\"\u001b[39m\u001b[38;5;124mproduct\u001b[39m\u001b[38;5;124m\"\u001b[39m]\u001b[38;5;241m.\u001b[39medge_label\u001b[38;5;241m.\u001b[39mmin() \u001b[38;5;241m==\u001b[39m \u001b[38;5;241m0\u001b[39m\n\u001b[1;32m     31\u001b[0m \u001b[38;5;28;01massert\u001b[39;00m sampled_data[\u001b[38;5;124m\"\u001b[39m\u001b[38;5;124muser\u001b[39m\u001b[38;5;124m\"\u001b[39m, \u001b[38;5;124m\"\u001b[39m\u001b[38;5;124mviews\u001b[39m\u001b[38;5;124m\"\u001b[39m, \u001b[38;5;124m\"\u001b[39m\u001b[38;5;124mproduct\u001b[39m\u001b[38;5;124m\"\u001b[39m]\u001b[38;5;241m.\u001b[39medge_label\u001b[38;5;241m.\u001b[39mmax() \u001b[38;5;241m==\u001b[39m \u001b[38;5;241m1\u001b[39m\n",
      "\u001b[0;31mAssertionError\u001b[0m: "
     ]
    }
   ],
   "source": [
    "# In the first hop, we sample at most 20 neighbors.\n",
    "# In the second hop, we sample at most 10 neighbors.\n",
    "# In addition, during training, we want to sample negative edges on-the-fly with\n",
    "# a ratio of 2:1.\n",
    "# We can make use of the `loader.LinkNeighborLoader` from PyG:\n",
    "from torch_geometric.loader import LinkNeighborLoader\n",
    "\n",
    "# Define seed edges:\n",
    "edge_label_index = train_data[\"user\", \"views\", \"product\"].edge_label_index\n",
    "edge_label = train_data[\"user\", \"views\", \"product\"].edge_label\n",
    "\n",
    "train_loader = LinkNeighborLoader(\n",
    "    data=train_data,\n",
    "    num_neighbors=[20, 10],\n",
    "    neg_sampling_ratio=2.0,\n",
    "    edge_label_index=((\"user\", \"views\", \"product\"), edge_label_index),\n",
    "    edge_label=edge_label,\n",
    "    batch_size=32,\n",
    "    shuffle=True,\n",
    ")\n",
    "\n",
    "# Inspect a sample:\n",
    "sampled_data = next(iter(train_loader))\n",
    "\n",
    "print(\"Sampled mini-batch:\")\n",
    "print(\"===================\")\n",
    "print(sampled_data)\n",
    "\n",
    "assert sampled_data[\"user\", \"views\", \"product\"].edge_label_index.size(1) == 3 * 128\n",
    "assert sampled_data[\"user\", \"views\", \"product\"].edge_label.min() == 0\n",
    "assert sampled_data[\"user\", \"views\", \"product\"].edge_label.max() == 1"
   ]
  },
  {
   "cell_type": "markdown",
   "metadata": {
    "id": "uj7biOtatAmG"
   },
   "source": [
    "## Creating a Heterogeneous Link-level GNN\n",
    "\n",
    "We are now ready to create our heterogeneous GNN.\n",
    "The GNN is responsible for learning enriched node representations from the surrounding subgraphs, which can be then used to derive edge-level predictions.\n",
    "For defining our heterogenous GNN, we make use of [`nn.SAGEConv`](https://pytorch-geometric.readthedocs.io/en/latest/modules/nn.html#torch_geometric.nn.conv.SAGEConv) and the [`nn.to_hetero()`](https://pytorch-geometric.readthedocs.io/en/latest/modules/nn.html#torch_geometric.nn.to_hetero_transformer.to_hetero) function, which transforms a GNN defined on homogeneous graphs to be applied on heterogeneous ones.\n",
    "\n",
    "In addition, we define a final link-level classifier, which simply takes both node embeddings of the link we are trying to predict, and applies a dot-product on them.\n",
    "\n",
    "As users do not have any node-level information, we choose to learn their features jointly via a `torch.nn.Embedding` layer. In order to improve the expressiveness of movie features, we do the same for movie nodes, and simply add their shallow embeddings to the pre-defined genre features."
   ]
  },
  {
   "cell_type": "code",
   "execution_count": 80,
   "metadata": {
    "colab": {
     "base_uri": "https://localhost:8080/"
    },
    "id": "ebsFf-Pr_4LF",
    "outputId": "f6374886-f956-47b7-a978-6627725cbbfa"
   },
   "outputs": [
    {
     "name": "stdout",
     "output_type": "stream",
     "text": [
      "Model(\n",
      "  (prod_lin): Linear(in_features=64, out_features=128, bias=True)\n",
      "  (user_lin): Linear(in_features=64, out_features=128, bias=True)\n",
      "  (user_emb): Embedding(15, 128)\n",
      "  (prod_emb): Embedding(471, 128)\n",
      "  (gnn): GraphModule(\n",
      "    (conv1): ModuleDict(\n",
      "      (user__views__product): SAGEConv(128, 128, aggr=mean)\n",
      "      (product__rev_views__user): SAGEConv(128, 128, aggr=mean)\n",
      "    )\n",
      "    (conv2): ModuleDict(\n",
      "      (user__views__product): SAGEConv(128, 128, aggr=mean)\n",
      "      (product__rev_views__user): SAGEConv(128, 128, aggr=mean)\n",
      "    )\n",
      "  )\n",
      "  (classifier): Classifier()\n",
      ")\n"
     ]
    }
   ],
   "source": [
    "from torch_geometric.nn import SAGEConv, to_hetero\n",
    "import torch.nn.functional as F\n",
    "\n",
    "class GNN(torch.nn.Module):\n",
    "    def __init__(self, hidden_channels):\n",
    "        super().__init__()\n",
    "\n",
    "        self.conv1 = SAGEConv(hidden_channels, hidden_channels)\n",
    "        self.conv2 = SAGEConv(hidden_channels, hidden_channels)\n",
    "\n",
    "    def forward(self, x: Tensor, edge_index: Tensor) -> Tensor:\n",
    "        x = F.relu(self.conv1(x, edge_index))\n",
    "        x = self.conv2(x, edge_index)\n",
    "        return x\n",
    "\n",
    "# Our final classifier applies the dot-product between source and destination\n",
    "# node embeddings to derive edge-level predictions:\n",
    "class Classifier(torch.nn.Module):\n",
    "    def forward(self, x_user: Tensor, x_product: Tensor, edge_label_index: Tensor) -> Tensor:\n",
    "        # Convert node embeddings to edge-level representations:\n",
    "        edge_feat_user = x_user[edge_label_index[0]]\n",
    "        edge_feat_prod = x_product[edge_label_index[1]]\n",
    "\n",
    "        # Apply dot-product to get a prediction per supervision edge:\n",
    "        return (edge_feat_user * edge_feat_prod).sum(dim=-1)\n",
    "\n",
    "\n",
    "class Model(torch.nn.Module):\n",
    "    def __init__(self, hidden_channels):\n",
    "        super().__init__()\n",
    "        # Since the dataset does not come with rich features, we also learn two\n",
    "        # embedding matrices for users and movies:\n",
    "        self.prod_lin = torch.nn.Linear(prod_feat_len, hidden_channels)\n",
    "        self.user_lin = torch.nn.Linear(user_feat_len, hidden_channels)\n",
    "        self.user_emb = torch.nn.Embedding(data[\"user\"].num_nodes, hidden_channels)\n",
    "        self.prod_emb = torch.nn.Embedding(data[\"product\"].num_nodes, hidden_channels)\n",
    "\n",
    "        # Instantiate homogeneous GNN:\n",
    "        self.gnn = GNN(hidden_channels)\n",
    "\n",
    "        # Convert GNN model into a heterogeneous variant:\n",
    "        self.gnn = to_hetero(self.gnn, metadata=data.metadata())\n",
    "\n",
    "        self.classifier = Classifier()\n",
    "\n",
    "    def forward(self, data: HeteroData) -> Tensor:\n",
    "        x_dict = {\n",
    "          \"user\": self.user_lin(data[\"user\"].x) + self.user_emb(data[\"user\"].node_id.to(torch.long)),\n",
    "          \"product\": self.prod_lin(data[\"product\"].x) + self.prod_emb(data[\"product\"].node_id.to(torch.long)),\n",
    "        }\n",
    "        emb = x_dict\n",
    "\n",
    "        # `x_dict` holds feature matrices of all node types\n",
    "        # `edge_index_dict` holds all edge indices of all edge types\n",
    "        x_dict_new = self.gnn(x_dict, data.edge_index_dict)\n",
    "        pred = self.classifier(\n",
    "            x_dict_new[\"user\"],\n",
    "            x_dict_new[\"product\"],\n",
    "            data[\"user\", \"views\", \"product\"].edge_label_index,\n",
    "        )\n",
    "\n",
    "        return pred, emb\n",
    "\n",
    "\n",
    "model = Model(hidden_channels=128)\n",
    "\n",
    "print(model)"
   ]
  },
  {
   "cell_type": "markdown",
   "metadata": {
    "id": "05dfew-WuWHN"
   },
   "source": [
    "## Training a Heterogeneous Link-level GNN\n",
    "\n",
    "Training our GNN is then similar to training any PyTorch model.\n",
    "We move the model to the desired device, and initialize an optimizer that takes care of adjusting model parameters via stochastic gradient descent.\n",
    "\n",
    "The training loop then iterates over our mini-batches, applies the forward computation of the model, computes the loss from ground-truth labels and obtained predictions (here we make use of binary cross entropy), and adjusts model parameters via back-propagation and stochastic gradient descent."
   ]
  },
  {
   "cell_type": "code",
   "execution_count": 81,
   "metadata": {
    "colab": {
     "base_uri": "https://localhost:8080/"
    },
    "id": "OqLuXEcrAMru",
    "outputId": "319eee17-7ef0-4359-8158-a4cec614a939"
   },
   "outputs": [
    {
     "name": "stdout",
     "output_type": "stream",
     "text": [
      "Device: 'cpu'\n"
     ]
    },
    {
     "name": "stderr",
     "output_type": "stream",
     "text": [
      "100%|█████████████████████████████████████████████| 4/4 [00:00<00:00, 87.04it/s]\n"
     ]
    },
    {
     "name": "stdout",
     "output_type": "stream",
     "text": [
      "Epoch: 001, Loss: 4.3946\n"
     ]
    },
    {
     "name": "stderr",
     "output_type": "stream",
     "text": [
      "100%|████████████████████████████████████████████| 4/4 [00:00<00:00, 252.21it/s]\n"
     ]
    },
    {
     "name": "stdout",
     "output_type": "stream",
     "text": [
      "Epoch: 002, Loss: 2.2295\n"
     ]
    },
    {
     "name": "stderr",
     "output_type": "stream",
     "text": [
      "100%|████████████████████████████████████████████| 4/4 [00:00<00:00, 259.64it/s]\n"
     ]
    },
    {
     "name": "stdout",
     "output_type": "stream",
     "text": [
      "Epoch: 003, Loss: 0.7907\n"
     ]
    },
    {
     "name": "stderr",
     "output_type": "stream",
     "text": [
      "100%|████████████████████████████████████████████| 4/4 [00:00<00:00, 319.59it/s]\n"
     ]
    },
    {
     "name": "stdout",
     "output_type": "stream",
     "text": [
      "Epoch: 004, Loss: 0.5475\n"
     ]
    },
    {
     "name": "stderr",
     "output_type": "stream",
     "text": [
      "100%|████████████████████████████████████████████| 4/4 [00:00<00:00, 268.22it/s]"
     ]
    },
    {
     "name": "stdout",
     "output_type": "stream",
     "text": [
      "Epoch: 005, Loss: 0.4696\n"
     ]
    },
    {
     "name": "stderr",
     "output_type": "stream",
     "text": [
      "\n"
     ]
    }
   ],
   "source": [
    "import tqdm\n",
    "import torch.nn.functional as F\n",
    "\n",
    "device = torch.device('cuda' if torch.cuda.is_available() else 'cpu')\n",
    "print(f\"Device: '{device}'\")\n",
    "\n",
    "model = model.to(device)\n",
    "optimizer = torch.optim.Adam(model.parameters(), lr=0.001)\n",
    "final_emb = {}\n",
    "for epoch in range(1, 6):\n",
    "    total_loss = total_examples = 0\n",
    "    for sampled_data in tqdm.tqdm(train_loader):\n",
    "        optimizer.zero_grad()\n",
    "\n",
    "        sampled_data.to(device)\n",
    "        pred, final_emb = model(sampled_data)\n",
    "\n",
    "        ground_truth = sampled_data[\"user\", \"views\", \"product\"].edge_label\n",
    "        loss = F.binary_cross_entropy_with_logits(pred, ground_truth)\n",
    "\n",
    "        loss.backward()\n",
    "        optimizer.step()\n",
    "        total_loss += float(loss) * pred.numel()\n",
    "        total_examples += pred.numel()\n",
    "    print(f\"Epoch: {epoch:03d}, Loss: {total_loss / total_examples:.4f}\")"
   ]
  },
  {
   "cell_type": "markdown",
   "metadata": {
    "id": "Yq-I2xaYueF0"
   },
   "source": [
    "## Evaluating a Heterogeneous Link-level GNN\n",
    "\n",
    "After training, we evaluate our model on useen data coming from the validation set.\n",
    "For this, we define a new `LinkNeighborLoader` (which now iterates over the edges in the validation set), obtain the predictions on validation edges by running the model, and finally evaluate the performance of the model by computing the AUC score over the set of predictions and their corresponding ground-truth edges (including both positive and negative edges)."
   ]
  },
  {
   "cell_type": "code",
   "execution_count": 82,
   "metadata": {
    "colab": {
     "base_uri": "https://localhost:8080/"
    },
    "id": "ZIrRn9YoNllj",
    "outputId": "d665a0c0-dd63-4973-db28-901e150e0857"
   },
   "outputs": [
    {
     "name": "stdout",
     "output_type": "stream",
     "text": [
      "Sampled mini-batch:\n",
      "===================\n",
      "HeteroData(\n",
      "  user={\n",
      "    node_id=[15],\n",
      "    x=[15, 64],\n",
      "    n_id=[15],\n",
      "  },\n",
      "  product={\n",
      "    node_id=[299],\n",
      "    x=[299, 64],\n",
      "    n_id=[299],\n",
      "  },\n",
      "  (user, views, product)={\n",
      "    edge_index=[2, 262],\n",
      "    edge_label=[150],\n",
      "    edge_label_index=[2, 150],\n",
      "    e_id=[262],\n",
      "    input_id=[150],\n",
      "  },\n",
      "  (product, rev_views, user)={\n",
      "    edge_index=[2, 216],\n",
      "    e_id=[216],\n",
      "  }\n",
      ")\n"
     ]
    },
    {
     "ename": "AssertionError",
     "evalue": "",
     "output_type": "error",
     "traceback": [
      "\u001b[0;31m---------------------------------------------------------------------------\u001b[0m",
      "\u001b[0;31mAssertionError\u001b[0m                            Traceback (most recent call last)",
      "Cell \u001b[0;32mIn[82], line 20\u001b[0m\n\u001b[1;32m     17\u001b[0m \u001b[38;5;28mprint\u001b[39m(\u001b[38;5;124m\"\u001b[39m\u001b[38;5;124m===================\u001b[39m\u001b[38;5;124m\"\u001b[39m)\n\u001b[1;32m     18\u001b[0m \u001b[38;5;28mprint\u001b[39m(sampled_data)\n\u001b[0;32m---> 20\u001b[0m \u001b[38;5;28;01massert\u001b[39;00m sampled_data[\u001b[38;5;124m\"\u001b[39m\u001b[38;5;124muser\u001b[39m\u001b[38;5;124m\"\u001b[39m, \u001b[38;5;124m\"\u001b[39m\u001b[38;5;124mviews\u001b[39m\u001b[38;5;124m\"\u001b[39m, \u001b[38;5;124m\"\u001b[39m\u001b[38;5;124mproduct\u001b[39m\u001b[38;5;124m\"\u001b[39m]\u001b[38;5;241m.\u001b[39medge_label_index\u001b[38;5;241m.\u001b[39msize(\u001b[38;5;241m1\u001b[39m) \u001b[38;5;241m==\u001b[39m \u001b[38;5;241m3\u001b[39m \u001b[38;5;241m*\u001b[39m \u001b[38;5;241m128\u001b[39m\n\u001b[1;32m     21\u001b[0m \u001b[38;5;28;01massert\u001b[39;00m sampled_data[\u001b[38;5;124m\"\u001b[39m\u001b[38;5;124muser\u001b[39m\u001b[38;5;124m\"\u001b[39m, \u001b[38;5;124m\"\u001b[39m\u001b[38;5;124mviews\u001b[39m\u001b[38;5;124m\"\u001b[39m, \u001b[38;5;124m\"\u001b[39m\u001b[38;5;124mproduct\u001b[39m\u001b[38;5;124m\"\u001b[39m]\u001b[38;5;241m.\u001b[39medge_label\u001b[38;5;241m.\u001b[39mmin() \u001b[38;5;241m>\u001b[39m\u001b[38;5;241m=\u001b[39m \u001b[38;5;241m0\u001b[39m\n\u001b[1;32m     22\u001b[0m \u001b[38;5;28;01massert\u001b[39;00m sampled_data[\u001b[38;5;124m\"\u001b[39m\u001b[38;5;124muser\u001b[39m\u001b[38;5;124m\"\u001b[39m, \u001b[38;5;124m\"\u001b[39m\u001b[38;5;124mviews\u001b[39m\u001b[38;5;124m\"\u001b[39m, \u001b[38;5;124m\"\u001b[39m\u001b[38;5;124mproduct\u001b[39m\u001b[38;5;124m\"\u001b[39m]\u001b[38;5;241m.\u001b[39medge_label\u001b[38;5;241m.\u001b[39mmax() \u001b[38;5;241m<\u001b[39m\u001b[38;5;241m=\u001b[39m \u001b[38;5;241m1\u001b[39m\n",
      "\u001b[0;31mAssertionError\u001b[0m: "
     ]
    }
   ],
   "source": [
    "# Define the validation seed edges:\n",
    "edge_label_index = val_data[\"user\", \"views\", \"product\"].edge_label_index\n",
    "edge_label = val_data[\"user\", \"views\", \"product\"].edge_label\n",
    "\n",
    "val_loader = LinkNeighborLoader(\n",
    "    data=val_data,\n",
    "    num_neighbors=[20, 10],\n",
    "    edge_label_index=((\"user\", \"views\", \"product\"), edge_label_index),\n",
    "    edge_label=edge_label,\n",
    "    batch_size=3 * 128,\n",
    "    shuffle=False,\n",
    ")\n",
    "\n",
    "sampled_data = next(iter(val_loader))\n",
    "\n",
    "print(\"Sampled mini-batch:\")\n",
    "print(\"===================\")\n",
    "print(sampled_data)\n",
    "\n",
    "assert sampled_data[\"user\", \"views\", \"product\"].edge_label_index.size(1) == 3 * 128\n",
    "assert sampled_data[\"user\", \"views\", \"product\"].edge_label.min() >= 0\n",
    "assert sampled_data[\"user\", \"views\", \"product\"].edge_label.max() <= 1"
   ]
  },
  {
   "cell_type": "markdown",
   "metadata": {},
   "source": [
    "### ROC score"
   ]
  },
  {
   "cell_type": "code",
   "execution_count": 83,
   "metadata": {
    "colab": {
     "base_uri": "https://localhost:8080/"
    },
    "id": "Vi25Z7lFPPjc",
    "outputId": "761e48cd-6b1d-4cc3-e92a-4795d0a93de1"
   },
   "outputs": [
    {
     "name": "stderr",
     "output_type": "stream",
     "text": [
      "100%|████████████████████████████████████████████| 1/1 [00:00<00:00, 263.15it/s]"
     ]
    },
    {
     "name": "stdout",
     "output_type": "stream",
     "text": [
      "\n",
      "Validation AUC: 0.9058\n"
     ]
    },
    {
     "name": "stderr",
     "output_type": "stream",
     "text": [
      "\n"
     ]
    }
   ],
   "source": [
    "from sklearn.metrics import roc_auc_score\n",
    "\n",
    "preds = []\n",
    "ground_truths = []\n",
    "for sampled_data in tqdm.tqdm(val_loader):\n",
    "    with torch.no_grad():\n",
    "        sampled_data.to(device)\n",
    "        pred, emb = model(sampled_data)\n",
    "        preds.append(pred)\n",
    "        ground_truths.append(sampled_data[\"user\", \"views\", \"product\"].edge_label)\n",
    "\n",
    "pred = torch.cat(preds, dim=0).cpu().numpy()\n",
    "ground_truth = torch.cat(ground_truths, dim=0).cpu().numpy()\n",
    "auc = roc_auc_score(ground_truth, pred)\n",
    "print()\n",
    "print(f\"Validation AUC: {auc:.4f}\")"
   ]
  },
  {
   "cell_type": "markdown",
   "metadata": {},
   "source": [
    "### TSNE Visualisation"
   ]
  },
  {
   "cell_type": "code",
   "execution_count": 96,
   "metadata": {
    "id": "sJbr4JHCH0gs"
   },
   "outputs": [],
   "source": [
    "# Perform dimensionality reduction using t-SNE\n",
    "from sklearn.manifold import TSNE\n",
    "tsne = TSNE(n_components=2, perplexity=30, n_iter=300)\n",
    "embeddings_2d = tsne.fit_transform(prod_features.detach().numpy())"
   ]
  },
  {
   "cell_type": "code",
   "execution_count": 97,
   "metadata": {},
   "outputs": [
    {
     "data": {
      "text/plain": [
       "torch.Size([471, 64])"
      ]
     },
     "execution_count": 97,
     "metadata": {},
     "output_type": "execute_result"
    }
   ],
   "source": [
    "prod_features.shape"
   ]
  },
  {
   "cell_type": "code",
   "execution_count": 98,
   "metadata": {},
   "outputs": [
    {
     "data": {
      "text/html": [
       "<div>\n",
       "<style scoped>\n",
       "    .dataframe tbody tr th:only-of-type {\n",
       "        vertical-align: middle;\n",
       "    }\n",
       "\n",
       "    .dataframe tbody tr th {\n",
       "        vertical-align: top;\n",
       "    }\n",
       "\n",
       "    .dataframe thead th {\n",
       "        text-align: right;\n",
       "    }\n",
       "</style>\n",
       "<table border=\"1\" class=\"dataframe\">\n",
       "  <thead>\n",
       "    <tr style=\"text-align: right;\">\n",
       "      <th></th>\n",
       "      <th>product_id</th>\n",
       "      <th>price</th>\n",
       "      <th>cms_vertical</th>\n",
       "      <th>count</th>\n",
       "      <th>account_id_enc</th>\n",
       "    </tr>\n",
       "  </thead>\n",
       "  <tbody>\n",
       "    <tr>\n",
       "      <th>0</th>\n",
       "      <td>BDSG337RX24VXKVJ</td>\n",
       "      <td>0.003481</td>\n",
       "      <td>10</td>\n",
       "      <td>0.000000</td>\n",
       "      <td>d8433504430f2be3fdef7883a42a684a</td>\n",
       "    </tr>\n",
       "    <tr>\n",
       "      <th>1</th>\n",
       "      <td>BOTF7QC7BJCGBZP3</td>\n",
       "      <td>0.011208</td>\n",
       "      <td>14</td>\n",
       "      <td>0.044776</td>\n",
       "      <td>88af7b587b8c3cb79f515d69c02912cd</td>\n",
       "    </tr>\n",
       "    <tr>\n",
       "      <th>2</th>\n",
       "      <td>CPUFXESGSFDQFG5M</td>\n",
       "      <td>0.915324</td>\n",
       "      <td>1</td>\n",
       "      <td>0.597015</td>\n",
       "      <td>a47866f7e66449fc44d172fa4e3f37bb</td>\n",
       "    </tr>\n",
       "    <tr>\n",
       "      <th>3</th>\n",
       "      <td>MOBFYZ94UWPWQRNF</td>\n",
       "      <td>0.161034</td>\n",
       "      <td>56</td>\n",
       "      <td>0.000000</td>\n",
       "      <td>deb7c597bdec1f8a7eeef83b0edb0e13</td>\n",
       "    </tr>\n",
       "    <tr>\n",
       "      <th>4</th>\n",
       "      <td>STFESATFGH4FFZNE</td>\n",
       "      <td>0.002536</td>\n",
       "      <td>1</td>\n",
       "      <td>0.000000</td>\n",
       "      <td>6cb9f7e7882aed13a04f5f50ffd4eee1</td>\n",
       "    </tr>\n",
       "    <tr>\n",
       "      <th>...</th>\n",
       "      <td>...</td>\n",
       "      <td>...</td>\n",
       "      <td>...</td>\n",
       "      <td>...</td>\n",
       "      <td>...</td>\n",
       "    </tr>\n",
       "    <tr>\n",
       "      <th>495</th>\n",
       "      <td>MDMGFZWKG4BQMHBY</td>\n",
       "      <td>0.003525</td>\n",
       "      <td>1</td>\n",
       "      <td>0.000000</td>\n",
       "      <td>08488bbdee624eb956183e62595b7f17</td>\n",
       "    </tr>\n",
       "    <tr>\n",
       "      <th>496</th>\n",
       "      <td>TSPFHM54BJAXRP4Q</td>\n",
       "      <td>0.003686</td>\n",
       "      <td>1</td>\n",
       "      <td>0.000000</td>\n",
       "      <td>de667a27201e8ff00d248f085a18304e</td>\n",
       "    </tr>\n",
       "    <tr>\n",
       "      <th>497</th>\n",
       "      <td>FANE56KYGT8ZJEWR</td>\n",
       "      <td>0.039547</td>\n",
       "      <td>2</td>\n",
       "      <td>0.014925</td>\n",
       "      <td>a47866f7e66449fc44d172fa4e3f37bb</td>\n",
       "    </tr>\n",
       "    <tr>\n",
       "      <th>498</th>\n",
       "      <td>BOTFWWSKWGGCMHJC</td>\n",
       "      <td>0.010119</td>\n",
       "      <td>14</td>\n",
       "      <td>0.014925</td>\n",
       "      <td>88af7b587b8c3cb79f515d69c02912cd</td>\n",
       "    </tr>\n",
       "    <tr>\n",
       "      <th>499</th>\n",
       "      <td>NDFFUVHZ9VDBCS7F</td>\n",
       "      <td>0.010672</td>\n",
       "      <td>1</td>\n",
       "      <td>0.014925</td>\n",
       "      <td>deb7c597bdec1f8a7eeef83b0edb0e13</td>\n",
       "    </tr>\n",
       "  </tbody>\n",
       "</table>\n",
       "<p>500 rows × 5 columns</p>\n",
       "</div>"
      ],
      "text/plain": [
       "           product_id     price  cms_vertical     count  \\\n",
       "0    BDSG337RX24VXKVJ  0.003481            10  0.000000   \n",
       "1    BOTF7QC7BJCGBZP3  0.011208            14  0.044776   \n",
       "2    CPUFXESGSFDQFG5M  0.915324             1  0.597015   \n",
       "3    MOBFYZ94UWPWQRNF  0.161034            56  0.000000   \n",
       "4    STFESATFGH4FFZNE  0.002536             1  0.000000   \n",
       "..                ...       ...           ...       ...   \n",
       "495  MDMGFZWKG4BQMHBY  0.003525             1  0.000000   \n",
       "496  TSPFHM54BJAXRP4Q  0.003686             1  0.000000   \n",
       "497  FANE56KYGT8ZJEWR  0.039547             2  0.014925   \n",
       "498  BOTFWWSKWGGCMHJC  0.010119            14  0.014925   \n",
       "499  NDFFUVHZ9VDBCS7F  0.010672             1  0.014925   \n",
       "\n",
       "                       account_id_enc  \n",
       "0    d8433504430f2be3fdef7883a42a684a  \n",
       "1    88af7b587b8c3cb79f515d69c02912cd  \n",
       "2    a47866f7e66449fc44d172fa4e3f37bb  \n",
       "3    deb7c597bdec1f8a7eeef83b0edb0e13  \n",
       "4    6cb9f7e7882aed13a04f5f50ffd4eee1  \n",
       "..                                ...  \n",
       "495  08488bbdee624eb956183e62595b7f17  \n",
       "496  de667a27201e8ff00d248f085a18304e  \n",
       "497  a47866f7e66449fc44d172fa4e3f37bb  \n",
       "498  88af7b587b8c3cb79f515d69c02912cd  \n",
       "499  deb7c597bdec1f8a7eeef83b0edb0e13  \n",
       "\n",
       "[500 rows x 5 columns]"
      ]
     },
     "execution_count": 98,
     "metadata": {},
     "output_type": "execute_result"
    }
   ],
   "source": [
    "df3"
   ]
  },
  {
   "cell_type": "code",
   "execution_count": 99,
   "metadata": {
    "id": "fcrCLc0vE3d3"
   },
   "outputs": [
    {
     "data": {
      "image/png": "[encoded data removed]",
      "text/plain": [
       "<Figure size 640x480 with 1 Axes>"
      ]
     },
     "metadata": {},
     "output_type": "display_data"
    }
   ],
   "source": [
    "import matplotlib.pyplot as plt\n",
    "\n",
    "color = prod_features[:,0].detach().numpy()\n",
    "\n",
    "plt.scatter(embeddings_2d[:, 0], embeddings_2d[:, 1], s=70, c=color)\n",
    "plt.title('t-SNE Visualization of product features')\n",
    "plt.show()"
   ]
  },
  {
   "cell_type": "code",
   "execution_count": 100,
   "metadata": {},
   "outputs": [
    {
     "data": {
      "text/plain": [
       "{'user': tensor([[-5.3339, 11.7468, -3.1441,  ..., -6.1783, -8.1048,  3.4358],\n",
       "         [-1.3894,  3.1082,  1.3400,  ..., -2.0630, -0.2876,  1.6981],\n",
       "         [-0.1954, -0.3634, -0.5423,  ..., -1.7729,  0.0832, -1.4376],\n",
       "         ...,\n",
       "         [-4.1916,  7.2111,  1.7494,  ..., -1.8809, -3.7367,  3.7065],\n",
       "         [ 1.2973,  1.7964, -1.5040,  ..., -0.1156, -1.3652, -0.3385],\n",
       "         [-1.1098,  1.3620,  0.8799,  ..., -0.1435, -0.9035,  1.1915]],\n",
       "        grad_fn=<AddBackward0>),\n",
       " 'product': tensor([[ 3.9787e+00,  7.6319e-01, -2.6429e-01,  ...,  4.3761e-01,\n",
       "          -7.3134e-01, -2.1999e+00],\n",
       "         [ 3.8789e+00,  4.5280e-01,  2.4361e-02,  ...,  1.0088e+00,\n",
       "          -1.6228e+00, -5.1918e-02],\n",
       "         [ 4.7108e+00,  9.7126e-01,  8.1132e-01,  ...,  2.0987e-01,\n",
       "          -1.7643e+00, -4.7123e-01],\n",
       "         ...,\n",
       "         [ 5.0361e-01, -1.3731e+00, -1.1254e+00,  ..., -9.4721e-01,\n",
       "           6.8218e-01,  2.8228e-01],\n",
       "         [ 1.8056e-01,  8.4065e-01, -1.1792e+00,  ..., -5.5313e-05,\n",
       "          -1.4334e+00, -8.3381e-01],\n",
       "         [ 8.3238e+00, -2.9696e+00, -7.1295e-01,  ...,  6.3972e-01,\n",
       "          -8.8934e-01, -2.1555e+00]], grad_fn=<AddBackward0>)}"
      ]
     },
     "execution_count": 100,
     "metadata": {},
     "output_type": "execute_result"
    }
   ],
   "source": [
    "final_emb"
   ]
  },
  {
   "cell_type": "code",
   "execution_count": 101,
   "metadata": {},
   "outputs": [],
   "source": [
    "# Perform dimensionality reduction using t-SNE\n",
    "from sklearn.manifold import TSNE\n",
    "tsne = TSNE(n_components=2, perplexity=30, n_iter=300)\n",
    "embeddings_2d = tsne.fit_transform(final_emb['product'].detach().numpy())"
   ]
  },
  {
   "cell_type": "code",
   "execution_count": 102,
   "metadata": {},
   "outputs": [
    {
     "data": {
      "image/png": "[encoded data removed]",
      "text/plain": [
       "<Figure size 640x480 with 1 Axes>"
      ]
     },
     "metadata": {},
     "output_type": "display_data"
    }
   ],
   "source": [
    "import matplotlib.pyplot as plt\n",
    "\n",
    "color = prod_features[:,0].detach().numpy()\n",
    "\n",
    "plt.scatter(embeddings_2d[:, 0], embeddings_2d[:, 1], s=70, c='blue')\n",
    "plt.title('t-SNE Visualization of prod embeddings')\n",
    "plt.show()"
   ]
  },
  {
   "cell_type": "code",
   "execution_count": null,
   "metadata": {},
   "outputs": [],
   "source": []
  },
  {
   "cell_type": "code",
   "execution_count": null,
   "metadata": {},
   "outputs": [],
   "source": []
  },
  {
   "cell_type": "code",
   "execution_count": null,
   "metadata": {},
   "outputs": [],
   "source": []
  }
 ],
 "metadata": {
  "colab": {
   "provenance": []
  },
  "kernelspec": {
   "display_name": "Python 3 (ipykernel)",
   "language": "python",
   "name": "python3"
  },
  "language_info": {
   "codemirror_mode": {
    "name": "ipython",
    "version": 3
   },
   "file_extension": ".py",
   "mimetype": "text/x-python",
   "name": "python",
   "nbconvert_exporter": "python",
   "pygments_lexer": "ipython3",
   "version": "3.11.5"
  }
 },
 "nbformat": 4,
 "nbformat_minor": 4
}
